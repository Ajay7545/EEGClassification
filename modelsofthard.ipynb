{
  "nbformat": 4,
  "nbformat_minor": 0,
  "metadata": {
    "colab": {
      "name": "modeleegnet.ipynb",
      "version": "0.3.2",
      "provenance": [],
      "collapsed_sections": []
    },
    "kernelspec": {
      "name": "python3",
      "display_name": "Python 3"
    }
  },
  "cells": [
    {
      "cell_type": "code",
      "metadata": {
        "id": "8Sb7nzL4mCs0",
        "colab_type": "code",
        "outputId": "2ae4dee9-fd6f-4f97-a91e-db4138d090b5",
        "colab": {
          "base_uri": "https://localhost:8080/",
          "height": 34
        }
      },
      "source": [
        "import pandas as pd\n",
        "import numpy as np\n",
        "from datetime import timedelta\n",
        "import numpy\n",
        "import matplotlib.pyplot as plt\n",
        "from pandas import read_csv\n",
        "import math\n",
        "\n",
        "import time\n",
        "import numpy as np\n",
        "import os\n",
        "from keras import layers, models, callbacks, regularizers, optimizers\n",
        "from keras.layers import advanced_activations\n",
        "import tensorflow as tf\n",
        "import numpy as np\n",
        "import matplotlib.pyplot as plt\n",
        "import pandas as pd\n",
        "import sklearn\n",
        "from sklearn.svm import LinearSVC\n",
        "from sklearn.metrics import classification_report\n",
        "from sklearn.preprocessing import MinMaxScaler as ms\n",
        "import pandas as pd\n",
        "import numpy as np\n",
        "import numpy\n",
        "import csv\n",
        "import pandas as pd\n",
        "import matplotlib.pyplot as plt\n",
        "import numpy\n",
        "import matplotlib.pyplot as plt\n",
        "import os\n",
        "import glob\n",
        "import datetime as dt\n",
        "\n",
        "from datetime import timedelta\n",
        "import numpy\n",
        "import matplotlib.pyplot as plt\n",
        "from pandas import read_csv\n",
        "import pandas as pd\n",
        "import math\n",
        "\n",
        "from keras.callbacks import Callback\n",
        "from keras.optimizers import adagrad, adam\n",
        "from IPython.display import clear_output\n",
        "from keras.models import Sequential\n",
        "from keras.layers import Dense\n",
        "from keras.layers import LSTM\n",
        "from keras.callbacks import ModelCheckpoint"
      ],
      "execution_count": 0,
      "outputs": [
        {
          "output_type": "stream",
          "text": [
            "Using TensorFlow backend.\n"
          ],
          "name": "stderr"
        }
      ]
    },
    {
      "cell_type": "code",
      "metadata": {
        "id": "13Squs3kl8yd",
        "colab_type": "code",
        "colab": {}
      },
      "source": [
        "from tensorflow.keras import utils as np_utils\n",
        "from tensorflow.keras.callbacks import ModelCheckpoint\n",
        "\n",
        "from sklearn.pipeline import make_pipeline\n",
        "from sklearn.linear_model import LogisticRegression\n",
        "\n",
        "\n",
        "from sklearn.model_selection import train_test_split\n"
      ],
      "execution_count": 0,
      "outputs": []
    },
    {
      "cell_type": "code",
      "metadata": {
        "id": "1WD2bfp_mLh5",
        "colab_type": "code",
        "outputId": "118a33b1-65a4-4a39-a2d3-76376be8f653",
        "colab": {
          "base_uri": "https://localhost:8080/",
          "height": 122
        }
      },
      "source": [
        "# Run this cell to mount your Google Drive.\n",
        "from google.colab import drive\n",
        "drive.mount('/content/drive')"
      ],
      "execution_count": 0,
      "outputs": [
        {
          "output_type": "stream",
          "text": [
            "Go to this URL in a browser: https://accounts.google.com/o/oauth2/auth?client_id=947318989803-6bn6qk8qdgf4n4g3pfee6491hc0brc4i.apps.googleusercontent.com&redirect_uri=urn%3Aietf%3Awg%3Aoauth%3A2.0%3Aoob&scope=email%20https%3A%2F%2Fwww.googleapis.com%2Fauth%2Fdocs.test%20https%3A%2F%2Fwww.googleapis.com%2Fauth%2Fdrive%20https%3A%2F%2Fwww.googleapis.com%2Fauth%2Fdrive.photos.readonly%20https%3A%2F%2Fwww.googleapis.com%2Fauth%2Fpeopleapi.readonly&response_type=code\n",
            "\n",
            "Enter your authorization code:\n",
            "··········\n",
            "Mounted at /content/drive\n"
          ],
          "name": "stdout"
        }
      ]
    },
    {
      "cell_type": "code",
      "metadata": {
        "id": "sUUGbL10mNw4",
        "colab_type": "code",
        "outputId": "f5f46d02-0136-4fa3-a9d8-2549c14e11cd",
        "colab": {
          "base_uri": "https://localhost:8080/",
          "height": 117
        }
      },
      "source": [
        "d1=pd.read_csv('drive/My Drive/COLAB Files/d1.csv')\n",
        "d1.head(1)"
      ],
      "execution_count": 0,
      "outputs": [
        {
          "output_type": "execute_result",
          "data": {
            "text/html": [
              "<div>\n",
              "<style scoped>\n",
              "    .dataframe tbody tr th:only-of-type {\n",
              "        vertical-align: middle;\n",
              "    }\n",
              "\n",
              "    .dataframe tbody tr th {\n",
              "        vertical-align: top;\n",
              "    }\n",
              "\n",
              "    .dataframe thead th {\n",
              "        text-align: right;\n",
              "    }\n",
              "</style>\n",
              "<table border=\"1\" class=\"dataframe\">\n",
              "  <thead>\n",
              "    <tr style=\"text-align: right;\">\n",
              "      <th></th>\n",
              "      <th>Unnamed: 0</th>\n",
              "      <th>0</th>\n",
              "      <th>1</th>\n",
              "      <th>2</th>\n",
              "      <th>3</th>\n",
              "      <th>4</th>\n",
              "      <th>5</th>\n",
              "      <th>6</th>\n",
              "      <th>7</th>\n",
              "      <th>8</th>\n",
              "      <th>9</th>\n",
              "      <th>10</th>\n",
              "      <th>11</th>\n",
              "      <th>Case</th>\n",
              "    </tr>\n",
              "  </thead>\n",
              "  <tbody>\n",
              "    <tr>\n",
              "      <th>0</th>\n",
              "      <td>0</td>\n",
              "      <td>-0.362423</td>\n",
              "      <td>-0.07018</td>\n",
              "      <td>-0.562351</td>\n",
              "      <td>-0.074105</td>\n",
              "      <td>-0.12596</td>\n",
              "      <td>-0.209489</td>\n",
              "      <td>-0.406102</td>\n",
              "      <td>0.106063</td>\n",
              "      <td>1.079514</td>\n",
              "      <td>0.249664</td>\n",
              "      <td>1.28609</td>\n",
              "      <td>0.195705</td>\n",
              "      <td>1</td>\n",
              "    </tr>\n",
              "  </tbody>\n",
              "</table>\n",
              "</div>"
            ],
            "text/plain": [
              "   Unnamed: 0         0        1         2  ...         9       10        11  Case\n",
              "0           0 -0.362423 -0.07018 -0.562351  ...  0.249664  1.28609  0.195705     1\n",
              "\n",
              "[1 rows x 14 columns]"
            ]
          },
          "metadata": {
            "tags": []
          },
          "execution_count": 4
        }
      ]
    },
    {
      "cell_type": "code",
      "metadata": {
        "id": "tS5gxG8L3kmF",
        "colab_type": "code",
        "outputId": "0da8578b-4496-427c-b7b8-8a4b24e4deac",
        "colab": {
          "base_uri": "https://localhost:8080/",
          "height": 34
        }
      },
      "source": [
        "d1=d1[:300000]\n",
        "len(d1)"
      ],
      "execution_count": 0,
      "outputs": [
        {
          "output_type": "execute_result",
          "data": {
            "text/plain": [
              "300000"
            ]
          },
          "metadata": {
            "tags": []
          },
          "execution_count": 5
        }
      ]
    },
    {
      "cell_type": "code",
      "metadata": {
        "id": "4L1fNvKm3krr",
        "colab_type": "code",
        "outputId": "70139342-ee72-43c5-89b3-15bad1168c21",
        "colab": {
          "base_uri": "https://localhost:8080/",
          "height": 100
        }
      },
      "source": [
        "d1.drop(['Unnamed: 0'],axis=1,inplace=True)\n",
        "d1.head(1)"
      ],
      "execution_count": 0,
      "outputs": [
        {
          "output_type": "execute_result",
          "data": {
            "text/html": [
              "<div>\n",
              "<style scoped>\n",
              "    .dataframe tbody tr th:only-of-type {\n",
              "        vertical-align: middle;\n",
              "    }\n",
              "\n",
              "    .dataframe tbody tr th {\n",
              "        vertical-align: top;\n",
              "    }\n",
              "\n",
              "    .dataframe thead th {\n",
              "        text-align: right;\n",
              "    }\n",
              "</style>\n",
              "<table border=\"1\" class=\"dataframe\">\n",
              "  <thead>\n",
              "    <tr style=\"text-align: right;\">\n",
              "      <th></th>\n",
              "      <th>0</th>\n",
              "      <th>1</th>\n",
              "      <th>2</th>\n",
              "      <th>3</th>\n",
              "      <th>4</th>\n",
              "      <th>5</th>\n",
              "      <th>6</th>\n",
              "      <th>7</th>\n",
              "      <th>8</th>\n",
              "      <th>9</th>\n",
              "      <th>10</th>\n",
              "      <th>11</th>\n",
              "      <th>Case</th>\n",
              "    </tr>\n",
              "  </thead>\n",
              "  <tbody>\n",
              "    <tr>\n",
              "      <th>0</th>\n",
              "      <td>-0.362423</td>\n",
              "      <td>-0.07018</td>\n",
              "      <td>-0.562351</td>\n",
              "      <td>-0.074105</td>\n",
              "      <td>-0.12596</td>\n",
              "      <td>-0.209489</td>\n",
              "      <td>-0.406102</td>\n",
              "      <td>0.106063</td>\n",
              "      <td>1.079514</td>\n",
              "      <td>0.249664</td>\n",
              "      <td>1.28609</td>\n",
              "      <td>0.195705</td>\n",
              "      <td>1</td>\n",
              "    </tr>\n",
              "  </tbody>\n",
              "</table>\n",
              "</div>"
            ],
            "text/plain": [
              "          0        1         2         3  ...         9       10        11  Case\n",
              "0 -0.362423 -0.07018 -0.562351 -0.074105  ...  0.249664  1.28609  0.195705     1\n",
              "\n",
              "[1 rows x 13 columns]"
            ]
          },
          "metadata": {
            "tags": []
          },
          "execution_count": 6
        }
      ]
    },
    {
      "cell_type": "code",
      "metadata": {
        "id": "MIfaVpXGaGTP",
        "colab_type": "code",
        "colab": {}
      },
      "source": [
        "d2=pd.read_csv('drive/My Drive/COLAB Files/d2.csv')\n",
        "d3=pd.read_csv('drive/My Drive/COLAB Files/d3.csv')\n",
        "d4=pd.read_csv('drive/My Drive/COLAB Files/d4.csv')\n",
        "d5=pd.read_csv('drive/My Drive/COLAB Files/d5.csv')\n",
        "d6=pd.read_csv('drive/My Drive/COLAB Files/d6.csv')\n",
        "d7=pd.read_csv('drive/My Drive/COLAB Files/d7.csv')\n",
        "d8=pd.read_csv('drive/My Drive/COLAB Files/d8.csv')\n",
        "d9=pd.read_csv('drive/My Drive/COLAB Files/d9.csv')\n"
      ],
      "execution_count": 0,
      "outputs": []
    },
    {
      "cell_type": "code",
      "metadata": {
        "id": "r9jKyhDHaGpX",
        "colab_type": "code",
        "colab": {}
      },
      "source": [
        "d2=d2[:300000]\n",
        "d3=d3[:300000]\n",
        "d4=d4[:300000]\n",
        "d5=d5[:300000]\n",
        "d6=d6[:300000]\n",
        "d7=d7[:300000]\n",
        "d8=d8[:300000]\n",
        "d9=d9[:300000]"
      ],
      "execution_count": 0,
      "outputs": []
    },
    {
      "cell_type": "code",
      "metadata": {
        "id": "t6mj0YEeaGs9",
        "colab_type": "code",
        "colab": {}
      },
      "source": [
        "d2.drop(['Unnamed: 0'],axis=1,inplace=True)\n",
        "d3.drop(['Unnamed: 0'],axis=1,inplace=True)\n",
        "d4.drop(['Unnamed: 0'],axis=1,inplace=True)\n",
        "d5.drop(['Unnamed: 0'],axis=1,inplace=True)\n",
        "d6.drop(['Unnamed: 0'],axis=1,inplace=True)\n",
        "d7.drop(['Unnamed: 0'],axis=1,inplace=True)\n",
        "d8.drop(['Unnamed: 0'],axis=1,inplace=True)\n",
        "d9.drop(['Unnamed: 0'],axis=1,inplace=True)"
      ],
      "execution_count": 0,
      "outputs": []
    },
    {
      "cell_type": "code",
      "metadata": {
        "id": "UtKvmn2maGv_",
        "colab_type": "code",
        "colab": {}
      },
      "source": [
        ""
      ],
      "execution_count": 0,
      "outputs": []
    },
    {
      "cell_type": "code",
      "metadata": {
        "id": "2TT_lB0TaGnr",
        "colab_type": "code",
        "colab": {}
      },
      "source": [
        ""
      ],
      "execution_count": 0,
      "outputs": []
    },
    {
      "cell_type": "code",
      "metadata": {
        "id": "6qtukk6imQOz",
        "colab_type": "code",
        "colab": {}
      },
      "source": [
        ""
      ],
      "execution_count": 0,
      "outputs": []
    },
    {
      "cell_type": "code",
      "metadata": {
        "id": "66rjUOLROjiS",
        "colab_type": "code",
        "colab": {}
      },
      "source": [
        "#d1['0'].head()"
      ],
      "execution_count": 0,
      "outputs": []
    },
    {
      "cell_type": "code",
      "metadata": {
        "id": "jsJhl3kQOjnr",
        "colab_type": "code",
        "colab": {}
      },
      "source": [
        "import numpy as np\n",
        "import pywt\n",
        "from scipy import stats"
      ],
      "execution_count": 0,
      "outputs": []
    },
    {
      "cell_type": "code",
      "metadata": {
        "id": "DSw6a3PxOjuX",
        "colab_type": "code",
        "outputId": "7c616e67-bacb-4d67-db64-015e5eb51a40",
        "colab": {
          "base_uri": "https://localhost:8080/",
          "height": 34
        }
      },
      "source": [
        "mad1=stats.median_absolute_deviation(d1)\n",
        "mad1\n",
        "mad11=stats.median_absolute_deviation(mad1)\n",
        "mad11"
      ],
      "execution_count": 0,
      "outputs": [
        {
          "output_type": "execute_result",
          "data": {
            "text/plain": [
              "0.858226306160397"
            ]
          },
          "metadata": {
            "tags": []
          },
          "execution_count": 8
        }
      ]
    },
    {
      "cell_type": "code",
      "metadata": {
        "id": "w1nujVDfW0qH",
        "colab_type": "code",
        "outputId": "0fbd4e4d-35a9-4da4-b15e-6a7f6485dc3a",
        "colab": {
          "base_uri": "https://localhost:8080/",
          "height": 34
        }
      },
      "source": [
        "mad2=stats.median_absolute_deviation(d2)\n",
        "mad2\n",
        "mad22=stats.median_absolute_deviation(mad2)\n",
        "mad22"
      ],
      "execution_count": 0,
      "outputs": [
        {
          "output_type": "execute_result",
          "data": {
            "text/plain": [
              "0.7595005896633262"
            ]
          },
          "metadata": {
            "tags": []
          },
          "execution_count": 136
        }
      ]
    },
    {
      "cell_type": "code",
      "metadata": {
        "id": "7Bho2jUKW0s6",
        "colab_type": "code",
        "outputId": "f1f45404-0e2c-42f4-c23c-f1bb43661547",
        "colab": {
          "base_uri": "https://localhost:8080/",
          "height": 34
        }
      },
      "source": [
        "mad3=stats.median_absolute_deviation(d3)\n",
        "mad3\n",
        "mad33=stats.median_absolute_deviation(mad3)\n",
        "mad33"
      ],
      "execution_count": 0,
      "outputs": [
        {
          "output_type": "execute_result",
          "data": {
            "text/plain": [
              "0.4703082344681079"
            ]
          },
          "metadata": {
            "tags": []
          },
          "execution_count": 137
        }
      ]
    },
    {
      "cell_type": "code",
      "metadata": {
        "id": "_fqvUzg6W0wE",
        "colab_type": "code",
        "outputId": "98428eb5-1d0e-4cf1-ed1d-ef53af79cc91",
        "colab": {
          "base_uri": "https://localhost:8080/",
          "height": 34
        }
      },
      "source": [
        "mad4=stats.median_absolute_deviation(d4)\n",
        "mad4\n",
        "mad44=stats.median_absolute_deviation(mad4)\n",
        "mad44"
      ],
      "execution_count": 0,
      "outputs": [
        {
          "output_type": "execute_result",
          "data": {
            "text/plain": [
              "0.7131041766725671"
            ]
          },
          "metadata": {
            "tags": []
          },
          "execution_count": 138
        }
      ]
    },
    {
      "cell_type": "code",
      "metadata": {
        "id": "KXaC9OzBW0oL",
        "colab_type": "code",
        "outputId": "9f296381-ebd6-4abe-ce75-c45f8f154315",
        "colab": {
          "base_uri": "https://localhost:8080/",
          "height": 34
        }
      },
      "source": [
        "mad5=stats.median_absolute_deviation(d5)\n",
        "mad5\n",
        "mad55=stats.median_absolute_deviation(mad5)\n",
        "mad55"
      ],
      "execution_count": 0,
      "outputs": [
        {
          "output_type": "execute_result",
          "data": {
            "text/plain": [
              "0.4044778591345323"
            ]
          },
          "metadata": {
            "tags": []
          },
          "execution_count": 139
        }
      ]
    },
    {
      "cell_type": "code",
      "metadata": {
        "id": "o2ZLxMCKiQt6",
        "colab_type": "code",
        "outputId": "a7ae0375-e5b9-4c53-c429-598327d1f483",
        "colab": {
          "base_uri": "https://localhost:8080/",
          "height": 34
        }
      },
      "source": [
        "mad6=stats.median_absolute_deviation(d6)\n",
        "mad6\n",
        "mad66=stats.median_absolute_deviation(mad6)\n",
        "mad66"
      ],
      "execution_count": 0,
      "outputs": [
        {
          "output_type": "execute_result",
          "data": {
            "text/plain": [
              "0.5764921448019288"
            ]
          },
          "metadata": {
            "tags": []
          },
          "execution_count": 140
        }
      ]
    },
    {
      "cell_type": "code",
      "metadata": {
        "id": "6owaGpj5iQwt",
        "colab_type": "code",
        "outputId": "2d695f2c-a043-4deb-d212-9ea57a437658",
        "colab": {
          "base_uri": "https://localhost:8080/",
          "height": 34
        }
      },
      "source": [
        "mad7=stats.median_absolute_deviation(d7)\n",
        "mad7\n",
        "mad77=stats.median_absolute_deviation(mad7)\n",
        "mad77"
      ],
      "execution_count": 0,
      "outputs": [
        {
          "output_type": "execute_result",
          "data": {
            "text/plain": [
              "0.808413950975844"
            ]
          },
          "metadata": {
            "tags": []
          },
          "execution_count": 141
        }
      ]
    },
    {
      "cell_type": "code",
      "metadata": {
        "id": "Kz3vlkHAiQrn",
        "colab_type": "code",
        "outputId": "031c9887-5875-4f20-ce2b-bff3694cd826",
        "colab": {
          "base_uri": "https://localhost:8080/",
          "height": 34
        }
      },
      "source": [
        "mad8=stats.median_absolute_deviation(d8)\n",
        "mad8\n",
        "mad88=stats.median_absolute_deviation(mad8)\n",
        "mad88"
      ],
      "execution_count": 0,
      "outputs": [
        {
          "output_type": "execute_result",
          "data": {
            "text/plain": [
              "0.6055399752927988"
            ]
          },
          "metadata": {
            "tags": []
          },
          "execution_count": 142
        }
      ]
    },
    {
      "cell_type": "code",
      "metadata": {
        "id": "5Eq4_55hicXD",
        "colab_type": "code",
        "outputId": "fea42574-44f5-4687-d8c6-d1509fd9f316",
        "colab": {
          "base_uri": "https://localhost:8080/",
          "height": 34
        }
      },
      "source": [
        "mad9=stats.median_absolute_deviation(d9)\n",
        "mad9\n",
        "mad99=stats.median_absolute_deviation(mad9)\n",
        "mad99"
      ],
      "execution_count": 0,
      "outputs": [
        {
          "output_type": "execute_result",
          "data": {
            "text/plain": [
              "0.7241616984562131"
            ]
          },
          "metadata": {
            "tags": []
          },
          "execution_count": 143
        }
      ]
    },
    {
      "cell_type": "code",
      "metadata": {
        "id": "pIc-ILZrVOSj",
        "colab_type": "code",
        "outputId": "d6b7024a-2c72-42f0-c9d8-bea0305e86dc",
        "colab": {
          "base_uri": "https://localhost:8080/",
          "height": 170
        }
      },
      "source": [
        "print(mad11)\n",
        "print(mad22)\n",
        "print(mad33)\n",
        "print(mad44)\n",
        "print(mad55)\n",
        "print(mad66)\n",
        "print(mad77)\n",
        "print(mad88)\n",
        "print(mad99)"
      ],
      "execution_count": 0,
      "outputs": [
        {
          "output_type": "stream",
          "text": [
            "0.858226306160397\n",
            "0.7595005896633262\n",
            "0.4703082344681079\n",
            "0.7131041766725671\n",
            "0.4044778591345323\n",
            "0.5764921448019288\n",
            "0.808413950975844\n",
            "0.6055399752927988\n",
            "0.7241616984562131\n"
          ],
          "name": "stdout"
        }
      ]
    },
    {
      "cell_type": "code",
      "metadata": {
        "id": "KlCh6ZX2OjxY",
        "colab_type": "code",
        "outputId": "de13950d-8c5e-448b-b570-953d0784b320",
        "colab": {
          "base_uri": "https://localhost:8080/",
          "height": 238
        }
      },
      "source": [
        "s1=pywt.threshold(d1, mad11, 'soft')\n",
        "s1"
      ],
      "execution_count": 0,
      "outputs": [
        {
          "output_type": "execute_result",
          "data": {
            "text/plain": [
              "array([[-0.        , -0.        , -0.        , ...,  0.42786416,\n",
              "         0.        ,  0.14177369],\n",
              "       [-0.        , -0.        , -0.        , ...,  0.62090515,\n",
              "        -0.        ,  0.14177369],\n",
              "       [-0.03995431, -0.        , -0.        , ...,  0.42611856,\n",
              "         0.        ,  0.14177369],\n",
              "       ...,\n",
              "       [-0.        ,  0.        , -0.        , ..., -0.        ,\n",
              "         0.        ,  0.14177369],\n",
              "       [-0.12291507, -0.        , -0.        , ..., -0.05159644,\n",
              "        -0.        ,  0.14177369],\n",
              "       [-0.26437322, -0.        , -0.        , ..., -0.44317776,\n",
              "        -0.        ,  0.14177369]])"
            ]
          },
          "metadata": {
            "tags": []
          },
          "execution_count": 9
        }
      ]
    },
    {
      "cell_type": "code",
      "metadata": {
        "id": "bg4Kv-gFSaGt",
        "colab_type": "code",
        "outputId": "9763933d-47c7-4b12-a418-be91912463e3",
        "colab": {
          "base_uri": "https://localhost:8080/",
          "height": 238
        }
      },
      "source": [
        "h1=pywt.threshold(d1, mad11, 'hard')\n",
        "h1"
      ],
      "execution_count": 0,
      "outputs": [
        {
          "output_type": "execute_result",
          "data": {
            "text/plain": [
              "array([[ 0.        ,  0.        ,  0.        , ...,  1.28609047,\n",
              "         0.        ,  1.        ],\n",
              "       [ 0.        ,  0.        ,  0.        , ...,  1.47913146,\n",
              "         0.        ,  1.        ],\n",
              "       [-0.89818061,  0.        ,  0.        , ...,  1.28434486,\n",
              "         0.        ,  1.        ],\n",
              "       ...,\n",
              "       [ 0.        ,  0.        ,  0.        , ...,  0.        ,\n",
              "         0.        ,  1.        ],\n",
              "       [-0.98114138,  0.        ,  0.        , ..., -0.90982275,\n",
              "         0.        ,  1.        ],\n",
              "       [-1.12259952,  0.        ,  0.        , ..., -1.30140407,\n",
              "         0.        ,  1.        ]])"
            ]
          },
          "metadata": {
            "tags": []
          },
          "execution_count": 10
        }
      ]
    },
    {
      "cell_type": "code",
      "metadata": {
        "id": "I6N9c303bZ96",
        "colab_type": "code",
        "colab": {}
      },
      "source": [
        "s2=pywt.threshold(d2, mad22, 'soft')\n",
        "h2=pywt.threshold(d2, mad22, 'hard')\n",
        "\n",
        "s3=pywt.threshold(d3, mad33, 'soft')\n",
        "h3=pywt.threshold(d3, mad33, 'hard')\n",
        "\n",
        "s4=pywt.threshold(d4, mad44, 'soft')\n",
        "h4=pywt.threshold(d4, mad44, 'hard')\n",
        "\n",
        "s5=pywt.threshold(d5, mad55, 'soft')\n",
        "h5=pywt.threshold(d5, mad55, 'hard')\n",
        "\n",
        "s6=pywt.threshold(d5, mad66, 'soft')\n",
        "h6=pywt.threshold(d5, mad66, 'hard')\n",
        "\n",
        "s7=pywt.threshold(d5, mad77, 'soft')\n",
        "h7=pywt.threshold(d5, mad77, 'hard')\n",
        "\n",
        "s8=pywt.threshold(d5, mad88, 'soft')\n",
        "h8=pywt.threshold(d5, mad88, 'hard')\n",
        "\n",
        "s9=pywt.threshold(d5, mad99, 'soft')\n",
        "h9=pywt.threshold(d5, mad99, 'hard')"
      ],
      "execution_count": 0,
      "outputs": []
    },
    {
      "cell_type": "code",
      "metadata": {
        "id": "-J97YEU4kFp7",
        "colab_type": "code",
        "outputId": "fd7b3327-a0a5-489c-b85e-430a5b130fdd",
        "colab": {
          "base_uri": "https://localhost:8080/",
          "height": 34
        }
      },
      "source": [
        "import pandas as pd\n",
        "s1=pd.DataFrame(s1)\n",
        "s1.to_csv('softd1.csv')\n",
        "h1=pd.DataFrame(h1)\n",
        "h1.to_csv('hardd1.csv')\n",
        "s1.shape"
      ],
      "execution_count": 0,
      "outputs": [
        {
          "output_type": "execute_result",
          "data": {
            "text/plain": [
              "(300000, 13)"
            ]
          },
          "metadata": {
            "tags": []
          },
          "execution_count": 59
        }
      ]
    },
    {
      "cell_type": "code",
      "metadata": {
        "id": "N-iobGLsbZ6c",
        "colab_type": "code",
        "colab": {}
      },
      "source": [
        "s2=pd.DataFrame(s2)\n",
        "s2.to_csv('softd2.csv')\n",
        "h2=pd.DataFrame(h2)\n",
        "h2.to_csv('hardd2.csv')"
      ],
      "execution_count": 0,
      "outputs": []
    },
    {
      "cell_type": "code",
      "metadata": {
        "id": "C_MZ4MBWbZ4f",
        "colab_type": "code",
        "colab": {}
      },
      "source": [
        "s3=pd.DataFrame(s3)\n",
        "s3.to_csv('softd3.csv')\n",
        "h3=pd.DataFrame(h2)\n",
        "h3.to_csv('hardd3.csv')"
      ],
      "execution_count": 0,
      "outputs": []
    },
    {
      "cell_type": "code",
      "metadata": {
        "id": "vFQzxFK7cYaU",
        "colab_type": "code",
        "colab": {}
      },
      "source": [
        "s4=pd.DataFrame(s4)\n",
        "s4.to_csv('softd4.csv')\n",
        "h4=pd.DataFrame(h4)\n",
        "h4.to_csv('hardd4.csv')"
      ],
      "execution_count": 0,
      "outputs": []
    },
    {
      "cell_type": "code",
      "metadata": {
        "id": "klpUiiY3cYoj",
        "colab_type": "code",
        "colab": {}
      },
      "source": [
        "s5=pd.DataFrame(s5)\n",
        "s5.to_csv('softd5.csv')\n",
        "h5=pd.DataFrame(h5)\n",
        "h5.to_csv('hardd5.csv')"
      ],
      "execution_count": 0,
      "outputs": []
    },
    {
      "cell_type": "code",
      "metadata": {
        "id": "CVwoCWaxdi7j",
        "colab_type": "code",
        "colab": {}
      },
      "source": [
        "s6=pd.DataFrame(s6)\n",
        "s6.to_csv('softd6.csv')\n",
        "h6=pd.DataFrame(h6)\n",
        "h6.to_csv('hardd6.csv')"
      ],
      "execution_count": 0,
      "outputs": []
    },
    {
      "cell_type": "code",
      "metadata": {
        "id": "ZA_A_Ux2djCl",
        "colab_type": "code",
        "colab": {}
      },
      "source": [
        "s7=pd.DataFrame(s7)\n",
        "s7.to_csv('softd7.csv')\n",
        "h7=pd.DataFrame(h7)\n",
        "h7.to_csv('hardd7.csv')"
      ],
      "execution_count": 0,
      "outputs": []
    },
    {
      "cell_type": "code",
      "metadata": {
        "id": "AZRxMDWldjGU",
        "colab_type": "code",
        "colab": {}
      },
      "source": [
        "s8=pd.DataFrame(s8)\n",
        "s8.to_csv('softd8.csv')\n",
        "h8=pd.DataFrame(h8)\n",
        "h8.to_csv('hardd8.csv')"
      ],
      "execution_count": 0,
      "outputs": []
    },
    {
      "cell_type": "code",
      "metadata": {
        "id": "M2terN3HdjA0",
        "colab_type": "code",
        "colab": {}
      },
      "source": [
        "s9=pd.DataFrame(s9)\n",
        "s9.to_csv('softd9.csv')\n",
        "h9=pd.DataFrame(h9)\n",
        "h9.to_csv('hardd9.csv')"
      ],
      "execution_count": 0,
      "outputs": []
    },
    {
      "cell_type": "code",
      "metadata": {
        "id": "kkuo2lULKxQ9",
        "colab_type": "code",
        "colab": {}
      },
      "source": [
        "s1=pd.DataFrame(s1)\n",
        "h1=pd.DataFrame(h1)"
      ],
      "execution_count": 0,
      "outputs": []
    },
    {
      "cell_type": "code",
      "metadata": {
        "id": "zqMPw9nPj5sp",
        "colab_type": "code",
        "colab": {}
      },
      "source": [
        "s2=pd.DataFrame(s2)\n",
        "h2=pd.DataFrame(h2)\n",
        "\n",
        "s3=pd.DataFrame(s3)\n",
        "h3=pd.DataFrame(h3)\n",
        "\n",
        "s4=pd.DataFrame(s4)\n",
        "h4=pd.DataFrame(h4)\n",
        "\n",
        "s5=pd.DataFrame(s5)\n",
        "h5=pd.DataFrame(h5)\n",
        "\n",
        "s6=pd.DataFrame(s6)\n",
        "h6=pd.DataFrame(h6)\n",
        "\n",
        "s7=pd.DataFrame(s7)\n",
        "h7=pd.DataFrame(h7)\n",
        "\n",
        "s8=pd.DataFrame(s8)\n",
        "h8=pd.DataFrame(h8)\n",
        "\n",
        "s9=pd.DataFrame(s9)\n",
        "h9=pd.DataFrame(h9)"
      ],
      "execution_count": 0,
      "outputs": []
    },
    {
      "cell_type": "code",
      "metadata": {
        "id": "Ds_mTxRmOjgH",
        "colab_type": "code",
        "outputId": "9c8dfb27-da29-442e-e214-28166fe6efd3",
        "colab": {
          "base_uri": "https://localhost:8080/",
          "height": 80
        }
      },
      "source": [
        "s1=pd.read_csv('drive/My Drive/COLAB Files/softd1.csv')\n",
        "s1.head(1)"
      ],
      "execution_count": 0,
      "outputs": [
        {
          "output_type": "execute_result",
          "data": {
            "text/html": [
              "<div>\n",
              "<style scoped>\n",
              "    .dataframe tbody tr th:only-of-type {\n",
              "        vertical-align: middle;\n",
              "    }\n",
              "\n",
              "    .dataframe tbody tr th {\n",
              "        vertical-align: top;\n",
              "    }\n",
              "\n",
              "    .dataframe thead th {\n",
              "        text-align: right;\n",
              "    }\n",
              "</style>\n",
              "<table border=\"1\" class=\"dataframe\">\n",
              "  <thead>\n",
              "    <tr style=\"text-align: right;\">\n",
              "      <th></th>\n",
              "      <th>Unnamed: 0</th>\n",
              "      <th>0</th>\n",
              "      <th>1</th>\n",
              "      <th>2</th>\n",
              "      <th>3</th>\n",
              "      <th>4</th>\n",
              "      <th>5</th>\n",
              "      <th>6</th>\n",
              "      <th>7</th>\n",
              "      <th>8</th>\n",
              "      <th>9</th>\n",
              "      <th>10</th>\n",
              "      <th>11</th>\n",
              "      <th>12</th>\n",
              "    </tr>\n",
              "  </thead>\n",
              "  <tbody>\n",
              "    <tr>\n",
              "      <th>0</th>\n",
              "      <td>0</td>\n",
              "      <td>0.0</td>\n",
              "      <td>0.0</td>\n",
              "      <td>0.0</td>\n",
              "      <td>0.0</td>\n",
              "      <td>0.0</td>\n",
              "      <td>0.0</td>\n",
              "      <td>0.0</td>\n",
              "      <td>0.0</td>\n",
              "      <td>0.221288</td>\n",
              "      <td>0.0</td>\n",
              "      <td>0.427864</td>\n",
              "      <td>0.0</td>\n",
              "      <td>1</td>\n",
              "    </tr>\n",
              "  </tbody>\n",
              "</table>\n",
              "</div>"
            ],
            "text/plain": [
              "   Unnamed: 0    0    1    2    3    4  ...    7         8    9        10   11  12\n",
              "0           0  0.0  0.0  0.0  0.0  0.0  ...  0.0  0.221288  0.0  0.427864  0.0   1\n",
              "\n",
              "[1 rows x 14 columns]"
            ]
          },
          "metadata": {
            "tags": []
          },
          "execution_count": 5
        }
      ]
    },
    {
      "cell_type": "code",
      "metadata": {
        "id": "sPiLIJrtLJwc",
        "colab_type": "code",
        "colab": {}
      },
      "source": [
        "s1.drop(['Unnamed: 0'],axis=1,inplace=True)"
      ],
      "execution_count": 0,
      "outputs": []
    },
    {
      "cell_type": "code",
      "metadata": {
        "id": "Qmo9TsyXTejG",
        "colab_type": "code",
        "outputId": "6d94e221-81df-4807-f200-243bbe5f1228",
        "colab": {
          "base_uri": "https://localhost:8080/",
          "height": 80
        }
      },
      "source": [
        "\n",
        "s2=pd.read_csv('drive/My Drive/COLAB Files/softd2.csv')\n",
        "s3=pd.read_csv('drive/My Drive/COLAB Files/softd3.csv')\n",
        "s4=pd.read_csv('drive/My Drive/COLAB Files/softd4.csv')\n",
        "s5=pd.read_csv('drive/My Drive/COLAB Files/softd5.csv')\n",
        "s6=pd.read_csv('drive/My Drive/COLAB Files/softd6.csv')\n",
        "s7=pd.read_csv('drive/My Drive/COLAB Files/softd7.csv')\n",
        "s8=pd.read_csv('drive/My Drive/COLAB Files/softd8.csv')\n",
        "s9=pd.read_csv('drive/My Drive/COLAB Files/softd9.csv')\n",
        "s9.head(1)"
      ],
      "execution_count": 0,
      "outputs": [
        {
          "output_type": "execute_result",
          "data": {
            "text/html": [
              "<div>\n",
              "<style scoped>\n",
              "    .dataframe tbody tr th:only-of-type {\n",
              "        vertical-align: middle;\n",
              "    }\n",
              "\n",
              "    .dataframe tbody tr th {\n",
              "        vertical-align: top;\n",
              "    }\n",
              "\n",
              "    .dataframe thead th {\n",
              "        text-align: right;\n",
              "    }\n",
              "</style>\n",
              "<table border=\"1\" class=\"dataframe\">\n",
              "  <thead>\n",
              "    <tr style=\"text-align: right;\">\n",
              "      <th></th>\n",
              "      <th>Unnamed: 0</th>\n",
              "      <th>0</th>\n",
              "      <th>1</th>\n",
              "      <th>2</th>\n",
              "      <th>3</th>\n",
              "      <th>4</th>\n",
              "      <th>5</th>\n",
              "      <th>6</th>\n",
              "      <th>7</th>\n",
              "      <th>8</th>\n",
              "      <th>9</th>\n",
              "      <th>10</th>\n",
              "      <th>11</th>\n",
              "      <th>12</th>\n",
              "    </tr>\n",
              "  </thead>\n",
              "  <tbody>\n",
              "    <tr>\n",
              "      <th>0</th>\n",
              "      <td>0</td>\n",
              "      <td>0.0</td>\n",
              "      <td>0.0</td>\n",
              "      <td>0.0</td>\n",
              "      <td>0.0</td>\n",
              "      <td>0.0</td>\n",
              "      <td>0.0</td>\n",
              "      <td>0.0</td>\n",
              "      <td>0.0</td>\n",
              "      <td>-0.277823</td>\n",
              "      <td>-0.06815</td>\n",
              "      <td>-0.736673</td>\n",
              "      <td>0.0</td>\n",
              "      <td>2</td>\n",
              "    </tr>\n",
              "  </tbody>\n",
              "</table>\n",
              "</div>"
            ],
            "text/plain": [
              "   Unnamed: 0    0    1    2    3  ...         8        9        10   11  12\n",
              "0           0  0.0  0.0  0.0  0.0  ... -0.277823 -0.06815 -0.736673  0.0   2\n",
              "\n",
              "[1 rows x 14 columns]"
            ]
          },
          "metadata": {
            "tags": []
          },
          "execution_count": 147
        }
      ]
    },
    {
      "cell_type": "code",
      "metadata": {
        "id": "iUvUWBoRLIwq",
        "colab_type": "code",
        "colab": {}
      },
      "source": [
        ""
      ],
      "execution_count": 0,
      "outputs": []
    },
    {
      "cell_type": "code",
      "metadata": {
        "id": "16XBjyQUX6qW",
        "colab_type": "code",
        "outputId": "cdb1bef2-c725-4ded-ad5d-be6472bfeece",
        "colab": {
          "base_uri": "https://localhost:8080/",
          "height": 80
        }
      },
      "source": [
        "s1.drop(['Unnamed: 0'],axis=1,inplace=True)\n",
        "s2.drop(['Unnamed: 0'],axis=1,inplace=True)\n",
        "s3.drop(['Unnamed: 0'],axis=1,inplace=True)\n",
        "s4.drop(['Unnamed: 0'],axis=1,inplace=True)\n",
        "s5.drop(['Unnamed: 0'],axis=1,inplace=True)\n",
        "s6.drop(['Unnamed: 0'],axis=1,inplace=True)\n",
        "s7.drop(['Unnamed: 0'],axis=1,inplace=True)\n",
        "s8.drop(['Unnamed: 0'],axis=1,inplace=True)\n",
        "s9.drop(['Unnamed: 0'],axis=1,inplace=True)\n",
        "s1.head(1)"
      ],
      "execution_count": 0,
      "outputs": [
        {
          "output_type": "execute_result",
          "data": {
            "text/html": [
              "<div>\n",
              "<style scoped>\n",
              "    .dataframe tbody tr th:only-of-type {\n",
              "        vertical-align: middle;\n",
              "    }\n",
              "\n",
              "    .dataframe tbody tr th {\n",
              "        vertical-align: top;\n",
              "    }\n",
              "\n",
              "    .dataframe thead th {\n",
              "        text-align: right;\n",
              "    }\n",
              "</style>\n",
              "<table border=\"1\" class=\"dataframe\">\n",
              "  <thead>\n",
              "    <tr style=\"text-align: right;\">\n",
              "      <th></th>\n",
              "      <th>0</th>\n",
              "      <th>1</th>\n",
              "      <th>2</th>\n",
              "      <th>3</th>\n",
              "      <th>4</th>\n",
              "      <th>5</th>\n",
              "      <th>6</th>\n",
              "      <th>7</th>\n",
              "      <th>8</th>\n",
              "      <th>9</th>\n",
              "      <th>10</th>\n",
              "      <th>11</th>\n",
              "      <th>12</th>\n",
              "    </tr>\n",
              "  </thead>\n",
              "  <tbody>\n",
              "    <tr>\n",
              "      <th>0</th>\n",
              "      <td>0.0</td>\n",
              "      <td>0.0</td>\n",
              "      <td>0.0</td>\n",
              "      <td>0.0</td>\n",
              "      <td>0.0</td>\n",
              "      <td>0.0</td>\n",
              "      <td>0.0</td>\n",
              "      <td>0.0</td>\n",
              "      <td>0.221288</td>\n",
              "      <td>0.0</td>\n",
              "      <td>0.427864</td>\n",
              "      <td>0.0</td>\n",
              "      <td>1</td>\n",
              "    </tr>\n",
              "  </tbody>\n",
              "</table>\n",
              "</div>"
            ],
            "text/plain": [
              "     0    1    2    3    4    5    6    7         8    9        10   11  12\n",
              "0  0.0  0.0  0.0  0.0  0.0  0.0  0.0  0.0  0.221288  0.0  0.427864  0.0   1"
            ]
          },
          "metadata": {
            "tags": []
          },
          "execution_count": 148
        }
      ]
    },
    {
      "cell_type": "code",
      "metadata": {
        "id": "JmklNyNXWS_F",
        "colab_type": "code",
        "outputId": "a23ede23-6c1e-4b6f-b9df-1a25419ee51b",
        "colab": {
          "base_uri": "https://localhost:8080/",
          "height": 80
        }
      },
      "source": [
        "h1=pd.read_csv('hardd1.csv')\n",
        "h2=pd.read_csv('hardd2.csv')\n",
        "h3=pd.read_csv('hardd3.csv')\n",
        "h4=pd.read_csv('hardd4.csv')\n",
        "h5=pd.read_csv('hardd5.csv')\n",
        "h6=pd.read_csv('hardd6.csv')\n",
        "h7=pd.read_csv('hardd7.csv')\n",
        "h8=pd.read_csv('hardd8.csv')\n",
        "h9=pd.read_csv('hardd9.csv')\n",
        "h9.head(1)"
      ],
      "execution_count": 0,
      "outputs": [
        {
          "output_type": "execute_result",
          "data": {
            "text/html": [
              "<div>\n",
              "<style scoped>\n",
              "    .dataframe tbody tr th:only-of-type {\n",
              "        vertical-align: middle;\n",
              "    }\n",
              "\n",
              "    .dataframe tbody tr th {\n",
              "        vertical-align: top;\n",
              "    }\n",
              "\n",
              "    .dataframe thead th {\n",
              "        text-align: right;\n",
              "    }\n",
              "</style>\n",
              "<table border=\"1\" class=\"dataframe\">\n",
              "  <thead>\n",
              "    <tr style=\"text-align: right;\">\n",
              "      <th></th>\n",
              "      <th>Unnamed: 0</th>\n",
              "      <th>0</th>\n",
              "      <th>1</th>\n",
              "      <th>2</th>\n",
              "      <th>3</th>\n",
              "      <th>4</th>\n",
              "      <th>5</th>\n",
              "      <th>6</th>\n",
              "      <th>7</th>\n",
              "      <th>8</th>\n",
              "      <th>9</th>\n",
              "      <th>10</th>\n",
              "      <th>11</th>\n",
              "      <th>12</th>\n",
              "    </tr>\n",
              "  </thead>\n",
              "  <tbody>\n",
              "    <tr>\n",
              "      <th>0</th>\n",
              "      <td>0</td>\n",
              "      <td>0.0</td>\n",
              "      <td>0.0</td>\n",
              "      <td>0.0</td>\n",
              "      <td>0.0</td>\n",
              "      <td>0.0</td>\n",
              "      <td>0.0</td>\n",
              "      <td>0.0</td>\n",
              "      <td>0.0</td>\n",
              "      <td>-1.001985</td>\n",
              "      <td>-0.792311</td>\n",
              "      <td>-1.460834</td>\n",
              "      <td>0.0</td>\n",
              "      <td>2.0</td>\n",
              "    </tr>\n",
              "  </tbody>\n",
              "</table>\n",
              "</div>"
            ],
            "text/plain": [
              "   Unnamed: 0    0    1    2    3  ...         8         9        10   11   12\n",
              "0           0  0.0  0.0  0.0  0.0  ... -1.001985 -0.792311 -1.460834  0.0  2.0\n",
              "\n",
              "[1 rows x 14 columns]"
            ]
          },
          "metadata": {
            "tags": []
          },
          "execution_count": 149
        }
      ]
    },
    {
      "cell_type": "code",
      "metadata": {
        "id": "OYnJsaPfWTB0",
        "colab_type": "code",
        "outputId": "7c220759-fdbd-4e0f-e896-49297957e743",
        "colab": {
          "base_uri": "https://localhost:8080/",
          "height": 80
        }
      },
      "source": [
        "h1.drop(['Unnamed: 0'],axis=1,inplace=True)\n",
        "h2.drop(['Unnamed: 0'],axis=1,inplace=True)\n",
        "h3.drop(['Unnamed: 0'],axis=1,inplace=True)\n",
        "h4.drop(['Unnamed: 0'],axis=1,inplace=True)\n",
        "h5.drop(['Unnamed: 0'],axis=1,inplace=True)\n",
        "h6.drop(['Unnamed: 0'],axis=1,inplace=True)\n",
        "h7.drop(['Unnamed: 0'],axis=1,inplace=True)\n",
        "h8.drop(['Unnamed: 0'],axis=1,inplace=True)\n",
        "h9.drop(['Unnamed: 0'],axis=1,inplace=True)\n",
        "h1.head(1)"
      ],
      "execution_count": 0,
      "outputs": [
        {
          "output_type": "execute_result",
          "data": {
            "text/html": [
              "<div>\n",
              "<style scoped>\n",
              "    .dataframe tbody tr th:only-of-type {\n",
              "        vertical-align: middle;\n",
              "    }\n",
              "\n",
              "    .dataframe tbody tr th {\n",
              "        vertical-align: top;\n",
              "    }\n",
              "\n",
              "    .dataframe thead th {\n",
              "        text-align: right;\n",
              "    }\n",
              "</style>\n",
              "<table border=\"1\" class=\"dataframe\">\n",
              "  <thead>\n",
              "    <tr style=\"text-align: right;\">\n",
              "      <th></th>\n",
              "      <th>0</th>\n",
              "      <th>1</th>\n",
              "      <th>2</th>\n",
              "      <th>3</th>\n",
              "      <th>4</th>\n",
              "      <th>5</th>\n",
              "      <th>6</th>\n",
              "      <th>7</th>\n",
              "      <th>8</th>\n",
              "      <th>9</th>\n",
              "      <th>10</th>\n",
              "      <th>11</th>\n",
              "      <th>12</th>\n",
              "    </tr>\n",
              "  </thead>\n",
              "  <tbody>\n",
              "    <tr>\n",
              "      <th>0</th>\n",
              "      <td>0.0</td>\n",
              "      <td>0.0</td>\n",
              "      <td>0.0</td>\n",
              "      <td>0.0</td>\n",
              "      <td>0.0</td>\n",
              "      <td>0.0</td>\n",
              "      <td>0.0</td>\n",
              "      <td>0.0</td>\n",
              "      <td>1.079514</td>\n",
              "      <td>0.0</td>\n",
              "      <td>1.28609</td>\n",
              "      <td>0.0</td>\n",
              "      <td>1.0</td>\n",
              "    </tr>\n",
              "  </tbody>\n",
              "</table>\n",
              "</div>"
            ],
            "text/plain": [
              "     0    1    2    3    4    5    6    7         8    9       10   11   12\n",
              "0  0.0  0.0  0.0  0.0  0.0  0.0  0.0  0.0  1.079514  0.0  1.28609  0.0  1.0"
            ]
          },
          "metadata": {
            "tags": []
          },
          "execution_count": 150
        }
      ]
    },
    {
      "cell_type": "code",
      "metadata": {
        "id": "xEtsq5N0WTE_",
        "colab_type": "code",
        "colab": {}
      },
      "source": [
        ""
      ],
      "execution_count": 0,
      "outputs": []
    },
    {
      "cell_type": "code",
      "metadata": {
        "id": "PJtATObgWS9V",
        "colab_type": "code",
        "colab": {}
      },
      "source": [
        ""
      ],
      "execution_count": 0,
      "outputs": []
    },
    {
      "cell_type": "code",
      "metadata": {
        "id": "CpTnV1FRmT2A",
        "colab_type": "code",
        "outputId": "7a60bc91-507b-42cd-8797-94c8def90570",
        "colab": {
          "base_uri": "https://localhost:8080/",
          "height": 34
        }
      },
      "source": [
        "dy1=s1['12'].values\n",
        "y1=list(dy1)\n",
        "y1=np.asarray(y1)\n",
        "y1.shape"
      ],
      "execution_count": 0,
      "outputs": [
        {
          "output_type": "execute_result",
          "data": {
            "text/plain": [
              "(300000,)"
            ]
          },
          "metadata": {
            "tags": []
          },
          "execution_count": 7
        }
      ]
    },
    {
      "cell_type": "code",
      "metadata": {
        "id": "ExWqVDoCmWPj",
        "colab_type": "code",
        "colab": {}
      },
      "source": [
        "s1.drop(['12'], axis = 1, inplace = True)"
      ],
      "execution_count": 0,
      "outputs": []
    },
    {
      "cell_type": "code",
      "metadata": {
        "id": "aWO6BcdDmWRj",
        "colab_type": "code",
        "outputId": "ea630b2c-f2c3-4de0-ce01-b823521476d4",
        "colab": {
          "base_uri": "https://localhost:8080/",
          "height": 34
        }
      },
      "source": [
        "x=s1.iloc[:].values\n",
        "len(x)\n",
        "x.shape"
      ],
      "execution_count": 0,
      "outputs": [
        {
          "output_type": "execute_result",
          "data": {
            "text/plain": [
              "(300000, 12)"
            ]
          },
          "metadata": {
            "tags": []
          },
          "execution_count": 9
        }
      ]
    },
    {
      "cell_type": "code",
      "metadata": {
        "id": "hGgjtgDFmWUm",
        "colab_type": "code",
        "colab": {}
      },
      "source": [
        "#x=x.reshape(1200,12,250)"
      ],
      "execution_count": 0,
      "outputs": []
    },
    {
      "cell_type": "code",
      "metadata": {
        "id": "7nr_hUMumWYs",
        "colab_type": "code",
        "outputId": "36cf3451-fc20-40c4-b94b-67e846af73c8",
        "colab": {
          "base_uri": "https://localhost:8080/",
          "height": 34
        }
      },
      "source": [
        "y=[]\n",
        "\n",
        "for i in y1:\n",
        "  if i==2.0:\n",
        "    y.append(1)\n",
        "  else:\n",
        "    y.append(0)\n",
        "    \n",
        "y=np.asarray(y)\n",
        "y.shape"
      ],
      "execution_count": 0,
      "outputs": [
        {
          "output_type": "execute_result",
          "data": {
            "text/plain": [
              "(300000,)"
            ]
          },
          "metadata": {
            "tags": []
          },
          "execution_count": 10
        }
      ]
    },
    {
      "cell_type": "code",
      "metadata": {
        "id": "qP1Cw6_CmgoU",
        "colab_type": "code",
        "colab": {}
      },
      "source": [
        "i=0\n",
        "w=[]\n",
        "m=0\n",
        "while (i<len(y)):\n",
        "  j=y[i]\n",
        "  i=i+1\n",
        "  k=1\n",
        "  while(y[i]==j):\n",
        "    i=i+1\n",
        "    k=k+1\n",
        "    if(i==len(y)):\n",
        "      break\n",
        "  \n",
        "  w.append(k)\n",
        "  m=m+1\n",
        "  i=i+1\n",
        "  #print(m)  \n",
        "    \n",
        "  "
      ],
      "execution_count": 0,
      "outputs": []
    },
    {
      "cell_type": "code",
      "metadata": {
        "id": "3sPBdqmGmidS",
        "colab_type": "code",
        "outputId": "40e0fe5a-531e-4c8b-eb12-e7fe3a1f41dd",
        "colab": {
          "base_uri": "https://localhost:8080/",
          "height": 34
        }
      },
      "source": [
        "i=0\n",
        "m=0\n",
        "y2=[]\n",
        "while(i<len(w)):\n",
        "  j=w[i]\n",
        "  c=int(j/250)\n",
        "  k=0\n",
        "  while(k<c):\n",
        "    a=y[m]\n",
        "    y2.append(a)\n",
        "    k=k+1\n",
        "  i=i+1\n",
        "  m=m+j\n",
        "  \n",
        "  \n",
        "  \n",
        "len(y2)"
      ],
      "execution_count": 0,
      "outputs": [
        {
          "output_type": "execute_result",
          "data": {
            "text/plain": [
              "1198"
            ]
          },
          "metadata": {
            "tags": []
          },
          "execution_count": 47
        }
      ]
    },
    {
      "cell_type": "code",
      "metadata": {
        "id": "abxwlBGMml7l",
        "colab_type": "code",
        "outputId": "4cb7a36a-7d24-428b-99ed-3c01000df49f",
        "colab": {
          "base_uri": "https://localhost:8080/",
          "height": 34
        }
      },
      "source": [
        "y=np.asarray(y2)  \n",
        "print(y.shape)  "
      ],
      "execution_count": 0,
      "outputs": [
        {
          "output_type": "stream",
          "text": [
            "(1198,)\n"
          ],
          "name": "stdout"
        }
      ]
    },
    {
      "cell_type": "code",
      "metadata": {
        "id": "JNlKnNXimo85",
        "colab_type": "code",
        "outputId": "0d532320-3ac0-4eac-dfc5-239d5c5bc64a",
        "colab": {
          "base_uri": "https://localhost:8080/",
          "height": 34
        }
      },
      "source": [
        "x.shape"
      ],
      "execution_count": 0,
      "outputs": [
        {
          "output_type": "execute_result",
          "data": {
            "text/plain": [
              "(300000, 12)"
            ]
          },
          "metadata": {
            "tags": []
          },
          "execution_count": 22
        }
      ]
    },
    {
      "cell_type": "code",
      "metadata": {
        "id": "rx3O5SIPmqsm",
        "colab_type": "code",
        "colab": {}
      },
      "source": [
        "y2=np.asarray(y2)"
      ],
      "execution_count": 0,
      "outputs": []
    },
    {
      "cell_type": "code",
      "metadata": {
        "id": "K6aRKk0qmtzE",
        "colab_type": "code",
        "colab": {}
      },
      "source": [
        "X_train=x[0:240000]\n",
        "y_train=y[0:240000]\n",
        "X_test=x[240000:,]\n",
        "y_test=y[240000:,]\n",
        "#X_train      = x[0:960]\n",
        "#Y_train      = y[0:960]\n",
        "#X_validate   = X[24:216,]\n",
        "#Y_validate   = y[144:216]\n",
        "#X_test       = x[960:,]\n",
        "#Y_test       = y[960:,]"
      ],
      "execution_count": 0,
      "outputs": []
    },
    {
      "cell_type": "code",
      "metadata": {
        "id": "CWUnX_2Bmvh8",
        "colab_type": "code",
        "outputId": "f9699409-812f-458b-d51f-0bea6b9eea75",
        "colab": {
          "base_uri": "https://localhost:8080/",
          "height": 34
        }
      },
      "source": [
        "y_train.shape"
      ],
      "execution_count": 0,
      "outputs": [
        {
          "output_type": "execute_result",
          "data": {
            "text/plain": [
              "(240000,)"
            ]
          },
          "metadata": {
            "tags": []
          },
          "execution_count": 12
        }
      ]
    },
    {
      "cell_type": "code",
      "metadata": {
        "id": "ufx554oKmyUO",
        "colab_type": "code",
        "outputId": "bde732d3-8b69-4ec3-e35e-9cac6eddf2bd",
        "colab": {
          "base_uri": "https://localhost:8080/",
          "height": 34
        }
      },
      "source": [
        "X_train.shape"
      ],
      "execution_count": 0,
      "outputs": [
        {
          "output_type": "execute_result",
          "data": {
            "text/plain": [
              "(240000, 12)"
            ]
          },
          "metadata": {
            "tags": []
          },
          "execution_count": 13
        }
      ]
    },
    {
      "cell_type": "code",
      "metadata": {
        "id": "TIVEU_hCL03O",
        "colab_type": "code",
        "outputId": "73dc97c3-47c7-4a84-db42-52f92cae5dcf",
        "colab": {
          "base_uri": "https://localhost:8080/",
          "height": 34
        }
      },
      "source": [
        "y_test.shape"
      ],
      "execution_count": 0,
      "outputs": [
        {
          "output_type": "execute_result",
          "data": {
            "text/plain": [
              "(60000,)"
            ]
          },
          "metadata": {
            "tags": []
          },
          "execution_count": 14
        }
      ]
    },
    {
      "cell_type": "code",
      "metadata": {
        "id": "hSof7uOML00R",
        "colab_type": "code",
        "colab": {}
      },
      "source": [
        ""
      ],
      "execution_count": 0,
      "outputs": []
    },
    {
      "cell_type": "code",
      "metadata": {
        "id": "vCc_Jrzim0Sx",
        "colab_type": "code",
        "colab": {}
      },
      "source": [
        "X_train=X_train.reshape(X_train.shape[0],1,12,250)\n",
        "X_test=X_test.reshape(X_test.shape[0],1,12,250)"
      ],
      "execution_count": 0,
      "outputs": []
    },
    {
      "cell_type": "code",
      "metadata": {
        "id": "FUcsbReom2A4",
        "colab_type": "code",
        "outputId": "23f853ff-51df-4530-e739-1f7efbfb85a1",
        "colab": {
          "base_uri": "https://localhost:8080/",
          "height": 85
        }
      },
      "source": [
        "print(X_train.shape)\n",
        "print(y_train.shape)\n",
        "print(X_test.shape)\n",
        "print(y_test.shape)"
      ],
      "execution_count": 0,
      "outputs": [
        {
          "output_type": "stream",
          "text": [
            "(240000, 12)\n",
            "(240000,)\n",
            "(60000, 12)\n",
            "(60000,)\n"
          ],
          "name": "stdout"
        }
      ]
    },
    {
      "cell_type": "code",
      "metadata": {
        "id": "1naOUvacm4yk",
        "colab_type": "code",
        "colab": {}
      },
      "source": [
        "type(y_test)\n",
        "t=y_test\n",
        "t=list(t)\n",
        "#print(t)\n",
        "t.append(1)\n",
        "t.append(1)\n",
        "len(t)\n",
        "y_test=t"
      ],
      "execution_count": 0,
      "outputs": []
    },
    {
      "cell_type": "code",
      "metadata": {
        "id": "O3b7lqFSm7yW",
        "colab_type": "code",
        "outputId": "2431aa57-e75b-4d50-ab82-5b3822f5854b",
        "colab": {
          "base_uri": "https://localhost:8080/",
          "height": 34
        }
      },
      "source": [
        "y_test=np.asarray(y_test)\n",
        "y_test=np.asarray(t)\n",
        "y_test.shape"
      ],
      "execution_count": 0,
      "outputs": [
        {
          "output_type": "execute_result",
          "data": {
            "text/plain": [
              "(220,)"
            ]
          },
          "metadata": {
            "tags": []
          },
          "execution_count": 168
        }
      ]
    },
    {
      "cell_type": "code",
      "metadata": {
        "id": "02qPsqhbnApF",
        "colab_type": "code",
        "outputId": "fba5d369-9e4c-4462-e93e-babcd3acb3f3",
        "colab": {
          "base_uri": "https://localhost:8080/",
          "height": 85
        }
      },
      "source": [
        "print(X_train.shape)\n",
        "print(y_train.shape)\n",
        "print(X_test.shape)\n",
        "print(y_test.shape)\n"
      ],
      "execution_count": 0,
      "outputs": [
        {
          "output_type": "stream",
          "text": [
            "(980, 1, 12, 250)\n",
            "(980,)\n",
            "(220, 1, 12, 250)\n",
            "(220,)\n"
          ],
          "name": "stdout"
        }
      ]
    },
    {
      "cell_type": "code",
      "metadata": {
        "id": "Bhc5jGxlnCwa",
        "colab_type": "code",
        "outputId": "27f4b75b-df38-4be3-df90-041d0648f359",
        "colab": {
          "base_uri": "https://localhost:8080/",
          "height": 394
        }
      },
      "source": [
        "\n",
        "from random import shuffle\n",
        "\n",
        "import pandas as pd\n",
        "import tensorflow as tf\n",
        "import io\n",
        "import numpy as np\n",
        "import os\n",
        "import collections\n",
        "\n",
        "from tensor2tensor import models\n",
        "from tensor2tensor import problems\n",
        "from tensor2tensor.layers import common_layers\n",
        "from tensor2tensor.utils import trainer_lib\n",
        "from tensor2tensor.utils import t2t_model\n",
        "from tensor2tensor.utils import registry\n",
        "from tensor2tensor.utils import metrics\n",
        "from sklearn.model_selection import train_test_split\n",
        "from tensorflow.python import keras\n",
        "from tensorflow.python.keras.models import Sequential, Model\n",
        "from tensorflow.python.keras.layers import Input, Dense, core,TimeDistributed,AveragePooling1D\n",
        "\n",
        "from tensorflow.python.keras.layers import LSTM, Dense, Dropout, Activation\n",
        "from sklearn.preprocessing import minmax_scale\n",
        "from sklearn import preprocessing\n",
        "\n",
        "from matplotlib import pyplot as plt\n",
        "\n",
        "from sklearn.metrics import accuracy_score\n",
        "from pandas import read_csv\n",
        "from numpy import mean\n",
        "from numpy import std\n",
        "from numpy import delete\n",
        "from numpy import savetxt\n",
        "\n",
        "\n",
        "import keras\n",
        "from keras.models import Sequential\n",
        "from keras.layers import Dense, Dropout, Activation, Flatten\n",
        "from keras.layers import Conv2D, MaxPooling2D\n",
        "from keras.utils import np_utils\n"
      ],
      "execution_count": 0,
      "outputs": [
        {
          "output_type": "stream",
          "text": [
            "WARNING: Logging before flag parsing goes to stderr.\n",
            "W0702 14:34:03.276976 139966650734464 deprecation_wrapper.py:119] From /usr/local/lib/python3.6/dist-packages/tensor2tensor/utils/expert_utils.py:68: The name tf.variable_scope is deprecated. Please use tf.compat.v1.variable_scope instead.\n",
            "\n",
            "W0702 14:34:05.256924 139966650734464 lazy_loader.py:50] \n",
            "The TensorFlow contrib module will not be included in TensorFlow 2.0.\n",
            "For more information, please see:\n",
            "  * https://github.com/tensorflow/community/blob/master/rfcs/20180907-contrib-sunset.md\n",
            "  * https://github.com/tensorflow/addons\n",
            "  * https://github.com/tensorflow/io (for I/O related ops)\n",
            "If you depend on functionality not listed there, please file an issue.\n",
            "\n",
            "W0702 14:34:07.062990 139966650734464 deprecation_wrapper.py:119] From /usr/local/lib/python3.6/dist-packages/tensor2tensor/utils/adafactor.py:27: The name tf.train.Optimizer is deprecated. Please use tf.compat.v1.train.Optimizer instead.\n",
            "\n",
            "W0702 14:34:07.068019 139966650734464 deprecation_wrapper.py:119] From /usr/local/lib/python3.6/dist-packages/tensor2tensor/utils/multistep_optimizer.py:32: The name tf.train.AdamOptimizer is deprecated. Please use tf.compat.v1.train.AdamOptimizer instead.\n",
            "\n",
            "W0702 14:34:07.096610 139966650734464 deprecation_wrapper.py:119] From /usr/local/lib/python3.6/dist-packages/mesh_tensorflow/ops.py:4237: The name tf.train.CheckpointSaverListener is deprecated. Please use tf.estimator.CheckpointSaverListener instead.\n",
            "\n",
            "W0702 14:34:07.097892 139966650734464 deprecation_wrapper.py:119] From /usr/local/lib/python3.6/dist-packages/mesh_tensorflow/ops.py:4260: The name tf.train.SessionRunHook is deprecated. Please use tf.estimator.SessionRunHook instead.\n",
            "\n",
            "W0702 14:34:07.252401 139966650734464 deprecation_wrapper.py:119] From /usr/local/lib/python3.6/dist-packages/tensor2tensor/utils/trainer_lib.py:105: The name tf.OptimizerOptions is deprecated. Please use tf.compat.v1.OptimizerOptions instead.\n",
            "\n"
          ],
          "name": "stderr"
        }
      ]
    },
    {
      "cell_type": "code",
      "metadata": {
        "id": "eWLS9iv9nGM5",
        "colab_type": "code",
        "colab": {}
      },
      "source": [
        "num_classes=2\n",
        "y_train = np_utils.to_categorical(y_train, num_classes)\n",
        "y_test = np_utils.to_categorical(y_test, num_classes)\n"
      ],
      "execution_count": 0,
      "outputs": []
    },
    {
      "cell_type": "code",
      "metadata": {
        "id": "7thMiawfIauB",
        "colab_type": "code",
        "colab": {}
      },
      "source": [
        ""
      ],
      "execution_count": 0,
      "outputs": []
    },
    {
      "cell_type": "code",
      "metadata": {
        "id": "lBAoG_zTXJiA",
        "colab_type": "code",
        "colab": {}
      },
      "source": [
        "# Define model architecture\n",
        "input1 = Input((X_train.shape[1], X_train.shape[2], 1))\n",
        "\n",
        "conv1 = Conv2D(64,(3,3), activation='relu', padding='same')(input1)\n",
        "conv1 = Dropout(0.2)(conv1)\n",
        "conv1 = Conv2D(64,(3,3), activation='relu', padding='same')(conv1)\n",
        "pool1 = MaxPool2D(pool_size=(2,2))(conv1)\n",
        "\n",
        "conv2 = Conv2D(128,(3,3), activation='relu', padding='same')(pool1)\n",
        "conv2 = Dropout(0.2)(conv2)\n",
        "conv2 = Conv2D(128,(3,3), activation='relu')(conv2)\n",
        "pool2 = MaxPool2D(pool_size=(2,2))(conv2)\n",
        "\n",
        "conv3 = Conv2D(256,(3,3), activation='relu', padding='same')(pool2)\n",
        "conv3 = Dropout(0.2)(conv3)\n",
        "conv3 = Conv2D(256,(3,3), activation='relu', padding='same')(conv3)\n",
        "pool3 = MaxPool2D(pool_size=(2,2))(conv3)\n",
        "\n",
        "conv4 = Conv2D(512,(3,3), activation='relu', padding='same')(pool3)\n",
        "conv4 = Conv2D(512,(3,3), activation='relu', padding='same')(conv4)\n",
        "\n",
        "up5 = Concatenate([Conv2DTranspose(256, (2,2), strides=(2,2),padding='same')(conv4), conv3], axis=3)\n",
        "conv5 = Conv2D(256,(3,3), activation='relu', padding='same')(up5)\n",
        "conv5 = Conv2D(256,(3,3), activation='relu', padding='same')(conv5)"
      ],
      "execution_count": 0,
      "outputs": []
    },
    {
      "cell_type": "code",
      "metadata": {
        "id": "0QuhE6XiXJel",
        "colab_type": "code",
        "colab": {}
      },
      "source": [
        ""
      ],
      "execution_count": 0,
      "outputs": []
    },
    {
      "cell_type": "code",
      "metadata": {
        "id": "cmOsZ1rxXJaZ",
        "colab_type": "code",
        "colab": {}
      },
      "source": [
        ""
      ],
      "execution_count": 0,
      "outputs": []
    },
    {
      "cell_type": "code",
      "metadata": {
        "id": "1CxhDPVZnMPw",
        "colab_type": "code",
        "outputId": "9d56a31e-25ac-40a2-9ed0-633c0c807cf3",
        "colab": {
          "base_uri": "https://localhost:8080/",
          "height": 34
        }
      },
      "source": [
        "input1   = tf.keras.layers.Input(shape = (1, 12, 250))\n",
        "\n",
        "\n",
        "block1       = tf.keras.layers.Conv2D(8, (1, 64), padding = 'same', input_shape = (1, 12,250),use_bias = False,data_format='channels_last')(input1)\n",
        "#block1 = tf.keras.layers.BatchNormalization(axis = 1)(block1)\n",
        "block1       = tf.keras.layers.DepthwiseConv2D((1, 12), use_bias = False,  depth_multiplier = 2,depthwise_constraint = tf.keras.constraints.max_norm(1.))(block1)\n",
        "#block1 = tf.keras.layers.BatchNormalization(axis = 1)(block1)\n",
        "block1 = tf.keras.layers.Activation('elu')(block1)\n",
        "block1 = tf.keras.layers.AveragePooling2D((1, 1))(block1)\n",
        "block1 = tf.keras.layers.Dropout(0.5)(block1)\n",
        "block1"
      ],
      "execution_count": 0,
      "outputs": [
        {
          "output_type": "execute_result",
          "data": {
            "text/plain": [
              "<tf.Tensor 'dropout/cond/Merge:0' shape=(?, 1, 1, 16) dtype=float32>"
            ]
          },
          "metadata": {
            "tags": []
          },
          "execution_count": 40
        }
      ]
    },
    {
      "cell_type": "code",
      "metadata": {
        "id": "vWJpLUAVnQt3",
        "colab_type": "code",
        "colab": {}
      },
      "source": [
        "block2       = tf.keras.layers.SeparableConv2D(16, (1, 16),use_bias = False, padding = 'same')(block1)\n",
        "block2       = tf.keras.layers.BatchNormalization(axis = 1)(block2)\n",
        "block2       = tf.keras.layers.Activation('elu')(block2)\n",
        "block2       = tf.keras.layers.AveragePooling2D((1, 1))(block2)\n",
        "block2       = tf.keras.layers.Dropout(0.5)(block2)\n",
        "\n",
        "flatten      = tf.keras.layers.Flatten(name = 'flatten')(block2)\n",
        "\n",
        "dense        = tf.keras.layers.Dense(1, name = 'dense', kernel_constraint = tf.keras.constraints.max_norm(0.25))(flatten)\n",
        "softmax      = tf.keras.layers.Activation('sigmoid', name = 'softmax')(dense)\n"
      ],
      "execution_count": 0,
      "outputs": []
    },
    {
      "cell_type": "code",
      "metadata": {
        "id": "g0t76ZDLnTW6",
        "colab_type": "code",
        "outputId": "a9642fbd-ca24-44f5-bcb7-6a49b7ee4d62",
        "colab": {
          "base_uri": "https://localhost:8080/",
          "height": 34
        }
      },
      "source": [
        "softmax.shape"
      ],
      "execution_count": 0,
      "outputs": [
        {
          "output_type": "execute_result",
          "data": {
            "text/plain": [
              "TensorShape([Dimension(None), Dimension(1)])"
            ]
          },
          "metadata": {
            "tags": []
          },
          "execution_count": 42
        }
      ]
    },
    {
      "cell_type": "code",
      "metadata": {
        "id": "rxMffTJznW-2",
        "colab_type": "code",
        "outputId": "1605b072-f183-4717-9ff2-b7aef515fbf8",
        "colab": {
          "base_uri": "https://localhost:8080/",
          "height": 88
        }
      },
      "source": [
        "\n",
        "model=tf.keras.Model(inputs=input1, outputs=softmax)\n",
        "model.compile(loss='binary_crossentropy', optimizer='adam', metrics = ['accuracy'])"
      ],
      "execution_count": 0,
      "outputs": [
        {
          "output_type": "stream",
          "text": [
            "W0701 20:23:21.664819 140220588578688 deprecation.py:323] From /usr/local/lib/python3.6/dist-packages/tensorflow/python/ops/nn_impl.py:180: add_dispatch_support.<locals>.wrapper (from tensorflow.python.ops.array_ops) is deprecated and will be removed in a future version.\n",
            "Instructions for updating:\n",
            "Use tf.where in 2.0, which has the same broadcast rule as np.where\n"
          ],
          "name": "stderr"
        }
      ]
    },
    {
      "cell_type": "code",
      "metadata": {
        "id": "TG8FOcvVnY1j",
        "colab_type": "code",
        "colab": {}
      },
      "source": [
        "filepath=\"waveletsweights.best.hdf50\""
      ],
      "execution_count": 0,
      "outputs": []
    },
    {
      "cell_type": "code",
      "metadata": {
        "id": "BwO6TsOSncFb",
        "colab_type": "code",
        "colab": {}
      },
      "source": [
        "checkpoint = tf.keras.callbacks.ModelCheckpoint(filepath, monitor='val_acc', verbose=1, save_best_only=True, mode='auto')"
      ],
      "execution_count": 0,
      "outputs": []
    },
    {
      "cell_type": "code",
      "metadata": {
        "id": "5C-jkyDkneQv",
        "colab_type": "code",
        "colab": {}
      },
      "source": [
        "early_stopping_monitor = keras.callbacks.EarlyStopping(monitor='val_loss', patience=5, verbose=1, mode='auto')\n",
        "callbacks_list = [checkpoint]"
      ],
      "execution_count": 0,
      "outputs": []
    },
    {
      "cell_type": "code",
      "metadata": {
        "id": "py6XXiDvngHa",
        "colab_type": "code",
        "colab": {}
      },
      "source": [
        "fittedModel = model.fit(X_train, y_train, batch_size =12, epochs =50,verbose = 1,validation_data=(X_test, y_test)) \n",
        "                        "
      ],
      "execution_count": 0,
      "outputs": []
    },
    {
      "cell_type": "code",
      "metadata": {
        "id": "xc3n1kXTn0Py",
        "colab_type": "code",
        "colab": {}
      },
      "source": [
        "xt=X_train.reshape(980,1,12,250)"
      ],
      "execution_count": 0,
      "outputs": []
    },
    {
      "cell_type": "code",
      "metadata": {
        "id": "sXbuDgCVpPEc",
        "colab_type": "code",
        "colab": {}
      },
      "source": [
        "yt=y_train.reshape(980,1,2)"
      ],
      "execution_count": 0,
      "outputs": []
    },
    {
      "cell_type": "code",
      "metadata": {
        "id": "qVd7Gk8-qt_k",
        "colab_type": "code",
        "outputId": "1862a8c9-b0e0-489f-b919-c68ce6718905",
        "colab": {
          "base_uri": "https://localhost:8080/",
          "height": 34
        }
      },
      "source": [
        "X_test.shape"
      ],
      "execution_count": 0,
      "outputs": [
        {
          "output_type": "execute_result",
          "data": {
            "text/plain": [
              "(220, 1, 12, 250)"
            ]
          },
          "metadata": {
            "tags": []
          },
          "execution_count": 58
        }
      ]
    },
    {
      "cell_type": "code",
      "metadata": {
        "id": "S5JvDgrRpRkC",
        "colab_type": "code",
        "colab": {}
      },
      "source": [
        "xtt=X_test.reshape(220,1,12,250)\n",
        "ytt=y_test.reshape(220,1,2)"
      ],
      "execution_count": 0,
      "outputs": []
    },
    {
      "cell_type": "code",
      "metadata": {
        "id": "byyMcie9NI8J",
        "colab_type": "code",
        "colab": {}
      },
      "source": [
        ""
      ],
      "execution_count": 0,
      "outputs": []
    },
    {
      "cell_type": "code",
      "metadata": {
        "id": "8FeAc47_NJHF",
        "colab_type": "code",
        "colab": {}
      },
      "source": [
        ""
      ],
      "execution_count": 0,
      "outputs": []
    },
    {
      "cell_type": "code",
      "metadata": {
        "id": "ntkSsGv0qyhl",
        "colab_type": "code",
        "colab": {}
      },
      "source": [
        "from keras.layers.convolutional import Conv2D, MaxPooling2D\n",
        "from keras.models import Sequential\n",
        "from keras.layers import Dense, Activation, Flatten"
      ],
      "execution_count": 0,
      "outputs": []
    },
    {
      "cell_type": "code",
      "metadata": {
        "id": "JPVC5pEHIxyk",
        "colab_type": "code",
        "outputId": "e162862d-bfb7-4a58-d6a6-31e0dfbd4a2a",
        "colab": {
          "base_uri": "https://localhost:8080/",
          "height": 139
        }
      },
      "source": [
        "\n",
        "model=Sequential([\n",
        "    Dense(16,activation='relu',input_shape=(20,20,3)),\n",
        "    Conv2D(32,kernel_size=(3,3),activation='relu',padding='same'),\n",
        "    MaxPooling2D(pool_size=(2,2),strides=2,padding='valid'),\n",
        "    Conv2D(64,kernel_size=(5,5),activation='relu',padding='same'),\n",
        "    Flatten(),\n",
        "    Dense(2,activation='softmax'),\n",
        "    \n",
        "])"
      ],
      "execution_count": 0,
      "outputs": [
        {
          "output_type": "stream",
          "text": [
            "W0701 20:16:21.681675 140220588578688 deprecation_wrapper.py:119] From /usr/local/lib/python3.6/dist-packages/keras/backend/tensorflow_backend.py:517: The name tf.placeholder is deprecated. Please use tf.compat.v1.placeholder instead.\n",
            "\n",
            "W0701 20:16:21.695373 140220588578688 deprecation_wrapper.py:119] From /usr/local/lib/python3.6/dist-packages/keras/backend/tensorflow_backend.py:4138: The name tf.random_uniform is deprecated. Please use tf.random.uniform instead.\n",
            "\n",
            "W0701 20:16:21.772555 140220588578688 deprecation_wrapper.py:119] From /usr/local/lib/python3.6/dist-packages/keras/backend/tensorflow_backend.py:3976: The name tf.nn.max_pool is deprecated. Please use tf.nn.max_pool2d instead.\n",
            "\n"
          ],
          "name": "stderr"
        }
      ]
    },
    {
      "cell_type": "code",
      "metadata": {
        "id": "X32SiuwnIx5l",
        "colab_type": "code",
        "outputId": "7f675aac-38ae-4779-c8d4-925ba464515b",
        "colab": {
          "base_uri": "https://localhost:8080/",
          "height": 340
        }
      },
      "source": [
        "model.summary()\n"
      ],
      "execution_count": 0,
      "outputs": [
        {
          "output_type": "stream",
          "text": [
            "_________________________________________________________________\n",
            "Layer (type)                 Output Shape              Param #   \n",
            "=================================================================\n",
            "dense_4 (Dense)              (None, 20, 20, 16)        64        \n",
            "_________________________________________________________________\n",
            "conv2d_7 (Conv2D)            (None, 20, 20, 32)        4640      \n",
            "_________________________________________________________________\n",
            "max_pooling2d_4 (MaxPooling2 (None, 10, 10, 32)        0         \n",
            "_________________________________________________________________\n",
            "conv2d_8 (Conv2D)            (None, 10, 10, 64)        51264     \n",
            "_________________________________________________________________\n",
            "flatten_1 (Flatten)          (None, 6400)              0         \n",
            "_________________________________________________________________\n",
            "dense_5 (Dense)              (None, 2)                 12802     \n",
            "=================================================================\n",
            "Total params: 68,770\n",
            "Trainable params: 68,770\n",
            "Non-trainable params: 0\n",
            "_________________________________________________________________\n"
          ],
          "name": "stdout"
        }
      ]
    },
    {
      "cell_type": "code",
      "metadata": {
        "id": "bjPhlMY6L_XQ",
        "colab_type": "code",
        "colab": {}
      },
      "source": [
        "input1   = tf.keras.layers.Input(shape = (1, 12, 250))\n",
        "flatten      = tf.keras.layers.Flatten(name = 'flatten')\n",
        "\n",
        "dense        = tf.keras.layers.Dense(1, name = 'dense', kernel_constraint = tf.keras.constraints.max_norm(0.25))(flatten)\n",
        "softmax      = tf.keras.layers.Activation('sigmoid', name = 'softmax')(dense)\n",
        "\n",
        "\n",
        "model=tf.keras.Model(inputs=input1, outputs=softmax)\n",
        "model.compile(loss='binary_crossentropy', optimizer='adam', metrics = ['accuracy'])"
      ],
      "execution_count": 0,
      "outputs": []
    },
    {
      "cell_type": "code",
      "metadata": {
        "id": "fVihxif5Lr6D",
        "colab_type": "code",
        "colab": {}
      },
      "source": [
        "fittedModel = model.fit(X_train, y_train, batch_size =12, epochs =50,verbose = 1,validation_data=(X_test, y_test)) \n",
        "                        "
      ],
      "execution_count": 0,
      "outputs": []
    },
    {
      "cell_type": "code",
      "metadata": {
        "id": "ercBu9vLLxF4",
        "colab_type": "code",
        "colab": {}
      },
      "source": [
        ""
      ],
      "execution_count": 0,
      "outputs": []
    },
    {
      "cell_type": "code",
      "metadata": {
        "id": "2LitaPcTKyIE",
        "colab_type": "code",
        "colab": {}
      },
      "source": [
        "from sklearn.ensemble import RandomForestClassifier\n",
        "from sklearn.datasets import make_classification"
      ],
      "execution_count": 0,
      "outputs": []
    },
    {
      "cell_type": "code",
      "metadata": {
        "id": "UFczLUU7G7rS",
        "colab_type": "code",
        "colab": {}
      },
      "source": [
        "clf = RandomForestClassifier(n_estimators=100, max_depth=2,random_state=0)"
      ],
      "execution_count": 0,
      "outputs": []
    },
    {
      "cell_type": "code",
      "metadata": {
        "id": "MnJPTQlQHQss",
        "colab_type": "code",
        "outputId": "28e4f363-c6e6-4159-8e62-78d5cb47e29e",
        "colab": {
          "base_uri": "https://localhost:8080/",
          "height": 136
        }
      },
      "source": [
        "clf.fit(X_train, y_train)"
      ],
      "execution_count": 0,
      "outputs": [
        {
          "output_type": "execute_result",
          "data": {
            "text/plain": [
              "RandomForestClassifier(bootstrap=True, class_weight=None, criterion='gini',\n",
              "                       max_depth=2, max_features='auto', max_leaf_nodes=None,\n",
              "                       min_impurity_decrease=0.0, min_impurity_split=None,\n",
              "                       min_samples_leaf=1, min_samples_split=2,\n",
              "                       min_weight_fraction_leaf=0.0, n_estimators=100,\n",
              "                       n_jobs=None, oob_score=False, random_state=0, verbose=0,\n",
              "                       warm_start=False)"
            ]
          },
          "metadata": {
            "tags": []
          },
          "execution_count": 31
        }
      ]
    },
    {
      "cell_type": "code",
      "metadata": {
        "id": "-npE6QYdRHcj",
        "colab_type": "code",
        "outputId": "7522387e-544c-4abc-b925-0ef4564d679b",
        "colab": {
          "base_uri": "https://localhost:8080/",
          "height": 51
        }
      },
      "source": [
        "print(clf.feature_importances_)"
      ],
      "execution_count": 0,
      "outputs": [
        {
          "output_type": "stream",
          "text": [
            "[0.16951503 0.06722928 0.05424497 0.05319017 0.0293937  0.00634291\n",
            " 0.02678709 0.01622241 0.24627632 0.00562015 0.2515826  0.07359537]\n"
          ],
          "name": "stdout"
        }
      ]
    },
    {
      "cell_type": "code",
      "metadata": {
        "id": "D6n4ahi2sOfK",
        "colab_type": "code",
        "colab": {}
      },
      "source": [
        "xdata=clf.predict(X_test)"
      ],
      "execution_count": 0,
      "outputs": []
    },
    {
      "cell_type": "code",
      "metadata": {
        "id": "sp53MMIAL_8t",
        "colab_type": "code",
        "outputId": "9754ca9f-d7e4-4840-a6d5-1dd886e5042a",
        "colab": {
          "base_uri": "https://localhost:8080/",
          "height": 34
        }
      },
      "source": [
        "xdata"
      ],
      "execution_count": 0,
      "outputs": [
        {
          "output_type": "execute_result",
          "data": {
            "text/plain": [
              "array([1, 1, 1, ..., 1, 1, 1])"
            ]
          },
          "metadata": {
            "tags": []
          },
          "execution_count": 34
        }
      ]
    },
    {
      "cell_type": "code",
      "metadata": {
        "id": "qduCLukzPpdu",
        "colab_type": "code",
        "colab": {}
      },
      "source": [
        "from sklearn.metrics import confusion_matrix\n",
        "from sklearn.metrics import accuracy_score"
      ],
      "execution_count": 0,
      "outputs": []
    },
    {
      "cell_type": "code",
      "metadata": {
        "id": "H2UouvYmPpay",
        "colab_type": "code",
        "colab": {}
      },
      "source": [
        ""
      ],
      "execution_count": 0,
      "outputs": []
    }
  ]
}