{
  "nbformat": 4,
  "nbformat_minor": 0,
  "metadata": {
    "colab": {
      "name": "1LSTM for Reg.py.ipynb",
      "version": "0.3.2",
      "provenance": [],
      "collapsed_sections": [],
      "include_colab_link": true
    },
    "language_info": {
      "codemirror_mode": {
        "name": "ipython",
        "version": 2
      },
      "file_extension": ".py",
      "mimetype": "text/x-python",
      "name": "python",
      "nbconvert_exporter": "python",
      "pygments_lexer": "ipython2",
      "version": "2.7.14"
    },
    "kernelspec": {
      "display_name": "Python [conda env:keras]",
      "language": "python",
      "name": "conda-env-keras-py"
    }
  },
  "cells": [
    {
      "cell_type": "markdown",
      "metadata": {
        "id": "view-in-github",
        "colab_type": "text"
      },
      "source": [
        "<a href=\"https://colab.research.google.com/github/Ajay7545/EEGClassification/blob/master/1LSTM_for_Reg_py.ipynb\" target=\"_parent\"><img src=\"https://colab.research.google.com/assets/colab-badge.svg\" alt=\"Open In Colab\"/></a>"
      ]
    },
    {
      "cell_type": "code",
      "metadata": {
        "id": "9uB1NwGHUDfQ",
        "colab_type": "code",
        "colab": {}
      },
      "source": [
        "import numpy\n",
        "import matplotlib.pyplot as plt\n",
        "from pandas import read_csv\n",
        "import pandas as pd\n",
        "import math\n",
        "from keras.callbacks import Callback\n",
        "from keras.optimizers import adagrad, adam\n",
        "from IPython.display import clear_output\n",
        "from keras.models import Sequential\n",
        "from keras.layers import Dense\n",
        "from keras.layers import LSTM\n",
        "from sklearn.preprocessing import MinMaxScaler\n",
        "from sklearn.metrics import mean_squared_error"
      ],
      "execution_count": 0,
      "outputs": []
    },
    {
      "cell_type": "code",
      "metadata": {
        "id": "I6rn71EJ8bO5",
        "colab_type": "code",
        "colab": {}
      },
      "source": [
        "\n",
        "from pandas import read_csv\n",
        "from pandas import datetime\n",
        "from sklearn.metrics import mean_squared_error\n",
        "from math import sqrt\n",
        "from matplotlib import pyplot"
      ],
      "execution_count": 0,
      "outputs": []
    },
    {
      "cell_type": "code",
      "metadata": {
        "id": "gOj_6wTnUDff",
        "colab_type": "code",
        "colab": {}
      },
      "source": [
        "# convert an array of values into a dataset matrix\n",
        "def create_dataset(dataset, look_back=1):\n",
        "    dataX, dataY = [], []\n",
        "    for i in range(len(dataset) - look_back - 1):\n",
        "        a = dataset[i:(i + look_back), 0]\n",
        "        dataX.append(a)\n",
        "        dataY.append(dataset[i + look_back, 0])\n",
        "    return numpy.array(dataX), numpy.array(dataY)"
      ],
      "execution_count": 0,
      "outputs": []
    },
    {
      "cell_type": "code",
      "metadata": {
        "id": "ZliFUb0aUDfk",
        "colab_type": "code",
        "outputId": "0af2e3ea-99b2-4a77-b125-749ef580eb8b",
        "colab": {
          "base_uri": "https://localhost:8080/",
          "height": 139
        }
      },
      "source": [
        "data_nov = read_csv('drive/My Drive/COLAB Files/data_Nov_New_withZERO.csv')\n",
        "#print(data_nov)\n",
        "data_dec_jan = read_csv('drive/My Drive/COLAB Files/data_Dec_Jan_withZERO.csv')\n",
        "data_feb = read_csv('drive/My Drive/COLAB Files/data_Feb2018_withZERO.csv')\n",
        "data_mar_apr = read_csv('drive/My Drive/COLAB Files/Data_March_Apr_withZERO.csv')\n"
      ],
      "execution_count": 0,
      "outputs": [
        {
          "output_type": "stream",
          "text": [
            "/usr/local/lib/python3.6/dist-packages/IPython/core/interactiveshell.py:2718: DtypeWarning: Columns (4) have mixed types. Specify dtype option on import or set low_memory=False.\n",
            "  interactivity=interactivity, compiler=compiler, result=result)\n",
            "/usr/local/lib/python3.6/dist-packages/IPython/core/interactiveshell.py:2718: DtypeWarning: Columns (2,118,119) have mixed types. Specify dtype option on import or set low_memory=False.\n",
            "  interactivity=interactivity, compiler=compiler, result=result)\n",
            "/usr/local/lib/python3.6/dist-packages/IPython/core/interactiveshell.py:2718: DtypeWarning: Columns (118,119) have mixed types. Specify dtype option on import or set low_memory=False.\n",
            "  interactivity=interactivity, compiler=compiler, result=result)\n"
          ],
          "name": "stderr"
        }
      ]
    },
    {
      "cell_type": "code",
      "metadata": {
        "id": "DF_oPBuR5Irk",
        "colab_type": "code",
        "outputId": "e51d01ea-cbcc-4ca8-933a-8099737c9fd0",
        "colab": {
          "base_uri": "https://localhost:8080/",
          "height": 313
        }
      },
      "source": [
        "dataframe = pd.DataFrame(data_nov)\n",
        "print(dataframe.shape)\n",
        "dataframe.head(2)"
      ],
      "execution_count": 0,
      "outputs": [
        {
          "output_type": "stream",
          "text": [
            "(42855, 118)\n"
          ],
          "name": "stdout"
        },
        {
          "output_type": "execute_result",
          "data": {
            "text/html": [
              "<div>\n",
              "<style scoped>\n",
              "    .dataframe tbody tr th:only-of-type {\n",
              "        vertical-align: middle;\n",
              "    }\n",
              "\n",
              "    .dataframe tbody tr th {\n",
              "        vertical-align: top;\n",
              "    }\n",
              "\n",
              "    .dataframe thead th {\n",
              "        text-align: right;\n",
              "    }\n",
              "</style>\n",
              "<table border=\"1\" class=\"dataframe\">\n",
              "  <thead>\n",
              "    <tr style=\"text-align: right;\">\n",
              "      <th></th>\n",
              "      <th>Date</th>\n",
              "      <th>Time</th>\n",
              "      <th>A (Current average)</th>\n",
              "      <th>A1 (Current, phase 1)</th>\n",
              "      <th>A2 (Current, phase 2)</th>\n",
              "      <th>A3 (Current, phase 3)</th>\n",
              "      <th>VLL (Line to line average voltage)</th>\n",
              "      <th>VLN (Line to neutral voltage)</th>\n",
              "      <th>V12 (Voltage phase 1 to phase 2)</th>\n",
              "      <th>V23 (Voltage phase 2 to phase 3)</th>\n",
              "      <th>V31 (Voltage phase 3 to phase 1)</th>\n",
              "      <th>V1 (Voltage phase 1 to neutral)</th>\n",
              "      <th>V2 (Voltage phase 2 to neutral)</th>\n",
              "      <th>V3 (Voltage phase 3 to neutral)</th>\n",
              "      <th>W (Active power, total)</th>\n",
              "      <th>W1 (Active power, phase 1)</th>\n",
              "      <th>W2 (Active power, phase 2)</th>\n",
              "      <th>W3 (Active power, phase 3)</th>\n",
              "      <th>VAR (Reactive power, total)</th>\n",
              "      <th>VAR1 (Reactive power, phase 1)</th>\n",
              "      <th>VAR2 (Reactive power, phase 2)</th>\n",
              "      <th>VAR3 (Reactive power, phase3)</th>\n",
              "      <th>VA (Apparent power, total)</th>\n",
              "      <th>VA1 (Apparent power, phase 1)</th>\n",
              "      <th>VA2 (Apparent power, phase 2)</th>\n",
              "      <th>VA3 (Apparent power,phase 3)</th>\n",
              "      <th>PF (Power factor average)</th>\n",
              "      <th>PF1 (Power factor, phase 1)</th>\n",
              "      <th>PF2 (Power factor, phase 2)</th>\n",
              "      <th>PF3 (Power factor, phase 3)</th>\n",
              "      <th>F (Frequency, Hz)</th>\n",
              "      <th>\\%V1 (Voltage THD, phase 1)</th>\n",
              "      <th>\\%V2 (Voltage THD, phase 2)</th>\n",
              "      <th>\\%V3 (Voltage THD, phase 3)</th>\n",
              "      <th>\\%A1 (Current THD, phase 1)</th>\n",
              "      <th>\\%A2 (Current THD, phase 2)</th>\n",
              "      <th>\\%A3 (Current THD, phase 3)</th>\n",
              "      <th>FwdVAh (Forward apparent energy)</th>\n",
              "      <th>FwdWh (Forward active energy)</th>\n",
              "      <th>FwdVARh (Forward reactive inductive energy)</th>\n",
              "      <th>...</th>\n",
              "      <th>Unnamed: 78</th>\n",
              "      <th>Unnamed: 79</th>\n",
              "      <th>Unnamed: 80</th>\n",
              "      <th>Unnamed: 81</th>\n",
              "      <th>Unnamed: 82</th>\n",
              "      <th>Unnamed: 83</th>\n",
              "      <th>Unnamed: 84</th>\n",
              "      <th>Unnamed: 85</th>\n",
              "      <th>Unnamed: 86</th>\n",
              "      <th>Unnamed: 87</th>\n",
              "      <th>Unnamed: 88</th>\n",
              "      <th>Unnamed: 89</th>\n",
              "      <th>Unnamed: 90</th>\n",
              "      <th>Unnamed: 91</th>\n",
              "      <th>Unnamed: 92</th>\n",
              "      <th>Unnamed: 93</th>\n",
              "      <th>Unnamed: 94</th>\n",
              "      <th>Unnamed: 95</th>\n",
              "      <th>Unnamed: 96</th>\n",
              "      <th>Unnamed: 97</th>\n",
              "      <th>Unnamed: 98</th>\n",
              "      <th>Unnamed: 99</th>\n",
              "      <th>Unnamed: 100</th>\n",
              "      <th>Unnamed: 101</th>\n",
              "      <th>Unnamed: 102</th>\n",
              "      <th>Unnamed: 103</th>\n",
              "      <th>Unnamed: 104</th>\n",
              "      <th>Unnamed: 105</th>\n",
              "      <th>Unnamed: 106</th>\n",
              "      <th>Unnamed: 107</th>\n",
              "      <th>Unnamed: 108</th>\n",
              "      <th>Unnamed: 109</th>\n",
              "      <th>Unnamed: 110</th>\n",
              "      <th>Unnamed: 111</th>\n",
              "      <th>Unnamed: 112</th>\n",
              "      <th>Unnamed: 113</th>\n",
              "      <th>Unnamed: 114</th>\n",
              "      <th>Unnamed: 115</th>\n",
              "      <th>Unnamed: 116</th>\n",
              "      <th>Unnamed: 117</th>\n",
              "    </tr>\n",
              "  </thead>\n",
              "  <tbody>\n",
              "    <tr>\n",
              "      <th>0</th>\n",
              "      <td>01-11-2017</td>\n",
              "      <td>00:00:07</td>\n",
              "      <td>28.3969</td>\n",
              "      <td>30.589</td>\n",
              "      <td>29.8629</td>\n",
              "      <td>24.7389</td>\n",
              "      <td>11416.9</td>\n",
              "      <td>6591.72</td>\n",
              "      <td>11432.4</td>\n",
              "      <td>11504.2</td>\n",
              "      <td>11314.0</td>\n",
              "      <td>6550.82</td>\n",
              "      <td>6632.08</td>\n",
              "      <td>6592.27</td>\n",
              "      <td>546826.0</td>\n",
              "      <td>192451.0</td>\n",
              "      <td>196255.0</td>\n",
              "      <td>158120.0</td>\n",
              "      <td>72644.9</td>\n",
              "      <td>45589.1</td>\n",
              "      <td>1.499970e-14</td>\n",
              "      <td>25413.6</td>\n",
              "      <td>560518.0</td>\n",
              "      <td>200443.0</td>\n",
              "      <td>198154.0</td>\n",
              "      <td>163068.0</td>\n",
              "      <td>0.975996</td>\n",
              "      <td>0.960801</td>\n",
              "      <td>0.990914</td>\n",
              "      <td>0.969679</td>\n",
              "      <td>50.0967</td>\n",
              "      <td>3.61206</td>\n",
              "      <td>3.42159</td>\n",
              "      <td>3.16277</td>\n",
              "      <td>-999.0</td>\n",
              "      <td>-999.0</td>\n",
              "      <td>-999.0</td>\n",
              "      <td>4.240800e+09</td>\n",
              "      <td>4.186590e+09</td>\n",
              "      <td>321568000.0</td>\n",
              "      <td>...</td>\n",
              "      <td>NaN</td>\n",
              "      <td>NaN</td>\n",
              "      <td>NaN</td>\n",
              "      <td>NaN</td>\n",
              "      <td>NaN</td>\n",
              "      <td>NaN</td>\n",
              "      <td>NaN</td>\n",
              "      <td>NaN</td>\n",
              "      <td>NaN</td>\n",
              "      <td>NaN</td>\n",
              "      <td>NaN</td>\n",
              "      <td>NaN</td>\n",
              "      <td>NaN</td>\n",
              "      <td>NaN</td>\n",
              "      <td>NaN</td>\n",
              "      <td>NaN</td>\n",
              "      <td>NaN</td>\n",
              "      <td>NaN</td>\n",
              "      <td>NaN</td>\n",
              "      <td>NaN</td>\n",
              "      <td>NaN</td>\n",
              "      <td>NaN</td>\n",
              "      <td>NaN</td>\n",
              "      <td>NaN</td>\n",
              "      <td>NaN</td>\n",
              "      <td>NaN</td>\n",
              "      <td>NaN</td>\n",
              "      <td>NaN</td>\n",
              "      <td>NaN</td>\n",
              "      <td>NaN</td>\n",
              "      <td>NaN</td>\n",
              "      <td>NaN</td>\n",
              "      <td>NaN</td>\n",
              "      <td>NaN</td>\n",
              "      <td>NaN</td>\n",
              "      <td>NaN</td>\n",
              "      <td>NaN</td>\n",
              "      <td>NaN</td>\n",
              "      <td>NaN</td>\n",
              "      <td>NaN</td>\n",
              "    </tr>\n",
              "    <tr>\n",
              "      <th>1</th>\n",
              "      <td>01-11-2017</td>\n",
              "      <td>00:01:07</td>\n",
              "      <td>28.4445</td>\n",
              "      <td>30.316</td>\n",
              "      <td>30.1737</td>\n",
              "      <td>24.8438</td>\n",
              "      <td>11415.0</td>\n",
              "      <td>6590.64</td>\n",
              "      <td>11426.1</td>\n",
              "      <td>11506.1</td>\n",
              "      <td>11312.8</td>\n",
              "      <td>6545.46</td>\n",
              "      <td>6630.32</td>\n",
              "      <td>6594.48</td>\n",
              "      <td>546338.0</td>\n",
              "      <td>188518.0</td>\n",
              "      <td>198005.0</td>\n",
              "      <td>159814.0</td>\n",
              "      <td>102569.0</td>\n",
              "      <td>54501.3</td>\n",
              "      <td>1.545230e+04</td>\n",
              "      <td>32615.6</td>\n",
              "      <td>560627.0</td>\n",
              "      <td>198396.0</td>\n",
              "      <td>199956.0</td>\n",
              "      <td>163838.0</td>\n",
              "      <td>0.974511</td>\n",
              "      <td>0.950213</td>\n",
              "      <td>0.990245</td>\n",
              "      <td>0.975438</td>\n",
              "      <td>50.1141</td>\n",
              "      <td>3.31410</td>\n",
              "      <td>3.64733</td>\n",
              "      <td>2.97238</td>\n",
              "      <td>-999.0</td>\n",
              "      <td>-999.0</td>\n",
              "      <td>-999.0</td>\n",
              "      <td>4.240810e+09</td>\n",
              "      <td>4.186590e+09</td>\n",
              "      <td>321569000.0</td>\n",
              "      <td>...</td>\n",
              "      <td>NaN</td>\n",
              "      <td>NaN</td>\n",
              "      <td>NaN</td>\n",
              "      <td>NaN</td>\n",
              "      <td>NaN</td>\n",
              "      <td>NaN</td>\n",
              "      <td>NaN</td>\n",
              "      <td>NaN</td>\n",
              "      <td>NaN</td>\n",
              "      <td>NaN</td>\n",
              "      <td>NaN</td>\n",
              "      <td>NaN</td>\n",
              "      <td>NaN</td>\n",
              "      <td>NaN</td>\n",
              "      <td>NaN</td>\n",
              "      <td>NaN</td>\n",
              "      <td>NaN</td>\n",
              "      <td>NaN</td>\n",
              "      <td>NaN</td>\n",
              "      <td>NaN</td>\n",
              "      <td>NaN</td>\n",
              "      <td>NaN</td>\n",
              "      <td>NaN</td>\n",
              "      <td>NaN</td>\n",
              "      <td>NaN</td>\n",
              "      <td>NaN</td>\n",
              "      <td>NaN</td>\n",
              "      <td>NaN</td>\n",
              "      <td>NaN</td>\n",
              "      <td>NaN</td>\n",
              "      <td>NaN</td>\n",
              "      <td>NaN</td>\n",
              "      <td>NaN</td>\n",
              "      <td>NaN</td>\n",
              "      <td>NaN</td>\n",
              "      <td>NaN</td>\n",
              "      <td>NaN</td>\n",
              "      <td>NaN</td>\n",
              "      <td>NaN</td>\n",
              "      <td>NaN</td>\n",
              "    </tr>\n",
              "  </tbody>\n",
              "</table>\n",
              "<p>2 rows × 118 columns</p>\n",
              "</div>"
            ],
            "text/plain": [
              "         Date      Time  ...  Unnamed: 116  Unnamed: 117\n",
              "0  01-11-2017  00:00:07  ...           NaN           NaN\n",
              "1  01-11-2017  00:01:07  ...           NaN           NaN\n",
              "\n",
              "[2 rows x 118 columns]"
            ]
          },
          "metadata": {
            "tags": []
          },
          "execution_count": 54
        }
      ]
    },
    {
      "cell_type": "code",
      "metadata": {
        "id": "hyEuXcZdgEjM",
        "colab_type": "code",
        "outputId": "998baa40-369c-4379-b510-b383961fd98e",
        "colab": {
          "base_uri": "https://localhost:8080/",
          "height": 54
        }
      },
      "source": [
        "# Run this cell to mount your Google Drive.\n",
        "from google.colab import drive\n",
        "drive.mount('/content/drive')"
      ],
      "execution_count": 98,
      "outputs": [
        {
          "output_type": "stream",
          "text": [
            "Drive already mounted at /content/drive; to attempt to forcibly remount, call drive.mount(\"/content/drive\", force_remount=True).\n"
          ],
          "name": "stdout"
        }
      ]
    },
    {
      "cell_type": "code",
      "metadata": {
        "id": "fNiIzcHj5Iuv",
        "colab_type": "code",
        "outputId": "49db2274-ad0a-4be2-ae5d-ce7ec6d264e6",
        "colab": {
          "base_uri": "https://localhost:8080/",
          "height": 207
        }
      },
      "source": [
        "dataframe = dataframe.append(data_dec_jan, ignore_index=True)\n",
        "#print(dataframe.Time)\n",
        "dataframe = dataframe.append(data_feb, ignore_index=True)\n",
        "dataframe = dataframe.append(data_mar_apr, ignore_index=True)\n",
        "print(len(dataframe))\n",
        "dataframe = dataframe.dropna(subset=['Date','Time','W (Active power, total)']) \n",
        "print(len(dataframe.Date))"
      ],
      "execution_count": 0,
      "outputs": [
        {
          "output_type": "stream",
          "text": [
            "/usr/local/lib/python3.6/dist-packages/pandas/core/frame.py:6692: FutureWarning: Sorting because non-concatenation axis is not aligned. A future version\n",
            "of pandas will change to not sort by default.\n",
            "\n",
            "To accept the future behavior, pass 'sort=False'.\n",
            "\n",
            "To retain the current behavior and silence the warning, pass 'sort=True'.\n",
            "\n",
            "  sort=sort)\n"
          ],
          "name": "stderr"
        },
        {
          "output_type": "stream",
          "text": [
            "259924\n",
            "259640\n"
          ],
          "name": "stdout"
        }
      ]
    },
    {
      "cell_type": "code",
      "metadata": {
        "id": "HagWe_SQ-mC_",
        "colab_type": "code",
        "colab": {}
      },
      "source": [
        ""
      ],
      "execution_count": 0,
      "outputs": []
    },
    {
      "cell_type": "code",
      "metadata": {
        "id": "9pegA1q2ALGu",
        "colab_type": "code",
        "colab": {}
      },
      "source": [
        ""
      ],
      "execution_count": 0,
      "outputs": []
    },
    {
      "cell_type": "code",
      "metadata": {
        "id": "fEJh8N9lALKT",
        "colab_type": "code",
        "colab": {}
      },
      "source": [
        "\n",
        "\n",
        "data_novtemp = read_csv('drive/My Drive/COLAB Files/data_Nov_New_withZERO.csv')\n",
        "dt=pd.DataFrame(data_novtemp)\n",
        "dtemp=pd.DataFrame()\n",
        "y1=dt['Date']\n",
        "y2=dt['Time']\n",
        "y3=dt['W (Active power, total)']\n",
        "\n",
        "dtemp['Date']=y1\n",
        "dtemp['Time']=y2\n",
        "dtemp['W (Active power, total)']=y3\n",
        "print(dtemp.head(5))\n",
        "\n",
        "j=0\n",
        "total=0\n",
        "for i in dtemp['W (Active power, total)']:\n",
        "  if i==0 or i==0.0:\n",
        "    total=total+1\n",
        "    print(j,'Index value is',i)\n",
        "  j=j+1\n",
        "  \n",
        "\n",
        "print(\"Total 0's are:\",total)\n",
        "  "
      ],
      "execution_count": 0,
      "outputs": []
    },
    {
      "cell_type": "code",
      "metadata": {
        "id": "qhflAOaQ9gjz",
        "colab_type": "code",
        "outputId": "a782f8de-3d6b-43cc-b624-143cd6fa2bac",
        "colab": {
          "base_uri": "https://localhost:8080/",
          "height": 204
        }
      },
      "source": [
        "import pandas as pd\n",
        "d1=pd.DataFrame()\n",
        "y1=dataframe['Date']\n",
        "y2=dataframe['Time']\n",
        "y3=dataframe['W (Active power, total)']\n",
        "\n",
        "d1['Date']=y1\n",
        "d1['Time']=y2\n",
        "d1['W (Active power, total)']=y3\n",
        "d1.head(5)\n"
      ],
      "execution_count": 0,
      "outputs": [
        {
          "output_type": "execute_result",
          "data": {
            "text/html": [
              "<div>\n",
              "<style scoped>\n",
              "    .dataframe tbody tr th:only-of-type {\n",
              "        vertical-align: middle;\n",
              "    }\n",
              "\n",
              "    .dataframe tbody tr th {\n",
              "        vertical-align: top;\n",
              "    }\n",
              "\n",
              "    .dataframe thead th {\n",
              "        text-align: right;\n",
              "    }\n",
              "</style>\n",
              "<table border=\"1\" class=\"dataframe\">\n",
              "  <thead>\n",
              "    <tr style=\"text-align: right;\">\n",
              "      <th></th>\n",
              "      <th>Date</th>\n",
              "      <th>Time</th>\n",
              "      <th>W (Active power, total)</th>\n",
              "    </tr>\n",
              "  </thead>\n",
              "  <tbody>\n",
              "    <tr>\n",
              "      <th>0</th>\n",
              "      <td>01-11-2017</td>\n",
              "      <td>00:00:07</td>\n",
              "      <td>546826.0</td>\n",
              "    </tr>\n",
              "    <tr>\n",
              "      <th>1</th>\n",
              "      <td>01-11-2017</td>\n",
              "      <td>00:01:07</td>\n",
              "      <td>546338.0</td>\n",
              "    </tr>\n",
              "    <tr>\n",
              "      <th>2</th>\n",
              "      <td>01-11-2017</td>\n",
              "      <td>00:02:07</td>\n",
              "      <td>544612.0</td>\n",
              "    </tr>\n",
              "    <tr>\n",
              "      <th>3</th>\n",
              "      <td>01-11-2017</td>\n",
              "      <td>00:03:07</td>\n",
              "      <td>557498.0</td>\n",
              "    </tr>\n",
              "    <tr>\n",
              "      <th>4</th>\n",
              "      <td>01-11-2017</td>\n",
              "      <td>00:04:07</td>\n",
              "      <td>550845.0</td>\n",
              "    </tr>\n",
              "  </tbody>\n",
              "</table>\n",
              "</div>"
            ],
            "text/plain": [
              "         Date      Time  W (Active power, total)\n",
              "0  01-11-2017  00:00:07                 546826.0\n",
              "1  01-11-2017  00:01:07                 546338.0\n",
              "2  01-11-2017  00:02:07                 544612.0\n",
              "3  01-11-2017  00:03:07                 557498.0\n",
              "4  01-11-2017  00:04:07                 550845.0"
            ]
          },
          "metadata": {
            "tags": []
          },
          "execution_count": 72
        }
      ]
    },
    {
      "cell_type": "code",
      "metadata": {
        "id": "ZX9GMp2P9gg0",
        "colab_type": "code",
        "colab": {}
      },
      "source": [
        ""
      ],
      "execution_count": 0,
      "outputs": []
    },
    {
      "cell_type": "code",
      "metadata": {
        "id": "Hbiqua6P5y38",
        "colab_type": "code",
        "colab": {}
      },
      "source": [
        "\n"
      ],
      "execution_count": 0,
      "outputs": []
    },
    {
      "cell_type": "code",
      "metadata": {
        "id": "6_3XUtR65y1X",
        "colab_type": "code",
        "outputId": "cf5ca937-e5ac-4264-bb0d-9b0b9f3799d2",
        "colab": {
          "base_uri": "https://localhost:8080/",
          "height": 34
        }
      },
      "source": [
        "j=0\n",
        "total=0\n",
        "for i in d1['W (Active power, total)']:\n",
        "  if i==0:\n",
        "    total=total+1\n",
        "    #print(j,'Index',i)\n",
        "  j=j+1\n",
        "  \n",
        "print(\"Total 0 are:\",total)\n",
        "  "
      ],
      "execution_count": 0,
      "outputs": [
        {
          "output_type": "stream",
          "text": [
            "Total 0 are: 15185\n"
          ],
          "name": "stdout"
        }
      ]
    },
    {
      "cell_type": "code",
      "metadata": {
        "id": "hYkh5aWg5yzH",
        "colab_type": "code",
        "outputId": "733d9446-0731-43e4-e83c-4bcfba12ec59",
        "colab": {
          "base_uri": "https://localhost:8080/",
          "height": 34
        }
      },
      "source": [
        "d1.dropna()\n",
        "d1.shape"
      ],
      "execution_count": 0,
      "outputs": [
        {
          "output_type": "execute_result",
          "data": {
            "text/plain": [
              "(259924, 3)"
            ]
          },
          "metadata": {
            "tags": []
          },
          "execution_count": 76
        }
      ]
    },
    {
      "cell_type": "code",
      "metadata": {
        "id": "h5wmzqvV5yw8",
        "colab_type": "code",
        "colab": {}
      },
      "source": [
        ""
      ],
      "execution_count": 0,
      "outputs": []
    },
    {
      "cell_type": "code",
      "metadata": {
        "id": "w1y3qU4r5yu1",
        "colab_type": "code",
        "colab": {}
      },
      "source": [
        ""
      ],
      "execution_count": 0,
      "outputs": []
    },
    {
      "cell_type": "code",
      "metadata": {
        "id": "A4rq8ZkD5ys9",
        "colab_type": "code",
        "colab": {}
      },
      "source": [
        ""
      ],
      "execution_count": 0,
      "outputs": []
    },
    {
      "cell_type": "code",
      "metadata": {
        "id": "3hK81RzM5yrJ",
        "colab_type": "code",
        "colab": {}
      },
      "source": [
        ""
      ],
      "execution_count": 0,
      "outputs": []
    },
    {
      "cell_type": "code",
      "metadata": {
        "id": "l83GV_78UDfq",
        "colab_type": "code",
        "colab": {}
      },
      "source": [
        "def mmddyyyy(x):\n",
        "    length = len(x)\n",
        "    if(length>10):\n",
        "        #print(x)\n",
        "        x=x[length-10:length]\n",
        "        #print(x)\n",
        "    if type(x) == str and len(x) == 10:\n",
        "        return x[3:6]+x[0:3]+x[6:]\n",
        "    else:\n",
        "        return x"
      ],
      "execution_count": 0,
      "outputs": []
    },
    {
      "cell_type": "code",
      "metadata": {
        "id": "sk0Wq9TzUDfv",
        "colab_type": "code",
        "outputId": "95e22b1f-c192-49ef-ed1a-bd43bcc85ff6",
        "colab": {
          "base_uri": "https://localhost:8080/",
          "height": 1000
        }
      },
      "source": [
        "dataframe['DateTime'] = pd.to_datetime(dataframe.Date.apply(mmddyyyy) + ' ' + dataframe.Time)\n",
        "df_withdatetime_and_w = dataframe[[\"DateTime\",\"W (Active power, total)\"]]\n",
        "df_withdatetime_and_w = df_withdatetime_and_w.drop_duplicates()\n",
        "print(df_withdatetime_and_w)"
      ],
      "execution_count": 0,
      "outputs": [
        {
          "output_type": "stream",
          "text": [
            "                  DateTime  W (Active power, total)\n",
            "0      2017-11-01 00:00:07                 546826.0\n",
            "1      2017-11-01 00:01:07                 546338.0\n",
            "2      2017-11-01 00:02:07                 544612.0\n",
            "3      2017-11-01 00:03:07                 557498.0\n",
            "4      2017-11-01 00:04:07                 550845.0\n",
            "5      2017-11-01 00:05:07                 527869.0\n",
            "6      2017-11-01 00:06:07                 527455.0\n",
            "7      2017-11-01 00:07:07                 531229.0\n",
            "8      2017-11-01 00:08:07                 529040.0\n",
            "9      2017-11-01 00:09:07                 535585.0\n",
            "10     2017-11-01 00:10:07                 539585.0\n",
            "11     2017-11-01 00:11:07                 529016.0\n",
            "12     2017-11-01 00:12:07                 526187.0\n",
            "13     2017-11-01 00:13:07                 531446.0\n",
            "14     2017-11-01 00:14:07                 536260.0\n",
            "15     2017-11-01 00:15:07                 552100.0\n",
            "16     2017-11-01 00:16:07                 539402.0\n",
            "17     2017-11-01 00:17:07                 522341.0\n",
            "18     2017-11-01 00:18:07                 517340.0\n",
            "19     2017-11-01 00:19:07                 527404.0\n",
            "20     2017-11-01 00:20:07                 542521.0\n",
            "21     2017-11-01 00:21:07                 546929.0\n",
            "22     2017-11-01 00:22:07                 536060.0\n",
            "23     2017-11-01 00:23:07                 519825.0\n",
            "24     2017-11-01 00:24:07                 519342.0\n",
            "25     2017-11-01 00:25:07                 511248.0\n",
            "26     2017-11-01 00:26:07                 528540.0\n",
            "27     2017-11-01 00:27:07                 532158.0\n",
            "28     2017-11-01 00:28:07                 527138.0\n",
            "29     2017-11-01 00:29:07                 517974.0\n",
            "...                    ...                      ...\n",
            "259894 2018-04-30 22:50:03                      0.0\n",
            "259895 2018-04-30 22:51:03                      0.0\n",
            "259896 2018-04-30 22:52:03                      0.0\n",
            "259897 2018-04-30 22:53:03                      0.0\n",
            "259898 2018-04-30 22:54:03                      0.0\n",
            "259899 2018-04-30 22:55:03                      0.0\n",
            "259900 2018-04-30 22:56:03                      0.0\n",
            "259901 2018-04-30 22:57:03                      0.0\n",
            "259902 2018-04-30 22:58:03                      0.0\n",
            "259903 2018-04-30 22:59:03                      0.0\n",
            "259904 2018-04-30 23:00:03                      0.0\n",
            "259905 2018-04-30 23:01:03                      0.0\n",
            "259906 2018-04-30 23:02:03                      0.0\n",
            "259907 2018-04-30 23:03:03                      0.0\n",
            "259908 2018-04-30 23:04:03                      0.0\n",
            "259909 2018-04-30 23:05:03                      0.0\n",
            "259910 2018-04-30 23:06:03                      0.0\n",
            "259911 2018-04-30 23:07:03                      0.0\n",
            "259912 2018-04-30 23:08:03                      0.0\n",
            "259913 2018-04-30 23:09:03                      0.0\n",
            "259914 2018-04-30 23:10:03                      0.0\n",
            "259915 2018-04-30 23:11:03                      0.0\n",
            "259916 2018-04-30 23:12:03                      0.0\n",
            "259917 2018-04-30 23:13:03                      0.0\n",
            "259918 2018-04-30 23:14:03                      0.0\n",
            "259919 2018-04-30 23:15:03                      0.0\n",
            "259920 2018-04-30 23:16:03                      0.0\n",
            "259921 2018-04-30 23:17:03                      0.0\n",
            "259922 2018-04-30 23:18:03                      0.0\n",
            "259923 2018-04-30 23:19:03                      0.0\n",
            "\n",
            "[258212 rows x 2 columns]\n"
          ],
          "name": "stdout"
        }
      ]
    },
    {
      "cell_type": "code",
      "metadata": {
        "id": "VMlrTdv0UDf1",
        "colab_type": "code",
        "outputId": "55fbdcbc-cb88-409b-ae64-c0756d632398",
        "colab": {
          "base_uri": "https://localhost:8080/",
          "height": 88
        }
      },
      "source": [
        "#convert data to hourly data\n",
        "months = ['2017-11-','2017-12-','2018-01-','2018-02-','2018-03-','2018-04-']\n",
        "num_days_list = [30, 31, 31,28,31,30]\n",
        "li_x = []\n",
        "li_y = []\n",
        "df_withdatetime_and_w.index = df_withdatetime_and_w['DateTime']\n",
        "#print(df_withdatetime_and_w)\n",
        "for i, month in enumerate(months):\n",
        "    for day in range(1, num_days_list[i] + 1):\n",
        "        date = month + \"%02d\"%(day)\n",
        "        for hr in range(24):\n",
        "            hr_str = date + \" \" + \"%02d\"%(hr)\n",
        "            li_x.append(hr_str)\n",
        "            li_y.append(df_withdatetime_and_w[hr_str]['W (Active power, total)'].mean()) #hourly mean of W\n",
        "            \n",
        "            #print(i, date)\n",
        "print(len(li_y))#the length is number of total days * 24 as this is hourly data\n",
        "print(li_y)\n",
        "print(li_x)\n"
      ],
      "execution_count": 0,
      "outputs": [
        {
          "output_type": "stream",
          "text": [
            "4344\n",
            "[519597.7833333333, 498347.4576271186, 484304.2833333333, 466379.6666666667, 485671.56666666665, 0.0, 0.0, 0.0, 508465.13333333336, 721912.7118644068, 793448.25, 770637.85, 829036.2166666667, 772772.4, 739610.2833333333, 782929.5254237289, 729529.5333333333, 707244.05, 683959.2166666667, 650222.4915254237, 627707.3166666667, 606695.1833333333, 590271.85, 543409.6779661017, 515774.86440677964, 491180.7, 477839.0833333333, 467708.22033898305, 473156.31666666665, 457869.9666666667, 415218.51666666666, 0.0, 0.0, 0.0, 720449.2647058824, 711119.3166666667, 679552.5166666667, 652792.9333333333, 695944.9491525424, 729301.8, 702442.5833333334, 699519.9333333333, 677462.8833333333, 622357.8305084746, 577002.35, 597025.4833333333, 595300.0166666667, 518786.25423728814, 493680.4576271186, 479874.1666666667, 458952.3333333333, 445641.0677966102, 460902.93333333335, 434340.2, 399242.01666666666, 416652.5593220339, 499486.4, 8505.766666666666, 0.0, 0.0, 758133.2833333333, 735425.4666666667, 768484.8333333334, 771770.6440677966, 778815.1333333333, 752404.6833333333, 724562.4666666667, 661745.8305084746, 652097.6333333333, 626457.45, 615895.4166666666, 548627.3389830509, 522393.66101694916, 505287.55, 481850.7833333333, 470514.76271186443, 479249.31666666665, 460724.86666666664, 412345.3, 426717.4406779661, 489545.63333333336, 550133.4666666667, 610134.2833333333, 0.0, 0.0, 0.0, 605871.5333333333, 591551.813559322, 573647.3166666667, 630273.3666666667, 659526.4590163934, 652216.1034482758, 617865.2833333333, 619680.8, 617759.9666666667, 555220.3220338983, 532083.8305084746, 515311.51666666666, 488664.8, 472441.6440677966, 499421.65, 476534.26666666666, 387865.45, 403926.33898305084, 455537.7166666667, 576858.5833333334, 591093.7572815533, 592485.5, 585226.1764705882, 0.0, 0.0, 0.0, 550822.5833333334, 605971.7666666667, 650563.55, 645378.3050847457, 629872.6, 627488.65, 601259.8, 570456.2711864407, 532848.4237288135, 504629.98333333334, 491657.6666666667, 482023.3728813559, 472157.5333333333, 480735.9666666667, 417436.76666666666, 429568.76271186443, 531549.2166666667, 640199.0588235294, 889577.9166666666, 945065.6, 893580.0166666667, 851525.5423728813, 863297.55, 855490.7, 0.0, 0.0, 0.0, 735778.5666666667, 681529.5666666667, 651914.406779661, 645930.1666666666, 591184.1333333333, 556950.2881355932, 537235.5423728813, 515902.36666666664, 494173.85, 503575.06666666665, 481593.16949152545, 435238.26666666666, 469079.06666666665, 517931.9, 637021.8305084746, 785330.9666666667, 799742.7, 870984.2333333333, 784174.2711864407, 753996.1833333333, 805361.2166666667, 805520.3166666667, 840826.8983050848, 762492.1666666666, 720923.7666666667, 680891.2333333333, 673574.1355932204, 663039.55, 599506.7166666667, 0.0, 0.0, 0.0, 432526.0833333333, 526333.5333333333, 518125.4745762712, 442801.88333333336, 472794.3333333333, 563665.55, 679585.8305084746, 806163.5166666667, 761112.25, 760569.4833333333, 739488.2711864407, 756356.7666666667, 778929.9166666666, 764751.9166666666, 780976.4745762711, 711788.95, 666925.2666666667, 632762.1, 614950.2372881356, 589366.3, 556960.4166666666, 525372.7966101695, 510927.0169491525, 492179.05, 476778.9166666667, 488008.51666666666, 497413.0677966102, 416052.0833333333, 449590.3333333333, 537788.9833333333, 637598.5762711865, 745307.85, 720144.5166666667, 732958.5333333333, 735889.6440677966, 765438.9, 785632.9166666666, 747769.5666666667, 726955.5593220339, 719360.4666666667, 680675.3, 636968.95, 0.0, 0.0, 0.0, 525167.3898305085, 507957.9661016949, 490132.36666666664, 475468.5, 484265.25, 462946.13559322036, 408806.01666666666, 453601.9166666667, 500258.8333333333, 614729.1355932204, 755680.1666666666, 740592.1333333333, 734531.9016393443, 659659.7307692308, 715164.4666666667, 757893.4666666667, 702952.85, 733649.2033898305, 699890.0666666667, 655841.1166666667, 641066.3833333333, 634523.9322033898, 638424.1333333333, 559730.05, 538353.6779661017, 524024.42372881353, 509180.4166666667, 495587.8, 519280.3333333333, 511837.9411764706, 428544.8043478261, 453972.31666666665, 528071.2, 615458.1833333333, 585791.7894736842, 630715.5, 623333.9666666667, 610522.3666666667, 567202.3389830509, 583646.0666666667, 559301.6, 652661.7166666667, 657403.6779661017, 626084.9333333333, 606712.8333333334, 603988.2, 599665.25, 538653.966101695, 512826.23728813557, 496231.6, 483997.1, 462891.3728813559, 490708.88333333336, 476107.23333333334, 373217.3980582524, 417980.4905660377, 481819.5, 483718.3333333333, 512360.23333333334, 519203.68333333335, 608680.65, 580264.9322033898, 497683.95, 502655.43333333335, 515772.1666666667, 619893.4576271187, 607164.4666666667, 606759.5, 559947.3333333334, 577119.4406779661, 593974.4166666666, 524895.9333333333, 503926.71186440677, 487342.6440677966, 473058.18333333335, 463208.2833333333, 467336.9666666667, 486421.1525423729, 397614.9, 412349.01666666666, 496920.8333333333, 609954.0508474576, 694834.15, 12405.933333333332, 0.0, 0.0, 0.0, 0.0, 0.0, 0.0, 0.0, 0.0, 0.0, 0.0, 0.0, 0.0, 0.0, 0.0, 0.0, 330769.61666666664, 494114.6, 500492.2033898305, 394199.2166666667, 431753.2, 0.0, 0.0, 0.0, 669624.4666666667, 673975.15, 400014.0508474576, 193212.91666666666, 189394.98333333334, 171158.03333333333, 268607.6101694915, 293369.2166666667, 283890.1666666667, 289313.7833333333, 327514.7966101695, 308020.56666666665, 239714.28333333333, 228316.06779661018, 215500.2372881356, 203863.16666666666, 191401.16666666666, 207243.65, 234036.01694915254, 179033.6, 193838.2, 239740.36666666667, 250623.54237288135, 228777.61666666667, 199344.28333333333, 208596.95, 230917.57627118644, 220797.01666666666, 183348.56666666668, 185539.45, 276161.3220338983, 286299.2833333333, 285515.85, 287455.48333333334, 292520.6271186441, 298755.45, 245419.76666666666, 220144.62711864407, 206644.06779661018, 199467.91666666666, 192573.28333333333, 212992.35, 210635.49152542374, 169295.81666666668, 191717.41666666666, 249524.6, 253317.30508474575, 240188.15, 204679.3, 227387.71666666667, 231957.45762711865, 222804.41666666666, 178100.51666666666, 175500.8, 253824.84745762713, 283158.45, 310010.25, 299344.48333333334, 313537.4745762712, 292437.86666666664, 264515.86666666664, 247570.37288135593, 206486.81355932204, 196918.13333333333, 188275.81666666668, 209847.8, 213838.74576271186, 162434.6393442623, 9307.327586206897, 1.4999699999999987e-14, 1.4999699999999987e-14, 1.4999699999999987e-14, 250420.57692307694, 718884.2, 701267.4833333333, 641226.7551020408, 676952.6833333333, 682942.4333333333, 711374.3833333333, 660391.5423728813, 641984.9166666666, 616807.6833333333, 0.0, 0.0, 0.0, 519451.9830508475, 499714.0833333333, 488976.83050847455, 477458.6, 493823.51666666666, 470404.7833333333, 394924.30508474575, 412366.2, 492553.38333333336, 566810.4166666666, 622573.9830508474, 574626.6166666667, 584280.1, 614215.2333333333, 576208.4745762711, 559909.3, 564467.8833333333, 606414.2166666667, 642515.0677966102, 617137.6833333333, 586767.6666666666, 600074.05, 591479.4237288135, 532255.0666666667, 507003.16949152545, 491929.01666666666, 480686.6440677966, 467000.9666666667, 491775.23333333334, 492677.56666666665, 382048.6101694915, 402170.85, 437224.5, 489167.1666666667, 533366.813559322, 539183.6, 547963.4833333333, 517795.56666666665, 486003.22033898305, 479687.31666666665, 496343.2166666667, 0.0, 0.0, 0.0, 0.0, 568536.0833333334, 557253.0847457628, 491904.93333333335, 476905.6271186441, 457754.5333333333, 441589.71186440677, 431175.7166666667, 455637.7833333333, 439682.25, 371276.74576271186, 409537.55, 473451.88333333336, 539585.9666666667, 588226.7457627119, 656341.6833333333, 659157.1833333333, 644466.2666666667, 600711.3389830509, 594914.3, 601288.6833333333, 644173.65, 618788.9322033898, 605074.5, 585212.4333333333, 593341.9333333333, 584270.3898305085, 525625.5833333334, 493101.10169491527, 479145.9666666667, 473708.8813559322, 456600.0, 468687.76666666666, 478976.95, 376797.18644067796, 415815.5333333333, 493424.88333333336, 574609.1166666667, 586006.6610169491, 577822.55, 578688.3833333333, 544324.1333333333, 562424.813559322, 559771.2, 532523.0, 609968.45, 640199.779661017, 594841.1333333333, 572169.7666666667, 573090.3833333333, 571928.7833333333, 519618.3898305085, 478359.1186440678, 456907.1666666667, 442447.3333333333, 435649.6271186441, 450835.4, 462241.9, 381279.45, 406383.10169491527, 479675.3333333333, 532990.0666666667, 552220.8666666667, 556693.2881355932, 583599.4333333333, 568638.1166666667, 567858.45, 555345.186440678, 559408.1333333333, 643787.4666666667, 606183.0333333333, 605603.6271186441, 588711.05, 591466.2166666667, 561140.1333333333, 515936.3559322034, 497670.89830508473, 489431.43333333335, 457165.81666666665, 442500.83050847455, 471700.73333333334, 476376.06666666665, 391452.93333333335, 423681.86440677964, 474219.86666666664, 529349.8666666667, 577491.9333333333, 550300.6949152543, 545426.0, 565378.4833333333, 528674.0333333333, 546130.1016949152, 561596.1166666667, 628530.85, 617950.6333333333, 608921.0, 570958.4333333333, 562709.5166666667, 582771.35, 510317.4576271186, 485380.81355932204, 462376.43333333335, 441186.75, 433025.8813559322, 426199.68333333335, 446387.56666666665, 377234.43333333335, 402546.6101694915, 472549.13333333336, 503419.48333333334, 586006.3, 560611.6610169491, 560985.5333333333, 558702.4, 532252.2333333333, 580055.7457627119, 525527.55, 615691.2833333333, 608912.8, 601970.966101695, 587488.6166666667, 604141.9666666667, 582951.5333333333, 522932.6779661017, 0.0, 0.0, 0.0, 0.0, 462239.48333333334, 456727.81666666665, 372099.1666666667, 380695.3559322034, 438268.65, 476619.6666666667, 495811.9666666667, 515562.1525423729, 506619.8333333333, 496984.5, 470986.01666666666, 470666.4406779661, 486773.5333333333, 550730.5666666667, 596594.5333333333, 578371.0847457628, 568771.7166666667, 566391.8166666667, 548885.9666666667, 514074.42372881353, 485872.9491525424, 475843.4166666667, 458540.0833333333, 446573.72881355934, 463955.5833333333, 446943.11666666664, 377333.26666666666, 366336.3220338983, 409469.23333333334, 440990.25, 469403.9166666667, 480749.74576271186, 498367.51666666666, 490301.65, 435140.31666666665, 426866.7966101695, 431402.3333333333, 552853.85, 569959.7833333333, 553448.76, 531630.3666666667, 529584.2, 569476.5333333333, 501586.2448979592, 466464.89830508473, 442301.95, 443390.8, 433484.74576271186, 431259.5, 427223.48333333334, 372020.037037037, 392876.2166666667, 454196.0833333333, 545809.5, 570407.5593220339, 584107.5666666667, 603575.0166666667, 573431.0, 520267.3728813559, 552633.3333333334, 567692.25, 616216.7, 629780.6440677966, 607341.1333333333, 590269.75, 603192.7833333333, 593759.5423728813, 540272.25, 503201.83050847455, 477436.48333333334, 451114.7966101695, 443682.0333333333, 467461.95, 0.0, 0.0, 0.0, 0.0, 558013.4666666667, 592304.7288135593, 576555.4333333333, 539654.4, 555282.55, 575519.7627118644, 563294.05, 547590.95, 634964.9666666667, 632100.4576271187, 604173.6333333333, 590339.4833333333, 588630.05, 565518.1355932204, 518916.15, 495615.83050847455, 474749.5, 454395.9322033898, 443374.6666666667, 447006.05, 472596.8333333333, 401968.76271186443, 437596.2, 460165.2833333333, 523458.51666666666, 589095.9491525424, 581675.9666666667, 572080.7166666667, 552704.9, 538508.5762711865, 520734.48333333334, 554965.3166666667, 649082.65, 595149.4406779661, 593521.7833333333, 583751.1666666666, 555626.4666666667, 586429.9322033898, 531467.5833333334, 495022.66101694916, 478352.06666666665, 466265.0847457627, 459591.9, 482252.93333333335, 483031.85, 408028.6440677966, 417132.9, 469960.4666666667, 567401.1333333333, 577056.7118644068, 0.0, 0.0, 0.0, 523265.89830508473, 573116.45, 528282.4166666666, 594559.1666666666, 609359.6779661017, 604634.9833333333, 581556.55, 583156.5, 584538.7457627119, 516707.93333333335, 500470.81666666665, 479075.26666666666, 0.0, 0.0, 0.0, 0.0, 0.0, 0.0, 476109.6, 542356.4666666667, 599138.2033898305, 540250.9, 536728.7, 532171.2666666667, 500053.6779661017, 519305.7166666667, 549142.85, 591541.3333333334, 606563.4745762711, 600474.65, 576374.8833333333, 571861.15, 578162.8813559322, 532225.3333333334, 502314.93333333335, 487749.38333333336, 469776.1525423729, 460062.61666666664, 477635.18333333335, 491429.65, 395561.6271186441, 381294.98333333334, 411996.45, 471298.5333333333, 501031.76271186443, 468743.3333333333, 465060.06666666665, 473974.15, 460514.7966101695, 468895.06666666665, 470360.6, 558203.2, 578985.7457627119, 550036.45, 537391.4666666667, 567957.1666666666, 572337.6271186441, 528782.5, 503129.98333333334, 480730.3, 470197.4915254237, 461205.13333333336, 467724.93333333335, 465688.61666666664, 365305.6101694915, 0.0, 0.0, 0.0, 0.0, 448621.0333333333, 504128.43333333335, 475652.7, 422385.4406779661, 434799.23333333334, 428560.5, 547478.75, 581158.220338983, 574479.1333333333, 549667.1333333333, 553390.7166666667, 547748.2881355932, 514639.63333333336, 478653.6666666667, 457539.5333333333, 450413.2033898305, 444992.4666666667, 455067.3, 457568.7833333333, 410806.4576271186, 394021.25, 451177.7166666667, 521651.13333333336, 581187.6779661017, 591469.2666666667, 522156.98333333334, 552981.2, 530462.9830508474, 545756.7166666667, 545077.6833333333, 602111.1333333333, 590159.3898305085, 596145.15, 573177.4166666666, 577680.8166666667, 604646.6440677966, 528490.4666666667, 501673.18333333335, 483948.4, 468641.77966101695, 461530.4666666667, 480938.95, 480069.3, 399519.6271186441, 415249.13333333336, 469186.4, 524479.8833333333, 558890.4833333333, 574562.2372881356, 579535.85, 547369.4666666667, 514134.9, 541116.9152542372, 542164.9666666667, 592140.9, 598307.4166666666, 571303.1186440678, 555139.4833333333, 571585.7833333333, 568287.4666666667, 515959.4576271186, 0.0, 0.0, 0.0, 448917.0677966102, 480933.9166666667, 463484.98333333334, 372699.9666666667, 409348.18644067796, 451750.2166666667, 519301.31666666665, 587952.75, 0.0, 0.0, 0.0, 0.0, 0.0, 0.0, 0.0, 0.0, 0.0, 0.0, 0.0, 0.0, 0.0, 0.0, 0.0, 0.0, 0.0, 0.0, 0.0, 0.0, 0.0, 0.0, 0.0, 0.0, 0.0, 0.0, 0.0, 0.0, 576036.4915254237, 556200.55, 607408.8833333333, 607046.1833333333, 0.0, 0.0, 0.0, 0.0, 0.0, 497980.11666666664, 487017.86666666664, 470235.86666666664, 462241.406779661, 479591.0, 510500.7, 418260.0, 427466.7966101695, 482022.1, 570990.1666666666, 592146.8833333333, 564984.2372881356, 566735.0, 571903.5166666667, 588851.1, 567127.6101694915, 558499.8666666667, 601288.0333333333, 603560.8333333334, 603782.7627118644, 583130.0166666667, 582309.6833333333, 558531.85, 518548.28813559323, 503614.43333333335, 485965.7, 474704.8, 464257.89830508473, 465057.01666666666, 454833.1, 400478.23333333334, 0.0, 0.0, 0.0, 0.0, 0.0, 0.0, 483465.4166666667, 524312.8666666667, 433586.6440677966, 434086.9666666667, 534622.3666666667, 581350.1833333333, 564285.1525423729, 554250.4166666666, 554247.9, 570586.7666666667, 526384.0169491526, 496206.4, 484324.13333333336, 472065.7166666667, 461207.9491525424, 486158.3333333333, 477331.65, 349275.0, 361558.98333333334, 387286.7833333333, 414592.98333333334, 437412.33898305084, 477417.88333333336, 495483.5, 554595.04, 462376.18333333335, 429030.18333333335, 414522.5, 529517.9830508474, 545548.3, 549141.5333333333, 524609.35, 535715.9491525424, 526397.3833333333, 495947.81666666665, 470790.1666666667, 462992.4915254237, 456594.6666666667, 446775.2, 464449.9666666667, 482731.18644067796, 384397.55, 411355.2833333333, 455215.51666666666, 503976.74576271186, 592455.25, 557369.7166666667, 568012.9333333333, 512122.86440677964, 0.0, 0.0, 531348.4, 580238.7288135593, 584207.8, 574615.8666666667, 557340.7, 568737.2542372881, 558237.2666666667, 502367.0333333333, 485090.23333333334, 474001.0, 454705.15, 443134.2, 457922.7833333333, 464543.57627118647, 371773.81666666665, 384112.38333333336, 476635.13333333336, 548780.4237288135, 544210.3333333334, 541079.8, 560693.4666666667, 537697.3559322034, 561391.9, 541234.7833333333, 515550.7166666667, 594625.813559322, 592068.7833333333, 554963.3, 531798.9333333333, 540955.6101694915, 537210.8833333333, 485510.01666666666, 474531.68333333335, 463448.593220339, 451042.0, 446684.6, 466122.7166666667, 464146.27118644066, 370377.6666666667, 369754.86666666664, 428461.81666666665, 525011.7966101695, 558293.5333333333, 535630.7333333333, 518084.65, 484948.9830508475, 522816.4, 519965.55, 521837.67307692306, 563931.75, 578887.7833333333, 550005.1333333333, 0.0, 0.0, 0.0, 0.0, 451959.71186440677, 434721.7, 423620.26666666666, 417928.36666666664, 429884.3898305085, 441538.05, 366613.88333333336, 375100.4666666667, 422490.3898305085, 499331.7833333333, 532823.75, 500229.1666666667, 487615.3898305085, 507597.95, 516703.5, 556709.8666666667, 483569.0169491525, 573471.95, 566432.7, 542368.1166666667, 532830.0, 520887.6666666667, 523707.26666666666, 473132.11666666664, 452898.93333333335, 433648.5254237288, 0.0, 0.0, 0.0, 0.0, 375792.13333333336, 374114.3333333333, 426363.73333333334, 515458.42372881353, 523507.7166666667, 536001.7833333333, 517082.93333333335, 483616.3220338983, 459190.6666666667, 465220.0833333333, 496594.85, 553204.2881355932, 549806.2666666667, 536655.6333333333, 503269.5833333333, 519112.9830508475, 517261.4666666667, 468848.4166666667, 454374.11666666664, 437060.57627118647, 425928.7833333333, 424327.23333333334, 429304.6, 431346.57627118647, 348359.4166666667, 329877.8, 367660.06666666665, 423723.30508474575, 459492.43333333335, 417490.06666666665, 410546.4166666667, 418491.1186440678, 393344.95, 388892.5833333333, 392475.25, 504431.6440677966, 521786.55, 513501.65, 497494.86666666664, 511312.23728813557, 505664.5833333333, 464150.0833333333, 436582.13333333336, 420553.0677966102, 412539.0, 408400.73333333334, 433093.5, 436620.3559322034, 338217.75, 311500.05, 0.0, 0.0, 0.0, 0.0, 407221.9166666667, 412080.42372881353, 387871.0333333333, 387121.5, 394917.61666666664, 509085.4576271186, 520144.55, 507579.7166666667, 495454.0833333333, 494055.4915254237, 486439.86666666664, 459687.06666666665, 438484.45, 425842.9661016949, 417180.7833333333, 417522.6, 413556.38333333336, 445231.9491525424, 396309.35, 375581.4666666667, 393212.2, 469760.86440677964, 448247.76666666666, 488249.9, 461376.76666666666, 454816.72881355934, 473783.8333333333, 493964.43333333335, 479260.73333333334, 570482.0, 568694.2, 561265.7166666667, 538899.4166666666, 538424.7288135593, 548656.9333333333, 497384.25, 475238.3, 455507.57627118647, 442883.11666666664, 438431.2833333333, 452405.7166666667, 452696.74576271186, 394285.95, 390150.38333333336, 442825.35, 516456.25423728814, 543373.5833333334, 510682.6, 515425.8333333333, 485390.69491525425, 0.0, 482136.9166666667, 495714.7, 556215.9491525424, 558195.4666666667, 560643.9, 536600.3833333333, 525387.2033898305, 551459.4666666667, 500595.18333333335, 482120.0333333333, 463085.4915254237, 456592.43333333335, 445542.6666666667, 446582.35, 461955.23728813557, 400262.98333333334, 386482.55, 422479.0333333333, 505347.593220339, 514149.36666666664, 524876.8166666667, 520378.3, 510108.66101694916, 506131.4166666667, 496425.75, 503538.63333333336, 564989.0677966102, 567446.0166666667, 562249.6, 540295.1166666667, 515382.5084745763, 490090.9, 461199.68333333335, 446990.2, 430852.9491525424, 425473.15, 425038.6666666667, 417759.86666666664, 427379.9661016949, 371301.36666666664, 349555.36666666664, 386627.38333333336, 487222.77966101695, 507333.11666666664, 523356.73333333334, 517391.1, 503221.28813559323, 491979.95, 513210.86666666664, 505439.8333333333, 570007.0508474576, 568210.9666666667, 543989.7666666667, 531579.4833333333, 527949.2372881356, 497919.4666666667, 473435.05, 459193.26666666666, 439971.4915254237, 424392.15, 420929.8333333333, 418967.1666666667, 447056.0847457627, 359347.7, 366984.63333333336, 416466.23333333334, 485838.0847457627, 522385.31666666665, 520266.2833333333, 531490.3666666667, 521429.89830508473, 458929.93333333335, 480931.3, 484318.6666666667, 514373.76271186443, 0.0, 0.0, 0.0, 0.0, 0.0, 455129.2166666667, 433462.4, 426961.1186440678, 418028.88333333336, 416055.55, 413678.86666666664, 443341.4406779661, 356178.1, 346134.05, 385320.7833333333, 420726.0677966102, 444927.8333333333, 416111.9166666667, 421769.9, 443288.3728813559, 400831.23333333334, 382242.63333333336, 377947.85, 480232.0677966102, 513369.01666666666, 509055.63333333336, 499938.55, 484629.0677966102, 465127.45, 467400.2, 0.0, 0.0, 0.0, 0.0, 0.0, 0.0, 0.0, 311721.93333333335, 358249.73333333334, 397940.27118644066, 394722.25, 463991.93333333335, 395778.18333333335, 407637.7966101695, 373175.0, 375550.01666666666, 383681.3333333333, 454307.22033898305, 488164.13333333336, 513926.26666666666, 483738.0, 464631.77966101695, 449056.0, 435551.9666666667, 421931.38333333336, 409459.45, 401711.5423728814, 411182.95, 408609.85, 418795.4166666667, 355411.4576271186, 319806.43333333335, 356272.23333333334, 385699.18333333335, 426258.0169491525, 403184.18333333335, 399869.0833333333, 411183.4, 372796.6440677966, 373433.15, 363943.25, 485972.75, 509338.72881355934, 500173.35, 457114.95, 476376.45, 452148.0, 431471.0333333333, 423079.81666666665, 410046.3333333333, 403460.5084745763, 397452.93333333335, 394627.0833333333, 408077.5833333333, 366234.406779661, 324551.4, 370522.31666666665, 455578.56666666665, 525118.6779661017, 484033.36666666664, 474029.1, 481401.81666666665, 458779.69491525425, 450146.75, 0.0, 0.0, 0.0, 555871.7833333333, 553217.2333333333, 505909.18333333335, 514338.66101694916, 474942.06666666665, 457280.88333333336, 443487.36666666664, 428206.81355932204, 422034.13333333336, 437144.5333333333, 444095.73333333334, 391222.0847457627, 356661.48333333334, 406373.4166666667, 494045.73333333334, 503062.9661016949, 491031.63333333336, 479605.1, 479749.76666666666, 449869.6440677966, 497120.9, 503282.1666666667, 563859.9, 586851.0847457628, 567884.9666666667, 553256.1166666667, 553056.4666666667, 514496.406779661, 491715.76666666666, 473906.8333333333, 460021.15, 440565.3728813559, 433336.8, 437586.51666666666, 443216.36666666664, 395971.3898305085, 358859.13333333336, 411483.73333333334, 485898.4166666667, 530021.0169491526, 519426.4666666667, 506528.73333333334, 467069.76666666666, 480315.28813559323, 496916.3, 488250.8, 548343.7, 564832.186440678, 539871.15, 527814.9, 0.0, 0.0, 0.0, 474930.11666666664, 450859.9666666667, 434119.0508474576, 423431.5833333333, 419082.76666666666, 443683.4, 397709.593220339, 368241.1, 397690.45, 496424.8333333333, 520264.74576271186, 521322.23333333334, 549856.5666666667, 527943.9833333333, 507571.13559322036, 569968.4, 529973.2166666667, 579786.5833333334, 579067.5084745763, 572315.0, 543549.8333333334, 560628.4333333333, 536822.8474576271, 509847.45, 481071.55, 459716.73333333334, 446568.3898305085, 433757.1666666667, 435097.9166666667, 446390.2166666667, 407400.6440677966, 368614.06666666665, 391009.25, 435065.9, 484126.81355932204, 465792.0333333333, 462011.3, 449559.6, 425697.30508474575, 422310.65, 443530.5333333333, 508684.2833333333, 538327.5423728813, 537563.45, 536647.4, 555874.6833333333, 528600.593220339, 493233.6617647059, 465455.0333333333, 449623.73333333334, 439072.8333333333, 0.0, 0.0, 0.0, 0.0, 0.0, 380755.56666666665, 423273.8333333333, 429311.13333333336, 463636.76271186443, 474682.4666666667, 493786.95, 421360.38333333336, 470578.42372881353, 415733.56666666665, 509696.38333333336, 533270.2833333333, 555442.0, 524487.1833333333, 529528.45, 524141.63333333336, 493257.4745762712, 480037.26666666666, 467941.65, 448473.1, 433231.86440677964, 430615.95, 436405.38333333336, 407808.7, 372500.69491525425, 424392.11666666664, 479550.06666666665, 523961.8, 572905.220338983, 605690.5666666667, 539613.9666666667, 525074.4333333333, 504189.593220339, 509115.0833333333, 625283.8833333333, 652822.75, 605685.0847457628, 563595.2166666667, 580707.2166666667, 564174.0333333333, 534827.7457627119, 507128.55, 482348.5833333333, 457182.73333333334, 0.0, 0.0, 0.0, 425409.36666666664, 396207.71186440677, 460748.4, 533732.5333333333, 597167.5666666667, 637607.3220338983, 602146.1166666667, 669306.0666666667, 616753.95, 699158.966101695, 707940.3833333333, 730924.4833333333, 721876.1166666667, 692044.5084745763, 672688.7833333333, 688899.5833333334, 656840.2666666667, 634343.8474576271, 586014.6, 560538.1666666666, 546782.3833333333, 525222.220338983, 525932.7333333333, 529105.9666666667, 485424.81666666665, 457359.25423728814, 559779.95, 687387.0833333334, 739252.5, 806330.3898305085, 843997.7, 812295.6833333333, 826702.3333333334, 815830.5762711865, 832077.6666666666, 904825.15, 866246.3, 832548.4237288135, 812427.5333333333, 796725.0, 766933.4333333333, 739431.7457627119, 673404.7333333333, 640023.7833333333, 625437.7333333333, 596530.5084745763, 616508.1166666667, 631650.1, 0.0, 0.0, 0.0, 0.0, 855475.7, 882466.4745762711, 911997.5333333333, 826285.2333333333, 805181.9833333333, 815024.7, 864051.4237288135, 906393.3833333333, 881653.7, 863021.0166666667, 835114.5084745763, 859327.2333333333, 816301.1, 761078.0333333333, 712548.5333333333, 680876.9833333333, 643338.3833333333, 641723.05, 626233.3898305085, 668006.5166666667, 598381.0166666667, 605065.3333333334, 0.0, 0.0, 0.0, 0.0, 944408.779661017, 908827.8833333333, 946875.0333333333, 931775.1833333333, 920709.5593220339, 928403.1333333333, 918121.3833333333, 907414.75, 877354.0508474576, 892985.35, 869221.7166666667, 830141.0833333334, 771154.2542372881, 725411.0333333333, 686479.1333333333, 679079.0666666667, 667072.0508474576, 696984.3833333333, 621623.5333333333, 595319.4333333333, 655957.1355932204, 761101.7, 769659.1666666666, 785901.1833333333, 764711.6440677966, 759703.75, 731510.7666666667, 743088.1166666667, 736070.8305084746, 822313.2166666667, 861378.9333333333, 860774.7333333333, 848738.5762711865, 859212.2833333333, 842764.8833333333, 818605.9833333333, 753472.7288135593, 703771.7, 685098.3, 671724.45, 661634.186440678, 697246.0666666667, 635647.4, 595369.45, 644929.186440678, 781284.0666666667, 736763.4833333333, 761418.6333333333, 753892.4237288135, 773162.9333333333, 659189.756097561, 639951.35, 691770.1833333333, 738139.55, 807143.0508474576, 808568.9333333333, 803703.8166666667, 0.0, 0.0, 718914.5666666667, 693849.2666666667, 640601.1833333333, 623133.966101695, 614474.4, 625913.1, 647981.0166666667, 578614.0677966102, 571399.95, 689467.0, 787878.65, 955832.3898305085, 998794.3333333334, 1003301.4333333333, 925593.8833333333, 848663.3220338983, 843883.9, 871073.3, 946733.1833333333, 928188.3050847457, 928799.9833333333, 929209.6333333333, 942748.0833333334, 935964.3728813559, 871521.7333333333, 805727.1, 757769.5833333334, 723970.0508474576, 696895.75, 698876.5833333334, 738099.55, 0.0, 0.0, 0.0, 880709.5333333333, 945842.1694915254, 941178.0333333333, 942787.2, 942202.2333333333, 883735.779661017, 912762.0, 941486.1833333333, 944369.9333333333, 942006.3898305085, 954188.85, 964626.3666666667, 930517.45, 915288.25, 864024.2542372881, 812934.6166666667, 763719.9666666667, 725859.6666666666, 707005.406779661, 711425.6833333333, 745786.9, 679236.8, 701013.5254237289, 798414.7, 936409.7166666667, 1008233.0333333333, 1038474.9152542372, 1026382.1166666667, 995253.5666666667, 1021709.8166666667, 996388.6101694915, 982649.9166666666, 1023254.1666666666, 1032105.3, 1007794.8813559322, 976713.0333333333, 962244.0666666667, 937054.9833333333, 888098.9491525424, 844553.9333333333, 804738.6666666666, 759504.0, 732451.9830508474, 737055.2666666667, 762900.15, 691527.6833333333, 732361.6779661017, 846658.55, 0.0, 0.0, 0.0, 0.0, 1064743.0, 1042501.4666666667, 1062256.779661017, 1018828.1166666667, 1016000.4333333333, 1017677.9333333333, 990624.8644067796, 972861.4166666666, 971157.9, 986172.3333333334, 921065.7457627119, 850009.65, 783862.1, 759711.7333333333, 735717.7627118644, 741234.2, 761555.0, 683485.9, 717750.220338983, 866692.8833333333, 969226.6833333333, 1115888.0, 1069930.6779661018, 1119626.3333333333, 1046802.9666666667, 1039345.85, 1033796.186440678, 1002716.7833333333, 993721.95, 975731.0166666667, 858202.7857142857, 905445.5166666667, 902957.1166666667, 951098.5166666667, 876755.5593220339, 792464.9166666666, 766756.1666666666, 730197.4666666667, 707659.7118644068, 696893.6666666666, 723564.7, 663388.8166666667, 644775.0847457628, 716047.6833333333, 890498.1166666667, 934935.45, 942295.7966101695, 904213.3, 884864.2666666667, 839426.2666666667, 805662.779661017, 767935.9655172414, 872748.9666666667, 905813.9333333333, 907839.1, 892768.7966101695, 906901.1833333333, 920376.3333333334, 879972.7166666667, 844667.8813559322, 794472.3666666667, 774473.8166666667, 752303.0166666667, 723078.7118644068, 773398.8333333334, 694790.4166666666, 657455.5166666667, 713409.0847457628, 798306.8, 801165.7833333333, 840768.2666666667, 867753.6610169491, 884864.2666666667, 0.0, 0.0, 0.0, 859361.5166666667, 905813.9333333333, 907839.1, 892768.7966101695, 651614.1071428572, 821568.6896551724, 865897.3166666667, 772927.1333333333, 731491.8, 691654.3050847457, 663860.95, 655180.6833333333, 656586.45, 656366.3728813559, 639135.95, 717489.3333333334, 836005.1, 950573.8474576271, 980063.45, 996978.75, 968854.0666666667, 948075.9322033898, 905498.0333333333, 915133.0666666667, 986021.4333333333, 1041562.4745762711, 981811.9666666667, 946168.35, 932367.9333333333, 940937.033898305, 894784.4833333333, 848406.6166666667, 782774.0, 738231.033898305, 736353.1, 713923.3166666667, 742357.8666666667, 715709.186440678, 687392.5833333334, 839940.4333333333, 938463.85, 1009968.6271186441, 1006279.8833333333, 1004323.9833333333, 962975.1166666667, 903645.0847457628, 898301.9833333333, 879408.9666666667, 931574.0166666667, 979049.4915254237, 988007.8333333334, 939327.0166666667, 929405.0333333333, 958201.0847457628, 925737.4333333333, 872590.9666666667, 817695.2, 778743.593220339, 767589.7666666667, 764476.9666666667, 764660.8333333334, 749296.6610169491, 724540.5833333334, 826614.1333333333, 975820.6833333333, 1052377.6101694915, 1029816.1, 1004323.9833333333, 962975.1166666667, 903645.0847457628, 898301.9833333333, 879408.9666666667, 931574.0166666667, 979049.4915254237, 988007.8333333334, 923518.6, 0.0, 0.0, 0.0, 507128.55, 482348.5833333333, 464616.88333333336, 447641.9322033898, 442848.5333333333, 488533.98333333334, 425409.36666666664, 396207.71186440677, 460748.4, 533732.5333333333, 597167.5666666667, 637607.3220338983, 602146.1166666667, 669306.0666666667, 616753.95, 699158.966101695, 707940.3833333333, 730924.4833333333, 721876.1166666667, 692044.5084745763, 672688.7833333333, 688899.5833333334, 656840.2666666667, 634343.8474576271, 586014.6, 560538.1666666666, 546782.3833333333, 525222.220338983, 525932.7333333333, 529105.9666666667, 485424.81666666665, 457359.25423728814, 559779.95, 687387.0833333334, 739252.5, 806330.3898305085, 843997.7, 812295.6833333333, 826702.3333333334, 815830.5762711865, 832077.6666666666, 904825.15, 866246.3, 832548.4237288135, 812427.5333333333, 796725.0, 766933.4333333333, 739431.7457627119, 673404.7333333333, 640023.7833333333, 625437.7333333333, 596530.5084745763, 616508.1166666667, 631650.1, 551722.8833333333, 561580.4576271187, 645222.2833333333, 812053.9, 870473.1666666666, 882466.4745762711, 911997.5333333333, 826285.2333333333, 805181.9833333333, 815024.7, 864051.4237288135, 906393.3833333333, 881653.7, 863021.0166666667, 835114.5084745763, 859327.2333333333, 816301.1, 761078.0333333333, 712122.4576271187, 680876.9833333333, 643338.3833333333, 641723.05, 626233.3898305085, 668006.5166666667, 598381.0166666667, 605065.3333333334, 716985.7118644068, 901832.6333333333, 1003070.3666666667, 991746.4833333333, 961231.4576271187, 908827.8833333333, 946875.0333333333, 931775.1833333333, 920709.5593220339, 928403.1333333333, 918121.3833333333, 907414.75, 877354.0508474576, 892985.35, 869221.7166666667, 830141.0833333334, 771154.2542372881, 725411.0333333333, 686479.1333333333, 679079.0666666667, 667072.0508474576, 696984.3833333333, 621623.5333333333, 595319.4333333333, 655957.1355932204, 761101.7, 769659.1666666666, 785901.1833333333, 764711.6440677966, 759703.75, 731510.7666666667, 743088.1166666667, 736070.8305084746, 0.0, 0.0, 0.0, 0.0, 0.0, 828241.35, 818605.9833333333, 753472.7288135593, 703771.7, 685098.3, 671724.45, 661634.186440678, 697246.0666666667, 635647.4, 595369.45, 644929.186440678, 781284.0666666667, 736763.4833333333, 761418.6333333333, 753892.4237288135, 773162.9333333333, 655069.4285714285, 639951.35, 691770.1833333333, 738139.55, 807143.0508474576, 808568.9333333333, 803703.8166666667, 815623.8166666667, 814577.5084745763, 731678.4833333333, 693705.0508474576, 640601.1833333333, 623133.966101695, 614474.4, 625913.1, 647981.0166666667, 578614.0677966102, 571399.95, 689467.0, 787878.65, 955832.3898305085, 998794.3333333334, 1003301.4333333333, 925593.8833333333, 848663.3220338983, 843883.9, 871073.3, 946733.1833333333, 928188.3050847457, 928799.9833333333, 929209.6333333333, 942748.0833333334, 935964.3728813559, 871521.7333333333, 805727.1, 757769.5833333334, 723970.0508474576, 696895.75, 698876.5833333334, 738099.55, 687240.0677966102, 677976.45, 791895.3333333334, 880709.5333333333, 930150.0508474576, 0.0, 0.0, 0.0, 883735.779661017, 912762.0, 941486.1833333333, 944369.9333333333, 942006.3898305085, 954188.85, 964626.3666666667, 930517.45, 915288.25, 864024.2542372881, 812934.6166666667, 763719.9666666667, 725859.6666666666, 707005.406779661, 711425.6833333333, 745786.9, 679236.8, 701013.5254237289, 798414.7, 936409.7166666667, 1008233.0333333333, 1038474.9152542372, 1026382.1166666667, 995253.5666666667, 1021709.8166666667, 996388.6101694915, 982649.9166666666, 1023254.1666666666, 1032105.3, 1007794.8813559322, 976713.0333333333, 962244.0666666667, 937054.9833333333, 888098.9491525424, 844553.9333333333, 804738.6666666666, 759504.0, 732451.9830508474, 737055.2666666667, 762900.15, 691527.6833333333, 732361.6779661017, 846658.55, 932038.85, 1054369.8666666667, 1064557.2881355933, 1081593.8333333333, 1083241.8333333333, 1042501.4666666667, 1062256.779661017, 1018828.1166666667, 1016000.4333333333, 1017677.9333333333, 990624.8644067796, 972861.4166666666, 971157.9, 986172.3333333334, 921065.7457627119, 850009.65, 783862.1, 759711.7333333333, 735717.7627118644, 741234.2, 761555.0, 683485.9, 717750.220338983, 866692.8833333333, 969226.6833333333, 1115888.0, 1069930.6779661018, 1119626.3333333333, 1046802.9666666667, 1039345.85, 1033796.186440678, 1002716.7833333333, 993721.95, 975731.0166666667, 858202.7857142857, 905445.5166666667, 902957.1166666667, 951098.5166666667, 876755.5593220339, 792464.9166666666, 766756.1666666666, 730197.4666666667, 707659.7118644068, 696893.6666666666, 723564.7, 663388.8166666667, 644775.0847457628, 716047.6833333333, 890498.1166666667, 934935.45, 942295.7966101695, 904213.3, 884864.2666666667, 839426.2666666667, 803211.6833333333, 767935.9655172414, 872748.9666666667, 905813.9333333333, 907839.1, 892768.7966101695, 906901.1833333333, 920376.3333333334, 879972.7166666667, 848406.6166666667, 782774.0, 738231.033898305, 736353.1, 713923.3166666667, 742357.8666666667, 715709.186440678, 687392.5833333334, 839940.4333333333, 938463.85, 1009968.6271186441, 1006279.8833333333, 1004323.9833333333, 962975.1166666667, 903645.0847457628, 898301.9833333333, 879408.9666666667, 931574.0166666667, 979049.4915254237, 988007.8333333334, 939327.0166666667, 929405.0333333333, 958201.0847457628, 925737.4333333333, 771251.2666666667, 731491.8, 691654.3050847457, 663860.95, 655180.6833333333, 656586.45, 656366.3728813559, 639135.95, 717489.3333333334, 836005.1, 950573.8474576271, 980063.45, 996978.75, 968854.0666666667, 948075.9322033898, 905498.0333333333, 915133.0666666667, 986021.4333333333, 1041562.4745762711, 981811.9666666667, 930582.5666666667, 0.0, 0.0, 0.0, 653186.9, 625193.7333333333, 602293.4745762711, 589496.8333333334, 604229.1666666666, 616616.9166666666, 543355.0677966102, 573980.6166666667, 680874.1355932204, 764545.0166666667, 836440.85, 802131.6333333333, 783797.2881355932, 780566.8666666667, 788867.8333333334, 703034.5833333334, 703567.5593220339, 740388.2166666667, 782348.3333333334, 758630.1833333333, 768977.3050847457, 782695.0833333334, 723682.5833333334, 689215.2833333333, 660162.551724138, 623833.2333333333, 601760.5666666667, 587946.5833333334, 581804.38, 603623.6333333333, 541609.6, 543293.1166666667, 629782.033898305, 689194.6, 724889.15, 696476.0833333334, 680194.3220338983, 702046.4333333333, 650349.85, 632799.9833333333, 648391.6610169491, 677116.0166666667, 743863.7333333333, 702077.4, 659354.3559322034, 653550.7833333333, 668366.3166666667, 646669.9166666666, 617610.2068965518, 589604.7166666667, 572118.5666666667, 559389.15, 575130.6271186441, 581777.15, 532478.1333333333, 499763.05, 556080.593220339, 0.0, 0.0, 0.0, 579987.0, 575553.5166666667, 500270.68333333335, 517065.7833333333, 541247.7627118644, 573229.9833333333, 684397.5333333333, 650205.9333333333, 616462.4745762711, 624127.7833333333, 641496.0, 599208.7166666667, 579565.2413793104, 537223.9166666666, 490887.35, 496206.81666666665, 501749.89830508473, 517332.5833333333, 488598.6, 455417.85, 481332.1186440678, 564561.4166666666, 574343.9333333333, 508896.48333333334, 509816.69491525425, 519390.2833333333, 511883.2833333333, 451911.5, 476707.23728813557, 536940.9666666667, 649168.6666666666, 648294.85, 604209.406779661, 602567.4166666666, 610968.2333333333, 550499.6666666666, 522301.0689655172, 487383.56666666665, 478417.63333333336, 463918.81666666665, 483652.33898305084, 496438.5333333333, 432748.26666666666, 450657.01666666666, 533000.220338983, 625530.6666666666, 600781.3833333333, 599427.1333333333, 596938.5666666667, 567768.8833333333, 576139.4333333333, 575405.7457627119, 587034.6833333333, 632154.1833333333, 686252.9666666667, 641354.6440677966, 621429.95, 653596.3166666667, 647515.5666666667, 570458.4745762711, 534452.0847457628, 516560.3, 499066.4666666667, 491232.3728813559, 502223.73333333334, 526101.0333333333, 450791.5833333333, 451717.4576271186, 555448.9, 665059.7666666667, 672869.7166666667, 642818.7966101695, 617997.9, 641891.1166666667, 601027.7, 634590.5254237289, 591677.15, 615740.3333333334, 687203.3, 657623.3728813559, 642506.7666666667, 684916.15, 663643.3333333334, 596982.6271186441, 572017.2033898305, 548705.1333333333, 524765.6333333333, 511255.5084745763, 521938.2166666667, 546679.8166666667, 467227.31666666665, 490929.5084745763, 627219.7666666667, 667781.8166666667, 679258.0666666667, 672396.406779661, 651162.7, 647607.6666666666, 653034.35, 616351.6610169491, 583057.4, 652963.9666666667, 679078.5, 667235.9152542372, 0.0, 0.0, 0.0, 0.0, 559165.2542372881, 542519.3833333333, 519517.5833333333, 509620.66101694916, 526777.1833333333, 537780.9833333333, 461500.25, 499092.81355932204, 584887.4, 649232.0666666667, 661090.0333333333, 672009.6610169491, 662658.8461538461, 589012.7666666667, 553836.85, 545645.8666666667, 568816.1016949152, 567909.3666666667, 658899.5833333334, 621581.05, 634767.3389830509, 637429.3833333333, 638847.3333333334, 567000.45, 543292.2586206896, 524662.1666666666, 507184.61666666664, 494079.98333333334, 513424.0169491525, 527525.0, 461685.2833333333, 483015.0333333333, 580368.6101694915, 639814.2, 617025.9166666666, 641085.3166666667, 604241.0677966102, 585874.9833333333, 602678.95, 563835.7166666667, 586992.6610169491, 601007.2166666667, 654127.4833333333, 626580.3166666667, 604782.8474576271, 640032.9, 590318.8666666667, 546666.65, 525689.724137931, 501884.2, 498703.5833333333, 481470.1, 510243.27118644066, 505555.15, 441637.9, 424229.06666666665, 480399.86440677964, 535034.2833333333, 577292.0666666667, 545889.3666666667, 586166.6779661017, 559930.8666666667, 496916.31666666665, 508031.9, 533919.5333333333, 544136.9830508474, 612830.25, 645798.1166666667, 613969.6666666666, 609996.4915254237, 610532.25, 553935.1166666667, 538740.779661017, 527887.1186440678, 498011.5833333333, 481513.8333333333, 498597.6666666667, 518983.0338983051, 418553.31666666665, 0.0, 0.0, 0.0, 491998.18333333335, 528391.15, 522812.7833333333, 499052.22033898305, 455282.11666666664, 422785.48333333334, 440909.38333333336, 499168.27118644066, 595406.2333333333, 584275.3666666667, 586982.8, 582175.5084745763, 582185.1, 508552.56666666665, 501803.25423728814, 488319.18644067796, 474466.6666666667, 467281.05, 494874.43333333335, 510531.25423728814, 414387.7166666667, 426277.85, 532834.45, 622578.3728813559, 607570.2833333333, 631754.9333333333, 646840.3666666667, 646164.7118644068, 619522.8666666667, 613021.6833333333, 622697.3833333333, 589558.220338983, 643712.1833333333, 623648.15, 601926.2, 623062.5762711865, 610282.15, 552710.2166666667, 530655.406779661, 509687.0169491525, 499948.76666666666, 487114.86666666664, 494186.01666666666, 515856.5423728814, 454876.93333333335, 468395.85, 533180.8833333333, 625850.0508474576, 629829.1833333333, 614058.1666666666, 601199.4333333333, 623440.1525423729, 597651.2, 581627.2166666667, 615861.7833333333, 568656.5593220339, 597681.9666666667, 622643.1833333333, 588194.7833333333, 601931.5084745763, 582559.95, 522475.0833333333, 500840.0169491525, 477063.72881355934, 464570.2166666667, 453496.2833333333, 464136.8333333333, 485034.5423728814, 413145.5, 432669.95, 515055.2, 545228.593220339, 568753.9166666666, 591378.2666666667, 602652.3166666667, 575693.813559322, 565784.7833333333, 575340.3666666667, 554082.7833333333, 561040.9830508474, 649954.6166666667, 618392.55, 604254.5166666667, 612405.1186440678, 626432.05, 543370.5166666667, 513776.1186440678, 489410.6779661017, 476434.1666666667, 464883.15, 472656.9166666667, 507616.9491525424, 429513.05, 453811.93333333335, 523737.81666666665, 580880.8474576271, 593670.9333333333, 616957.7833333333, 593218.6166666667, 572899.7966101695, 0.0, 0.0, 0.0, 527223.5593220339, 643384.6333333333, 608155.8833333333, 599520.6, 604957.7627118644, 603685.6333333333, 541674.45, 515678.1186440678, 500167.5084745763, 478973.4166666667, 462203.5333333333, 467067.76666666666, 490612.25423728814, 416544.3, 443666.5333333333, 503815.75, 596340.8813559322, 570602.3833333333, 612302.6833333333, 574427.3166666667, 578110.1186440678, 596257.95, 540612.9333333333, 556721.7, 545003.3389830509, 604541.7166666667, 606722.05, 600480.75, 599494.9491525424, 603342.4, 528735.95, 513780.3220338983, 496189.72881355934, 475512.6666666667, 456937.13333333336, 456181.88333333336, 471641.8474576271, 392953.7166666667, 405156.63333333336, 445927.43333333335, 537253.0169491526, 547891.0, 529402.2, 579579.4666666667, 525461.779661017, 481988.18333333335, 487052.06666666665, 489194.31666666665, 489198.8474576271, 568149.2666666667, 582488.0, 572001.9333333333, 576702.779661017, 559297.8833333333, 534415.8, 511643.5254237288, 497676.9661016949, 486767.38333333336, 468234.8, 462807.76666666666, 468634.3898305085, 392670.4, 370192.7166666667, 392174.0, 458006.4406779661, 474270.13333333336, 476559.51666666666, 498668.18333333335, 504866.9830508475, 475296.5833333333, 436364.7833333333, 444326.15, 471417.37209302327, 574976.4680851063, 541929.9833333333, 529076.6833333333, 539681.0833333334, 526581.3898305085, 479005.4, 463321.89830508473, 443594.3, 429456.77966101695, 427071.3, 441404.6666666667, 436342.6666666667, 372033.6779661017, 379869.31666666665, 458090.43333333335, 549982.4, 558499.8644067796, 526201.5333333333, 539448.1333333333, 527846.5833333334, 551386.6101694915, 574984.9, 533142.0, 538145.55, 615924.0508474576, 596196.4833333333, 586763.7, 591162.6333333333, 577724.4406779661, 507282.18333333335, 483057.2033898305, 464898.8, 447387.593220339, 438056.36666666664, 440600.7166666667, 455358.76666666666, 383564.16949152545, 415868.1, 495738.86666666664, 586012.0666666667, 567134.8474576271, 568150.75, 604187.7333333333, 591860.4833333333, 568824.3728813559, 567245.25, 561676.6833333333, 538260.0, 639076.0, 616001.5166666667, 597522.1666666666, 578085.8, 565841.9830508474, 524667.9, 503460.27118644066, 483794.0833333333, 462107.4406779661, 455008.73333333334, 451355.06666666665, 464689.93333333335, 419440.76271186443, 428326.9666666667, 488985.5084745763, 564938.65, 572516.9, 526321.9666666667, 580821.1166666667, 546690.8166666667, 505438.5333333333, 583220.1694915254, 577355.8333333334, 555587.0666666667, 298207.0833333333, 0.0, 0.0, 585840.0333333333, 548052.9166666666, 519346.69491525425, 502691.4406779661, 479528.4, 460675.26666666666, 449796.77966101695, 453345.76666666666, 482747.73333333334, 392290.88333333336, 416848.10169491527, 489962.55, 582171.4833333333, 555704.4833333333, 583703.813559322, 583143.95, 540805.35, 518534.88333333336, 553608.6271186441, 566116.0, 521138.11666666664, 609729.9, 590181.3898305085, 574798.3333333334, 563746.9166666666, 566618.85, 501425.23728813557, 476510.4915254237, 462898.4, 447066.15, 436768.5593220339, 449869.38333333336, 457180.48333333334, 373753.4, 409910.74576271186, 483638.26666666666, 521709.98333333334, 514199.76666666666, 566703.9152542372, 550621.8166666667, 524251.23333333334, 527436.1666666666, 523826.10169491527, 543345.65, 519502.36666666664, 601727.2333333333, 587965.9491525424, 567595.6833333333, 562004.0333333333, 559820.6, 496700.0, 481320.18644067796, 467261.86666666664, 450838.38333333336, 444778.69491525425, 465033.75, 448425.5833333333, 373442.61666666664, 373799.25423728814, 434146.15, 498558.0833333333, 468665.18333333335, 531618.5423728813, 491355.15, 503046.0333333333, 475370.4166666667, 491551.13559322036, 442044.0833333333, 447468.15, 584293.3333333334, 583347.0508474576, 561428.1666666666, 549550.5333333333, 541327.55, 507409.9491525424, 486480.5084745763, 473748.26666666666, 457755.95, 437806.8474576271, 442064.0333333333, 458531.6666666667, 369600.4666666667, 351765.1186440678, 405440.73333333334, 435982.81666666665, 479788.5833333333, 501861.1186440678, 508063.51666666666, 490340.2833333333, 467641.48333333334, 437220.593220339, 434846.73333333334, 467589.4666666667, 578557.5833333334, 562922.6440677966, 540548.95, 546528.0333333333, 528843.95, 488532.57627118647, 473813.8474576271, 461619.6666666667, 451586.0833333333, 445095.35, 446673.3559322034, 451630.55, 391215.8, 397386.0833333333, 452243.74576271186, 551307.5833333334, 565594.8666666667, 605800.1166666667, 666276.1186440678, 676829.45, 664953.4, 661068.7833333333, 664965.2711864407, 661796.05, 694561.1666666666, 646580.05, 602147.7288135593, 619414.35, 603294.5833333334, 544696.0666666667, 0.0, 0.0, 0.0, 0.0, 477477.71186440677, 494901.7, 411774.8, 437504.15, 500716.77966101695, 609595.2833333333, 630982.45, 641966.9166666666, 660837.1355932204, 645029.6833333333, 649333.2333333333, 668335.25, 651024.1186440678, 605951.15, 651431.0, 605794.95, 594863.5084745763, 589890.5333333333, 572606.7, 514035.36666666664, 485847.5172413793, 477553.05, 461873.95, 459668.88333333336, 462396.74576271186, 468974.01666666666, 391751.06666666665, 423249.18333333335, 498395.9152542373, 609329.7666666667, 686731.2, 681776.35, 694799.5254237289, 654805.7166666667, 672578.5166666667, 719531.6, 685506.593220339, 610493.0166666667, 607935.7, 602459.25, 619788.3050847457, 598213.8666666667, 565091.15, 513960.2833333333, 494931.6440677966, 482178.56666666665, 462574.31666666665, 453778.3, 455237.3728813559, 471002.26666666666, 398240.6, 409536.63333333336, 489037.89830508473, 576086.7166666667, 629686.0333333333, 608058.5666666667, 606198.5254237289, 561765.3166666667, 581659.8833333333, 554253.1333333333, 531439.1694915254, 531424.9333333333, 612063.0, 608287.5666666667, 582684.0163934426, 551606.1111111111, 533695.95, 506049.5333333333, 488501.2033898305, 471938.33898305084, 462526.3333333333, 456433.43333333335, 467071.51666666666, 474926.27118644066, 378493.7, 376171.06666666665, 0.0, 0.0, 0.0, 480423.0333333333, 519557.7, 471071.23728813557, 432424.4166666667, 444882.9666666667, 420594.88333333336, 448294.593220339, 547478.4333333333, 562654.1833333333, 531749.5666666667, 528898.4237288135, 527041.8333333334, 493457.63333333336, 483702.5254237288, 470493.2033898305, 460923.98333333334, 454027.6, 458414.9166666667, 458983.7966101695, 395160.73333333334, 381384.63333333336, 417803.55, 461790.13559322036, 471635.5, 506666.6, 522026.15, 494118.25, 468260.26785714284, 485844.55, 453875.56666666665, 462726.25, 555485.1016949152, 551716.7833333333, 546170.5333333333, 567577.1, 520584.406779661, 492685.63333333336, 480734.1186440678, 468940.9166666667, 463759.10169491527, 459567.4666666667, 457606.55, 474552.26666666666, 361226.6440677966, 376370.5333333333, 406989.9166666667, 459391.38333333336, 520528.72881355934, 515570.5833333333, 514314.5333333333, 520911.88333333336, 472370.22033898305, 502825.51666666666, 473767.5333333333, 469157.2166666667, 572462.9830508474, 579104.9833333333, 564423.2333333333, 559466.95, 528567.2711864407, 505781.75, 492564.66101694916, 473442.8, 464862.27118644066, 459642.5333333333, 471384.7833333333, 470320.3333333333, 399065.5593220339, 418583.8, 473918.45, 606785.9, 705188.7627118644, 745374.0166666667, 796512.5333333333, 722211.4, 759311.6440677966, 0.0, 0.0, 0.0, 688861.2542372881, 678145.8166666667, 626322.2166666667, 641675.6833333333, 603473.9322033898, 569283.65, 537963.4745762711, 517196.1, 491923.6271186441, 489824.5, 498872.8333333333, 500411.73333333334, 402949.0508474576, 446946.6, 514174.38333333336, 632968.4833333333, 651075.5762711865, 730559.7333333333, 688115.5166666667, 676287.1166666667, 706663.4576271187, 752008.1666666666, 722451.6333333333, 683864.9333333333, 718008.8813559322, 653321.8333333334, 639907.1166666667, 633982.9333333333, 583525.6779661017, 546865.4833333333, 523461.0677966102, 498780.95, 477368.30508474575, 471796.06666666665, 468163.0333333333, 452039.85, 409849.74576271186, 473624.5, 513810.65, 621009.4, 706016.5593220339, 698984.25, 654363.2166666667, 608149.0333333333, 672974.5423728813, 710823.2166666667, 727616.3666666667, 642822.65, 684091.4237288135, 675754.4833333333, 632079.1, 609917.6833333333, 585323.8983050848, 542221.2666666667, 518721.0338983051, 498395.01666666666, 480779.25423728814, 470570.8333333333, 477994.38333333336, 485768.2833333333, 404262.33898305084, 451199.11666666664, 515762.45, 645099.2833333333, 682145.3220338983, 730158.55, 713856.9666666667, 673453.9, 713934.0677966102, 791411.7, 755566.7166666667, 683903.1833333333, 676272.3389830509, 660219.3833333333, 628487.25, 613993.4333333333, 586121.5762711865, 544206.4833333333, 508122.25423728814, 492435.0333333333, 476358.25423728814, 465128.48333333334, 478227.0333333333, 483790.18333333335, 391612.75, 421985.4576271186, 506084.98333333334, 636566.4166666666, 687754.1166666667, 686461.220338983, 691812.4166666666, 695699.3166666667, 704134.55, 737358.7966101695, 701169.9666666667, 648358.55, 698004.8666666667, 0.0, 0.0, 0.0, 0.0, 535408.8644067796, 515464.9830508475, 501638.8333333333, 485692.7, 468736.16949152545, 472158.15, 493794.7833333333, 408848.0, 419105.57627118647, 461888.75, 549530.5333333333, 590056.1, 614996.1016949152, 607974.0166666667, 582670.75, 580110.3, 585781.406779661, 505010.13333333336, 564576.65, 616772.8333333334, 633397.1016949152, 600782.5333333333, 602446.0833333334, 580524.1, 549673.6440677966, 526094.6101694915, 509016.68333333335, 493675.7833333333, 484473.9152542373, 487024.55, 505802.13333333336, 393807.88333333336, 393432.27118644066, 429226.3, 501207.1, 517877.85, 560981.8305084746, 578294.9333333333, 526570.9166666666, 500208.98333333334, 509629.593220339, 500675.4166666667, 495341.88333333336, 572866.1, 612009.3220338983, 588742.2, 590862.55, 584445.3833333333, 528485.4406779661, 505988.9491525424, 485490.18333333335, 468674.56666666665, 457611.593220339, 459903.75, 472565.95, 385891.25, 423097.33898305084, 488842.81666666665, 661865.5666666667, 771212.95, 772971.7288135593, 808171.7, 727689.8833333333, 755577.7666666667, 848200.5762711865, 827536.6666666666, 721281.1833333333, 758683.4666666667, 719454.8644067796, 688984.05, 649373.7166666667, 656963.8333333334, 601956.779661017, 563163.0508474576, 531167.8666666667, 508113.8333333333, 495391.28813559323, 497959.4, 0.0, 0.0, 0.0, 0.0, 693910.3333333334, 775708.1833333333, 782936.4745762711, 853731.35, 793419.7, 810507.55, 892085.4237288135, 871628.9, 733998.1833333333, 768956.7833333333, 749739.6949152543, 701163.75, 687238.9166666666, 644539.4166666666, 585176.966101695, 560257.4237288135, 536174.0666666667, 517156.4166666667, 498048.74576271186, 512308.2833333333, 509202.81666666665, 433747.05, 493789.4915254237, 566215.0166666667, 691362.8166666667, 808246.3, 838295.9322033898, 859196.6666666666, 811833.1666666666, 820172.3166666667, 850894.8813559322, 878803.1, 748894.15, 753247.7833333333, 717216.4745762711, 679044.5166666667, 674420.7333333333, 645062.1833333333, 602916.5593220339, 563396.220338983, 544835.1, 521451.73333333334, 497545.8813559322, 499204.6666666667, 509449.3, 434456.9, 505511.0677966102, 580447.75, 728536.25, 810766.5737704918, 849890.9833333333, 733902.05, 735668.3333333334, nan, nan, nan, nan, 748224.95, 747927.7288135593, 699267.25, 663454.7, 633661.4333333333, 584146.6271186441, 558278.6949152543, 536552.6333333333, 509411.4, 499205.0, 507465.65, 498375.85, 429478.55, 511802.5423728814, 597763.4, 757417.1666666666, 824144.5, 854943.3728813559, 849103.45, 834795.8833333333, 816033.4666666667, 897728.6101694915, 807707.9, 726954.4166666666, 741684.5666666667, 732143.2711864407, 714472.05, 689944.2666666667, 668938.8166666667, 592584.1694915254, 571867.0169491526, 550577.8166666667, 526051.3833333333, 518350.5593220339, 517610.63333333336, 507103.15, 436323.86666666664, 453743.6779661017, 507834.38333333336, 601333.7, 630170.2166666667, 626756.6949152543, 663974.4, 630197.65, 628259.3833333333, 683863.4237288135, 617192.0166666667, 602560.7166666667, 688326.95, 667485.2033898305, 644124.5666666667, 656323.7, 610359.55, 563846.1186440678, 537003.2372881356, 522456.85, 503877.2833333333, 490999.66101694916, 489338.45, 479431.65, 415251.95, 411789.0677966102, 452680.5833333333, 523790.48333333334, 559934.6333333333, 565812.8813559322, 552415.8666666667, 563572.8333333334, 586039.1333333333, 555619.8474576271, 525750.65, 552708.0333333333, 644882.85, 650217.9152542372, 621311.2833333333, 593936.7833333333, 560817.85, 536200.186440678, 506963.66101694916, 489884.98333333334, 473165.48333333334, 477475.6271186441, 466917.26666666666, 455880.98333333334, 390232.8, 453471.6779661017, 524137.43333333335, 671329.7833333333, 795829.85, 826833.220338983, 829204.1833333333, 804469.5333333333, 811692.2833333333, 891132.8813559322, 837695.1333333333, 755190.0333333333, 720758.0, 0.0, 0.0, 0.0, 607151.2666666667, 566340.9322033898, 536956.5593220339, 520706.0333333333, 498474.88333333336, 489585.4576271186, 510290.26666666666, 483168.93333333335, 425564.7166666667, 454600.57627118647, 547749.9, 730337.3333333334, 771251.0, 764174.9491525424, 826549.6166666667, 760980.2833333333, 797204.1166666667, 867833.2711864407, 879054.3833333333, 725423.9666666667, 707774.0, 705739.8813559322, 687764.8, 652234.0, 625728.8833333333, 587946.0677966102, 550922.8644067796, 537015.2166666667, 514077.18333333335, 498634.6101694915, 502241.4, 477306.55, 420585.3333333333, 464550.81355932204, 535381.05, 748098.95, 836214.6666666666, 865304.7627118644, 892314.2666666667, 864399.2333333333, 912094.4166666666, 933105.220338983, 894218.3833333333, 790166.7333333333, 789759.8833333333, 728227.1186440678, 674061.7833333333, 663898.8833333333, 661910.7333333333, 641904.2, 594059.6896551724, 566403.3333333334, 541571.2, 524539.2333333333, 541481.5254237289, 514060.88333333336, 448943.3333333333, 498226.9666666667, 552268.6779661017, 755868.2666666667, 923334.8833333333, 934319.0666666667, 967819.406779661, 911984.7666666667, 927958.55, 1009438.2666666667, 947727.5593220339, 817538.8333333334, 808317.3333333334, 751784.35, 699503.3559322034, 701642.6166666667, 677599.1, 633454.2666666667, 593690.0862068966, 568728.2, 540515.5, 537582.7, 530584.7966101695, 512789.55, 458355.95, 505770.35, 564577.3389830509, 779521.4333333333, 918505.2666666667, 952137.7, 905287.3050847457, 859153.6666666666, 914576.75, 946473.5666666667, 899615.6440677966, 800236.7666666667, 771508.0666666667, 727305.1166666667, 682359.8813559322, 691039.4333333333, 672493.2, 604474.55, 571551.9137931034, 551783.75, 529583.65, 521822.88333333336, 519491.0847457627, 485597.5, 464580.8, 469584.15, 509324.3559322034, 595134.5166666667, 659609.1, 680501.9166666666, 697535.0508474576, 648302.15, 654962.45, 685753.55, 634552.3050847457, 663248.8333333334, 729110.2833333333, 741845.9333333333, 687982.1355932204, 705654.45, 673333.7666666667, 604579.2166666667, 574063.8103448276, 549441.9666666667, 526534.6, 512301.8, 507840.8474576271, 490416.63333333336, 427178.6666666667, 444809.26666666666, 489841.10169491527, 573014.4833333333, 649214.05, 660909.6333333333, 653765.2372881356, 618323.8, 644712.9, 645266.0, 609473.0677966102, 617585.3333333334, 697292.9833333333, 701401.6666666666, 634349.0169491526, 614780.8333333334, 614016.55, 565455.85, 540956.4827586206, 526181.15, 505639.85, 520588.65, 540490.813559322, 483437.11666666664, 424611.4666666667, 449859.5, 508878.10169491527, 756684.55, 856380.7166666667, 903588.1833333333, 942038.4915254237, 900699.4833333333, 944353.1666666666, 978628.6833333333, 895945.5254237289, 790849.4426229508, 659020.8103448276, 673866.2, 632979.4333333333, 636184.1833333333, 606298.8474576271, 549830.4666666667, 526297.6271186441, 508657.4666666667, 490981.4745762712, 486079.9166666667, 486474.88333333336, 457523.5, 388248.593220339, 434575.11666666664, 497431.5833333333, 611035.3833333333, 744741.813559322, 944619.3666666667, 954518.0666666667, 953559.0166666667, 1006763.4915254237, 1026166.7, 1006799.2, 887605.6166666667, 803705.8983050848, 806054.8, 712288.9, 677479.7166666667, 662817.4576271187, 616710.9, 580568.593220339, 555210.8, 518401.406779661, 502027.3333333333, 516046.5, 485232.36666666664, 424871.9322033898, 484493.3, 571950.0166666667, 747902.4666666667, 966417.779661017, 969606.1666666666, 930886.9833333333, 893954.2166666667, 917416.5423728813, 981182.6, 921009.7833333333, 819640.1333333333, 785364.406779661, 737567.9333333333, 701789.4666666667, 684772.6166666667, 655131.9322033898, 620005.4666666667, 600194.5084745763, 580933.9333333333, 555245.2372881356, 540899.9, 546622.9, 497653.76666666666, 440233.6440677966, 464683.8, 523704.5, nan, nan, nan, nan, 742907.4615384615, 0.0, 0.0, 0.0, 647142.9322033898, 731165.9833333333, 751704.6333333333, 709683.6333333333, 678644.6779661017, 647021.2666666667, 602554.95, 574836.3389830509, 552980.779661017, 540728.1666666666, 523439.4666666667, 546393.1666666666, 498095.86440677964, 454634.4166666667, 474020.76666666666, 517199.48333333334, 630153.3220338983, 704529.45, 698270.8833333333, 727128.5666666667, 688165.8983050848, 683025.2833333333, 738595.2666666667, 741086.3166666667, 691635.9322033898, 758041.85, 749040.9833333333, 709854.9833333333, 702788.6949152543, 649851.4833333333, 596423.4833333333, 560236.1525423729, 550548.6101694915, 524819.6666666666, 507603.48333333334, 500863.61666666664, 488835.0169491525, 431975.93333333335, 448806.9, 484153.4666666667, 562923.4915254237, 689428.0, 675239.95, 672795.9833333333, 652468.4237288135, 685299.2, 664787.0833333334, 602572.2833333333, 585787.9322033898, 686624.35, 674338.0166666667, 660024.85, 675605.0, 602980.6, 570015.8333333334, 544087.779661017, 534229.7666666667, 518053.9152542373, 501380.98333333334, 505908.95, 467476.13333333336, 419343.10169491527, 411239.7166666667, 450514.6666666667, 511794.9166666667, 585354.406779661, 582747.9, 597678.3666666667, 596630.8166666667, 0.0, 0.0, 0.0, 593535.5333333333, 669279.9491525424, 675548.2666666667, 665249.4166666666, 635181.3666666667, 595488.2372881356, 562390.4166666666, 534187.7288135593, 512902.2166666667, 497684.57627118647, 512323.7, 510454.4666666667, 479991.2833333333, 426879.5423728814, 467693.26666666666, 546617.1666666666, 711658.9333333333, 975758.0, 959621.9333333333, 970644.05, 903047.05, 964289.6440677966, 962224.8, 918388.3, 861815.6833333333, 809267.1016949152, 770955.85, 716572.6, 700644.3333333334, 688689.3559322034, 626601.9, 583885.4576271187, 559137.7833333333, 525357.1694915254, 512919.13333333336, 538772.65, 473607.3, 456276.9322033898, 478420.5833333333, 569423.15, 804583.5333333333, 972181.2372881356, 1008650.0333333333, 1088163.05, 972767.9833333333, 1020201.1186440678, 1088452.0, 994629.25, 879092.6666666666, 859366.4406779661, 822259.2666666667, 743872.3833333333, 693431.0833333334, 706216.8474576271, 670763.2333333333, 615810.6271186441, 585852.9, 560326.186440678, 557145.8666666667, 540901.2, 483097.95, 458022.86440677964, 518551.75, 582352.8166666667, 899237.8, 1137771.186440678, 1204868.8333333333, 1162971.0, 1119522.0, 1125284.5762711863, 1152635.6666666667, 1142225.5, 1027717.55, 953690.3220338983, 846263.75, 769744.3666666667, 772857.15, 735891.2881355932, 668538.2, 630980.0847457628, 591454.0833333334, 558884.7966101695, 567997.0666666667, 564950.7166666667, 505601.98333333334, 460060.42372881353, 538162.4, 607438.5333333333, 0.0, 0.0, 0.0, 1053075.5, 997148.9833333333, 1009802.0508474576, 1067807.0, 1034195.2166666667, 908893.95, 868109.7118644068, 828790.4166666666, 757290.8833333333, 741853.3333333334, 717337.5762711865, 667585.6, 621329.5762711865, 588292.3333333334, 557994.9491525424, 557876.8666666667, 561027.2, 519189.4166666667, 469978.71186440677, 509615.1666666667, 580611.2333333333, 851962.75, 1061427.06779661, 1115997.5, 1155308.5, 1020399.3333333334, 1051614.0508474577, 1069471.6666666667, 1081949.2333333334, 969816.1, 850739.1525423729, 831335.8666666667, 758039.2166666667, 742342.1833333333, 697992.8305084746, 672162.1333333333, 610372.6779661017, 578510.6166666667, 557794.0508474576, 548699.4666666667, 555710.35, 503531.93333333335, 479399.76271186443, 496261.45, 537298.0666666667, 639296.0, 783600.6271186441, 773198.6333333333, 790548.2166666667, 745843.5, 738036.6101694915, 717347.3333333334, 728619.5333333333, 669198.6166666667, 757348.7118644068, 737894.5833333334, 699763.1166666667, 677073.75, 679892.6949152543, 637493.0, 603401.966101695, 576377.6333333333, 540713.779661017, 532449.7, 522199.7833333333, 504916.9666666667, 458831.25423728814, 462795.7166666667, 494542.18333333335, 569494.7, 614016.0847457628, 622514.9333333333, 646949.7833333333, 650920.55, 624856.9322033898, 672983.7, 600223.9666666667, 607767.25, 687446.9491525424, 689294.6666666666, 685049.4166666666, 0.0, 0.0, 0.0, 558353.2542372881, 539870.25, 521331.76271186443, 513835.0, 512786.68333333335, 476781.8333333333, 459717.6440677966, 512322.13333333336, 590793.5, 867553.8833333333, 1093903.220338983, 1144632.1666666667, 1147373.0, 1068362.3333333333, 1049136.9491525423, 1144903.5, 1133975.5, 978514.85, 893216.7457627119, 842678.0333333333, 765741.7, 772780.0333333333, 740403.8644067796, 689351.6333333333, 628268.6101694915, 597172.3, 560054.1694915254, 553558.45, 552137.0666666667, 510101.51666666666, 474375.71186440677, 535909.7, 653520.7666666667, 892655.05, 1034434.7118644068, 1106518.2666666666, 1119322.3333333333, 912562.1666666666, 946613.0847457628, 1016718.4166666666, 1036767.9166666666, 905245.0666666667, 861774.8983050848, 798118.7166666667, 751928.85, 734513.15, 693808.0677966102, 640828.6, 594746.8305084746, 571194.7, 554201.1, 537187.1355932204, 528811.9333333333, 517175.73333333334, 507548.4, 541784.406779661, 635808.2333333333, 915438.95, 1100314.1666666667, 1162775.7627118644, 1141166.3333333333, 1073980.1666666667, 1068373.4333333333, 1145427.25, 899901.6666666666, 845760.2, 869843.7, 825268.25, 762925.6271186441, 736972.3833333333, 730207.2, 660005.5, 624030.6724137932, 599010.2833333333, 573702.6833333333, 557016.1, 555636.8474576271, 528806.1475409836, 476759.5090909091, 535652.9166666666, 632067.2833333333, 866162.5833333334, 1015577.2033898305, 1057180.0333333334, 990400.55, 933694.9, 948932.406779661, 1064775.5166666666, 1039639.4166666666, 919343.5166666667, 851359.3220338983, 809416.0666666667, 760313.1833333333, 739293.9833333333, 747186.1525423729, 668709.9166666666, 627694.3389830509, 605819.75, 576007.2711864407, 559925.4, 550537.65, 525174.5333333333, 488895.4745762712, 544775.95, 670864.55, 945919.95, 1161154.0, 1232549.1666666667, 1173713.8333333333, 1064769.3220338982, 1101636.1666666667, 0.0, 0.0, 0.0, 859880.0833333334, 796652.4333333333, 718564.5833333334, 725150.4576271187, 677261.8166666667, 628389.8666666667, 591185.1186440678, 563531.8644067796, 537937.35, 522280.73333333334, 553973.3833333333, 496995.77966101695, 457636.0833333333, 466536.23333333334, 537877.2333333333, 665149.186440678, 793998.2666666667, 779017.6, 816815.8, 772375.8644067796, 793358.7166666667, 798789.3833333333, 763183.8833333333, 702872.4745762711, 761950.3333333334, 735906.8333333334, 737927.05, 711827.593220339, 688181.4166666666, 633714.4666666667, 598459.3220338983, 578310.033898305, 554303.85, 540557.6666666666, 530097.15, 507690.593220339, 449117.2, 473663.13333333336, 512329.5833333333, 612212.6610169491, 651930.8166666667, 656059.5166666667, 734587.45, 686633.3728813559, 710581.95, 747232.5666666667, 742374.4666666667, 678765.2372881356, 723425.2833333333, 720718.7, 679248.75, 693049.033898305, 665136.15, 636838.9833333333, 603847.2372881356, 574022.0677966102, 551571.1333333333, 531070.45, 542871.1333333333, 519608.77966101695, 499432.45, 514222.0833333333, 676167.131147541, 969925.5660377359, 1213636.3333333333, 1361725.1666666667, 1326290.3333333333, 1184889.6610169492, 1214581.3333333333, 1299389.0, 1379125.6666666667, 1184181.8644067796, 977605.5, 846534.6440677966, 811128.0666666667, 794285.1, 802511.8333333334, 747443.25, 704730.4385964912, 671051.8666666667, 632655.75, 605079.8666666667, 0.0, 0.0, 0.0, 605101.7, 778525.2881355932, 1183784.9666666666, 1408090.6666666667, 1470464.5, 1449593.0508474577, 1335319.8333333333, 1378689.0, 1469772.6666666667, 1421533.7288135593, 1300325.3333333333, 1108758.6666666667, 972281.5762711865, 904982.3666666667, 862879.3050847457, 873693.65, 812922.3666666667, 738944.779661017, 685224.220338983, 623684.25, 607772.55, 596882.9166666666, 562631.6440677966, 552778.7666666667, 588597.3666666667, 712321.0166666667, 1077398.4745762711, 1357594.0, 1384196.8333333333, 1456328.1666666667, 1392819.6610169492, 1387769.8333333333, 1427878.6666666667, 1324468.8333333333, 1128171.0169491526, 1031669.6333333333, 893260.0166666667, 846529.7166666667, 815346.3220338983, 778281.55, 756610.7666666667, 725052.1355932204, 689148.033898305, 635034.6, 608313.1666666666, 612558.0333333333, 577019.0169491526, 528173.9666666667, 633781.7166666667, 797338.8833333333, 1142587.93220339, 1358865.5, 1413543.8333333333, 1437373.6666666667, 1322685.593220339, 1372923.8333333333, 1407110.6666666667, 1227545.5, 1158988.6440677966, 963006.65, 866386.2333333333, 829716.8, 806594.1186440678, 851861.9333333333, 798315.8166666667, 751198.5423728813, 699481.966101695, 642077.4333333333, 616849.7833333333, 649155.0, 590282.7966101695, 559011.3333333334, 582065.6166666667, 701684.7166666667, 1037196.8474576271, 0.0, 0.0, 0.0, 1279810.5084745763, 1346172.5, 1360922.1666666667, 1325324.0, 1121901.1355932204, 967499.2166666667, 875749.2333333333, 846624.85, 849530.1694915254, 847681.7166666667, 809304.4, 754619.4745762711, 713261.6949152543, 674429.6, 641265.0, 611691.5833333334, 564155.0847457628, 568633.5666666667, 572010.0166666667, 612145.3333333334, 806344.033898305, 952924.35, 925235.3666666667, 952879.7166666667, 915029.3559322034, 945394.7333333333, 984189.0, 914908.35, 895732.8644067796, 891326.3166666667, 866247.4666666667, 798958.05, 818835.7966101695, 839147.1, 778145.1833333333, 737501.3728813559, 711013.186440678, 664321.85, 630444.7833333333, 623362.9166666666, 573554.3559322034, 491510.5, 514831.6, 590308.3333333334, 731551.593220339, 789685.5833333334, 807497.55, 852028.1166666667, 806095.4915254237, 807934.6333333333, 806526.9166666666, 780350.1333333333, 764755.1186440678, 852727.7333333333, 859762.2666666667, 806998.3666666667, 793066.406779661, 822202.0333333333, 750415.3833333333, 691037.0, 652505.7627118644, 627371.4, 619982.1666666666, 606836.2833333333, 569770.0677966102, 518000.0833333333, 552424.3166666667, 659380.9, 981024.5762711865, 1244157.8333333333, 1313576.1666666667, 1280420.5, 1213129.4915254237, 1283208.8333333333, 1325541.3333333333, 1272090.1666666667, 0.0, 0.0, 0.0, 780128.6833333333, 767090.3728813559, 783157.35, 733187.2, 699020.220338983, 658884.4745762711, 632857.65, 619885.7333333333, 629007.1333333333, 574259.2033898305, 536860.2166666667, 576766.8666666667, 698995.75, 947812.9830508474, 1147168.1666666667, 1194361.1666666667, 1142566.0, 1087752.0338983051, 1142483.1666666667, 1171833.6666666667, 1178096.3333333333, 1046809.1186440678, 966459.8666666667, 881380.45, 834324.8666666667, 792049.3559322034, 791966.4333333333, 764424.05, 706225.5762711865, 683507.9491525424, 653736.35, 633024.0166666667, 623162.3833333333, 581162.2833333333, 538884.7457627119, 592414.2833333333, 736880.7166666667, 968390.5333333333, 1187565.593220339, 1186859.8333333333, 1227331.6666666667, 1155109.3333333333, 1153238.4745762711, 1188516.3333333333, 1224791.8333333333, 1040003.1166666667, 916419.5762711865, 894603.8, 835744.2166666667, 809433.4333333333, 793510.8983050848, 771785.5, 726738.1525423729, 709155.4666666667, 680217.6101694915, 662565.5166666667, 623853.9833333333, 581535.4, 529931.2033898305, 609791.2166666667, 698544.1333333333, 1014023.1, 1278568.813559322, 1326050.0, 1315321.1666666667, 1251000.1666666667, 1317238.813559322, 1355813.6666666667, 1321756.1666666667, 1116853.3166666667, 989168.8305084746, 910150.4666666667, 849786.7833333333, 808503.2833333333, 808621.2881355932, 757173.8166666667, 708618.186440678, 680868.9166666666, 650627.0677966102, 627253.1166666667, 617816.6833333333, 571422.0333333333, 522439.1186440678, 583233.1666666666, 710881.9333333333, 945021.7666666667, 1239016.440677966, 1267979.1666666667, 0.0, 0.0, 0.0, 1208818.3333333333, 1222513.5, 1075660.9, 929336.1525423729, 870467.0, 826814.7666666667, 799137.0333333333, 752381.8474576271, 733927.35, 691239.1525423729, 654277.0166666667, 626810.3220338983, 610052.8, 609618.1333333333, 575113.0833333334, 506584.1525423729, 546921.5166666667, 672465.1333333333, 835612.3833333333, 974869.5762711865, 953868.0166666667, 1040734.1166666667, 979774.7166666667, 972518.6610169491, 1009207.2333333333, 944967.3, 849839.4666666667, 828526.4237288135, 834125.65, 784597.4666666667, 740608.3333333334, 746326.0169491526, 714468.4666666667, 660511.9830508474, 631736.2, 610887.9491525424, 589727.5666666667, 600663.4, 538227.8, 479177.9661016949, 500492.2833333333, 583240.6333333333, 644326.8166666667, 798941.1525423729, 762769.9166666666, 771515.9, 735991.45, 794262.5762711865, 801162.0333333333, 742673.1166666667, 717930.0166666667, 777375.8813559322, 762459.0, 752443.6666666666, 744118.4833333333, 727099.4576271187, 687590.5166666667, 648637.6610169491, 612097.4333333333, 580138.0, 540101.7472527473, 471526.5714285714, nan, 386634.0408163265, 417352.6666666667, 470563.05, 592334.45, 767419.6779661017, 809882.15, 808091.2, 771151.75, 790736.3050847457, 807426.9166666666, 857290.5166666667, 751121.4, 817647.0677966102, 852359.6333333333, 816585.65, 0.0, 0.0, 0.0]\n",
            "['2017-11-01 00', '2017-11-01 01', '2017-11-01 02', '2017-11-01 03', '2017-11-01 04', '2017-11-01 05', '2017-11-01 06', '2017-11-01 07', '2017-11-01 08', '2017-11-01 09', '2017-11-01 10', '2017-11-01 11', '2017-11-01 12', '2017-11-01 13', '2017-11-01 14', '2017-11-01 15', '2017-11-01 16', '2017-11-01 17', '2017-11-01 18', '2017-11-01 19', '2017-11-01 20', '2017-11-01 21', '2017-11-01 22', '2017-11-01 23', '2017-11-02 00', '2017-11-02 01', '2017-11-02 02', '2017-11-02 03', '2017-11-02 04', '2017-11-02 05', '2017-11-02 06', '2017-11-02 07', '2017-11-02 08', '2017-11-02 09', '2017-11-02 10', '2017-11-02 11', '2017-11-02 12', '2017-11-02 13', '2017-11-02 14', '2017-11-02 15', '2017-11-02 16', '2017-11-02 17', '2017-11-02 18', '2017-11-02 19', '2017-11-02 20', '2017-11-02 21', '2017-11-02 22', '2017-11-02 23', '2017-11-03 00', '2017-11-03 01', '2017-11-03 02', '2017-11-03 03', '2017-11-03 04', '2017-11-03 05', '2017-11-03 06', '2017-11-03 07', '2017-11-03 08', '2017-11-03 09', '2017-11-03 10', '2017-11-03 11', '2017-11-03 12', '2017-11-03 13', '2017-11-03 14', '2017-11-03 15', '2017-11-03 16', '2017-11-03 17', '2017-11-03 18', '2017-11-03 19', '2017-11-03 20', '2017-11-03 21', '2017-11-03 22', '2017-11-03 23', '2017-11-04 00', '2017-11-04 01', '2017-11-04 02', '2017-11-04 03', '2017-11-04 04', '2017-11-04 05', '2017-11-04 06', '2017-11-04 07', '2017-11-04 08', '2017-11-04 09', '2017-11-04 10', '2017-11-04 11', '2017-11-04 12', '2017-11-04 13', '2017-11-04 14', '2017-11-04 15', '2017-11-04 16', '2017-11-04 17', '2017-11-04 18', '2017-11-04 19', '2017-11-04 20', '2017-11-04 21', '2017-11-04 22', '2017-11-04 23', '2017-11-05 00', '2017-11-05 01', '2017-11-05 02', '2017-11-05 03', '2017-11-05 04', '2017-11-05 05', '2017-11-05 06', '2017-11-05 07', '2017-11-05 08', '2017-11-05 09', '2017-11-05 10', '2017-11-05 11', '2017-11-05 12', '2017-11-05 13', '2017-11-05 14', '2017-11-05 15', '2017-11-05 16', '2017-11-05 17', '2017-11-05 18', '2017-11-05 19', '2017-11-05 20', '2017-11-05 21', '2017-11-05 22', '2017-11-05 23', '2017-11-06 00', '2017-11-06 01', '2017-11-06 02', '2017-11-06 03', '2017-11-06 04', '2017-11-06 05', '2017-11-06 06', '2017-11-06 07', '2017-11-06 08', '2017-11-06 09', '2017-11-06 10', '2017-11-06 11', '2017-11-06 12', '2017-11-06 13', '2017-11-06 14', '2017-11-06 15', '2017-11-06 16', '2017-11-06 17', '2017-11-06 18', '2017-11-06 19', '2017-11-06 20', '2017-11-06 21', '2017-11-06 22', '2017-11-06 23', '2017-11-07 00', '2017-11-07 01', '2017-11-07 02', '2017-11-07 03', '2017-11-07 04', '2017-11-07 05', '2017-11-07 06', '2017-11-07 07', '2017-11-07 08', '2017-11-07 09', '2017-11-07 10', '2017-11-07 11', '2017-11-07 12', '2017-11-07 13', '2017-11-07 14', '2017-11-07 15', '2017-11-07 16', '2017-11-07 17', '2017-11-07 18', '2017-11-07 19', '2017-11-07 20', '2017-11-07 21', '2017-11-07 22', '2017-11-07 23', '2017-11-08 00', '2017-11-08 01', '2017-11-08 02', '2017-11-08 03', '2017-11-08 04', '2017-11-08 05', '2017-11-08 06', '2017-11-08 07', '2017-11-08 08', '2017-11-08 09', '2017-11-08 10', '2017-11-08 11', '2017-11-08 12', '2017-11-08 13', '2017-11-08 14', '2017-11-08 15', '2017-11-08 16', '2017-11-08 17', '2017-11-08 18', '2017-11-08 19', '2017-11-08 20', '2017-11-08 21', '2017-11-08 22', '2017-11-08 23', '2017-11-09 00', '2017-11-09 01', '2017-11-09 02', '2017-11-09 03', '2017-11-09 04', '2017-11-09 05', '2017-11-09 06', '2017-11-09 07', '2017-11-09 08', '2017-11-09 09', '2017-11-09 10', '2017-11-09 11', '2017-11-09 12', '2017-11-09 13', '2017-11-09 14', '2017-11-09 15', '2017-11-09 16', '2017-11-09 17', '2017-11-09 18', '2017-11-09 19', '2017-11-09 20', '2017-11-09 21', '2017-11-09 22', '2017-11-09 23', '2017-11-10 00', '2017-11-10 01', '2017-11-10 02', '2017-11-10 03', '2017-11-10 04', '2017-11-10 05', '2017-11-10 06', '2017-11-10 07', '2017-11-10 08', '2017-11-10 09', '2017-11-10 10', '2017-11-10 11', '2017-11-10 12', '2017-11-10 13', '2017-11-10 14', '2017-11-10 15', '2017-11-10 16', '2017-11-10 17', '2017-11-10 18', '2017-11-10 19', '2017-11-10 20', '2017-11-10 21', '2017-11-10 22', '2017-11-10 23', '2017-11-11 00', '2017-11-11 01', '2017-11-11 02', '2017-11-11 03', '2017-11-11 04', '2017-11-11 05', '2017-11-11 06', '2017-11-11 07', '2017-11-11 08', '2017-11-11 09', '2017-11-11 10', '2017-11-11 11', '2017-11-11 12', '2017-11-11 13', '2017-11-11 14', '2017-11-11 15', '2017-11-11 16', '2017-11-11 17', '2017-11-11 18', '2017-11-11 19', '2017-11-11 20', '2017-11-11 21', '2017-11-11 22', '2017-11-11 23', '2017-11-12 00', '2017-11-12 01', '2017-11-12 02', '2017-11-12 03', '2017-11-12 04', '2017-11-12 05', '2017-11-12 06', '2017-11-12 07', '2017-11-12 08', '2017-11-12 09', '2017-11-12 10', '2017-11-12 11', '2017-11-12 12', '2017-11-12 13', '2017-11-12 14', '2017-11-12 15', '2017-11-12 16', '2017-11-12 17', '2017-11-12 18', '2017-11-12 19', '2017-11-12 20', '2017-11-12 21', '2017-11-12 22', '2017-11-12 23', '2017-11-13 00', '2017-11-13 01', '2017-11-13 02', '2017-11-13 03', '2017-11-13 04', '2017-11-13 05', '2017-11-13 06', '2017-11-13 07', '2017-11-13 08', '2017-11-13 09', '2017-11-13 10', '2017-11-13 11', '2017-11-13 12', '2017-11-13 13', '2017-11-13 14', '2017-11-13 15', '2017-11-13 16', '2017-11-13 17', '2017-11-13 18', '2017-11-13 19', '2017-11-13 20', '2017-11-13 21', '2017-11-13 22', '2017-11-13 23', '2017-11-14 00', '2017-11-14 01', '2017-11-14 02', '2017-11-14 03', '2017-11-14 04', '2017-11-14 05', '2017-11-14 06', '2017-11-14 07', '2017-11-14 08', '2017-11-14 09', '2017-11-14 10', '2017-11-14 11', '2017-11-14 12', '2017-11-14 13', '2017-11-14 14', '2017-11-14 15', '2017-11-14 16', '2017-11-14 17', '2017-11-14 18', '2017-11-14 19', '2017-11-14 20', '2017-11-14 21', '2017-11-14 22', '2017-11-14 23', '2017-11-15 00', '2017-11-15 01', '2017-11-15 02', '2017-11-15 03', '2017-11-15 04', '2017-11-15 05', '2017-11-15 06', '2017-11-15 07', '2017-11-15 08', '2017-11-15 09', '2017-11-15 10', '2017-11-15 11', '2017-11-15 12', '2017-11-15 13', '2017-11-15 14', '2017-11-15 15', '2017-11-15 16', '2017-11-15 17', '2017-11-15 18', '2017-11-15 19', '2017-11-15 20', '2017-11-15 21', '2017-11-15 22', '2017-11-15 23', '2017-11-16 00', '2017-11-16 01', '2017-11-16 02', '2017-11-16 03', '2017-11-16 04', '2017-11-16 05', '2017-11-16 06', '2017-11-16 07', '2017-11-16 08', '2017-11-16 09', '2017-11-16 10', '2017-11-16 11', '2017-11-16 12', '2017-11-16 13', '2017-11-16 14', '2017-11-16 15', '2017-11-16 16', '2017-11-16 17', '2017-11-16 18', '2017-11-16 19', '2017-11-16 20', '2017-11-16 21', '2017-11-16 22', '2017-11-16 23', '2017-11-17 00', '2017-11-17 01', '2017-11-17 02', '2017-11-17 03', '2017-11-17 04', '2017-11-17 05', '2017-11-17 06', '2017-11-17 07', '2017-11-17 08', '2017-11-17 09', '2017-11-17 10', '2017-11-17 11', '2017-11-17 12', '2017-11-17 13', '2017-11-17 14', '2017-11-17 15', '2017-11-17 16', '2017-11-17 17', '2017-11-17 18', '2017-11-17 19', '2017-11-17 20', '2017-11-17 21', '2017-11-17 22', '2017-11-17 23', '2017-11-18 00', '2017-11-18 01', '2017-11-18 02', '2017-11-18 03', '2017-11-18 04', '2017-11-18 05', '2017-11-18 06', '2017-11-18 07', '2017-11-18 08', '2017-11-18 09', '2017-11-18 10', '2017-11-18 11', '2017-11-18 12', '2017-11-18 13', '2017-11-18 14', '2017-11-18 15', '2017-11-18 16', '2017-11-18 17', '2017-11-18 18', '2017-11-18 19', '2017-11-18 20', '2017-11-18 21', '2017-11-18 22', '2017-11-18 23', '2017-11-19 00', '2017-11-19 01', '2017-11-19 02', '2017-11-19 03', '2017-11-19 04', '2017-11-19 05', '2017-11-19 06', '2017-11-19 07', '2017-11-19 08', '2017-11-19 09', '2017-11-19 10', '2017-11-19 11', '2017-11-19 12', '2017-11-19 13', '2017-11-19 14', '2017-11-19 15', '2017-11-19 16', '2017-11-19 17', '2017-11-19 18', '2017-11-19 19', '2017-11-19 20', '2017-11-19 21', '2017-11-19 22', '2017-11-19 23', '2017-11-20 00', '2017-11-20 01', '2017-11-20 02', '2017-11-20 03', '2017-11-20 04', '2017-11-20 05', '2017-11-20 06', '2017-11-20 07', '2017-11-20 08', '2017-11-20 09', '2017-11-20 10', '2017-11-20 11', '2017-11-20 12', '2017-11-20 13', '2017-11-20 14', '2017-11-20 15', '2017-11-20 16', '2017-11-20 17', '2017-11-20 18', '2017-11-20 19', '2017-11-20 20', '2017-11-20 21', '2017-11-20 22', '2017-11-20 23', '2017-11-21 00', '2017-11-21 01', '2017-11-21 02', '2017-11-21 03', '2017-11-21 04', '2017-11-21 05', '2017-11-21 06', '2017-11-21 07', '2017-11-21 08', '2017-11-21 09', '2017-11-21 10', '2017-11-21 11', '2017-11-21 12', '2017-11-21 13', '2017-11-21 14', '2017-11-21 15', '2017-11-21 16', '2017-11-21 17', '2017-11-21 18', '2017-11-21 19', '2017-11-21 20', '2017-11-21 21', '2017-11-21 22', '2017-11-21 23', '2017-11-22 00', '2017-11-22 01', '2017-11-22 02', '2017-11-22 03', '2017-11-22 04', '2017-11-22 05', '2017-11-22 06', '2017-11-22 07', '2017-11-22 08', '2017-11-22 09', '2017-11-22 10', '2017-11-22 11', '2017-11-22 12', '2017-11-22 13', '2017-11-22 14', '2017-11-22 15', '2017-11-22 16', '2017-11-22 17', '2017-11-22 18', '2017-11-22 19', '2017-11-22 20', '2017-11-22 21', '2017-11-22 22', '2017-11-22 23', '2017-11-23 00', '2017-11-23 01', '2017-11-23 02', '2017-11-23 03', '2017-11-23 04', '2017-11-23 05', '2017-11-23 06', '2017-11-23 07', '2017-11-23 08', '2017-11-23 09', '2017-11-23 10', '2017-11-23 11', '2017-11-23 12', '2017-11-23 13', '2017-11-23 14', '2017-11-23 15', '2017-11-23 16', '2017-11-23 17', '2017-11-23 18', '2017-11-23 19', '2017-11-23 20', '2017-11-23 21', '2017-11-23 22', '2017-11-23 23', '2017-11-24 00', '2017-11-24 01', '2017-11-24 02', '2017-11-24 03', '2017-11-24 04', '2017-11-24 05', '2017-11-24 06', '2017-11-24 07', '2017-11-24 08', '2017-11-24 09', '2017-11-24 10', '2017-11-24 11', '2017-11-24 12', '2017-11-24 13', '2017-11-24 14', '2017-11-24 15', '2017-11-24 16', '2017-11-24 17', '2017-11-24 18', '2017-11-24 19', '2017-11-24 20', '2017-11-24 21', '2017-11-24 22', '2017-11-24 23', '2017-11-25 00', '2017-11-25 01', '2017-11-25 02', '2017-11-25 03', '2017-11-25 04', '2017-11-25 05', '2017-11-25 06', '2017-11-25 07', '2017-11-25 08', '2017-11-25 09', '2017-11-25 10', '2017-11-25 11', '2017-11-25 12', '2017-11-25 13', '2017-11-25 14', '2017-11-25 15', '2017-11-25 16', '2017-11-25 17', '2017-11-25 18', '2017-11-25 19', '2017-11-25 20', '2017-11-25 21', '2017-11-25 22', '2017-11-25 23', '2017-11-26 00', '2017-11-26 01', '2017-11-26 02', '2017-11-26 03', '2017-11-26 04', '2017-11-26 05', '2017-11-26 06', '2017-11-26 07', '2017-11-26 08', '2017-11-26 09', '2017-11-26 10', '2017-11-26 11', '2017-11-26 12', '2017-11-26 13', '2017-11-26 14', '2017-11-26 15', '2017-11-26 16', '2017-11-26 17', '2017-11-26 18', '2017-11-26 19', '2017-11-26 20', '2017-11-26 21', '2017-11-26 22', '2017-11-26 23', '2017-11-27 00', '2017-11-27 01', '2017-11-27 02', '2017-11-27 03', '2017-11-27 04', '2017-11-27 05', '2017-11-27 06', '2017-11-27 07', '2017-11-27 08', '2017-11-27 09', '2017-11-27 10', '2017-11-27 11', '2017-11-27 12', '2017-11-27 13', '2017-11-27 14', '2017-11-27 15', '2017-11-27 16', '2017-11-27 17', '2017-11-27 18', '2017-11-27 19', '2017-11-27 20', '2017-11-27 21', '2017-11-27 22', '2017-11-27 23', '2017-11-28 00', '2017-11-28 01', '2017-11-28 02', '2017-11-28 03', '2017-11-28 04', '2017-11-28 05', '2017-11-28 06', '2017-11-28 07', '2017-11-28 08', '2017-11-28 09', '2017-11-28 10', '2017-11-28 11', '2017-11-28 12', '2017-11-28 13', '2017-11-28 14', '2017-11-28 15', '2017-11-28 16', '2017-11-28 17', '2017-11-28 18', '2017-11-28 19', '2017-11-28 20', '2017-11-28 21', '2017-11-28 22', '2017-11-28 23', '2017-11-29 00', '2017-11-29 01', '2017-11-29 02', '2017-11-29 03', '2017-11-29 04', '2017-11-29 05', '2017-11-29 06', '2017-11-29 07', '2017-11-29 08', '2017-11-29 09', '2017-11-29 10', '2017-11-29 11', '2017-11-29 12', '2017-11-29 13', '2017-11-29 14', '2017-11-29 15', '2017-11-29 16', '2017-11-29 17', '2017-11-29 18', '2017-11-29 19', '2017-11-29 20', '2017-11-29 21', '2017-11-29 22', '2017-11-29 23', '2017-11-30 00', '2017-11-30 01', '2017-11-30 02', '2017-11-30 03', '2017-11-30 04', '2017-11-30 05', '2017-11-30 06', '2017-11-30 07', '2017-11-30 08', '2017-11-30 09', '2017-11-30 10', '2017-11-30 11', '2017-11-30 12', '2017-11-30 13', '2017-11-30 14', '2017-11-30 15', '2017-11-30 16', '2017-11-30 17', '2017-11-30 18', '2017-11-30 19', '2017-11-30 20', '2017-11-30 21', '2017-11-30 22', '2017-11-30 23', '2017-12-01 00', '2017-12-01 01', '2017-12-01 02', '2017-12-01 03', '2017-12-01 04', '2017-12-01 05', '2017-12-01 06', '2017-12-01 07', '2017-12-01 08', '2017-12-01 09', '2017-12-01 10', '2017-12-01 11', '2017-12-01 12', '2017-12-01 13', '2017-12-01 14', '2017-12-01 15', '2017-12-01 16', '2017-12-01 17', '2017-12-01 18', '2017-12-01 19', '2017-12-01 20', '2017-12-01 21', '2017-12-01 22', '2017-12-01 23', '2017-12-02 00', '2017-12-02 01', '2017-12-02 02', '2017-12-02 03', '2017-12-02 04', '2017-12-02 05', '2017-12-02 06', '2017-12-02 07', '2017-12-02 08', '2017-12-02 09', '2017-12-02 10', '2017-12-02 11', '2017-12-02 12', '2017-12-02 13', '2017-12-02 14', '2017-12-02 15', '2017-12-02 16', '2017-12-02 17', '2017-12-02 18', '2017-12-02 19', '2017-12-02 20', '2017-12-02 21', '2017-12-02 22', '2017-12-02 23', '2017-12-03 00', '2017-12-03 01', '2017-12-03 02', '2017-12-03 03', '2017-12-03 04', '2017-12-03 05', '2017-12-03 06', '2017-12-03 07', '2017-12-03 08', '2017-12-03 09', '2017-12-03 10', '2017-12-03 11', '2017-12-03 12', '2017-12-03 13', '2017-12-03 14', '2017-12-03 15', '2017-12-03 16', '2017-12-03 17', '2017-12-03 18', '2017-12-03 19', '2017-12-03 20', '2017-12-03 21', '2017-12-03 22', '2017-12-03 23', '2017-12-04 00', '2017-12-04 01', '2017-12-04 02', '2017-12-04 03', '2017-12-04 04', '2017-12-04 05', '2017-12-04 06', '2017-12-04 07', '2017-12-04 08', '2017-12-04 09', '2017-12-04 10', '2017-12-04 11', '2017-12-04 12', '2017-12-04 13', '2017-12-04 14', '2017-12-04 15', '2017-12-04 16', '2017-12-04 17', '2017-12-04 18', '2017-12-04 19', '2017-12-04 20', '2017-12-04 21', '2017-12-04 22', '2017-12-04 23', '2017-12-05 00', '2017-12-05 01', '2017-12-05 02', '2017-12-05 03', '2017-12-05 04', '2017-12-05 05', '2017-12-05 06', '2017-12-05 07', '2017-12-05 08', '2017-12-05 09', '2017-12-05 10', '2017-12-05 11', '2017-12-05 12', '2017-12-05 13', '2017-12-05 14', '2017-12-05 15', '2017-12-05 16', '2017-12-05 17', '2017-12-05 18', '2017-12-05 19', '2017-12-05 20', '2017-12-05 21', '2017-12-05 22', '2017-12-05 23', '2017-12-06 00', '2017-12-06 01', '2017-12-06 02', '2017-12-06 03', '2017-12-06 04', '2017-12-06 05', '2017-12-06 06', '2017-12-06 07', '2017-12-06 08', '2017-12-06 09', '2017-12-06 10', '2017-12-06 11', '2017-12-06 12', '2017-12-06 13', '2017-12-06 14', '2017-12-06 15', '2017-12-06 16', '2017-12-06 17', '2017-12-06 18', '2017-12-06 19', '2017-12-06 20', '2017-12-06 21', '2017-12-06 22', '2017-12-06 23', '2017-12-07 00', '2017-12-07 01', '2017-12-07 02', '2017-12-07 03', '2017-12-07 04', '2017-12-07 05', '2017-12-07 06', '2017-12-07 07', '2017-12-07 08', '2017-12-07 09', '2017-12-07 10', '2017-12-07 11', '2017-12-07 12', '2017-12-07 13', '2017-12-07 14', '2017-12-07 15', '2017-12-07 16', '2017-12-07 17', '2017-12-07 18', '2017-12-07 19', '2017-12-07 20', '2017-12-07 21', '2017-12-07 22', '2017-12-07 23', '2017-12-08 00', '2017-12-08 01', '2017-12-08 02', '2017-12-08 03', '2017-12-08 04', '2017-12-08 05', '2017-12-08 06', '2017-12-08 07', '2017-12-08 08', '2017-12-08 09', '2017-12-08 10', '2017-12-08 11', '2017-12-08 12', '2017-12-08 13', '2017-12-08 14', '2017-12-08 15', '2017-12-08 16', '2017-12-08 17', '2017-12-08 18', '2017-12-08 19', '2017-12-08 20', '2017-12-08 21', '2017-12-08 22', '2017-12-08 23', '2017-12-09 00', '2017-12-09 01', '2017-12-09 02', '2017-12-09 03', '2017-12-09 04', '2017-12-09 05', '2017-12-09 06', '2017-12-09 07', '2017-12-09 08', '2017-12-09 09', '2017-12-09 10', '2017-12-09 11', '2017-12-09 12', '2017-12-09 13', '2017-12-09 14', '2017-12-09 15', '2017-12-09 16', '2017-12-09 17', '2017-12-09 18', '2017-12-09 19', '2017-12-09 20', '2017-12-09 21', '2017-12-09 22', '2017-12-09 23', '2017-12-10 00', '2017-12-10 01', '2017-12-10 02', '2017-12-10 03', '2017-12-10 04', '2017-12-10 05', '2017-12-10 06', '2017-12-10 07', '2017-12-10 08', '2017-12-10 09', '2017-12-10 10', '2017-12-10 11', '2017-12-10 12', '2017-12-10 13', '2017-12-10 14', '2017-12-10 15', '2017-12-10 16', '2017-12-10 17', '2017-12-10 18', '2017-12-10 19', '2017-12-10 20', '2017-12-10 21', '2017-12-10 22', '2017-12-10 23', '2017-12-11 00', '2017-12-11 01', '2017-12-11 02', '2017-12-11 03', '2017-12-11 04', '2017-12-11 05', '2017-12-11 06', '2017-12-11 07', '2017-12-11 08', '2017-12-11 09', '2017-12-11 10', '2017-12-11 11', '2017-12-11 12', '2017-12-11 13', '2017-12-11 14', '2017-12-11 15', '2017-12-11 16', '2017-12-11 17', '2017-12-11 18', '2017-12-11 19', '2017-12-11 20', '2017-12-11 21', '2017-12-11 22', '2017-12-11 23', '2017-12-12 00', '2017-12-12 01', '2017-12-12 02', '2017-12-12 03', '2017-12-12 04', '2017-12-12 05', '2017-12-12 06', '2017-12-12 07', '2017-12-12 08', '2017-12-12 09', '2017-12-12 10', '2017-12-12 11', '2017-12-12 12', '2017-12-12 13', '2017-12-12 14', '2017-12-12 15', '2017-12-12 16', '2017-12-12 17', '2017-12-12 18', '2017-12-12 19', '2017-12-12 20', '2017-12-12 21', '2017-12-12 22', '2017-12-12 23', '2017-12-13 00', '2017-12-13 01', '2017-12-13 02', '2017-12-13 03', '2017-12-13 04', '2017-12-13 05', '2017-12-13 06', '2017-12-13 07', '2017-12-13 08', '2017-12-13 09', '2017-12-13 10', '2017-12-13 11', '2017-12-13 12', '2017-12-13 13', '2017-12-13 14', '2017-12-13 15', '2017-12-13 16', '2017-12-13 17', '2017-12-13 18', '2017-12-13 19', '2017-12-13 20', '2017-12-13 21', '2017-12-13 22', '2017-12-13 23', '2017-12-14 00', '2017-12-14 01', '2017-12-14 02', '2017-12-14 03', '2017-12-14 04', '2017-12-14 05', '2017-12-14 06', '2017-12-14 07', '2017-12-14 08', '2017-12-14 09', '2017-12-14 10', '2017-12-14 11', '2017-12-14 12', '2017-12-14 13', '2017-12-14 14', '2017-12-14 15', '2017-12-14 16', '2017-12-14 17', '2017-12-14 18', '2017-12-14 19', '2017-12-14 20', '2017-12-14 21', '2017-12-14 22', '2017-12-14 23', '2017-12-15 00', '2017-12-15 01', '2017-12-15 02', '2017-12-15 03', '2017-12-15 04', '2017-12-15 05', '2017-12-15 06', '2017-12-15 07', '2017-12-15 08', '2017-12-15 09', '2017-12-15 10', '2017-12-15 11', '2017-12-15 12', '2017-12-15 13', '2017-12-15 14', '2017-12-15 15', '2017-12-15 16', '2017-12-15 17', '2017-12-15 18', '2017-12-15 19', '2017-12-15 20', '2017-12-15 21', '2017-12-15 22', '2017-12-15 23', '2017-12-16 00', '2017-12-16 01', '2017-12-16 02', '2017-12-16 03', '2017-12-16 04', '2017-12-16 05', '2017-12-16 06', '2017-12-16 07', '2017-12-16 08', '2017-12-16 09', '2017-12-16 10', '2017-12-16 11', '2017-12-16 12', '2017-12-16 13', '2017-12-16 14', '2017-12-16 15', '2017-12-16 16', '2017-12-16 17', '2017-12-16 18', '2017-12-16 19', '2017-12-16 20', '2017-12-16 21', '2017-12-16 22', '2017-12-16 23', '2017-12-17 00', '2017-12-17 01', '2017-12-17 02', '2017-12-17 03', '2017-12-17 04', '2017-12-17 05', '2017-12-17 06', '2017-12-17 07', '2017-12-17 08', '2017-12-17 09', '2017-12-17 10', '2017-12-17 11', '2017-12-17 12', '2017-12-17 13', '2017-12-17 14', '2017-12-17 15', '2017-12-17 16', '2017-12-17 17', '2017-12-17 18', '2017-12-17 19', '2017-12-17 20', '2017-12-17 21', '2017-12-17 22', '2017-12-17 23', '2017-12-18 00', '2017-12-18 01', '2017-12-18 02', '2017-12-18 03', '2017-12-18 04', '2017-12-18 05', '2017-12-18 06', '2017-12-18 07', '2017-12-18 08', '2017-12-18 09', '2017-12-18 10', '2017-12-18 11', '2017-12-18 12', '2017-12-18 13', '2017-12-18 14', '2017-12-18 15', '2017-12-18 16', '2017-12-18 17', '2017-12-18 18', '2017-12-18 19', '2017-12-18 20', '2017-12-18 21', '2017-12-18 22', '2017-12-18 23', '2017-12-19 00', '2017-12-19 01', '2017-12-19 02', '2017-12-19 03', '2017-12-19 04', '2017-12-19 05', '2017-12-19 06', '2017-12-19 07', '2017-12-19 08', '2017-12-19 09', '2017-12-19 10', '2017-12-19 11', '2017-12-19 12', '2017-12-19 13', '2017-12-19 14', '2017-12-19 15', '2017-12-19 16', '2017-12-19 17', '2017-12-19 18', '2017-12-19 19', '2017-12-19 20', '2017-12-19 21', '2017-12-19 22', '2017-12-19 23', '2017-12-20 00', '2017-12-20 01', '2017-12-20 02', '2017-12-20 03', '2017-12-20 04', '2017-12-20 05', '2017-12-20 06', '2017-12-20 07', '2017-12-20 08', '2017-12-20 09', '2017-12-20 10', '2017-12-20 11', '2017-12-20 12', '2017-12-20 13', '2017-12-20 14', '2017-12-20 15', '2017-12-20 16', '2017-12-20 17', '2017-12-20 18', '2017-12-20 19', '2017-12-20 20', '2017-12-20 21', '2017-12-20 22', '2017-12-20 23', '2017-12-21 00', '2017-12-21 01', '2017-12-21 02', '2017-12-21 03', '2017-12-21 04', '2017-12-21 05', '2017-12-21 06', '2017-12-21 07', '2017-12-21 08', '2017-12-21 09', '2017-12-21 10', '2017-12-21 11', '2017-12-21 12', '2017-12-21 13', '2017-12-21 14', '2017-12-21 15', '2017-12-21 16', '2017-12-21 17', '2017-12-21 18', '2017-12-21 19', '2017-12-21 20', '2017-12-21 21', '2017-12-21 22', '2017-12-21 23', '2017-12-22 00', '2017-12-22 01', '2017-12-22 02', '2017-12-22 03', '2017-12-22 04', '2017-12-22 05', '2017-12-22 06', '2017-12-22 07', '2017-12-22 08', '2017-12-22 09', '2017-12-22 10', '2017-12-22 11', '2017-12-22 12', '2017-12-22 13', '2017-12-22 14', '2017-12-22 15', '2017-12-22 16', '2017-12-22 17', '2017-12-22 18', '2017-12-22 19', '2017-12-22 20', '2017-12-22 21', '2017-12-22 22', '2017-12-22 23', '2017-12-23 00', '2017-12-23 01', '2017-12-23 02', '2017-12-23 03', '2017-12-23 04', '2017-12-23 05', '2017-12-23 06', '2017-12-23 07', '2017-12-23 08', '2017-12-23 09', '2017-12-23 10', '2017-12-23 11', '2017-12-23 12', '2017-12-23 13', '2017-12-23 14', '2017-12-23 15', '2017-12-23 16', '2017-12-23 17', '2017-12-23 18', '2017-12-23 19', '2017-12-23 20', '2017-12-23 21', '2017-12-23 22', '2017-12-23 23', '2017-12-24 00', '2017-12-24 01', '2017-12-24 02', '2017-12-24 03', '2017-12-24 04', '2017-12-24 05', '2017-12-24 06', '2017-12-24 07', '2017-12-24 08', '2017-12-24 09', '2017-12-24 10', '2017-12-24 11', '2017-12-24 12', '2017-12-24 13', '2017-12-24 14', '2017-12-24 15', '2017-12-24 16', '2017-12-24 17', '2017-12-24 18', '2017-12-24 19', '2017-12-24 20', '2017-12-24 21', '2017-12-24 22', '2017-12-24 23', '2017-12-25 00', '2017-12-25 01', '2017-12-25 02', '2017-12-25 03', '2017-12-25 04', '2017-12-25 05', '2017-12-25 06', '2017-12-25 07', '2017-12-25 08', '2017-12-25 09', '2017-12-25 10', '2017-12-25 11', '2017-12-25 12', '2017-12-25 13', '2017-12-25 14', '2017-12-25 15', '2017-12-25 16', '2017-12-25 17', '2017-12-25 18', '2017-12-25 19', '2017-12-25 20', '2017-12-25 21', '2017-12-25 22', '2017-12-25 23', '2017-12-26 00', '2017-12-26 01', '2017-12-26 02', '2017-12-26 03', '2017-12-26 04', '2017-12-26 05', '2017-12-26 06', '2017-12-26 07', '2017-12-26 08', '2017-12-26 09', '2017-12-26 10', '2017-12-26 11', '2017-12-26 12', '2017-12-26 13', '2017-12-26 14', '2017-12-26 15', '2017-12-26 16', '2017-12-26 17', '2017-12-26 18', '2017-12-26 19', '2017-12-26 20', '2017-12-26 21', '2017-12-26 22', '2017-12-26 23', '2017-12-27 00', '2017-12-27 01', '2017-12-27 02', '2017-12-27 03', '2017-12-27 04', '2017-12-27 05', '2017-12-27 06', '2017-12-27 07', '2017-12-27 08', '2017-12-27 09', '2017-12-27 10', '2017-12-27 11', '2017-12-27 12', '2017-12-27 13', '2017-12-27 14', '2017-12-27 15', '2017-12-27 16', '2017-12-27 17', '2017-12-27 18', '2017-12-27 19', '2017-12-27 20', '2017-12-27 21', '2017-12-27 22', '2017-12-27 23', '2017-12-28 00', '2017-12-28 01', '2017-12-28 02', '2017-12-28 03', '2017-12-28 04', '2017-12-28 05', '2017-12-28 06', '2017-12-28 07', '2017-12-28 08', '2017-12-28 09', '2017-12-28 10', '2017-12-28 11', '2017-12-28 12', '2017-12-28 13', '2017-12-28 14', '2017-12-28 15', '2017-12-28 16', '2017-12-28 17', '2017-12-28 18', '2017-12-28 19', '2017-12-28 20', '2017-12-28 21', '2017-12-28 22', '2017-12-28 23', '2017-12-29 00', '2017-12-29 01', '2017-12-29 02', '2017-12-29 03', '2017-12-29 04', '2017-12-29 05', '2017-12-29 06', '2017-12-29 07', '2017-12-29 08', '2017-12-29 09', '2017-12-29 10', '2017-12-29 11', '2017-12-29 12', '2017-12-29 13', '2017-12-29 14', '2017-12-29 15', '2017-12-29 16', '2017-12-29 17', '2017-12-29 18', '2017-12-29 19', '2017-12-29 20', '2017-12-29 21', '2017-12-29 22', '2017-12-29 23', '2017-12-30 00', '2017-12-30 01', '2017-12-30 02', '2017-12-30 03', '2017-12-30 04', '2017-12-30 05', '2017-12-30 06', '2017-12-30 07', '2017-12-30 08', '2017-12-30 09', '2017-12-30 10', '2017-12-30 11', '2017-12-30 12', '2017-12-30 13', '2017-12-30 14', '2017-12-30 15', '2017-12-30 16', '2017-12-30 17', '2017-12-30 18', '2017-12-30 19', '2017-12-30 20', '2017-12-30 21', '2017-12-30 22', '2017-12-30 23', '2017-12-31 00', '2017-12-31 01', '2017-12-31 02', '2017-12-31 03', '2017-12-31 04', '2017-12-31 05', '2017-12-31 06', '2017-12-31 07', '2017-12-31 08', '2017-12-31 09', '2017-12-31 10', '2017-12-31 11', '2017-12-31 12', '2017-12-31 13', '2017-12-31 14', '2017-12-31 15', '2017-12-31 16', '2017-12-31 17', '2017-12-31 18', '2017-12-31 19', '2017-12-31 20', '2017-12-31 21', '2017-12-31 22', '2017-12-31 23', '2018-01-01 00', '2018-01-01 01', '2018-01-01 02', '2018-01-01 03', '2018-01-01 04', '2018-01-01 05', '2018-01-01 06', '2018-01-01 07', '2018-01-01 08', '2018-01-01 09', '2018-01-01 10', '2018-01-01 11', '2018-01-01 12', '2018-01-01 13', '2018-01-01 14', '2018-01-01 15', '2018-01-01 16', '2018-01-01 17', '2018-01-01 18', '2018-01-01 19', '2018-01-01 20', '2018-01-01 21', '2018-01-01 22', '2018-01-01 23', '2018-01-02 00', '2018-01-02 01', '2018-01-02 02', '2018-01-02 03', '2018-01-02 04', '2018-01-02 05', '2018-01-02 06', '2018-01-02 07', '2018-01-02 08', '2018-01-02 09', '2018-01-02 10', '2018-01-02 11', '2018-01-02 12', '2018-01-02 13', '2018-01-02 14', '2018-01-02 15', '2018-01-02 16', '2018-01-02 17', '2018-01-02 18', '2018-01-02 19', '2018-01-02 20', '2018-01-02 21', '2018-01-02 22', '2018-01-02 23', '2018-01-03 00', '2018-01-03 01', '2018-01-03 02', '2018-01-03 03', '2018-01-03 04', '2018-01-03 05', '2018-01-03 06', '2018-01-03 07', '2018-01-03 08', '2018-01-03 09', '2018-01-03 10', '2018-01-03 11', '2018-01-03 12', '2018-01-03 13', '2018-01-03 14', '2018-01-03 15', '2018-01-03 16', '2018-01-03 17', '2018-01-03 18', '2018-01-03 19', '2018-01-03 20', '2018-01-03 21', '2018-01-03 22', '2018-01-03 23', '2018-01-04 00', '2018-01-04 01', '2018-01-04 02', '2018-01-04 03', '2018-01-04 04', '2018-01-04 05', '2018-01-04 06', '2018-01-04 07', '2018-01-04 08', '2018-01-04 09', '2018-01-04 10', '2018-01-04 11', '2018-01-04 12', '2018-01-04 13', '2018-01-04 14', '2018-01-04 15', '2018-01-04 16', '2018-01-04 17', '2018-01-04 18', '2018-01-04 19', '2018-01-04 20', '2018-01-04 21', '2018-01-04 22', '2018-01-04 23', '2018-01-05 00', '2018-01-05 01', '2018-01-05 02', '2018-01-05 03', '2018-01-05 04', '2018-01-05 05', '2018-01-05 06', '2018-01-05 07', '2018-01-05 08', '2018-01-05 09', '2018-01-05 10', '2018-01-05 11', '2018-01-05 12', '2018-01-05 13', '2018-01-05 14', '2018-01-05 15', '2018-01-05 16', '2018-01-05 17', '2018-01-05 18', '2018-01-05 19', '2018-01-05 20', '2018-01-05 21', '2018-01-05 22', '2018-01-05 23', '2018-01-06 00', '2018-01-06 01', '2018-01-06 02', '2018-01-06 03', '2018-01-06 04', '2018-01-06 05', '2018-01-06 06', '2018-01-06 07', '2018-01-06 08', '2018-01-06 09', '2018-01-06 10', '2018-01-06 11', '2018-01-06 12', '2018-01-06 13', '2018-01-06 14', '2018-01-06 15', '2018-01-06 16', '2018-01-06 17', '2018-01-06 18', '2018-01-06 19', '2018-01-06 20', '2018-01-06 21', '2018-01-06 22', '2018-01-06 23', '2018-01-07 00', '2018-01-07 01', '2018-01-07 02', '2018-01-07 03', '2018-01-07 04', '2018-01-07 05', '2018-01-07 06', '2018-01-07 07', '2018-01-07 08', '2018-01-07 09', '2018-01-07 10', '2018-01-07 11', '2018-01-07 12', '2018-01-07 13', '2018-01-07 14', '2018-01-07 15', '2018-01-07 16', '2018-01-07 17', '2018-01-07 18', '2018-01-07 19', '2018-01-07 20', '2018-01-07 21', '2018-01-07 22', '2018-01-07 23', '2018-01-08 00', '2018-01-08 01', '2018-01-08 02', '2018-01-08 03', '2018-01-08 04', '2018-01-08 05', '2018-01-08 06', '2018-01-08 07', '2018-01-08 08', '2018-01-08 09', '2018-01-08 10', '2018-01-08 11', '2018-01-08 12', '2018-01-08 13', '2018-01-08 14', '2018-01-08 15', '2018-01-08 16', '2018-01-08 17', '2018-01-08 18', '2018-01-08 19', '2018-01-08 20', '2018-01-08 21', '2018-01-08 22', '2018-01-08 23', '2018-01-09 00', '2018-01-09 01', '2018-01-09 02', '2018-01-09 03', '2018-01-09 04', '2018-01-09 05', '2018-01-09 06', '2018-01-09 07', '2018-01-09 08', '2018-01-09 09', '2018-01-09 10', '2018-01-09 11', '2018-01-09 12', '2018-01-09 13', '2018-01-09 14', '2018-01-09 15', '2018-01-09 16', '2018-01-09 17', '2018-01-09 18', '2018-01-09 19', '2018-01-09 20', '2018-01-09 21', '2018-01-09 22', '2018-01-09 23', '2018-01-10 00', '2018-01-10 01', '2018-01-10 02', '2018-01-10 03', '2018-01-10 04', '2018-01-10 05', '2018-01-10 06', '2018-01-10 07', '2018-01-10 08', '2018-01-10 09', '2018-01-10 10', '2018-01-10 11', '2018-01-10 12', '2018-01-10 13', '2018-01-10 14', '2018-01-10 15', '2018-01-10 16', '2018-01-10 17', '2018-01-10 18', '2018-01-10 19', '2018-01-10 20', '2018-01-10 21', '2018-01-10 22', '2018-01-10 23', '2018-01-11 00', '2018-01-11 01', '2018-01-11 02', '2018-01-11 03', '2018-01-11 04', '2018-01-11 05', '2018-01-11 06', '2018-01-11 07', '2018-01-11 08', '2018-01-11 09', '2018-01-11 10', '2018-01-11 11', '2018-01-11 12', '2018-01-11 13', '2018-01-11 14', '2018-01-11 15', '2018-01-11 16', '2018-01-11 17', '2018-01-11 18', '2018-01-11 19', '2018-01-11 20', '2018-01-11 21', '2018-01-11 22', '2018-01-11 23', '2018-01-12 00', '2018-01-12 01', '2018-01-12 02', '2018-01-12 03', '2018-01-12 04', '2018-01-12 05', '2018-01-12 06', '2018-01-12 07', '2018-01-12 08', '2018-01-12 09', '2018-01-12 10', '2018-01-12 11', '2018-01-12 12', '2018-01-12 13', '2018-01-12 14', '2018-01-12 15', '2018-01-12 16', '2018-01-12 17', '2018-01-12 18', '2018-01-12 19', '2018-01-12 20', '2018-01-12 21', '2018-01-12 22', '2018-01-12 23', '2018-01-13 00', '2018-01-13 01', '2018-01-13 02', '2018-01-13 03', '2018-01-13 04', '2018-01-13 05', '2018-01-13 06', '2018-01-13 07', '2018-01-13 08', '2018-01-13 09', '2018-01-13 10', '2018-01-13 11', '2018-01-13 12', '2018-01-13 13', '2018-01-13 14', '2018-01-13 15', '2018-01-13 16', '2018-01-13 17', '2018-01-13 18', '2018-01-13 19', '2018-01-13 20', '2018-01-13 21', '2018-01-13 22', '2018-01-13 23', '2018-01-14 00', '2018-01-14 01', '2018-01-14 02', '2018-01-14 03', '2018-01-14 04', '2018-01-14 05', '2018-01-14 06', '2018-01-14 07', '2018-01-14 08', '2018-01-14 09', '2018-01-14 10', '2018-01-14 11', '2018-01-14 12', '2018-01-14 13', '2018-01-14 14', '2018-01-14 15', '2018-01-14 16', '2018-01-14 17', '2018-01-14 18', '2018-01-14 19', '2018-01-14 20', '2018-01-14 21', '2018-01-14 22', '2018-01-14 23', '2018-01-15 00', '2018-01-15 01', '2018-01-15 02', '2018-01-15 03', '2018-01-15 04', '2018-01-15 05', '2018-01-15 06', '2018-01-15 07', '2018-01-15 08', '2018-01-15 09', '2018-01-15 10', '2018-01-15 11', '2018-01-15 12', '2018-01-15 13', '2018-01-15 14', '2018-01-15 15', '2018-01-15 16', '2018-01-15 17', '2018-01-15 18', '2018-01-15 19', '2018-01-15 20', '2018-01-15 21', '2018-01-15 22', '2018-01-15 23', '2018-01-16 00', '2018-01-16 01', '2018-01-16 02', '2018-01-16 03', '2018-01-16 04', '2018-01-16 05', '2018-01-16 06', '2018-01-16 07', '2018-01-16 08', '2018-01-16 09', '2018-01-16 10', '2018-01-16 11', '2018-01-16 12', '2018-01-16 13', '2018-01-16 14', '2018-01-16 15', '2018-01-16 16', '2018-01-16 17', '2018-01-16 18', '2018-01-16 19', '2018-01-16 20', '2018-01-16 21', '2018-01-16 22', '2018-01-16 23', '2018-01-17 00', '2018-01-17 01', '2018-01-17 02', '2018-01-17 03', '2018-01-17 04', '2018-01-17 05', '2018-01-17 06', '2018-01-17 07', '2018-01-17 08', '2018-01-17 09', '2018-01-17 10', '2018-01-17 11', '2018-01-17 12', '2018-01-17 13', '2018-01-17 14', '2018-01-17 15', '2018-01-17 16', '2018-01-17 17', '2018-01-17 18', '2018-01-17 19', '2018-01-17 20', '2018-01-17 21', '2018-01-17 22', '2018-01-17 23', '2018-01-18 00', '2018-01-18 01', '2018-01-18 02', '2018-01-18 03', '2018-01-18 04', '2018-01-18 05', '2018-01-18 06', '2018-01-18 07', '2018-01-18 08', '2018-01-18 09', '2018-01-18 10', '2018-01-18 11', '2018-01-18 12', '2018-01-18 13', '2018-01-18 14', '2018-01-18 15', '2018-01-18 16', '2018-01-18 17', '2018-01-18 18', '2018-01-18 19', '2018-01-18 20', '2018-01-18 21', '2018-01-18 22', '2018-01-18 23', '2018-01-19 00', '2018-01-19 01', '2018-01-19 02', '2018-01-19 03', '2018-01-19 04', '2018-01-19 05', '2018-01-19 06', '2018-01-19 07', '2018-01-19 08', '2018-01-19 09', '2018-01-19 10', '2018-01-19 11', '2018-01-19 12', '2018-01-19 13', '2018-01-19 14', '2018-01-19 15', '2018-01-19 16', '2018-01-19 17', '2018-01-19 18', '2018-01-19 19', '2018-01-19 20', '2018-01-19 21', '2018-01-19 22', '2018-01-19 23', '2018-01-20 00', '2018-01-20 01', '2018-01-20 02', '2018-01-20 03', '2018-01-20 04', '2018-01-20 05', '2018-01-20 06', '2018-01-20 07', '2018-01-20 08', '2018-01-20 09', '2018-01-20 10', '2018-01-20 11', '2018-01-20 12', '2018-01-20 13', '2018-01-20 14', '2018-01-20 15', '2018-01-20 16', '2018-01-20 17', '2018-01-20 18', '2018-01-20 19', '2018-01-20 20', '2018-01-20 21', '2018-01-20 22', '2018-01-20 23', '2018-01-21 00', '2018-01-21 01', '2018-01-21 02', '2018-01-21 03', '2018-01-21 04', '2018-01-21 05', '2018-01-21 06', '2018-01-21 07', '2018-01-21 08', '2018-01-21 09', '2018-01-21 10', '2018-01-21 11', '2018-01-21 12', '2018-01-21 13', '2018-01-21 14', '2018-01-21 15', '2018-01-21 16', '2018-01-21 17', '2018-01-21 18', '2018-01-21 19', '2018-01-21 20', '2018-01-21 21', '2018-01-21 22', '2018-01-21 23', '2018-01-22 00', '2018-01-22 01', '2018-01-22 02', '2018-01-22 03', '2018-01-22 04', '2018-01-22 05', '2018-01-22 06', '2018-01-22 07', '2018-01-22 08', '2018-01-22 09', '2018-01-22 10', '2018-01-22 11', '2018-01-22 12', '2018-01-22 13', '2018-01-22 14', '2018-01-22 15', '2018-01-22 16', '2018-01-22 17', '2018-01-22 18', '2018-01-22 19', '2018-01-22 20', '2018-01-22 21', '2018-01-22 22', '2018-01-22 23', '2018-01-23 00', '2018-01-23 01', '2018-01-23 02', '2018-01-23 03', '2018-01-23 04', '2018-01-23 05', '2018-01-23 06', '2018-01-23 07', '2018-01-23 08', '2018-01-23 09', '2018-01-23 10', '2018-01-23 11', '2018-01-23 12', '2018-01-23 13', '2018-01-23 14', '2018-01-23 15', '2018-01-23 16', '2018-01-23 17', '2018-01-23 18', '2018-01-23 19', '2018-01-23 20', '2018-01-23 21', '2018-01-23 22', '2018-01-23 23', '2018-01-24 00', '2018-01-24 01', '2018-01-24 02', '2018-01-24 03', '2018-01-24 04', '2018-01-24 05', '2018-01-24 06', '2018-01-24 07', '2018-01-24 08', '2018-01-24 09', '2018-01-24 10', '2018-01-24 11', '2018-01-24 12', '2018-01-24 13', '2018-01-24 14', '2018-01-24 15', '2018-01-24 16', '2018-01-24 17', '2018-01-24 18', '2018-01-24 19', '2018-01-24 20', '2018-01-24 21', '2018-01-24 22', '2018-01-24 23', '2018-01-25 00', '2018-01-25 01', '2018-01-25 02', '2018-01-25 03', '2018-01-25 04', '2018-01-25 05', '2018-01-25 06', '2018-01-25 07', '2018-01-25 08', '2018-01-25 09', '2018-01-25 10', '2018-01-25 11', '2018-01-25 12', '2018-01-25 13', '2018-01-25 14', '2018-01-25 15', '2018-01-25 16', '2018-01-25 17', '2018-01-25 18', '2018-01-25 19', '2018-01-25 20', '2018-01-25 21', '2018-01-25 22', '2018-01-25 23', '2018-01-26 00', '2018-01-26 01', '2018-01-26 02', '2018-01-26 03', '2018-01-26 04', '2018-01-26 05', '2018-01-26 06', '2018-01-26 07', '2018-01-26 08', '2018-01-26 09', '2018-01-26 10', '2018-01-26 11', '2018-01-26 12', '2018-01-26 13', '2018-01-26 14', '2018-01-26 15', '2018-01-26 16', '2018-01-26 17', '2018-01-26 18', '2018-01-26 19', '2018-01-26 20', '2018-01-26 21', '2018-01-26 22', '2018-01-26 23', '2018-01-27 00', '2018-01-27 01', '2018-01-27 02', '2018-01-27 03', '2018-01-27 04', '2018-01-27 05', '2018-01-27 06', '2018-01-27 07', '2018-01-27 08', '2018-01-27 09', '2018-01-27 10', '2018-01-27 11', '2018-01-27 12', '2018-01-27 13', '2018-01-27 14', '2018-01-27 15', '2018-01-27 16', '2018-01-27 17', '2018-01-27 18', '2018-01-27 19', '2018-01-27 20', '2018-01-27 21', '2018-01-27 22', '2018-01-27 23', '2018-01-28 00', '2018-01-28 01', '2018-01-28 02', '2018-01-28 03', '2018-01-28 04', '2018-01-28 05', '2018-01-28 06', '2018-01-28 07', '2018-01-28 08', '2018-01-28 09', '2018-01-28 10', '2018-01-28 11', '2018-01-28 12', '2018-01-28 13', '2018-01-28 14', '2018-01-28 15', '2018-01-28 16', '2018-01-28 17', '2018-01-28 18', '2018-01-28 19', '2018-01-28 20', '2018-01-28 21', '2018-01-28 22', '2018-01-28 23', '2018-01-29 00', '2018-01-29 01', '2018-01-29 02', '2018-01-29 03', '2018-01-29 04', '2018-01-29 05', '2018-01-29 06', '2018-01-29 07', '2018-01-29 08', '2018-01-29 09', '2018-01-29 10', '2018-01-29 11', '2018-01-29 12', '2018-01-29 13', '2018-01-29 14', '2018-01-29 15', '2018-01-29 16', '2018-01-29 17', '2018-01-29 18', '2018-01-29 19', '2018-01-29 20', '2018-01-29 21', '2018-01-29 22', '2018-01-29 23', '2018-01-30 00', '2018-01-30 01', '2018-01-30 02', '2018-01-30 03', '2018-01-30 04', '2018-01-30 05', '2018-01-30 06', '2018-01-30 07', '2018-01-30 08', '2018-01-30 09', '2018-01-30 10', '2018-01-30 11', '2018-01-30 12', '2018-01-30 13', '2018-01-30 14', '2018-01-30 15', '2018-01-30 16', '2018-01-30 17', '2018-01-30 18', '2018-01-30 19', '2018-01-30 20', '2018-01-30 21', '2018-01-30 22', '2018-01-30 23', '2018-01-31 00', '2018-01-31 01', '2018-01-31 02', '2018-01-31 03', '2018-01-31 04', '2018-01-31 05', '2018-01-31 06', '2018-01-31 07', '2018-01-31 08', '2018-01-31 09', '2018-01-31 10', '2018-01-31 11', '2018-01-31 12', '2018-01-31 13', '2018-01-31 14', '2018-01-31 15', '2018-01-31 16', '2018-01-31 17', '2018-01-31 18', '2018-01-31 19', '2018-01-31 20', '2018-01-31 21', '2018-01-31 22', '2018-01-31 23', '2018-02-01 00', '2018-02-01 01', '2018-02-01 02', '2018-02-01 03', '2018-02-01 04', '2018-02-01 05', '2018-02-01 06', '2018-02-01 07', '2018-02-01 08', '2018-02-01 09', '2018-02-01 10', '2018-02-01 11', '2018-02-01 12', '2018-02-01 13', '2018-02-01 14', '2018-02-01 15', '2018-02-01 16', '2018-02-01 17', '2018-02-01 18', '2018-02-01 19', '2018-02-01 20', '2018-02-01 21', '2018-02-01 22', '2018-02-01 23', '2018-02-02 00', '2018-02-02 01', '2018-02-02 02', '2018-02-02 03', '2018-02-02 04', '2018-02-02 05', '2018-02-02 06', '2018-02-02 07', '2018-02-02 08', '2018-02-02 09', '2018-02-02 10', '2018-02-02 11', '2018-02-02 12', '2018-02-02 13', '2018-02-02 14', '2018-02-02 15', '2018-02-02 16', '2018-02-02 17', '2018-02-02 18', '2018-02-02 19', '2018-02-02 20', '2018-02-02 21', '2018-02-02 22', '2018-02-02 23', '2018-02-03 00', '2018-02-03 01', '2018-02-03 02', '2018-02-03 03', '2018-02-03 04', '2018-02-03 05', '2018-02-03 06', '2018-02-03 07', '2018-02-03 08', '2018-02-03 09', '2018-02-03 10', '2018-02-03 11', '2018-02-03 12', '2018-02-03 13', '2018-02-03 14', '2018-02-03 15', '2018-02-03 16', '2018-02-03 17', '2018-02-03 18', '2018-02-03 19', '2018-02-03 20', '2018-02-03 21', '2018-02-03 22', '2018-02-03 23', '2018-02-04 00', '2018-02-04 01', '2018-02-04 02', '2018-02-04 03', '2018-02-04 04', '2018-02-04 05', '2018-02-04 06', '2018-02-04 07', '2018-02-04 08', '2018-02-04 09', '2018-02-04 10', '2018-02-04 11', '2018-02-04 12', '2018-02-04 13', '2018-02-04 14', '2018-02-04 15', '2018-02-04 16', '2018-02-04 17', '2018-02-04 18', '2018-02-04 19', '2018-02-04 20', '2018-02-04 21', '2018-02-04 22', '2018-02-04 23', '2018-02-05 00', '2018-02-05 01', '2018-02-05 02', '2018-02-05 03', '2018-02-05 04', '2018-02-05 05', '2018-02-05 06', '2018-02-05 07', '2018-02-05 08', '2018-02-05 09', '2018-02-05 10', '2018-02-05 11', '2018-02-05 12', '2018-02-05 13', '2018-02-05 14', '2018-02-05 15', '2018-02-05 16', '2018-02-05 17', '2018-02-05 18', '2018-02-05 19', '2018-02-05 20', '2018-02-05 21', '2018-02-05 22', '2018-02-05 23', '2018-02-06 00', '2018-02-06 01', '2018-02-06 02', '2018-02-06 03', '2018-02-06 04', '2018-02-06 05', '2018-02-06 06', '2018-02-06 07', '2018-02-06 08', '2018-02-06 09', '2018-02-06 10', '2018-02-06 11', '2018-02-06 12', '2018-02-06 13', '2018-02-06 14', '2018-02-06 15', '2018-02-06 16', '2018-02-06 17', '2018-02-06 18', '2018-02-06 19', '2018-02-06 20', '2018-02-06 21', '2018-02-06 22', '2018-02-06 23', '2018-02-07 00', '2018-02-07 01', '2018-02-07 02', '2018-02-07 03', '2018-02-07 04', '2018-02-07 05', '2018-02-07 06', '2018-02-07 07', '2018-02-07 08', '2018-02-07 09', '2018-02-07 10', '2018-02-07 11', '2018-02-07 12', '2018-02-07 13', '2018-02-07 14', '2018-02-07 15', '2018-02-07 16', '2018-02-07 17', '2018-02-07 18', '2018-02-07 19', '2018-02-07 20', '2018-02-07 21', '2018-02-07 22', '2018-02-07 23', '2018-02-08 00', '2018-02-08 01', '2018-02-08 02', '2018-02-08 03', '2018-02-08 04', '2018-02-08 05', '2018-02-08 06', '2018-02-08 07', '2018-02-08 08', '2018-02-08 09', '2018-02-08 10', '2018-02-08 11', '2018-02-08 12', '2018-02-08 13', '2018-02-08 14', '2018-02-08 15', '2018-02-08 16', '2018-02-08 17', '2018-02-08 18', '2018-02-08 19', '2018-02-08 20', '2018-02-08 21', '2018-02-08 22', '2018-02-08 23', '2018-02-09 00', '2018-02-09 01', '2018-02-09 02', '2018-02-09 03', '2018-02-09 04', '2018-02-09 05', '2018-02-09 06', '2018-02-09 07', '2018-02-09 08', '2018-02-09 09', '2018-02-09 10', '2018-02-09 11', '2018-02-09 12', '2018-02-09 13', '2018-02-09 14', '2018-02-09 15', '2018-02-09 16', '2018-02-09 17', '2018-02-09 18', '2018-02-09 19', '2018-02-09 20', '2018-02-09 21', '2018-02-09 22', '2018-02-09 23', '2018-02-10 00', '2018-02-10 01', '2018-02-10 02', '2018-02-10 03', '2018-02-10 04', '2018-02-10 05', '2018-02-10 06', '2018-02-10 07', '2018-02-10 08', '2018-02-10 09', '2018-02-10 10', '2018-02-10 11', '2018-02-10 12', '2018-02-10 13', '2018-02-10 14', '2018-02-10 15', '2018-02-10 16', '2018-02-10 17', '2018-02-10 18', '2018-02-10 19', '2018-02-10 20', '2018-02-10 21', '2018-02-10 22', '2018-02-10 23', '2018-02-11 00', '2018-02-11 01', '2018-02-11 02', '2018-02-11 03', '2018-02-11 04', '2018-02-11 05', '2018-02-11 06', '2018-02-11 07', '2018-02-11 08', '2018-02-11 09', '2018-02-11 10', '2018-02-11 11', '2018-02-11 12', '2018-02-11 13', '2018-02-11 14', '2018-02-11 15', '2018-02-11 16', '2018-02-11 17', '2018-02-11 18', '2018-02-11 19', '2018-02-11 20', '2018-02-11 21', '2018-02-11 22', '2018-02-11 23', '2018-02-12 00', '2018-02-12 01', '2018-02-12 02', '2018-02-12 03', '2018-02-12 04', '2018-02-12 05', '2018-02-12 06', '2018-02-12 07', '2018-02-12 08', '2018-02-12 09', '2018-02-12 10', '2018-02-12 11', '2018-02-12 12', '2018-02-12 13', '2018-02-12 14', '2018-02-12 15', '2018-02-12 16', '2018-02-12 17', '2018-02-12 18', '2018-02-12 19', '2018-02-12 20', '2018-02-12 21', '2018-02-12 22', '2018-02-12 23', '2018-02-13 00', '2018-02-13 01', '2018-02-13 02', '2018-02-13 03', '2018-02-13 04', '2018-02-13 05', '2018-02-13 06', '2018-02-13 07', '2018-02-13 08', '2018-02-13 09', '2018-02-13 10', '2018-02-13 11', '2018-02-13 12', '2018-02-13 13', '2018-02-13 14', '2018-02-13 15', '2018-02-13 16', '2018-02-13 17', '2018-02-13 18', '2018-02-13 19', '2018-02-13 20', '2018-02-13 21', '2018-02-13 22', '2018-02-13 23', '2018-02-14 00', '2018-02-14 01', '2018-02-14 02', '2018-02-14 03', '2018-02-14 04', '2018-02-14 05', '2018-02-14 06', '2018-02-14 07', '2018-02-14 08', '2018-02-14 09', '2018-02-14 10', '2018-02-14 11', '2018-02-14 12', '2018-02-14 13', '2018-02-14 14', '2018-02-14 15', '2018-02-14 16', '2018-02-14 17', '2018-02-14 18', '2018-02-14 19', '2018-02-14 20', '2018-02-14 21', '2018-02-14 22', '2018-02-14 23', '2018-02-15 00', '2018-02-15 01', '2018-02-15 02', '2018-02-15 03', '2018-02-15 04', '2018-02-15 05', '2018-02-15 06', '2018-02-15 07', '2018-02-15 08', '2018-02-15 09', '2018-02-15 10', '2018-02-15 11', '2018-02-15 12', '2018-02-15 13', '2018-02-15 14', '2018-02-15 15', '2018-02-15 16', '2018-02-15 17', '2018-02-15 18', '2018-02-15 19', '2018-02-15 20', '2018-02-15 21', '2018-02-15 22', '2018-02-15 23', '2018-02-16 00', '2018-02-16 01', '2018-02-16 02', '2018-02-16 03', '2018-02-16 04', '2018-02-16 05', '2018-02-16 06', '2018-02-16 07', '2018-02-16 08', '2018-02-16 09', '2018-02-16 10', '2018-02-16 11', '2018-02-16 12', '2018-02-16 13', '2018-02-16 14', '2018-02-16 15', '2018-02-16 16', '2018-02-16 17', '2018-02-16 18', '2018-02-16 19', '2018-02-16 20', '2018-02-16 21', '2018-02-16 22', '2018-02-16 23', '2018-02-17 00', '2018-02-17 01', '2018-02-17 02', '2018-02-17 03', '2018-02-17 04', '2018-02-17 05', '2018-02-17 06', '2018-02-17 07', '2018-02-17 08', '2018-02-17 09', '2018-02-17 10', '2018-02-17 11', '2018-02-17 12', '2018-02-17 13', '2018-02-17 14', '2018-02-17 15', '2018-02-17 16', '2018-02-17 17', '2018-02-17 18', '2018-02-17 19', '2018-02-17 20', '2018-02-17 21', '2018-02-17 22', '2018-02-17 23', '2018-02-18 00', '2018-02-18 01', '2018-02-18 02', '2018-02-18 03', '2018-02-18 04', '2018-02-18 05', '2018-02-18 06', '2018-02-18 07', '2018-02-18 08', '2018-02-18 09', '2018-02-18 10', '2018-02-18 11', '2018-02-18 12', '2018-02-18 13', '2018-02-18 14', '2018-02-18 15', '2018-02-18 16', '2018-02-18 17', '2018-02-18 18', '2018-02-18 19', '2018-02-18 20', '2018-02-18 21', '2018-02-18 22', '2018-02-18 23', '2018-02-19 00', '2018-02-19 01', '2018-02-19 02', '2018-02-19 03', '2018-02-19 04', '2018-02-19 05', '2018-02-19 06', '2018-02-19 07', '2018-02-19 08', '2018-02-19 09', '2018-02-19 10', '2018-02-19 11', '2018-02-19 12', '2018-02-19 13', '2018-02-19 14', '2018-02-19 15', '2018-02-19 16', '2018-02-19 17', '2018-02-19 18', '2018-02-19 19', '2018-02-19 20', '2018-02-19 21', '2018-02-19 22', '2018-02-19 23', '2018-02-20 00', '2018-02-20 01', '2018-02-20 02', '2018-02-20 03', '2018-02-20 04', '2018-02-20 05', '2018-02-20 06', '2018-02-20 07', '2018-02-20 08', '2018-02-20 09', '2018-02-20 10', '2018-02-20 11', '2018-02-20 12', '2018-02-20 13', '2018-02-20 14', '2018-02-20 15', '2018-02-20 16', '2018-02-20 17', '2018-02-20 18', '2018-02-20 19', '2018-02-20 20', '2018-02-20 21', '2018-02-20 22', '2018-02-20 23', '2018-02-21 00', '2018-02-21 01', '2018-02-21 02', '2018-02-21 03', '2018-02-21 04', '2018-02-21 05', '2018-02-21 06', '2018-02-21 07', '2018-02-21 08', '2018-02-21 09', '2018-02-21 10', '2018-02-21 11', '2018-02-21 12', '2018-02-21 13', '2018-02-21 14', '2018-02-21 15', '2018-02-21 16', '2018-02-21 17', '2018-02-21 18', '2018-02-21 19', '2018-02-21 20', '2018-02-21 21', '2018-02-21 22', '2018-02-21 23', '2018-02-22 00', '2018-02-22 01', '2018-02-22 02', '2018-02-22 03', '2018-02-22 04', '2018-02-22 05', '2018-02-22 06', '2018-02-22 07', '2018-02-22 08', '2018-02-22 09', '2018-02-22 10', '2018-02-22 11', '2018-02-22 12', '2018-02-22 13', '2018-02-22 14', '2018-02-22 15', '2018-02-22 16', '2018-02-22 17', '2018-02-22 18', '2018-02-22 19', '2018-02-22 20', '2018-02-22 21', '2018-02-22 22', '2018-02-22 23', '2018-02-23 00', '2018-02-23 01', '2018-02-23 02', '2018-02-23 03', '2018-02-23 04', '2018-02-23 05', '2018-02-23 06', '2018-02-23 07', '2018-02-23 08', '2018-02-23 09', '2018-02-23 10', '2018-02-23 11', '2018-02-23 12', '2018-02-23 13', '2018-02-23 14', '2018-02-23 15', '2018-02-23 16', '2018-02-23 17', '2018-02-23 18', '2018-02-23 19', '2018-02-23 20', '2018-02-23 21', '2018-02-23 22', '2018-02-23 23', '2018-02-24 00', '2018-02-24 01', '2018-02-24 02', '2018-02-24 03', '2018-02-24 04', '2018-02-24 05', '2018-02-24 06', '2018-02-24 07', '2018-02-24 08', '2018-02-24 09', '2018-02-24 10', '2018-02-24 11', '2018-02-24 12', '2018-02-24 13', '2018-02-24 14', '2018-02-24 15', '2018-02-24 16', '2018-02-24 17', '2018-02-24 18', '2018-02-24 19', '2018-02-24 20', '2018-02-24 21', '2018-02-24 22', '2018-02-24 23', '2018-02-25 00', '2018-02-25 01', '2018-02-25 02', '2018-02-25 03', '2018-02-25 04', '2018-02-25 05', '2018-02-25 06', '2018-02-25 07', '2018-02-25 08', '2018-02-25 09', '2018-02-25 10', '2018-02-25 11', '2018-02-25 12', '2018-02-25 13', '2018-02-25 14', '2018-02-25 15', '2018-02-25 16', '2018-02-25 17', '2018-02-25 18', '2018-02-25 19', '2018-02-25 20', '2018-02-25 21', '2018-02-25 22', '2018-02-25 23', '2018-02-26 00', '2018-02-26 01', '2018-02-26 02', '2018-02-26 03', '2018-02-26 04', '2018-02-26 05', '2018-02-26 06', '2018-02-26 07', '2018-02-26 08', '2018-02-26 09', '2018-02-26 10', '2018-02-26 11', '2018-02-26 12', '2018-02-26 13', '2018-02-26 14', '2018-02-26 15', '2018-02-26 16', '2018-02-26 17', '2018-02-26 18', '2018-02-26 19', '2018-02-26 20', '2018-02-26 21', '2018-02-26 22', '2018-02-26 23', '2018-02-27 00', '2018-02-27 01', '2018-02-27 02', '2018-02-27 03', '2018-02-27 04', '2018-02-27 05', '2018-02-27 06', '2018-02-27 07', '2018-02-27 08', '2018-02-27 09', '2018-02-27 10', '2018-02-27 11', '2018-02-27 12', '2018-02-27 13', '2018-02-27 14', '2018-02-27 15', '2018-02-27 16', '2018-02-27 17', '2018-02-27 18', '2018-02-27 19', '2018-02-27 20', '2018-02-27 21', '2018-02-27 22', '2018-02-27 23', '2018-02-28 00', '2018-02-28 01', '2018-02-28 02', '2018-02-28 03', '2018-02-28 04', '2018-02-28 05', '2018-02-28 06', '2018-02-28 07', '2018-02-28 08', '2018-02-28 09', '2018-02-28 10', '2018-02-28 11', '2018-02-28 12', '2018-02-28 13', '2018-02-28 14', '2018-02-28 15', '2018-02-28 16', '2018-02-28 17', '2018-02-28 18', '2018-02-28 19', '2018-02-28 20', '2018-02-28 21', '2018-02-28 22', '2018-02-28 23', '2018-03-01 00', '2018-03-01 01', '2018-03-01 02', '2018-03-01 03', '2018-03-01 04', '2018-03-01 05', '2018-03-01 06', '2018-03-01 07', '2018-03-01 08', '2018-03-01 09', '2018-03-01 10', '2018-03-01 11', '2018-03-01 12', '2018-03-01 13', '2018-03-01 14', '2018-03-01 15', '2018-03-01 16', '2018-03-01 17', '2018-03-01 18', '2018-03-01 19', '2018-03-01 20', '2018-03-01 21', '2018-03-01 22', '2018-03-01 23', '2018-03-02 00', '2018-03-02 01', '2018-03-02 02', '2018-03-02 03', '2018-03-02 04', '2018-03-02 05', '2018-03-02 06', '2018-03-02 07', '2018-03-02 08', '2018-03-02 09', '2018-03-02 10', '2018-03-02 11', '2018-03-02 12', '2018-03-02 13', '2018-03-02 14', '2018-03-02 15', '2018-03-02 16', '2018-03-02 17', '2018-03-02 18', '2018-03-02 19', '2018-03-02 20', '2018-03-02 21', '2018-03-02 22', '2018-03-02 23', '2018-03-03 00', '2018-03-03 01', '2018-03-03 02', '2018-03-03 03', '2018-03-03 04', '2018-03-03 05', '2018-03-03 06', '2018-03-03 07', '2018-03-03 08', '2018-03-03 09', '2018-03-03 10', '2018-03-03 11', '2018-03-03 12', '2018-03-03 13', '2018-03-03 14', '2018-03-03 15', '2018-03-03 16', '2018-03-03 17', '2018-03-03 18', '2018-03-03 19', '2018-03-03 20', '2018-03-03 21', '2018-03-03 22', '2018-03-03 23', '2018-03-04 00', '2018-03-04 01', '2018-03-04 02', '2018-03-04 03', '2018-03-04 04', '2018-03-04 05', '2018-03-04 06', '2018-03-04 07', '2018-03-04 08', '2018-03-04 09', '2018-03-04 10', '2018-03-04 11', '2018-03-04 12', '2018-03-04 13', '2018-03-04 14', '2018-03-04 15', '2018-03-04 16', '2018-03-04 17', '2018-03-04 18', '2018-03-04 19', '2018-03-04 20', '2018-03-04 21', '2018-03-04 22', '2018-03-04 23', '2018-03-05 00', '2018-03-05 01', '2018-03-05 02', '2018-03-05 03', '2018-03-05 04', '2018-03-05 05', '2018-03-05 06', '2018-03-05 07', '2018-03-05 08', '2018-03-05 09', '2018-03-05 10', '2018-03-05 11', '2018-03-05 12', '2018-03-05 13', '2018-03-05 14', '2018-03-05 15', '2018-03-05 16', '2018-03-05 17', '2018-03-05 18', '2018-03-05 19', '2018-03-05 20', '2018-03-05 21', '2018-03-05 22', '2018-03-05 23', '2018-03-06 00', '2018-03-06 01', '2018-03-06 02', '2018-03-06 03', '2018-03-06 04', '2018-03-06 05', '2018-03-06 06', '2018-03-06 07', '2018-03-06 08', '2018-03-06 09', '2018-03-06 10', '2018-03-06 11', '2018-03-06 12', '2018-03-06 13', '2018-03-06 14', '2018-03-06 15', '2018-03-06 16', '2018-03-06 17', '2018-03-06 18', '2018-03-06 19', '2018-03-06 20', '2018-03-06 21', '2018-03-06 22', '2018-03-06 23', '2018-03-07 00', '2018-03-07 01', '2018-03-07 02', '2018-03-07 03', '2018-03-07 04', '2018-03-07 05', '2018-03-07 06', '2018-03-07 07', '2018-03-07 08', '2018-03-07 09', '2018-03-07 10', '2018-03-07 11', '2018-03-07 12', '2018-03-07 13', '2018-03-07 14', '2018-03-07 15', '2018-03-07 16', '2018-03-07 17', '2018-03-07 18', '2018-03-07 19', '2018-03-07 20', '2018-03-07 21', '2018-03-07 22', '2018-03-07 23', '2018-03-08 00', '2018-03-08 01', '2018-03-08 02', '2018-03-08 03', '2018-03-08 04', '2018-03-08 05', '2018-03-08 06', '2018-03-08 07', '2018-03-08 08', '2018-03-08 09', '2018-03-08 10', '2018-03-08 11', '2018-03-08 12', '2018-03-08 13', '2018-03-08 14', '2018-03-08 15', '2018-03-08 16', '2018-03-08 17', '2018-03-08 18', '2018-03-08 19', '2018-03-08 20', '2018-03-08 21', '2018-03-08 22', '2018-03-08 23', '2018-03-09 00', '2018-03-09 01', '2018-03-09 02', '2018-03-09 03', '2018-03-09 04', '2018-03-09 05', '2018-03-09 06', '2018-03-09 07', '2018-03-09 08', '2018-03-09 09', '2018-03-09 10', '2018-03-09 11', '2018-03-09 12', '2018-03-09 13', '2018-03-09 14', '2018-03-09 15', '2018-03-09 16', '2018-03-09 17', '2018-03-09 18', '2018-03-09 19', '2018-03-09 20', '2018-03-09 21', '2018-03-09 22', '2018-03-09 23', '2018-03-10 00', '2018-03-10 01', '2018-03-10 02', '2018-03-10 03', '2018-03-10 04', '2018-03-10 05', '2018-03-10 06', '2018-03-10 07', '2018-03-10 08', '2018-03-10 09', '2018-03-10 10', '2018-03-10 11', '2018-03-10 12', '2018-03-10 13', '2018-03-10 14', '2018-03-10 15', '2018-03-10 16', '2018-03-10 17', '2018-03-10 18', '2018-03-10 19', '2018-03-10 20', '2018-03-10 21', '2018-03-10 22', '2018-03-10 23', '2018-03-11 00', '2018-03-11 01', '2018-03-11 02', '2018-03-11 03', '2018-03-11 04', '2018-03-11 05', '2018-03-11 06', '2018-03-11 07', '2018-03-11 08', '2018-03-11 09', '2018-03-11 10', '2018-03-11 11', '2018-03-11 12', '2018-03-11 13', '2018-03-11 14', '2018-03-11 15', '2018-03-11 16', '2018-03-11 17', '2018-03-11 18', '2018-03-11 19', '2018-03-11 20', '2018-03-11 21', '2018-03-11 22', '2018-03-11 23', '2018-03-12 00', '2018-03-12 01', '2018-03-12 02', '2018-03-12 03', '2018-03-12 04', '2018-03-12 05', '2018-03-12 06', '2018-03-12 07', '2018-03-12 08', '2018-03-12 09', '2018-03-12 10', '2018-03-12 11', '2018-03-12 12', '2018-03-12 13', '2018-03-12 14', '2018-03-12 15', '2018-03-12 16', '2018-03-12 17', '2018-03-12 18', '2018-03-12 19', '2018-03-12 20', '2018-03-12 21', '2018-03-12 22', '2018-03-12 23', '2018-03-13 00', '2018-03-13 01', '2018-03-13 02', '2018-03-13 03', '2018-03-13 04', '2018-03-13 05', '2018-03-13 06', '2018-03-13 07', '2018-03-13 08', '2018-03-13 09', '2018-03-13 10', '2018-03-13 11', '2018-03-13 12', '2018-03-13 13', '2018-03-13 14', '2018-03-13 15', '2018-03-13 16', '2018-03-13 17', '2018-03-13 18', '2018-03-13 19', '2018-03-13 20', '2018-03-13 21', '2018-03-13 22', '2018-03-13 23', '2018-03-14 00', '2018-03-14 01', '2018-03-14 02', '2018-03-14 03', '2018-03-14 04', '2018-03-14 05', '2018-03-14 06', '2018-03-14 07', '2018-03-14 08', '2018-03-14 09', '2018-03-14 10', '2018-03-14 11', '2018-03-14 12', '2018-03-14 13', '2018-03-14 14', '2018-03-14 15', '2018-03-14 16', '2018-03-14 17', '2018-03-14 18', '2018-03-14 19', '2018-03-14 20', '2018-03-14 21', '2018-03-14 22', '2018-03-14 23', '2018-03-15 00', '2018-03-15 01', '2018-03-15 02', '2018-03-15 03', '2018-03-15 04', '2018-03-15 05', '2018-03-15 06', '2018-03-15 07', '2018-03-15 08', '2018-03-15 09', '2018-03-15 10', '2018-03-15 11', '2018-03-15 12', '2018-03-15 13', '2018-03-15 14', '2018-03-15 15', '2018-03-15 16', '2018-03-15 17', '2018-03-15 18', '2018-03-15 19', '2018-03-15 20', '2018-03-15 21', '2018-03-15 22', '2018-03-15 23', '2018-03-16 00', '2018-03-16 01', '2018-03-16 02', '2018-03-16 03', '2018-03-16 04', '2018-03-16 05', '2018-03-16 06', '2018-03-16 07', '2018-03-16 08', '2018-03-16 09', '2018-03-16 10', '2018-03-16 11', '2018-03-16 12', '2018-03-16 13', '2018-03-16 14', '2018-03-16 15', '2018-03-16 16', '2018-03-16 17', '2018-03-16 18', '2018-03-16 19', '2018-03-16 20', '2018-03-16 21', '2018-03-16 22', '2018-03-16 23', '2018-03-17 00', '2018-03-17 01', '2018-03-17 02', '2018-03-17 03', '2018-03-17 04', '2018-03-17 05', '2018-03-17 06', '2018-03-17 07', '2018-03-17 08', '2018-03-17 09', '2018-03-17 10', '2018-03-17 11', '2018-03-17 12', '2018-03-17 13', '2018-03-17 14', '2018-03-17 15', '2018-03-17 16', '2018-03-17 17', '2018-03-17 18', '2018-03-17 19', '2018-03-17 20', '2018-03-17 21', '2018-03-17 22', '2018-03-17 23', '2018-03-18 00', '2018-03-18 01', '2018-03-18 02', '2018-03-18 03', '2018-03-18 04', '2018-03-18 05', '2018-03-18 06', '2018-03-18 07', '2018-03-18 08', '2018-03-18 09', '2018-03-18 10', '2018-03-18 11', '2018-03-18 12', '2018-03-18 13', '2018-03-18 14', '2018-03-18 15', '2018-03-18 16', '2018-03-18 17', '2018-03-18 18', '2018-03-18 19', '2018-03-18 20', '2018-03-18 21', '2018-03-18 22', '2018-03-18 23', '2018-03-19 00', '2018-03-19 01', '2018-03-19 02', '2018-03-19 03', '2018-03-19 04', '2018-03-19 05', '2018-03-19 06', '2018-03-19 07', '2018-03-19 08', '2018-03-19 09', '2018-03-19 10', '2018-03-19 11', '2018-03-19 12', '2018-03-19 13', '2018-03-19 14', '2018-03-19 15', '2018-03-19 16', '2018-03-19 17', '2018-03-19 18', '2018-03-19 19', '2018-03-19 20', '2018-03-19 21', '2018-03-19 22', '2018-03-19 23', '2018-03-20 00', '2018-03-20 01', '2018-03-20 02', '2018-03-20 03', '2018-03-20 04', '2018-03-20 05', '2018-03-20 06', '2018-03-20 07', '2018-03-20 08', '2018-03-20 09', '2018-03-20 10', '2018-03-20 11', '2018-03-20 12', '2018-03-20 13', '2018-03-20 14', '2018-03-20 15', '2018-03-20 16', '2018-03-20 17', '2018-03-20 18', '2018-03-20 19', '2018-03-20 20', '2018-03-20 21', '2018-03-20 22', '2018-03-20 23', '2018-03-21 00', '2018-03-21 01', '2018-03-21 02', '2018-03-21 03', '2018-03-21 04', '2018-03-21 05', '2018-03-21 06', '2018-03-21 07', '2018-03-21 08', '2018-03-21 09', '2018-03-21 10', '2018-03-21 11', '2018-03-21 12', '2018-03-21 13', '2018-03-21 14', '2018-03-21 15', '2018-03-21 16', '2018-03-21 17', '2018-03-21 18', '2018-03-21 19', '2018-03-21 20', '2018-03-21 21', '2018-03-21 22', '2018-03-21 23', '2018-03-22 00', '2018-03-22 01', '2018-03-22 02', '2018-03-22 03', '2018-03-22 04', '2018-03-22 05', '2018-03-22 06', '2018-03-22 07', '2018-03-22 08', '2018-03-22 09', '2018-03-22 10', '2018-03-22 11', '2018-03-22 12', '2018-03-22 13', '2018-03-22 14', '2018-03-22 15', '2018-03-22 16', '2018-03-22 17', '2018-03-22 18', '2018-03-22 19', '2018-03-22 20', '2018-03-22 21', '2018-03-22 22', '2018-03-22 23', '2018-03-23 00', '2018-03-23 01', '2018-03-23 02', '2018-03-23 03', '2018-03-23 04', '2018-03-23 05', '2018-03-23 06', '2018-03-23 07', '2018-03-23 08', '2018-03-23 09', '2018-03-23 10', '2018-03-23 11', '2018-03-23 12', '2018-03-23 13', '2018-03-23 14', '2018-03-23 15', '2018-03-23 16', '2018-03-23 17', '2018-03-23 18', '2018-03-23 19', '2018-03-23 20', '2018-03-23 21', '2018-03-23 22', '2018-03-23 23', '2018-03-24 00', '2018-03-24 01', '2018-03-24 02', '2018-03-24 03', '2018-03-24 04', '2018-03-24 05', '2018-03-24 06', '2018-03-24 07', '2018-03-24 08', '2018-03-24 09', '2018-03-24 10', '2018-03-24 11', '2018-03-24 12', '2018-03-24 13', '2018-03-24 14', '2018-03-24 15', '2018-03-24 16', '2018-03-24 17', '2018-03-24 18', '2018-03-24 19', '2018-03-24 20', '2018-03-24 21', '2018-03-24 22', '2018-03-24 23', '2018-03-25 00', '2018-03-25 01', '2018-03-25 02', '2018-03-25 03', '2018-03-25 04', '2018-03-25 05', '2018-03-25 06', '2018-03-25 07', '2018-03-25 08', '2018-03-25 09', '2018-03-25 10', '2018-03-25 11', '2018-03-25 12', '2018-03-25 13', '2018-03-25 14', '2018-03-25 15', '2018-03-25 16', '2018-03-25 17', '2018-03-25 18', '2018-03-25 19', '2018-03-25 20', '2018-03-25 21', '2018-03-25 22', '2018-03-25 23', '2018-03-26 00', '2018-03-26 01', '2018-03-26 02', '2018-03-26 03', '2018-03-26 04', '2018-03-26 05', '2018-03-26 06', '2018-03-26 07', '2018-03-26 08', '2018-03-26 09', '2018-03-26 10', '2018-03-26 11', '2018-03-26 12', '2018-03-26 13', '2018-03-26 14', '2018-03-26 15', '2018-03-26 16', '2018-03-26 17', '2018-03-26 18', '2018-03-26 19', '2018-03-26 20', '2018-03-26 21', '2018-03-26 22', '2018-03-26 23', '2018-03-27 00', '2018-03-27 01', '2018-03-27 02', '2018-03-27 03', '2018-03-27 04', '2018-03-27 05', '2018-03-27 06', '2018-03-27 07', '2018-03-27 08', '2018-03-27 09', '2018-03-27 10', '2018-03-27 11', '2018-03-27 12', '2018-03-27 13', '2018-03-27 14', '2018-03-27 15', '2018-03-27 16', '2018-03-27 17', '2018-03-27 18', '2018-03-27 19', '2018-03-27 20', '2018-03-27 21', '2018-03-27 22', '2018-03-27 23', '2018-03-28 00', '2018-03-28 01', '2018-03-28 02', '2018-03-28 03', '2018-03-28 04', '2018-03-28 05', '2018-03-28 06', '2018-03-28 07', '2018-03-28 08', '2018-03-28 09', '2018-03-28 10', '2018-03-28 11', '2018-03-28 12', '2018-03-28 13', '2018-03-28 14', '2018-03-28 15', '2018-03-28 16', '2018-03-28 17', '2018-03-28 18', '2018-03-28 19', '2018-03-28 20', '2018-03-28 21', '2018-03-28 22', '2018-03-28 23', '2018-03-29 00', '2018-03-29 01', '2018-03-29 02', '2018-03-29 03', '2018-03-29 04', '2018-03-29 05', '2018-03-29 06', '2018-03-29 07', '2018-03-29 08', '2018-03-29 09', '2018-03-29 10', '2018-03-29 11', '2018-03-29 12', '2018-03-29 13', '2018-03-29 14', '2018-03-29 15', '2018-03-29 16', '2018-03-29 17', '2018-03-29 18', '2018-03-29 19', '2018-03-29 20', '2018-03-29 21', '2018-03-29 22', '2018-03-29 23', '2018-03-30 00', '2018-03-30 01', '2018-03-30 02', '2018-03-30 03', '2018-03-30 04', '2018-03-30 05', '2018-03-30 06', '2018-03-30 07', '2018-03-30 08', '2018-03-30 09', '2018-03-30 10', '2018-03-30 11', '2018-03-30 12', '2018-03-30 13', '2018-03-30 14', '2018-03-30 15', '2018-03-30 16', '2018-03-30 17', '2018-03-30 18', '2018-03-30 19', '2018-03-30 20', '2018-03-30 21', '2018-03-30 22', '2018-03-30 23', '2018-03-31 00', '2018-03-31 01', '2018-03-31 02', '2018-03-31 03', '2018-03-31 04', '2018-03-31 05', '2018-03-31 06', '2018-03-31 07', '2018-03-31 08', '2018-03-31 09', '2018-03-31 10', '2018-03-31 11', '2018-03-31 12', '2018-03-31 13', '2018-03-31 14', '2018-03-31 15', '2018-03-31 16', '2018-03-31 17', '2018-03-31 18', '2018-03-31 19', '2018-03-31 20', '2018-03-31 21', '2018-03-31 22', '2018-03-31 23', '2018-04-01 00', '2018-04-01 01', '2018-04-01 02', '2018-04-01 03', '2018-04-01 04', '2018-04-01 05', '2018-04-01 06', '2018-04-01 07', '2018-04-01 08', '2018-04-01 09', '2018-04-01 10', '2018-04-01 11', '2018-04-01 12', '2018-04-01 13', '2018-04-01 14', '2018-04-01 15', '2018-04-01 16', '2018-04-01 17', '2018-04-01 18', '2018-04-01 19', '2018-04-01 20', '2018-04-01 21', '2018-04-01 22', '2018-04-01 23', '2018-04-02 00', '2018-04-02 01', '2018-04-02 02', '2018-04-02 03', '2018-04-02 04', '2018-04-02 05', '2018-04-02 06', '2018-04-02 07', '2018-04-02 08', '2018-04-02 09', '2018-04-02 10', '2018-04-02 11', '2018-04-02 12', '2018-04-02 13', '2018-04-02 14', '2018-04-02 15', '2018-04-02 16', '2018-04-02 17', '2018-04-02 18', '2018-04-02 19', '2018-04-02 20', '2018-04-02 21', '2018-04-02 22', '2018-04-02 23', '2018-04-03 00', '2018-04-03 01', '2018-04-03 02', '2018-04-03 03', '2018-04-03 04', '2018-04-03 05', '2018-04-03 06', '2018-04-03 07', '2018-04-03 08', '2018-04-03 09', '2018-04-03 10', '2018-04-03 11', '2018-04-03 12', '2018-04-03 13', '2018-04-03 14', '2018-04-03 15', '2018-04-03 16', '2018-04-03 17', '2018-04-03 18', '2018-04-03 19', '2018-04-03 20', '2018-04-03 21', '2018-04-03 22', '2018-04-03 23', '2018-04-04 00', '2018-04-04 01', '2018-04-04 02', '2018-04-04 03', '2018-04-04 04', '2018-04-04 05', '2018-04-04 06', '2018-04-04 07', '2018-04-04 08', '2018-04-04 09', '2018-04-04 10', '2018-04-04 11', '2018-04-04 12', '2018-04-04 13', '2018-04-04 14', '2018-04-04 15', '2018-04-04 16', '2018-04-04 17', '2018-04-04 18', '2018-04-04 19', '2018-04-04 20', '2018-04-04 21', '2018-04-04 22', '2018-04-04 23', '2018-04-05 00', '2018-04-05 01', '2018-04-05 02', '2018-04-05 03', '2018-04-05 04', '2018-04-05 05', '2018-04-05 06', '2018-04-05 07', '2018-04-05 08', '2018-04-05 09', '2018-04-05 10', '2018-04-05 11', '2018-04-05 12', '2018-04-05 13', '2018-04-05 14', '2018-04-05 15', '2018-04-05 16', '2018-04-05 17', '2018-04-05 18', '2018-04-05 19', '2018-04-05 20', '2018-04-05 21', '2018-04-05 22', '2018-04-05 23', '2018-04-06 00', '2018-04-06 01', '2018-04-06 02', '2018-04-06 03', '2018-04-06 04', '2018-04-06 05', '2018-04-06 06', '2018-04-06 07', '2018-04-06 08', '2018-04-06 09', '2018-04-06 10', '2018-04-06 11', '2018-04-06 12', '2018-04-06 13', '2018-04-06 14', '2018-04-06 15', '2018-04-06 16', '2018-04-06 17', '2018-04-06 18', '2018-04-06 19', '2018-04-06 20', '2018-04-06 21', '2018-04-06 22', '2018-04-06 23', '2018-04-07 00', '2018-04-07 01', '2018-04-07 02', '2018-04-07 03', '2018-04-07 04', '2018-04-07 05', '2018-04-07 06', '2018-04-07 07', '2018-04-07 08', '2018-04-07 09', '2018-04-07 10', '2018-04-07 11', '2018-04-07 12', '2018-04-07 13', '2018-04-07 14', '2018-04-07 15', '2018-04-07 16', '2018-04-07 17', '2018-04-07 18', '2018-04-07 19', '2018-04-07 20', '2018-04-07 21', '2018-04-07 22', '2018-04-07 23', '2018-04-08 00', '2018-04-08 01', '2018-04-08 02', '2018-04-08 03', '2018-04-08 04', '2018-04-08 05', '2018-04-08 06', '2018-04-08 07', '2018-04-08 08', '2018-04-08 09', '2018-04-08 10', '2018-04-08 11', '2018-04-08 12', '2018-04-08 13', '2018-04-08 14', '2018-04-08 15', '2018-04-08 16', '2018-04-08 17', '2018-04-08 18', '2018-04-08 19', '2018-04-08 20', '2018-04-08 21', '2018-04-08 22', '2018-04-08 23', '2018-04-09 00', '2018-04-09 01', '2018-04-09 02', '2018-04-09 03', '2018-04-09 04', '2018-04-09 05', '2018-04-09 06', '2018-04-09 07', '2018-04-09 08', '2018-04-09 09', '2018-04-09 10', '2018-04-09 11', '2018-04-09 12', '2018-04-09 13', '2018-04-09 14', '2018-04-09 15', '2018-04-09 16', '2018-04-09 17', '2018-04-09 18', '2018-04-09 19', '2018-04-09 20', '2018-04-09 21', '2018-04-09 22', '2018-04-09 23', '2018-04-10 00', '2018-04-10 01', '2018-04-10 02', '2018-04-10 03', '2018-04-10 04', '2018-04-10 05', '2018-04-10 06', '2018-04-10 07', '2018-04-10 08', '2018-04-10 09', '2018-04-10 10', '2018-04-10 11', '2018-04-10 12', '2018-04-10 13', '2018-04-10 14', '2018-04-10 15', '2018-04-10 16', '2018-04-10 17', '2018-04-10 18', '2018-04-10 19', '2018-04-10 20', '2018-04-10 21', '2018-04-10 22', '2018-04-10 23', '2018-04-11 00', '2018-04-11 01', '2018-04-11 02', '2018-04-11 03', '2018-04-11 04', '2018-04-11 05', '2018-04-11 06', '2018-04-11 07', '2018-04-11 08', '2018-04-11 09', '2018-04-11 10', '2018-04-11 11', '2018-04-11 12', '2018-04-11 13', '2018-04-11 14', '2018-04-11 15', '2018-04-11 16', '2018-04-11 17', '2018-04-11 18', '2018-04-11 19', '2018-04-11 20', '2018-04-11 21', '2018-04-11 22', '2018-04-11 23', '2018-04-12 00', '2018-04-12 01', '2018-04-12 02', '2018-04-12 03', '2018-04-12 04', '2018-04-12 05', '2018-04-12 06', '2018-04-12 07', '2018-04-12 08', '2018-04-12 09', '2018-04-12 10', '2018-04-12 11', '2018-04-12 12', '2018-04-12 13', '2018-04-12 14', '2018-04-12 15', '2018-04-12 16', '2018-04-12 17', '2018-04-12 18', '2018-04-12 19', '2018-04-12 20', '2018-04-12 21', '2018-04-12 22', '2018-04-12 23', '2018-04-13 00', '2018-04-13 01', '2018-04-13 02', '2018-04-13 03', '2018-04-13 04', '2018-04-13 05', '2018-04-13 06', '2018-04-13 07', '2018-04-13 08', '2018-04-13 09', '2018-04-13 10', '2018-04-13 11', '2018-04-13 12', '2018-04-13 13', '2018-04-13 14', '2018-04-13 15', '2018-04-13 16', '2018-04-13 17', '2018-04-13 18', '2018-04-13 19', '2018-04-13 20', '2018-04-13 21', '2018-04-13 22', '2018-04-13 23', '2018-04-14 00', '2018-04-14 01', '2018-04-14 02', '2018-04-14 03', '2018-04-14 04', '2018-04-14 05', '2018-04-14 06', '2018-04-14 07', '2018-04-14 08', '2018-04-14 09', '2018-04-14 10', '2018-04-14 11', '2018-04-14 12', '2018-04-14 13', '2018-04-14 14', '2018-04-14 15', '2018-04-14 16', '2018-04-14 17', '2018-04-14 18', '2018-04-14 19', '2018-04-14 20', '2018-04-14 21', '2018-04-14 22', '2018-04-14 23', '2018-04-15 00', '2018-04-15 01', '2018-04-15 02', '2018-04-15 03', '2018-04-15 04', '2018-04-15 05', '2018-04-15 06', '2018-04-15 07', '2018-04-15 08', '2018-04-15 09', '2018-04-15 10', '2018-04-15 11', '2018-04-15 12', '2018-04-15 13', '2018-04-15 14', '2018-04-15 15', '2018-04-15 16', '2018-04-15 17', '2018-04-15 18', '2018-04-15 19', '2018-04-15 20', '2018-04-15 21', '2018-04-15 22', '2018-04-15 23', '2018-04-16 00', '2018-04-16 01', '2018-04-16 02', '2018-04-16 03', '2018-04-16 04', '2018-04-16 05', '2018-04-16 06', '2018-04-16 07', '2018-04-16 08', '2018-04-16 09', '2018-04-16 10', '2018-04-16 11', '2018-04-16 12', '2018-04-16 13', '2018-04-16 14', '2018-04-16 15', '2018-04-16 16', '2018-04-16 17', '2018-04-16 18', '2018-04-16 19', '2018-04-16 20', '2018-04-16 21', '2018-04-16 22', '2018-04-16 23', '2018-04-17 00', '2018-04-17 01', '2018-04-17 02', '2018-04-17 03', '2018-04-17 04', '2018-04-17 05', '2018-04-17 06', '2018-04-17 07', '2018-04-17 08', '2018-04-17 09', '2018-04-17 10', '2018-04-17 11', '2018-04-17 12', '2018-04-17 13', '2018-04-17 14', '2018-04-17 15', '2018-04-17 16', '2018-04-17 17', '2018-04-17 18', '2018-04-17 19', '2018-04-17 20', '2018-04-17 21', '2018-04-17 22', '2018-04-17 23', '2018-04-18 00', '2018-04-18 01', '2018-04-18 02', '2018-04-18 03', '2018-04-18 04', '2018-04-18 05', '2018-04-18 06', '2018-04-18 07', '2018-04-18 08', '2018-04-18 09', '2018-04-18 10', '2018-04-18 11', '2018-04-18 12', '2018-04-18 13', '2018-04-18 14', '2018-04-18 15', '2018-04-18 16', '2018-04-18 17', '2018-04-18 18', '2018-04-18 19', '2018-04-18 20', '2018-04-18 21', '2018-04-18 22', '2018-04-18 23', '2018-04-19 00', '2018-04-19 01', '2018-04-19 02', '2018-04-19 03', '2018-04-19 04', '2018-04-19 05', '2018-04-19 06', '2018-04-19 07', '2018-04-19 08', '2018-04-19 09', '2018-04-19 10', '2018-04-19 11', '2018-04-19 12', '2018-04-19 13', '2018-04-19 14', '2018-04-19 15', '2018-04-19 16', '2018-04-19 17', '2018-04-19 18', '2018-04-19 19', '2018-04-19 20', '2018-04-19 21', '2018-04-19 22', '2018-04-19 23', '2018-04-20 00', '2018-04-20 01', '2018-04-20 02', '2018-04-20 03', '2018-04-20 04', '2018-04-20 05', '2018-04-20 06', '2018-04-20 07', '2018-04-20 08', '2018-04-20 09', '2018-04-20 10', '2018-04-20 11', '2018-04-20 12', '2018-04-20 13', '2018-04-20 14', '2018-04-20 15', '2018-04-20 16', '2018-04-20 17', '2018-04-20 18', '2018-04-20 19', '2018-04-20 20', '2018-04-20 21', '2018-04-20 22', '2018-04-20 23', '2018-04-21 00', '2018-04-21 01', '2018-04-21 02', '2018-04-21 03', '2018-04-21 04', '2018-04-21 05', '2018-04-21 06', '2018-04-21 07', '2018-04-21 08', '2018-04-21 09', '2018-04-21 10', '2018-04-21 11', '2018-04-21 12', '2018-04-21 13', '2018-04-21 14', '2018-04-21 15', '2018-04-21 16', '2018-04-21 17', '2018-04-21 18', '2018-04-21 19', '2018-04-21 20', '2018-04-21 21', '2018-04-21 22', '2018-04-21 23', '2018-04-22 00', '2018-04-22 01', '2018-04-22 02', '2018-04-22 03', '2018-04-22 04', '2018-04-22 05', '2018-04-22 06', '2018-04-22 07', '2018-04-22 08', '2018-04-22 09', '2018-04-22 10', '2018-04-22 11', '2018-04-22 12', '2018-04-22 13', '2018-04-22 14', '2018-04-22 15', '2018-04-22 16', '2018-04-22 17', '2018-04-22 18', '2018-04-22 19', '2018-04-22 20', '2018-04-22 21', '2018-04-22 22', '2018-04-22 23', '2018-04-23 00', '2018-04-23 01', '2018-04-23 02', '2018-04-23 03', '2018-04-23 04', '2018-04-23 05', '2018-04-23 06', '2018-04-23 07', '2018-04-23 08', '2018-04-23 09', '2018-04-23 10', '2018-04-23 11', '2018-04-23 12', '2018-04-23 13', '2018-04-23 14', '2018-04-23 15', '2018-04-23 16', '2018-04-23 17', '2018-04-23 18', '2018-04-23 19', '2018-04-23 20', '2018-04-23 21', '2018-04-23 22', '2018-04-23 23', '2018-04-24 00', '2018-04-24 01', '2018-04-24 02', '2018-04-24 03', '2018-04-24 04', '2018-04-24 05', '2018-04-24 06', '2018-04-24 07', '2018-04-24 08', '2018-04-24 09', '2018-04-24 10', '2018-04-24 11', '2018-04-24 12', '2018-04-24 13', '2018-04-24 14', '2018-04-24 15', '2018-04-24 16', '2018-04-24 17', '2018-04-24 18', '2018-04-24 19', '2018-04-24 20', '2018-04-24 21', '2018-04-24 22', '2018-04-24 23', '2018-04-25 00', '2018-04-25 01', '2018-04-25 02', '2018-04-25 03', '2018-04-25 04', '2018-04-25 05', '2018-04-25 06', '2018-04-25 07', '2018-04-25 08', '2018-04-25 09', '2018-04-25 10', '2018-04-25 11', '2018-04-25 12', '2018-04-25 13', '2018-04-25 14', '2018-04-25 15', '2018-04-25 16', '2018-04-25 17', '2018-04-25 18', '2018-04-25 19', '2018-04-25 20', '2018-04-25 21', '2018-04-25 22', '2018-04-25 23', '2018-04-26 00', '2018-04-26 01', '2018-04-26 02', '2018-04-26 03', '2018-04-26 04', '2018-04-26 05', '2018-04-26 06', '2018-04-26 07', '2018-04-26 08', '2018-04-26 09', '2018-04-26 10', '2018-04-26 11', '2018-04-26 12', '2018-04-26 13', '2018-04-26 14', '2018-04-26 15', '2018-04-26 16', '2018-04-26 17', '2018-04-26 18', '2018-04-26 19', '2018-04-26 20', '2018-04-26 21', '2018-04-26 22', '2018-04-26 23', '2018-04-27 00', '2018-04-27 01', '2018-04-27 02', '2018-04-27 03', '2018-04-27 04', '2018-04-27 05', '2018-04-27 06', '2018-04-27 07', '2018-04-27 08', '2018-04-27 09', '2018-04-27 10', '2018-04-27 11', '2018-04-27 12', '2018-04-27 13', '2018-04-27 14', '2018-04-27 15', '2018-04-27 16', '2018-04-27 17', '2018-04-27 18', '2018-04-27 19', '2018-04-27 20', '2018-04-27 21', '2018-04-27 22', '2018-04-27 23', '2018-04-28 00', '2018-04-28 01', '2018-04-28 02', '2018-04-28 03', '2018-04-28 04', '2018-04-28 05', '2018-04-28 06', '2018-04-28 07', '2018-04-28 08', '2018-04-28 09', '2018-04-28 10', '2018-04-28 11', '2018-04-28 12', '2018-04-28 13', '2018-04-28 14', '2018-04-28 15', '2018-04-28 16', '2018-04-28 17', '2018-04-28 18', '2018-04-28 19', '2018-04-28 20', '2018-04-28 21', '2018-04-28 22', '2018-04-28 23', '2018-04-29 00', '2018-04-29 01', '2018-04-29 02', '2018-04-29 03', '2018-04-29 04', '2018-04-29 05', '2018-04-29 06', '2018-04-29 07', '2018-04-29 08', '2018-04-29 09', '2018-04-29 10', '2018-04-29 11', '2018-04-29 12', '2018-04-29 13', '2018-04-29 14', '2018-04-29 15', '2018-04-29 16', '2018-04-29 17', '2018-04-29 18', '2018-04-29 19', '2018-04-29 20', '2018-04-29 21', '2018-04-29 22', '2018-04-29 23', '2018-04-30 00', '2018-04-30 01', '2018-04-30 02', '2018-04-30 03', '2018-04-30 04', '2018-04-30 05', '2018-04-30 06', '2018-04-30 07', '2018-04-30 08', '2018-04-30 09', '2018-04-30 10', '2018-04-30 11', '2018-04-30 12', '2018-04-30 13', '2018-04-30 14', '2018-04-30 15', '2018-04-30 16', '2018-04-30 17', '2018-04-30 18', '2018-04-30 19', '2018-04-30 20', '2018-04-30 21', '2018-04-30 22', '2018-04-30 23']\n"
          ],
          "name": "stdout"
        }
      ]
    },
    {
      "cell_type": "code",
      "metadata": {
        "id": "AQqRSF2tUDf7",
        "colab_type": "code",
        "colab": {}
      },
      "source": [
        "# create dataframe of hourly data\n",
        "df_hourly = pd.DataFrame(li_y)\n",
        "df_hourly['W'] =li_y"
      ],
      "execution_count": 0,
      "outputs": []
    },
    {
      "cell_type": "code",
      "metadata": {
        "id": "z-X1bhvWUDgA",
        "colab_type": "code",
        "outputId": "8adfca9f-6175-4c83-e81c-8e133f219e09",
        "colab": {
          "base_uri": "https://localhost:8080/",
          "height": 170
        }
      },
      "source": [
        "import math\n",
        "# fix random seed for reproducibility\n",
        "numpy.random.seed(7)\n",
        "# load the dataset\n",
        "#dataframe = read_csv('international-airline-passengers.csv', usecols=[1], engine='python', skipfooter=3)\n",
        "df_hourly.dropna()\n",
        "df_hourly['W'].dropna()\n",
        "dataset = df_hourly['W'].values\n",
        "print(dataset)\n",
        "dataset =[0 if math.isnan(x) else x for x in dataset]\n",
        "df = pd.DataFrame(dataset)\n",
        "df.dropna()\n",
        "dataset = df.values\n",
        "dataset = dataset.reshape((len(dataset), 1))\n",
        "print(dataset)\n",
        "#dataset = dataset.astype('float32')\n",
        "# normalize the dataset\n",
        "scaler = MinMaxScaler(feature_range=(0, 1))\n",
        "dataset = scaler.fit_transform(dataset)"
      ],
      "execution_count": 0,
      "outputs": [
        {
          "output_type": "stream",
          "text": [
            "[519597.78333333 498347.45762712 484304.28333333 ...      0.\n",
            "      0.              0.        ]\n",
            "[[519597.78333333]\n",
            " [498347.45762712]\n",
            " [484304.28333333]\n",
            " ...\n",
            " [     0.        ]\n",
            " [     0.        ]\n",
            " [     0.        ]]\n"
          ],
          "name": "stdout"
        }
      ]
    },
    {
      "cell_type": "code",
      "metadata": {
        "id": "EDkb2DbbUDgG",
        "colab_type": "code",
        "outputId": "c98e8d20-9891-4490-8e50-dde499ea4b3f",
        "colab": {
          "base_uri": "https://localhost:8080/",
          "height": 34
        }
      },
      "source": [
        "print(len(dataset))"
      ],
      "execution_count": 0,
      "outputs": [
        {
          "output_type": "stream",
          "text": [
            "4344\n"
          ],
          "name": "stdout"
        }
      ]
    },
    {
      "cell_type": "code",
      "metadata": {
        "id": "6CN1H4QPUDgM",
        "colab_type": "code",
        "outputId": "3007b860-acb6-41ff-ae1d-6914f0b8f963",
        "colab": {
          "base_uri": "https://localhost:8080/",
          "height": 85
        }
      },
      "source": [
        "train_size = int(len(dataset) * 0.70)\n",
        "test_size = len(dataset) - train_size\n",
        "train, test = dataset[0:train_size], dataset[train_size:len(dataset)]\n",
        "# reshape into X=t and Y=t+1\n",
        "look_back =4\n",
        "print(len(dataset))\n",
        "trainX, trainY = create_dataset(train, look_back)\n",
        "testX, testY = create_dataset(test, look_back)\n",
        "print(len(train),len(trainX))\n",
        "print(len(test),len(testX))\n",
        "# reshape input to be [samples, time steps, features]\n",
        "trainX = numpy.reshape(trainX, (trainX.shape[0], 1, trainX.shape[1]))\n",
        "testX = numpy.reshape(testX, (testX.shape[0], 1, testX.shape[1]))\n",
        "#print(testX[0])\n",
        "dataset.shape"
      ],
      "execution_count": 0,
      "outputs": [
        {
          "output_type": "stream",
          "text": [
            "4344\n",
            "3040 3035\n",
            "1304 1299\n"
          ],
          "name": "stdout"
        },
        {
          "output_type": "execute_result",
          "data": {
            "text/plain": [
              "(4344, 1)"
            ]
          },
          "metadata": {
            "tags": []
          },
          "execution_count": 62
        }
      ]
    },
    {
      "cell_type": "code",
      "metadata": {
        "id": "K_1ZBeAi-prr",
        "colab_type": "code",
        "colab": {}
      },
      "source": [
        ""
      ],
      "execution_count": 0,
      "outputs": []
    },
    {
      "cell_type": "code",
      "metadata": {
        "id": "H9GOWzdi-pvH",
        "colab_type": "code",
        "outputId": "32b6d67b-b469-45cc-ebd2-6678f62e7d4b",
        "colab": {
          "base_uri": "https://localhost:8080/",
          "height": 34
        }
      },
      "source": [
        "trainY.shape"
      ],
      "execution_count": 100,
      "outputs": [
        {
          "output_type": "execute_result",
          "data": {
            "text/plain": [
              "(3035,)"
            ]
          },
          "metadata": {
            "tags": []
          },
          "execution_count": 100
        }
      ]
    },
    {
      "cell_type": "code",
      "metadata": {
        "id": "U7BwZhUUAT6U",
        "colab_type": "code",
        "outputId": "5838f0fd-f799-44f2-f838-91799064b82f",
        "colab": {
          "base_uri": "https://localhost:8080/",
          "height": 238
        }
      },
      "source": [
        "testX"
      ],
      "execution_count": 0,
      "outputs": [
        {
          "output_type": "execute_result",
          "data": {
            "text/plain": [
              "array([[[0.49482076, 0.43715618, 0.46522131, 0.45955172]],\n",
              "\n",
              "       [[0.43715618, 0.46522131, 0.45955172, 0.42984996]],\n",
              "\n",
              "       [[0.46522131, 0.45955172, 0.42984996, 0.41477892]],\n",
              "\n",
              "       ...,\n",
              "\n",
              "       [[0.58300661, 0.51080553, 0.55604679, 0.57965332]],\n",
              "\n",
              "       [[0.51080553, 0.55604679, 0.57965332, 0.55532497]],\n",
              "\n",
              "       [[0.55604679, 0.57965332, 0.55532497, 0.        ]]])"
            ]
          },
          "metadata": {
            "tags": []
          },
          "execution_count": 41
        }
      ]
    },
    {
      "cell_type": "code",
      "metadata": {
        "id": "Q1rommZyAT9o",
        "colab_type": "code",
        "outputId": "cf1120fc-08ba-4416-ff10-7b3a428b49c0",
        "colab": {
          "base_uri": "https://localhost:8080/",
          "height": 51
        }
      },
      "source": [
        "testY"
      ],
      "execution_count": 0,
      "outputs": [
        {
          "output_type": "execute_result",
          "data": {
            "text/plain": [
              "array([0.42984996, 0.41477892, 0.39805374, ..., 0.55532497, 0.        ,\n",
              "       0.        ])"
            ]
          },
          "metadata": {
            "tags": []
          },
          "execution_count": 63
        }
      ]
    },
    {
      "cell_type": "code",
      "metadata": {
        "id": "XM-_E3wTUDgT",
        "colab_type": "code",
        "colab": {}
      },
      "source": [
        "class PlotLosses(Callback):\n",
        "    def on_train_begin(self, logs={}):\n",
        "        self.i = 0\n",
        "        self.x = []\n",
        "        self.losses = []\n",
        "        self.val_losses = []\n",
        "        \n",
        "        self.fig = plt.figure()\n",
        "        \n",
        "        self.logs = []\n",
        "\n",
        "    def on_epoch_end(self, epoch, logs={}):\n",
        "        \n",
        "        self.logs.append(logs)\n",
        "        self.x.append(self.i)\n",
        "        self.losses.append(logs.get('loss'))\n",
        "        self.val_losses.append(logs.get('val_loss'))\n",
        "        self.i += 1\n",
        "        \n",
        "        clear_output(wait=True)\n",
        "        plt.plot(self.x, self.losses, label=\"loss\")\n",
        "        plt.plot(self.x, self.val_losses, label=\"val_loss\")\n",
        "        plt.legend()\n",
        "        plt.show()\n",
        "        \n",
        "plot_losses = PlotLosses()"
      ],
      "execution_count": 0,
      "outputs": []
    },
    {
      "cell_type": "code",
      "metadata": {
        "id": "85knJO0RUDgY",
        "colab_type": "code",
        "outputId": "7d4a4232-6195-43bf-9727-51187eda3a97",
        "colab": {
          "base_uri": "https://localhost:8080/",
          "height": 286
        }
      },
      "source": [
        "model = Sequential()\n",
        "model.add(LSTM(50, input_shape=(1,look_back)))\n",
        "model.add(Dense(1))\n",
        "model.compile(loss='mean_squared_error', optimizer='adam')\n",
        "model.fit(trainX, trainY, epochs=10, callbacks=[plot_losses], batch_size=1)"
      ],
      "execution_count": 0,
      "outputs": [
        {
          "output_type": "display_data",
          "data": {
            "image/png": "[encoded data removed]",
            "text/plain": [
              "<Figure size 432x288 with 1 Axes>"
            ]
          },
          "metadata": {
            "tags": []
          }
        },
        {
          "output_type": "execute_result",
          "data": {
            "text/plain": [
              "<keras.callbacks.History at 0x7f739359d898>"
            ]
          },
          "metadata": {
            "tags": []
          },
          "execution_count": 65
        }
      ]
    },
    {
      "cell_type": "code",
      "metadata": {
        "id": "qk_6-7V2UDgc",
        "colab_type": "code",
        "outputId": "06551cec-1595-415a-ebc1-4d5bf56624c7",
        "colab": {
          "base_uri": "https://localhost:8080/",
          "height": 85
        }
      },
      "source": [
        "# make predictions\n",
        "trainPredict = model.predict_on_batch(trainX)\n",
        "testPredict = model.predict(testX)\n",
        "print(len(trainPredict))\n",
        "print(len(trainX))\n",
        "print(trainX[0])\n",
        "print(trainPredict[0])"
      ],
      "execution_count": 0,
      "outputs": [
        {
          "output_type": "stream",
          "text": [
            "3035\n",
            "3035\n",
            "[[0.35335622 0.33890479 0.32935462 0.31716486]]\n",
            "[0.2929972]\n"
          ],
          "name": "stdout"
        }
      ]
    },
    {
      "cell_type": "code",
      "metadata": {
        "id": "3Ates0AcGCNs",
        "colab_type": "code",
        "outputId": "28623ff7-5202-4ea6-bcc3-c6d70154c06f",
        "colab": {
          "base_uri": "https://localhost:8080/",
          "height": 34
        }
      },
      "source": [
        "trainX.shape"
      ],
      "execution_count": 0,
      "outputs": [
        {
          "output_type": "execute_result",
          "data": {
            "text/plain": [
              "(3035, 1, 4)"
            ]
          },
          "metadata": {
            "tags": []
          },
          "execution_count": 67
        }
      ]
    },
    {
      "cell_type": "code",
      "metadata": {
        "id": "erlhtVzIbCtB",
        "colab_type": "code",
        "outputId": "99a0bd9c-76cd-4a43-d903-054bcd232509",
        "colab": {
          "base_uri": "https://localhost:8080/",
          "height": 34
        }
      },
      "source": [
        "len(testPredict)"
      ],
      "execution_count": 0,
      "outputs": [
        {
          "output_type": "execute_result",
          "data": {
            "text/plain": [
              "1299"
            ]
          },
          "metadata": {
            "tags": []
          },
          "execution_count": 68
        }
      ]
    },
    {
      "cell_type": "code",
      "metadata": {
        "id": "0spkQYh_Ns11",
        "colab_type": "code",
        "colab": {}
      },
      "source": [
        "#import pandas as pd\n",
        "#xt1=pd.DataFrame(trainX)\n",
        "#xt1.head()"
      ],
      "execution_count": 0,
      "outputs": []
    },
    {
      "cell_type": "code",
      "metadata": {
        "id": "6AVtRif6Ns5L",
        "colab_type": "code",
        "outputId": "83e5c0a9-a9c9-4a19-fda5-68e45e02fb32",
        "colab": {
          "base_uri": "https://localhost:8080/",
          "height": 340
        }
      },
      "source": [
        "trainX[:10]"
      ],
      "execution_count": 0,
      "outputs": [
        {
          "output_type": "execute_result",
          "data": {
            "text/plain": [
              "array([[[0.35335622, 0.33890479, 0.32935462, 0.31716486]],\n",
              "\n",
              "       [[0.33890479, 0.32935462, 0.31716486, 0.33028446]],\n",
              "\n",
              "       [[0.32935462, 0.31716486, 0.33028446, 0.        ]],\n",
              "\n",
              "       [[0.31716486, 0.33028446, 0.        , 0.        ]],\n",
              "\n",
              "       [[0.33028446, 0.        , 0.        , 0.        ]],\n",
              "\n",
              "       [[0.        , 0.        , 0.        , 0.34578539]],\n",
              "\n",
              "       [[0.        , 0.        , 0.34578539, 0.49094195]],\n",
              "\n",
              "       [[0.        , 0.34578539, 0.49094195, 0.53959021]],\n",
              "\n",
              "       [[0.34578539, 0.49094195, 0.53959021, 0.52407783]],\n",
              "\n",
              "       [[0.49094195, 0.53959021, 0.52407783, 0.56379206]]])"
            ]
          },
          "metadata": {
            "tags": []
          },
          "execution_count": 26
        }
      ]
    },
    {
      "cell_type": "code",
      "metadata": {
        "id": "9tfgTTdlOYXl",
        "colab_type": "code",
        "outputId": "6c48bf2a-1c70-4f16-8f15-931d7afc54c4",
        "colab": {
          "base_uri": "https://localhost:8080/",
          "height": 136
        }
      },
      "source": [
        "t1=trainX[:,0]\n",
        "t1"
      ],
      "execution_count": 0,
      "outputs": [
        {
          "output_type": "execute_result",
          "data": {
            "text/plain": [
              "array([[0.35335622, 0.33890479, 0.32935462, 0.31716486],\n",
              "       [0.33890479, 0.32935462, 0.31716486, 0.33028446],\n",
              "       [0.32935462, 0.31716486, 0.33028446, 0.        ],\n",
              "       ...,\n",
              "       [0.34942064, 0.42232193, 0.48013166, 0.47534929],\n",
              "       [0.42232193, 0.48013166, 0.47534929, 0.44500443],\n",
              "       [0.48013166, 0.47534929, 0.44500443, 0.41357614]])"
            ]
          },
          "metadata": {
            "tags": []
          },
          "execution_count": 69
        }
      ]
    },
    {
      "cell_type": "code",
      "metadata": {
        "id": "DuNxj2_POYR5",
        "colab_type": "code",
        "outputId": "2fd168bb-55f2-42e4-ed52-07d58851d579",
        "colab": {
          "base_uri": "https://localhost:8080/",
          "height": 102
        }
      },
      "source": [
        "import numpy as np\n",
        "a=np.arange(1,13)\n",
        "a=a.reshape(4,3)\n",
        "print(a)\n",
        "a=a.reshape(12)\n",
        "a"
      ],
      "execution_count": 0,
      "outputs": [
        {
          "output_type": "stream",
          "text": [
            "[[ 1  2  3]\n",
            " [ 4  5  6]\n",
            " [ 7  8  9]\n",
            " [10 11 12]]\n"
          ],
          "name": "stdout"
        },
        {
          "output_type": "execute_result",
          "data": {
            "text/plain": [
              "array([ 1,  2,  3,  4,  5,  6,  7,  8,  9, 10, 11, 12])"
            ]
          },
          "metadata": {
            "tags": []
          },
          "execution_count": 70
        }
      ]
    },
    {
      "cell_type": "code",
      "metadata": {
        "id": "6uZ3gWLZZybZ",
        "colab_type": "code",
        "outputId": "a0da0348-ccd7-4a76-e5eb-3f3c0d3d3ae1",
        "colab": {
          "base_uri": "https://localhost:8080/",
          "height": 34
        }
      },
      "source": [
        "t1[:,0].shape\n"
      ],
      "execution_count": 0,
      "outputs": [
        {
          "output_type": "execute_result",
          "data": {
            "text/plain": [
              "(3035,)"
            ]
          },
          "metadata": {
            "tags": []
          },
          "execution_count": 71
        }
      ]
    },
    {
      "cell_type": "code",
      "metadata": {
        "id": "USUa3guYTyF4",
        "colab_type": "code",
        "outputId": "81363164-1d74-4f98-ebfa-14893edbfd9b",
        "colab": {
          "base_uri": "https://localhost:8080/",
          "height": 34
        }
      },
      "source": [
        "xtr1=[]\n",
        "for i in t1[:,0]:\n",
        "  if i==0:\n",
        "    xtr1.append(0)\n",
        "  else:\n",
        "    xtr1.append(1)\n",
        "len(xtr1)\n"
      ],
      "execution_count": 0,
      "outputs": [
        {
          "output_type": "execute_result",
          "data": {
            "text/plain": [
              "3035"
            ]
          },
          "metadata": {
            "tags": []
          },
          "execution_count": 72
        }
      ]
    },
    {
      "cell_type": "code",
      "metadata": {
        "id": "E9vCDbGDPNGJ",
        "colab_type": "code",
        "colab": {}
      },
      "source": [
        ""
      ],
      "execution_count": 0,
      "outputs": []
    },
    {
      "cell_type": "code",
      "metadata": {
        "id": "vY_ZKaj_TjoI",
        "colab_type": "code",
        "colab": {}
      },
      "source": [
        "#xall=[]\n",
        "#type(xall)\n",
        "#for i in trainX:\n",
        "#  xall.append(i)\n",
        "#len(xall)\n",
        "testX.shape\n",
        "#t2=testX.reshape(5196) #1299*4\n",
        "t2=testX[:,0]"
      ],
      "execution_count": 0,
      "outputs": []
    },
    {
      "cell_type": "code",
      "metadata": {
        "id": "BL-aC-V5UowX",
        "colab_type": "code",
        "outputId": "c4c17869-b5a6-4b84-9abd-d441081de3a8",
        "colab": {
          "base_uri": "https://localhost:8080/",
          "height": 34
        }
      },
      "source": [
        "xts1=[]\n",
        "for i in t2[:,0]:\n",
        "  if i==0:\n",
        "    xts1.append(0)\n",
        "  else:\n",
        "    xts1.append(1)\n",
        "len(xts1)"
      ],
      "execution_count": 0,
      "outputs": [
        {
          "output_type": "execute_result",
          "data": {
            "text/plain": [
              "1299"
            ]
          },
          "metadata": {
            "tags": []
          },
          "execution_count": 74
        }
      ]
    },
    {
      "cell_type": "code",
      "metadata": {
        "id": "4rY6M7owQhnb",
        "colab_type": "code",
        "outputId": "6bf2eee2-1b14-450c-df95-84fe89d4c30e",
        "colab": {
          "base_uri": "https://localhost:8080/",
          "height": 85
        }
      },
      "source": [
        "print(len(trainPredict))\n",
        "print(len(testPredict))\n",
        "print(trainPredict.shape)\n",
        "print(testPredict.shape)\n",
        "tp1=trainPredict.reshape(3035)\n",
        "tp2=testPredict.reshape(1299)"
      ],
      "execution_count": 0,
      "outputs": [
        {
          "output_type": "stream",
          "text": [
            "3035\n",
            "1299\n",
            "(3035, 1)\n",
            "(1299, 1)\n"
          ],
          "name": "stdout"
        }
      ]
    },
    {
      "cell_type": "code",
      "metadata": {
        "id": "Gl9QU9sQTjlt",
        "colab_type": "code",
        "outputId": "387a363a-f42c-4560-bb13-7ea584bcc988",
        "colab": {
          "base_uri": "https://localhost:8080/",
          "height": 34
        }
      },
      "source": [
        "tnp1=[]\n",
        "for i in tp1:\n",
        "  if i==0:\n",
        "    tnp1.append(0)\n",
        "  else:\n",
        "    tnp1.append(1)\n",
        "len(tnp1)\n",
        "  "
      ],
      "execution_count": 0,
      "outputs": [
        {
          "output_type": "execute_result",
          "data": {
            "text/plain": [
              "3035"
            ]
          },
          "metadata": {
            "tags": []
          },
          "execution_count": 76
        }
      ]
    },
    {
      "cell_type": "code",
      "metadata": {
        "id": "WLURRba-Tjjo",
        "colab_type": "code",
        "outputId": "a87adb55-52f3-4c17-ab88-817282ee4d34",
        "colab": {
          "base_uri": "https://localhost:8080/",
          "height": 34
        }
      },
      "source": [
        "tsp1=[]\n",
        "for i in tp2:\n",
        "  if i==0:\n",
        "    tsp1.append(0)\n",
        "  else:\n",
        "    tsp1.append(1)\n",
        "len(tsp1)\n",
        "  "
      ],
      "execution_count": 0,
      "outputs": [
        {
          "output_type": "execute_result",
          "data": {
            "text/plain": [
              "1299"
            ]
          },
          "metadata": {
            "tags": []
          },
          "execution_count": 77
        }
      ]
    },
    {
      "cell_type": "code",
      "metadata": {
        "id": "wJtYZKZoTjg-",
        "colab_type": "code",
        "outputId": "41de7ee3-f8bc-4809-994a-367fd198445e",
        "colab": {
          "base_uri": "https://localhost:8080/",
          "height": 34
        }
      },
      "source": [
        "import numpy as np\n",
        "trainX11=np.asarray(t1[:3035])\n",
        "testX11=np.asarray(t2[:1299])\n",
        "trainPredictX11=np.asarray(tp1[:3035])\n",
        "testPredictX11=np.asarray(tp2[:1299])\n",
        "len(trainX11)"
      ],
      "execution_count": 0,
      "outputs": [
        {
          "output_type": "execute_result",
          "data": {
            "text/plain": [
              "3035"
            ]
          },
          "metadata": {
            "tags": []
          },
          "execution_count": 78
        }
      ]
    },
    {
      "cell_type": "code",
      "metadata": {
        "id": "MdnYgATAr9uk",
        "colab_type": "code",
        "outputId": "bd79acae-bb3b-4a6b-e758-27db5fb1dfa9",
        "colab": {
          "base_uri": "https://localhost:8080/",
          "height": 173
        }
      },
      "source": [
        "print(xtr1)\n",
        "print(len(xtr1))\n",
        "print(xts1)\n",
        "print(len(xts1))\n",
        "\n",
        "print(tnp1)\n",
        "print(len(tnp1))\n",
        "print(tsp1)\n",
        "print(len(tsp1))\n",
        "#print(len(trainPredict))\n",
        "#print(trainPredict)\n"
      ],
      "execution_count": 0,
      "outputs": [
        {
          "output_type": "stream",
          "text": [
            "[1, 1, 1, 1, 1, 0, 0, 0, 1, 1, 1, 1, 1, 1, 1, 1, 1, 1, 1, 1, 1, 1, 1, 1, 1, 1, 1, 1, 1, 1, 1, 0, 0, 0, 1, 1, 1, 1, 1, 1, 1, 1, 1, 1, 1, 1, 1, 1, 1, 1, 1, 1, 1, 1, 1, 1, 1, 1, 0, 0, 1, 1, 1, 1, 1, 1, 1, 1, 1, 1, 1, 1, 1, 1, 1, 1, 1, 1, 1, 1, 1, 1, 1, 0, 0, 0, 1, 1, 1, 1, 1, 1, 1, 1, 1, 1, 1, 1, 1, 1, 1, 1, 1, 1, 1, 1, 1, 1, 1, 0, 0, 0, 1, 1, 1, 1, 1, 1, 1, 1, 1, 1, 1, 1, 1, 1, 1, 1, 1, 1, 1, 1, 1, 1, 1, 1, 0, 0, 0, 1, 1, 1, 1, 1, 1, 1, 1, 1, 1, 1, 1, 1, 1, 1, 1, 1, 1, 1, 1, 1, 1, 1, 1, 1, 1, 1, 1, 1, 0, 0, 0, 1, 1, 1, 1, 1, 1, 1, 1, 1, 1, 1, 1, 1, 1, 1, 1, 1, 1, 1, 1, 1, 1, 1, 1, 1, 1, 1, 1, 1, 1, 1, 1, 1, 1, 1, 1, 1, 1, 1, 1, 1, 1, 0, 0, 0, 1, 1, 1, 1, 1, 1, 1, 1, 1, 1, 1, 1, 1, 1, 1, 1, 1, 1, 1, 1, 1, 1, 1, 1, 1, 1, 1, 1, 1, 1, 1, 1, 1, 1, 1, 1, 1, 1, 1, 1, 1, 1, 1, 1, 1, 1, 1, 1, 1, 1, 1, 1, 1, 1, 1, 1, 1, 1, 1, 1, 1, 1, 1, 1, 1, 1, 1, 1, 1, 1, 1, 1, 1, 1, 1, 1, 1, 1, 1, 1, 1, 1, 1, 1, 0, 0, 0, 0, 0, 0, 0, 0, 0, 0, 0, 0, 0, 0, 0, 1, 1, 1, 1, 1, 0, 0, 0, 1, 1, 1, 1, 1, 1, 1, 1, 1, 1, 1, 1, 1, 1, 1, 1, 1, 1, 1, 1, 1, 1, 1, 1, 1, 1, 1, 1, 1, 1, 1, 1, 1, 1, 1, 1, 1, 1, 1, 1, 1, 1, 1, 1, 1, 1, 1, 1, 1, 1, 1, 1, 1, 1, 1, 1, 1, 1, 1, 1, 1, 1, 1, 1, 1, 1, 1, 1, 1, 1, 1, 1, 1, 1, 1, 1, 1, 1, 1, 1, 1, 1, 0, 0, 0, 1, 1, 1, 1, 1, 1, 1, 1, 1, 1, 1, 1, 1, 1, 1, 1, 1, 1, 1, 1, 1, 1, 1, 1, 1, 1, 1, 1, 1, 1, 1, 1, 1, 1, 1, 1, 1, 1, 1, 1, 1, 0, 0, 0, 0, 1, 1, 1, 1, 1, 1, 1, 1, 1, 1, 1, 1, 1, 1, 1, 1, 1, 1, 1, 1, 1, 1, 1, 1, 1, 1, 1, 1, 1, 1, 1, 1, 1, 1, 1, 1, 1, 1, 1, 1, 1, 1, 1, 1, 1, 1, 1, 1, 1, 1, 1, 1, 1, 1, 1, 1, 1, 1, 1, 1, 1, 1, 1, 1, 1, 1, 1, 1, 1, 1, 1, 1, 1, 1, 1, 1, 1, 1, 1, 1, 1, 1, 1, 1, 1, 1, 1, 1, 1, 1, 1, 1, 1, 1, 1, 1, 1, 1, 1, 1, 1, 1, 1, 1, 1, 1, 1, 1, 1, 1, 1, 1, 1, 1, 1, 1, 1, 1, 1, 1, 1, 1, 1, 0, 0, 0, 0, 1, 1, 1, 1, 1, 1, 1, 1, 1, 1, 1, 1, 1, 1, 1, 1, 1, 1, 1, 1, 1, 1, 1, 1, 1, 1, 1, 1, 1, 1, 1, 1, 1, 1, 1, 1, 1, 1, 1, 1, 1, 1, 1, 1, 1, 1, 1, 1, 1, 1, 1, 1, 1, 1, 1, 1, 1, 1, 1, 1, 1, 1, 1, 1, 1, 1, 1, 1, 1, 1, 1, 1, 1, 0, 0, 0, 0, 1, 1, 1, 1, 1, 1, 1, 1, 1, 1, 1, 1, 1, 1, 1, 1, 1, 1, 1, 1, 1, 1, 1, 1, 1, 1, 1, 1, 1, 1, 1, 1, 1, 1, 1, 1, 1, 1, 1, 1, 1, 1, 1, 1, 1, 1, 1, 1, 1, 1, 0, 0, 0, 1, 1, 1, 1, 1, 1, 1, 1, 1, 1, 1, 1, 0, 0, 0, 0, 0, 0, 1, 1, 1, 1, 1, 1, 1, 1, 1, 1, 1, 1, 1, 1, 1, 1, 1, 1, 1, 1, 1, 1, 1, 1, 1, 1, 1, 1, 1, 1, 1, 1, 1, 1, 1, 1, 1, 1, 1, 1, 1, 1, 1, 1, 1, 1, 1, 0, 0, 0, 0, 1, 1, 1, 1, 1, 1, 1, 1, 1, 1, 1, 1, 1, 1, 1, 1, 1, 1, 1, 1, 1, 1, 1, 1, 1, 1, 1, 1, 1, 1, 1, 1, 1, 1, 1, 1, 1, 1, 1, 1, 1, 1, 1, 1, 1, 1, 1, 1, 1, 1, 1, 1, 1, 1, 1, 1, 1, 1, 1, 1, 1, 0, 0, 0, 1, 1, 1, 1, 1, 1, 1, 1, 0, 0, 0, 0, 0, 0, 0, 0, 0, 0, 0, 0, 0, 0, 0, 0, 0, 0, 0, 0, 0, 0, 0, 0, 0, 0, 0, 0, 1, 1, 1, 1, 0, 0, 0, 0, 0, 1, 1, 1, 1, 1, 1, 1, 1, 1, 1, 1, 1, 1, 1, 1, 1, 1, 1, 1, 1, 1, 1, 1, 1, 1, 1, 1, 1, 1, 1, 1, 0, 0, 0, 0, 0, 0, 1, 1, 1, 1, 1, 1, 1, 1, 1, 1, 1, 1, 1, 1, 1, 1, 1, 1, 1, 1, 1, 1, 1, 1, 1, 1, 1, 1, 1, 1, 1, 1, 1, 1, 1, 1, 1, 1, 1, 1, 1, 1, 1, 1, 1, 1, 1, 1, 1, 0, 0, 1, 1, 1, 1, 1, 1, 1, 1, 1, 1, 1, 1, 1, 1, 1, 1, 1, 1, 1, 1, 1, 1, 1, 1, 1, 1, 1, 1, 1, 1, 1, 1, 1, 1, 1, 1, 1, 1, 1, 1, 1, 1, 1, 1, 1, 1, 1, 1, 1, 1, 1, 1, 0, 0, 0, 0, 1, 1, 1, 1, 1, 1, 1, 1, 1, 1, 1, 1, 1, 1, 1, 1, 1, 1, 1, 1, 1, 1, 1, 1, 1, 1, 0, 0, 0, 0, 1, 1, 1, 1, 1, 1, 1, 1, 1, 1, 1, 1, 1, 1, 1, 1, 1, 1, 1, 1, 1, 1, 1, 1, 1, 1, 1, 1, 1, 1, 1, 1, 1, 1, 1, 1, 1, 1, 1, 1, 1, 1, 1, 1, 1, 1, 1, 1, 1, 1, 0, 0, 0, 0, 1, 1, 1, 1, 1, 1, 1, 1, 1, 1, 1, 1, 1, 1, 1, 1, 1, 1, 1, 1, 1, 1, 1, 1, 1, 1, 1, 1, 1, 1, 1, 1, 1, 1, 1, 1, 1, 1, 1, 1, 1, 1, 1, 1, 1, 1, 1, 1, 1, 1, 0, 1, 1, 1, 1, 1, 1, 1, 1, 1, 1, 1, 1, 1, 1, 1, 1, 1, 1, 1, 1, 1, 1, 1, 1, 1, 1, 1, 1, 1, 1, 1, 1, 1, 1, 1, 1, 1, 1, 1, 1, 1, 1, 1, 1, 1, 1, 1, 1, 1, 1, 1, 1, 1, 1, 1, 1, 1, 1, 1, 1, 1, 1, 1, 1, 1, 1, 1, 1, 1, 1, 1, 1, 1, 1, 1, 0, 0, 0, 0, 0, 1, 1, 1, 1, 1, 1, 1, 1, 1, 1, 1, 1, 1, 1, 1, 1, 1, 1, 1, 1, 1, 1, 1, 1, 1, 0, 0, 0, 0, 0, 0, 0, 1, 1, 1, 1, 1, 1, 1, 1, 1, 1, 1, 1, 1, 1, 1, 1, 1, 1, 1, 1, 1, 1, 1, 1, 1, 1, 1, 1, 1, 1, 1, 1, 1, 1, 1, 1, 1, 1, 1, 1, 1, 1, 1, 1, 1, 1, 1, 1, 1, 1, 1, 1, 1, 1, 1, 1, 1, 0, 0, 0, 1, 1, 1, 1, 1, 1, 1, 1, 1, 1, 1, 1, 1, 1, 1, 1, 1, 1, 1, 1, 1, 1, 1, 1, 1, 1, 1, 1, 1, 1, 1, 1, 1, 1, 1, 1, 1, 1, 1, 1, 1, 1, 1, 1, 1, 1, 1, 1, 1, 1, 0, 0, 0, 1, 1, 1, 1, 1, 1, 1, 1, 1, 1, 1, 1, 1, 1, 1, 1, 1, 1, 1, 1, 1, 1, 1, 1, 1, 1, 1, 1, 1, 1, 1, 1, 1, 1, 1, 1, 1, 1, 1, 1, 1, 1, 1, 1, 1, 1, 1, 1, 1, 1, 1, 0, 0, 0, 0, 0, 1, 1, 1, 1, 1, 1, 1, 1, 1, 1, 1, 1, 1, 1, 1, 1, 1, 1, 1, 1, 1, 1, 1, 1, 1, 1, 1, 1, 1, 1, 1, 1, 1, 1, 1, 1, 1, 1, 1, 1, 1, 1, 1, 0, 0, 0, 1, 1, 1, 1, 1, 1, 1, 1, 1, 1, 1, 1, 1, 1, 1, 1, 1, 1, 1, 1, 1, 1, 1, 1, 1, 1, 1, 1, 1, 1, 1, 1, 1, 1, 1, 1, 1, 1, 1, 1, 1, 1, 1, 1, 1, 1, 1, 1, 0, 0, 0, 0, 1, 1, 1, 1, 1, 1, 1, 1, 1, 1, 1, 1, 1, 1, 1, 1, 1, 1, 1, 1, 1, 1, 0, 0, 0, 0, 1, 1, 1, 1, 1, 1, 1, 1, 1, 1, 1, 1, 1, 1, 1, 1, 1, 1, 1, 1, 1, 1, 1, 1, 1, 1, 1, 1, 1, 1, 1, 1, 1, 1, 1, 1, 1, 1, 1, 1, 1, 1, 1, 1, 1, 1, 1, 1, 1, 1, 1, 1, 1, 1, 1, 1, 1, 0, 0, 1, 1, 1, 1, 1, 1, 1, 1, 1, 1, 1, 1, 1, 1, 1, 1, 1, 1, 1, 1, 1, 1, 1, 1, 1, 1, 1, 1, 1, 1, 1, 0, 0, 0, 1, 1, 1, 1, 1, 1, 1, 1, 1, 1, 1, 1, 1, 1, 1, 1, 1, 1, 1, 1, 1, 1, 1, 1, 1, 1, 1, 1, 1, 1, 1, 1, 1, 1, 1, 1, 1, 1, 1, 1, 1, 1, 1, 1, 1, 1, 1, 1, 0, 0, 0, 0, 1, 1, 1, 1, 1, 1, 1, 1, 1, 1, 1, 1, 1, 1, 1, 1, 1, 1, 1, 1, 1, 1, 1, 1, 1, 1, 1, 1, 1, 1, 1, 1, 1, 1, 1, 1, 1, 1, 1, 1, 1, 1, 1, 1, 1, 1, 1, 1, 1, 1, 1, 1, 1, 1, 1, 1, 1, 1, 1, 1, 1, 1, 1, 1, 1, 1, 1, 1, 1, 1, 1, 1, 1, 0, 0, 0, 1, 1, 1, 1, 1, 1, 1, 1, 1, 1, 1, 1, 1, 1, 1, 1, 1, 1, 1, 1, 1, 1, 1, 1, 1, 1, 1, 1, 1, 1, 1, 1, 1, 1, 1, 1, 1, 1, 1, 1, 1, 1, 1, 1, 1, 1, 1, 1, 1, 1, 1, 1, 1, 1, 1, 1, 1, 1, 1, 1, 1, 1, 1, 1, 1, 1, 1, 1, 1, 1, 1, 1, 1, 1, 1, 1, 0, 0, 0, 1, 1, 1, 1, 1, 1, 1, 1, 1, 1, 1, 1, 1, 1, 1, 1, 1, 1, 1, 1, 1, 1, 1, 1, 1, 1, 1, 1, 1, 1, 1, 1, 1, 1, 1, 1, 1, 1, 1, 1, 1, 1, 1, 1, 1, 1, 1, 1, 1, 1, 1, 1, 1, 1, 1, 1, 1, 1, 1, 1, 1, 1, 1, 1, 1, 1, 1, 1, 1, 1, 1, 1, 1, 1, 1, 1, 1, 1, 1, 1, 1, 1, 1, 1, 1, 1, 1, 1, 1, 1, 1, 1, 1, 1, 1, 1, 1, 1, 1, 1, 1, 1, 1, 1, 1, 1, 1, 1, 1, 1, 1, 1, 1, 0, 0, 0, 0, 0, 1, 1, 1, 1, 1, 1, 1, 1, 1, 1, 1, 1, 1, 1, 1, 1, 1, 1, 1, 1, 1, 1, 1, 1, 1, 1, 1, 1, 1, 1, 1, 1, 1, 1, 1, 1, 1, 1, 1, 1, 1, 1, 1, 1, 1, 1, 1, 1, 1, 1, 1, 1, 1, 1, 1, 1, 1, 1, 1, 1, 1, 0, 0, 0, 1, 1, 1, 1, 1, 1, 1, 1, 1, 1, 1, 1, 1, 1, 1, 1, 1, 1, 1, 1, 1, 1, 1, 1, 1, 1, 1, 1, 1, 1, 1, 1, 1, 1, 1, 1, 1, 1, 1, 1, 1, 1, 1, 1, 1, 1, 1, 1, 1, 1, 1, 1, 1, 1, 1, 1, 1, 1, 1, 1, 1, 1, 1, 1, 1, 1, 1, 1, 1, 1, 1, 1, 1, 1, 1, 1, 1, 1, 1, 1, 1, 1, 1, 1, 1, 1, 1, 1, 1, 1, 1, 1, 1, 1, 1, 1, 1, 1, 1, 1, 1, 1, 1, 1, 1, 1, 1, 1, 1, 1, 1, 1, 1, 1, 1, 1, 1, 1, 1, 1, 1, 1, 1, 1, 1, 1, 1, 1, 1, 1, 1, 1, 1, 1, 1, 1, 1, 1, 1, 1, 1, 1, 1, 1, 1, 1, 1, 1, 1, 1, 1, 0, 0, 0, 1, 1, 1, 1, 1, 1, 1, 1, 1, 1, 1, 1, 1, 1, 1, 1, 1, 1, 1, 1, 1, 1, 1, 1, 1, 1, 1, 1, 1, 1, 1, 1, 1, 1, 1, 1, 1, 1, 1, 1, 1, 1, 1, 1, 1, 1, 1, 1, 1, 1, 1, 1, 1, 1, 1, 1, 1, 0, 0, 0, 1, 1, 1, 1, 1, 1, 1, 1, 1, 1, 1, 1, 1, 1, 1, 1, 1, 1, 1, 1, 1, 1, 1, 1, 1, 1, 1, 1, 1, 1, 1, 1, 1, 1, 1, 1, 1, 1, 1, 1, 1, 1, 1, 1, 1, 1, 1, 1, 1, 1, 1, 1, 1, 1, 1, 1, 1, 1, 1, 1, 1, 1, 1, 1, 1, 1, 1, 1, 1, 1, 1, 1, 1, 1, 1, 1, 1, 1, 1, 1, 1, 1, 1, 1, 1, 1, 1, 1, 1, 1, 1, 1, 1, 1, 1, 1, 1, 1, 1, 1, 1, 1, 1, 1, 0, 0, 0, 0, 1, 1, 1, 1, 1, 1, 1, 1, 1, 1, 1, 1, 1, 1, 1, 1, 1, 1, 1, 1, 1, 1, 1, 1, 1, 1, 1, 1, 1, 1, 1, 1, 1, 1, 1, 1, 1, 1, 1, 1, 1, 1, 1, 1, 1, 1, 1, 1, 1, 1, 1, 1, 1, 1, 1, 1, 1, 1, 1, 1, 1, 1, 1, 1, 1, 1, 1, 1, 1, 1, 1, 1, 1, 1, 1, 1, 1, 1, 1, 0, 0, 0, 1, 1, 1, 1, 1, 1, 1, 1, 1, 1, 1, 1, 1, 1, 1, 1, 1, 1, 1, 1, 1, 1, 1, 1, 1, 1, 1, 1, 1, 1, 1, 1, 1, 1, 1, 1, 1, 1, 1, 1, 1, 1, 1, 1, 1, 1, 1, 1, 1, 1, 1, 1, 1, 1, 1, 1, 1, 1, 1, 1, 1, 1, 1, 1, 1, 1, 1, 1, 1, 1, 1, 1, 1, 1, 1, 1, 1, 1, 1, 1, 1, 1, 1, 1, 1, 1, 1, 1, 1, 1, 1, 1, 1, 1, 1, 1, 1, 1, 1, 1, 0, 0, 0, 1, 1, 1, 1, 1, 1, 1, 1, 1, 1, 1, 1, 1, 1, 1, 1, 1, 1, 1, 1, 1, 1, 1, 1, 1, 1, 1, 1, 1, 1, 1, 1, 1, 1, 1, 1, 1, 1, 1, 1, 1, 1, 1, 1, 1, 1, 1, 1, 1, 1, 1, 1, 1, 1, 1, 1, 1, 1, 1, 1, 1, 1, 1, 1, 1, 1, 1, 1, 1, 1, 1, 1, 1, 1, 1, 1, 1, 1, 1, 1, 1, 1, 1, 1, 1, 1, 1, 1, 1, 1, 1, 1, 1, 1, 1, 1, 1, 1, 1, 1, 1, 1, 1, 1, 1, 1, 1, 1, 1, 1, 1, 1, 1, 1, 1, 1, 1, 1, 1, 1, 1, 1, 1, 1, 1, 1, 1, 1, 1, 1, 1, 1, 1, 1, 1, 1, 1, 1, 1, 1, 1, 1, 1, 1, 1, 1, 0, 0, 1, 1, 1, 1, 1, 1, 1, 1, 1, 1, 1, 1, 1, 1, 1, 1, 1, 1, 1, 1, 1, 1, 1, 1, 1, 1, 1, 1, 1, 1, 1, 1, 1, 1, 1, 1, 1, 1, 1, 1, 1, 1, 1, 1, 1, 1, 1, 1, 1, 1, 1, 1, 1, 1, 1, 1, 1, 1, 1, 1, 1, 1, 1, 1, 1, 1, 1, 1, 1, 1, 1, 1, 1, 1, 1, 1, 1, 1, 1, 1, 1, 1, 1, 1, 1, 1, 1, 1, 1, 1, 1, 1, 1, 1, 1, 1, 1, 1, 1, 1, 1, 1, 1, 1, 1, 1, 1, 1, 1, 1, 1, 1, 1, 1, 1, 1, 1, 1, 1, 1, 1, 1, 1, 0, 0, 0, 0, 1, 1, 1, 1, 1, 1, 1, 1, 1, 1, 1, 1, 1, 1, 1, 1, 1, 1, 1, 1, 1, 1, 1, 1, 1, 1, 1, 1, 1, 1, 1, 1, 1, 1, 1, 1, 1, 1, 1, 1, 1, 1, 1, 1, 1, 1, 1, 1, 1, 1, 1, 1, 1, 1, 1, 1, 1, 1, 1, 1, 1, 1, 1, 1, 1, 1, 1, 1, 1, 1, 1, 1, 1, 1, 1, 1, 0, 0, 0, 1, 1, 1, 1, 1, 1, 1, 1, 1, 1, 1, 1, 1, 1, 1, 1, 1, 1, 1, 1, 1, 1, 1, 1, 1, 1, 1, 1, 1, 1, 1, 1, 1, 1, 1, 1, 1, 1, 1, 1, 1, 1, 1, 1, 1, 1, 1, 1, 1, 1, 1, 1, 1, 1, 1, 1, 1, 1, 1, 1, 1, 1, 1, 1, 1, 1, 1, 1, 1, 1, 1, 1, 1, 1, 1, 1, 0, 0, 0, 1, 1, 1, 1, 1, 1, 1, 1, 1, 1, 1, 1, 1, 1, 1, 1, 1, 1, 1, 1, 1, 1, 1, 1, 1, 1, 1, 1, 1, 1, 1, 1, 1, 1, 1, 1, 1, 1, 1, 1, 1]\n",
            "3035\n",
            "[1, 1, 1, 1, 1, 1, 1, 1, 1, 1, 1, 1, 1, 1, 1, 1, 1, 1, 1, 1, 1, 1, 1, 1, 1, 1, 1, 1, 1, 1, 1, 1, 1, 1, 1, 1, 1, 1, 1, 1, 1, 1, 1, 1, 1, 1, 1, 1, 1, 1, 1, 0, 0, 0, 0, 1, 1, 1, 1, 1, 1, 1, 1, 1, 1, 1, 1, 1, 1, 1, 1, 1, 1, 1, 1, 1, 1, 1, 1, 1, 1, 1, 1, 1, 1, 1, 1, 1, 1, 1, 1, 1, 1, 1, 1, 1, 1, 1, 1, 1, 1, 1, 1, 1, 1, 1, 1, 1, 1, 1, 1, 1, 1, 1, 1, 1, 1, 1, 1, 1, 1, 1, 1, 1, 1, 1, 1, 1, 1, 1, 1, 1, 1, 0, 0, 0, 0, 1, 1, 1, 1, 1, 1, 1, 1, 1, 1, 1, 1, 1, 1, 1, 1, 1, 1, 1, 1, 1, 1, 1, 1, 1, 1, 1, 1, 1, 1, 1, 1, 1, 1, 1, 1, 1, 1, 1, 1, 1, 1, 1, 1, 1, 1, 1, 1, 1, 1, 1, 1, 1, 0, 0, 0, 0, 1, 1, 1, 1, 1, 1, 1, 1, 1, 1, 1, 1, 1, 1, 1, 1, 1, 1, 1, 1, 1, 1, 1, 1, 1, 1, 1, 1, 1, 1, 1, 1, 1, 1, 1, 1, 1, 1, 1, 1, 1, 1, 1, 1, 1, 1, 1, 1, 1, 1, 1, 1, 1, 1, 1, 1, 1, 1, 1, 1, 1, 1, 1, 1, 1, 1, 1, 1, 1, 1, 1, 1, 1, 1, 1, 1, 1, 1, 1, 1, 1, 1, 1, 1, 1, 1, 1, 1, 1, 1, 1, 1, 1, 1, 1, 1, 1, 0, 0, 0, 1, 1, 1, 1, 1, 1, 1, 1, 1, 1, 1, 1, 1, 1, 1, 1, 1, 1, 1, 1, 1, 1, 1, 1, 1, 1, 1, 1, 1, 1, 1, 1, 1, 1, 1, 1, 1, 1, 1, 1, 1, 1, 1, 1, 1, 1, 1, 1, 1, 1, 1, 1, 1, 1, 1, 1, 1, 1, 1, 1, 1, 1, 1, 1, 1, 1, 1, 1, 1, 1, 1, 1, 1, 1, 1, 1, 1, 1, 1, 1, 1, 1, 1, 1, 1, 1, 1, 1, 1, 1, 1, 1, 1, 1, 1, 1, 1, 1, 1, 1, 1, 1, 1, 1, 1, 1, 1, 1, 1, 1, 1, 1, 1, 1, 1, 1, 1, 1, 1, 1, 1, 1, 1, 1, 1, 1, 1, 1, 1, 1, 1, 1, 1, 1, 1, 1, 1, 1, 1, 1, 1, 1, 1, 1, 1, 1, 1, 1, 1, 1, 1, 1, 1, 1, 1, 1, 1, 1, 1, 1, 1, 1, 1, 1, 1, 1, 1, 1, 1, 1, 1, 1, 1, 1, 1, 1, 1, 1, 1, 1, 1, 1, 1, 1, 1, 1, 1, 1, 1, 1, 1, 1, 1, 1, 1, 1, 1, 1, 1, 1, 1, 1, 1, 1, 1, 1, 1, 1, 1, 1, 1, 1, 1, 1, 1, 1, 1, 1, 1, 1, 1, 1, 1, 1, 1, 1, 1, 0, 0, 0, 0, 1, 0, 0, 0, 1, 1, 1, 1, 1, 1, 1, 1, 1, 1, 1, 1, 1, 1, 1, 1, 1, 1, 1, 1, 1, 1, 1, 1, 1, 1, 1, 1, 1, 1, 1, 1, 1, 1, 1, 1, 1, 1, 1, 1, 1, 1, 1, 1, 1, 1, 1, 1, 1, 1, 1, 1, 1, 1, 1, 1, 1, 1, 1, 1, 1, 1, 1, 1, 1, 1, 1, 1, 1, 0, 0, 0, 1, 1, 1, 1, 1, 1, 1, 1, 1, 1, 1, 1, 1, 1, 1, 1, 1, 1, 1, 1, 1, 1, 1, 1, 1, 1, 1, 1, 1, 1, 1, 1, 1, 1, 1, 1, 1, 1, 1, 1, 1, 1, 1, 1, 1, 1, 1, 1, 1, 1, 1, 1, 1, 1, 1, 1, 1, 1, 1, 1, 1, 1, 1, 1, 1, 1, 1, 1, 1, 1, 1, 1, 1, 1, 1, 1, 1, 1, 1, 1, 1, 1, 1, 1, 1, 1, 1, 1, 0, 0, 0, 1, 1, 1, 1, 1, 1, 1, 1, 1, 1, 1, 1, 1, 1, 1, 1, 1, 1, 1, 1, 1, 1, 1, 1, 1, 1, 1, 1, 1, 1, 1, 1, 1, 1, 1, 1, 1, 1, 1, 1, 1, 1, 1, 1, 1, 1, 1, 1, 1, 1, 1, 1, 1, 1, 1, 1, 1, 1, 1, 1, 1, 1, 1, 1, 1, 1, 1, 1, 1, 1, 1, 1, 1, 1, 1, 1, 1, 1, 1, 1, 1, 0, 0, 0, 1, 1, 1, 1, 1, 1, 1, 1, 1, 1, 1, 1, 1, 1, 1, 1, 1, 1, 1, 1, 1, 1, 1, 1, 1, 1, 1, 1, 1, 1, 1, 1, 1, 1, 1, 1, 1, 1, 1, 1, 1, 1, 1, 1, 1, 1, 1, 1, 1, 1, 1, 1, 1, 1, 1, 1, 1, 1, 1, 1, 1, 1, 1, 1, 1, 1, 1, 1, 1, 1, 1, 1, 1, 1, 1, 1, 1, 1, 1, 1, 1, 1, 1, 1, 1, 1, 1, 1, 1, 1, 1, 1, 1, 1, 1, 1, 1, 1, 1, 1, 1, 1, 1, 1, 1, 1, 1, 1, 1, 1, 1, 0, 0, 0, 1, 1, 1, 1, 1, 1, 1, 1, 1, 1, 1, 1, 1, 1, 1, 1, 1, 1, 1, 1, 1, 1, 1, 1, 1, 1, 1, 1, 1, 1, 1, 1, 1, 1, 1, 1, 1, 1, 1, 1, 1, 1, 1, 1, 1, 1, 1, 1, 1, 1, 1, 1, 1, 1, 1, 1, 1, 1, 1, 1, 1, 1, 1, 1, 1, 1, 1, 1, 1, 1, 1, 1, 1, 1, 1, 1, 1, 1, 1, 1, 1, 1, 0, 0, 0, 1, 1, 1, 1, 1, 1, 1, 1, 1, 1, 1, 1, 1, 1, 1, 1, 1, 1, 1, 1, 1, 1, 1, 1, 1, 1, 1, 1, 1, 1, 1, 1, 1, 1, 1, 1, 1, 1, 1, 1, 1, 1, 1, 1, 1, 1, 1, 1, 1, 1, 1, 1, 1, 1, 1, 1, 1, 1, 1, 1, 1, 1, 1, 1, 1, 1, 1, 1, 1, 1, 1, 1, 1, 1, 1, 0, 0, 0, 1, 1, 1, 1, 1, 1, 1, 1, 1, 1, 1, 1, 1, 1, 1, 1, 1, 1, 1, 1, 1, 1, 1, 1, 1, 1, 1, 1, 1, 1, 1, 1, 1, 1, 1, 1, 1, 1, 1, 1, 1, 1, 1, 1, 1, 1, 1, 1, 1, 1, 1, 1, 1, 1, 1, 1, 1, 1, 1, 1, 1, 1, 1, 1, 1, 1, 1, 1, 1, 1, 1, 1, 1, 1, 1, 1, 0, 0, 0, 1, 1, 1, 1, 1, 1, 1, 1, 1, 1, 1, 1, 1, 1, 1, 1, 1, 1, 1, 1, 1, 1, 1, 1, 1, 1, 1, 1, 1, 1, 1, 1, 1, 1, 1, 1, 1, 1, 1, 1, 1, 1, 1, 1, 1, 1, 1, 1, 1, 1, 1, 1, 1, 1, 1, 1, 1, 1, 1, 1, 1, 1, 1, 1, 1, 1, 1, 1, 1, 1, 1, 1, 1, 1, 1, 1, 1, 1, 1, 1, 1, 1, 1, 1, 1, 1, 1, 1, 0, 0, 0, 1, 1, 1, 1, 1, 1, 1, 1, 1, 1, 1, 1, 1, 1, 1, 1, 1, 1, 1, 1, 1, 1, 1, 1, 1, 1, 1, 1, 1, 1, 1, 1, 1, 1, 1, 1, 1, 1, 1, 1, 1, 1, 1, 1, 1, 1, 1, 1, 1, 1, 1, 1, 1, 1, 1, 1, 1, 1, 1, 1, 1, 1, 0, 1, 1, 1, 1, 1, 1, 1, 1, 1, 1, 1, 1, 1]\n",
            "1299\n",
            "[1, 1, 1, 1, 1, 1, 1, 1, 1, 1, 1, 1, 1, 1, 1, 1, 1, 1, 1, 1, 1, 1, 1, 1, 1, 1, 1, 1, 1, 1, 1, 1, 1, 1, 1, 1, 1, 1, 1, 1, 1, 1, 1, 1, 1, 1, 1, 1, 1, 1, 1, 1, 1, 1, 1, 1, 1, 1, 1, 1, 1, 1, 1, 1, 1, 1, 1, 1, 1, 1, 1, 1, 1, 1, 1, 1, 1, 1, 1, 1, 1, 1, 1, 1, 1, 1, 1, 1, 1, 1, 1, 1, 1, 1, 1, 1, 1, 1, 1, 1, 1, 1, 1, 1, 1, 1, 1, 1, 1, 1, 1, 1, 1, 1, 1, 1, 1, 1, 1, 1, 1, 1, 1, 1, 1, 1, 1, 1, 1, 1, 1, 1, 1, 1, 1, 1, 1, 1, 1, 1, 1, 1, 1, 1, 1, 1, 1, 1, 1, 1, 1, 1, 1, 1, 1, 1, 1, 1, 1, 1, 1, 1, 1, 1, 1, 1, 1, 1, 1, 1, 1, 1, 1, 1, 1, 1, 1, 1, 1, 1, 1, 1, 1, 1, 1, 1, 1, 1, 1, 1, 1, 1, 1, 1, 1, 1, 1, 1, 1, 1, 1, 1, 1, 1, 1, 1, 1, 1, 1, 1, 1, 1, 1, 1, 1, 1, 1, 1, 1, 1, 1, 1, 1, 1, 1, 1, 1, 1, 1, 1, 1, 1, 1, 1, 1, 1, 1, 1, 1, 1, 1, 1, 1, 1, 1, 1, 1, 1, 1, 1, 1, 1, 1, 1, 1, 1, 1, 1, 1, 1, 1, 1, 1, 1, 1, 1, 1, 1, 1, 1, 1, 1, 1, 1, 1, 1, 1, 1, 1, 1, 1, 1, 1, 1, 1, 1, 1, 1, 1, 1, 1, 1, 1, 1, 1, 1, 1, 1, 1, 1, 1, 1, 1, 1, 1, 1, 1, 1, 1, 1, 1, 1, 1, 1, 1, 1, 1, 1, 1, 1, 1, 1, 1, 1, 1, 1, 1, 1, 1, 1, 1, 1, 1, 1, 1, 1, 1, 1, 1, 1, 1, 1, 1, 1, 1, 1, 1, 1, 1, 1, 1, 1, 1, 1, 1, 1, 1, 1, 1, 1, 1, 1, 1, 1, 1, 1, 1, 1, 1, 1, 1, 1, 1, 1, 1, 1, 1, 1, 1, 1, 1, 1, 1, 1, 1, 1, 1, 1, 1, 1, 1, 1, 1, 1, 1, 1, 1, 1, 1, 1, 1, 1, 1, 1, 1, 1, 1, 1, 1, 1, 1, 1, 1, 1, 1, 1, 1, 1, 1, 1, 1, 1, 1, 1, 1, 1, 1, 1, 1, 1, 1, 1, 1, 1, 1, 1, 1, 1, 1, 1, 1, 1, 1, 1, 1, 1, 1, 1, 1, 1, 1, 1, 1, 1, 1, 1, 1, 1, 1, 1, 1, 1, 1, 1, 1, 1, 1, 1, 1, 1, 1, 1, 1, 1, 1, 1, 1, 1, 1, 1, 1, 1, 1, 1, 1, 1, 1, 1, 1, 1, 1, 1, 1, 1, 1, 1, 1, 1, 1, 1, 1, 1, 1, 1, 1, 1, 1, 1, 1, 1, 1, 1, 1, 1, 1, 1, 1, 1, 1, 1, 1, 1, 1, 1, 1, 1, 1, 1, 1, 1, 1, 1, 1, 1, 1, 1, 1, 1, 1, 1, 1, 1, 1, 1, 1, 1, 1, 1, 1, 1, 1, 1, 1, 1, 1, 1, 1, 1, 1, 1, 1, 1, 1, 1, 1, 1, 1, 1, 1, 1, 1, 1, 1, 1, 1, 1, 1, 1, 1, 1, 1, 1, 1, 1, 1, 1, 1, 1, 1, 1, 1, 1, 1, 1, 1, 1, 1, 1, 1, 1, 1, 1, 1, 1, 1, 1, 1, 1, 1, 1, 1, 1, 1, 1, 1, 1, 1, 1, 1, 1, 1, 1, 1, 1, 1, 1, 1, 1, 1, 1, 1, 1, 1, 1, 1, 1, 1, 1, 1, 1, 1, 1, 1, 1, 1, 1, 1, 1, 1, 1, 1, 1, 1, 1, 1, 1, 1, 1, 1, 1, 1, 1, 1, 1, 1, 1, 1, 1, 1, 1, 1, 1, 1, 1, 1, 1, 1, 1, 1, 1, 1, 1, 1, 1, 1, 1, 1, 1, 1, 1, 1, 1, 1, 1, 1, 1, 1, 1, 1, 1, 1, 1, 1, 1, 1, 1, 1, 1, 1, 1, 1, 1, 1, 1, 1, 1, 1, 1, 1, 1, 1, 1, 1, 1, 1, 1, 1, 1, 1, 1, 1, 1, 1, 1, 1, 1, 1, 1, 1, 1, 1, 1, 1, 1, 1, 1, 1, 1, 1, 1, 1, 1, 1, 1, 1, 1, 1, 1, 1, 1, 1, 1, 1, 1, 1, 1, 1, 1, 1, 1, 1, 1, 1, 1, 1, 1, 1, 1, 1, 1, 1, 1, 1, 1, 1, 1, 1, 1, 1, 1, 1, 1, 1, 1, 1, 1, 1, 1, 1, 1, 1, 1, 1, 1, 1, 1, 1, 1, 1, 1, 1, 1, 1, 1, 1, 1, 1, 1, 1, 1, 1, 1, 1, 1, 1, 1, 1, 1, 1, 1, 1, 1, 1, 1, 1, 1, 1, 1, 1, 1, 1, 1, 1, 1, 1, 1, 1, 1, 1, 1, 1, 1, 1, 1, 1, 1, 1, 1, 1, 1, 1, 1, 1, 1, 1, 1, 1, 1, 1, 1, 1, 1, 1, 1, 1, 1, 1, 1, 1, 1, 1, 1, 1, 1, 1, 1, 1, 1, 1, 1, 1, 1, 1, 1, 1, 1, 1, 1, 1, 1, 1, 1, 1, 1, 1, 1, 1, 1, 1, 1, 1, 1, 1, 1, 1, 1, 1, 1, 1, 1, 1, 1, 1, 1, 1, 1, 1, 1, 1, 1, 1, 1, 1, 1, 1, 1, 1, 1, 1, 1, 1, 1, 1, 1, 1, 1, 1, 1, 1, 1, 1, 1, 1, 1, 1, 1, 1, 1, 1, 1, 1, 1, 1, 1, 1, 1, 1, 1, 1, 1, 1, 1, 1, 1, 1, 1, 1, 1, 1, 1, 1, 1, 1, 1, 1, 1, 1, 1, 1, 1, 1, 1, 1, 1, 1, 1, 1, 1, 1, 1, 1, 1, 1, 1, 1, 1, 1, 1, 1, 1, 1, 1, 1, 1, 1, 1, 1, 1, 1, 1, 1, 1, 1, 1, 1, 1, 1, 1, 1, 1, 1, 1, 1, 1, 1, 1, 1, 1, 1, 1, 1, 1, 1, 1, 1, 1, 1, 1, 1, 1, 1, 1, 1, 1, 1, 1, 1, 1, 1, 1, 1, 1, 1, 1, 1, 1, 1, 1, 1, 1, 1, 1, 1, 1, 1, 1, 1, 1, 1, 1, 1, 1, 1, 1, 1, 1, 1, 1, 1, 1, 1, 1, 1, 1, 1, 1, 1, 1, 1, 1, 1, 1, 1, 1, 1, 1, 1, 1, 1, 1, 1, 1, 1, 1, 1, 1, 1, 1, 1, 1, 1, 1, 1, 1, 1, 1, 1, 1, 1, 1, 1, 1, 1, 1, 1, 1, 1, 1, 1, 1, 1, 1, 1, 1, 1, 1, 1, 1, 1, 1, 1, 1, 1, 1, 1, 1, 1, 1, 1, 1, 1, 1, 1, 1, 1, 1, 1, 1, 1, 1, 1, 1, 1, 1, 1, 1, 1, 1, 1, 1, 1, 1, 1, 1, 1, 1, 1, 1, 1, 1, 1, 1, 1, 1, 1, 1, 1, 1, 1, 1, 1, 1, 1, 1, 1, 1, 1, 1, 1, 1, 1, 1, 1, 1, 1, 1, 1, 1, 1, 1, 1, 1, 1, 1, 1, 1, 1, 1, 1, 1, 1, 1, 1, 1, 1, 1, 1, 1, 1, 1, 1, 1, 1, 1, 1, 1, 1, 1, 1, 1, 1, 1, 1, 1, 1, 1, 1, 1, 1, 1, 1, 1, 1, 1, 1, 1, 1, 1, 1, 1, 1, 1, 1, 1, 1, 1, 1, 1, 1, 1, 1, 1, 1, 1, 1, 1, 1, 1, 1, 1, 1, 1, 1, 1, 1, 1, 1, 1, 1, 1, 1, 1, 1, 1, 1, 1, 1, 1, 1, 1, 1, 1, 1, 1, 1, 1, 1, 1, 1, 1, 1, 1, 1, 1, 1, 1, 1, 1, 1, 1, 1, 1, 1, 1, 1, 1, 1, 1, 1, 1, 1, 1, 1, 1, 1, 1, 1, 1, 1, 1, 1, 1, 1, 1, 1, 1, 1, 1, 1, 1, 1, 1, 1, 1, 1, 1, 1, 1, 1, 1, 1, 1, 1, 1, 1, 1, 1, 1, 1, 1, 1, 1, 1, 1, 1, 1, 1, 1, 1, 1, 1, 1, 1, 1, 1, 1, 1, 1, 1, 1, 1, 1, 1, 1, 1, 1, 1, 1, 1, 1, 1, 1, 1, 1, 1, 1, 1, 1, 1, 1, 1, 1, 1, 1, 1, 1, 1, 1, 1, 1, 1, 1, 1, 1, 1, 1, 1, 1, 1, 1, 1, 1, 1, 1, 1, 1, 1, 1, 1, 1, 1, 1, 1, 1, 1, 1, 1, 1, 1, 1, 1, 1, 1, 1, 1, 1, 1, 1, 1, 1, 1, 1, 1, 1, 1, 1, 1, 1, 1, 1, 1, 1, 1, 1, 1, 1, 1, 1, 1, 1, 1, 1, 1, 1, 1, 1, 1, 1, 1, 1, 1, 1, 1, 1, 1, 1, 1, 1, 1, 1, 1, 1, 1, 1, 1, 1, 1, 1, 1, 1, 1, 1, 1, 1, 1, 1, 1, 1, 1, 1, 1, 1, 1, 1, 1, 1, 1, 1, 1, 1, 1, 1, 1, 1, 1, 1, 1, 1, 1, 1, 1, 1, 1, 1, 1, 1, 1, 1, 1, 1, 1, 1, 1, 1, 1, 1, 1, 1, 1, 1, 1, 1, 1, 1, 1, 1, 1, 1, 1, 1, 1, 1, 1, 1, 1, 1, 1, 1, 1, 1, 1, 1, 1, 1, 1, 1, 1, 1, 1, 1, 1, 1, 1, 1, 1, 1, 1, 1, 1, 1, 1, 1, 1, 1, 1, 1, 1, 1, 1, 1, 1, 1, 1, 1, 1, 1, 1, 1, 1, 1, 1, 1, 1, 1, 1, 1, 1, 1, 1, 1, 1, 1, 1, 1, 1, 1, 1, 1, 1, 1, 1, 1, 1, 1, 1, 1, 1, 1, 1, 1, 1, 1, 1, 1, 1, 1, 1, 1, 1, 1, 1, 1, 1, 1, 1, 1, 1, 1, 1, 1, 1, 1, 1, 1, 1, 1, 1, 1, 1, 1, 1, 1, 1, 1, 1, 1, 1, 1, 1, 1, 1, 1, 1, 1, 1, 1, 1, 1, 1, 1, 1, 1, 1, 1, 1, 1, 1, 1, 1, 1, 1, 1, 1, 1, 1, 1, 1, 1, 1, 1, 1, 1, 1, 1, 1, 1, 1, 1, 1, 1, 1, 1, 1, 1, 1, 1, 1, 1, 1, 1, 1, 1, 1, 1, 1, 1, 1, 1, 1, 1, 1, 1, 1, 1, 1, 1, 1, 1, 1, 1, 1, 1, 1, 1, 1, 1, 1, 1, 1, 1, 1, 1, 1, 1, 1, 1, 1, 1, 1, 1, 1, 1, 1, 1, 1, 1, 1, 1, 1, 1, 1, 1, 1, 1, 1, 1, 1, 1, 1, 1, 1, 1, 1, 1, 1, 1, 1, 1, 1, 1, 1, 1, 1, 1, 1, 1, 1, 1, 1, 1, 1, 1, 1, 1, 1, 1, 1, 1, 1, 1, 1, 1, 1, 1, 1, 1, 1, 1, 1, 1, 1, 1, 1, 1, 1, 1, 1, 1, 1, 1, 1, 1, 1, 1, 1, 1, 1, 1, 1, 1, 1, 1, 1, 1, 1, 1, 1, 1, 1, 1, 1, 1, 1, 1, 1, 1, 1, 1, 1, 1, 1, 1, 1, 1, 1, 1, 1, 1, 1, 1, 1, 1, 1, 1, 1, 1, 1, 1, 1, 1, 1, 1, 1, 1, 1, 1, 1, 1, 1, 1, 1, 1, 1, 1, 1, 1, 1, 1, 1, 1, 1, 1, 1, 1, 1, 1, 1, 1, 1, 1, 1, 1, 1, 1, 1, 1, 1, 1, 1, 1, 1, 1, 1, 1, 1, 1, 1, 1, 1, 1, 1, 1, 1, 1, 1, 1, 1, 1, 1, 1, 1, 1, 1, 1, 1, 1, 1, 1, 1, 1, 1, 1, 1, 1, 1, 1, 1, 1, 1, 1, 1, 1, 1, 1, 1, 1, 1, 1, 1, 1, 1, 1, 1, 1, 1, 1, 1, 1, 1, 1, 1, 1, 1, 1, 1, 1, 1, 1, 1, 1, 1, 1, 1, 1, 1, 1, 1, 1, 1, 1, 1, 1, 1, 1, 1, 1, 1, 1, 1, 1, 1, 1, 1, 1, 1, 1, 1, 1, 1, 1, 1, 1, 1, 1, 1, 1, 1, 1, 1, 1, 1, 1, 1, 1, 1, 1, 1, 1, 1, 1, 1, 1, 1, 1, 1, 1, 1, 1, 1, 1, 1, 1, 1, 1, 1, 1, 1, 1, 1, 1, 1, 1, 1, 1, 1, 1, 1, 1, 1, 1, 1, 1, 1, 1, 1, 1, 1, 1, 1, 1, 1, 1, 1, 1, 1, 1, 1, 1, 1, 1, 1, 1, 1, 1, 1, 1, 1, 1, 1, 1, 1, 1, 1, 1, 1, 1, 1, 1, 1, 1, 1, 1, 1, 1, 1, 1, 1, 1, 1, 1, 1, 1, 1, 1, 1, 1, 1, 1, 1, 1, 1, 1, 1, 1, 1, 1, 1, 1, 1, 1, 1, 1, 1, 1, 1, 1, 1, 1, 1, 1, 1, 1, 1, 1, 1, 1, 1, 1, 1, 1, 1, 1, 1, 1, 1, 1, 1, 1, 1, 1, 1, 1, 1, 1, 1, 1, 1, 1, 1, 1, 1, 1, 1, 1, 1, 1, 1, 1, 1, 1, 1, 1, 1, 1, 1, 1, 1, 1, 1, 1, 1, 1, 1, 1, 1, 1, 1, 1, 1, 1, 1, 1, 1, 1, 1, 1, 1, 1, 1, 1, 1, 1, 1, 1, 1, 1, 1, 1, 1, 1, 1, 1, 1, 1, 1, 1, 1, 1, 1, 1, 1, 1, 1, 1, 1, 1, 1, 1, 1, 1, 1, 1, 1, 1, 1, 1, 1, 1, 1, 1, 1, 1, 1, 1, 1, 1, 1, 1, 1, 1, 1, 1, 1, 1, 1, 1, 1, 1, 1, 1, 1, 1, 1, 1, 1, 1, 1, 1, 1, 1, 1, 1, 1, 1, 1, 1, 1, 1, 1, 1, 1, 1, 1, 1, 1, 1, 1, 1, 1, 1, 1, 1, 1, 1, 1, 1, 1, 1, 1, 1, 1, 1, 1, 1, 1, 1, 1, 1, 1, 1, 1, 1, 1, 1, 1, 1, 1, 1, 1, 1, 1, 1, 1, 1, 1, 1, 1, 1, 1, 1, 1, 1, 1, 1, 1, 1, 1, 1, 1, 1, 1, 1, 1, 1, 1, 1, 1, 1, 1, 1, 1, 1, 1, 1, 1, 1, 1, 1, 1, 1, 1, 1, 1, 1, 1, 1, 1, 1, 1, 1, 1, 1, 1, 1, 1, 1, 1, 1, 1, 1, 1, 1, 1, 1, 1, 1, 1, 1, 1, 1, 1, 1, 1, 1, 1, 1, 1, 1, 1, 1, 1, 1, 1, 1, 1, 1, 1, 1, 1, 1, 1, 1, 1, 1, 1, 1, 1, 1, 1, 1, 1, 1, 1, 1, 1, 1, 1, 1, 1, 1, 1, 1, 1, 1, 1, 1, 1, 1, 1, 1, 1, 1, 1, 1, 1, 1, 1, 1, 1, 1, 1, 1, 1, 1, 1, 1, 1, 1, 1, 1, 1, 1, 1, 1, 1, 1, 1, 1, 1, 1, 1, 1, 1, 1, 1, 1, 1, 1, 1, 1, 1, 1, 1, 1, 1, 1, 1, 1, 1, 1, 1, 1, 1, 1, 1, 1, 1, 1, 1, 1, 1, 1, 1, 1, 1, 1, 1, 1, 1, 1, 1, 1, 1, 1, 1, 1, 1, 1, 1, 1, 1, 1, 1, 1, 1, 1, 1, 1, 1, 1, 1, 1, 1, 1, 1, 1, 1, 1, 1, 1, 1, 1, 1, 1, 1, 1, 1, 1, 1, 1, 1, 1, 1, 1, 1, 1, 1, 1, 1, 1, 1, 1, 1, 1, 1, 1, 1, 1, 1, 1, 1, 1, 1, 1, 1, 1, 1, 1, 1, 1, 1, 1, 1, 1, 1, 1, 1, 1, 1, 1, 1, 1, 1, 1, 1, 1, 1, 1, 1, 1, 1, 1, 1, 1, 1, 1, 1, 1, 1, 1, 1, 1, 1, 1, 1, 1, 1, 1, 1, 1, 1, 1, 1, 1, 1, 1, 1, 1, 1, 1, 1, 1, 1, 1, 1, 1, 1, 1, 1, 1, 1, 1, 1, 1, 1, 1, 1, 1, 1, 1, 1, 1, 1, 1, 1, 1, 1, 1, 1, 1, 1, 1, 1, 1, 1, 1, 1, 1, 1, 1, 1, 1, 1, 1, 1, 1, 1, 1, 1, 1, 1, 1, 1, 1, 1, 1, 1, 1, 1, 1, 1, 1, 1, 1, 1, 1, 1, 1, 1, 1, 1, 1, 1, 1, 1, 1, 1, 1, 1, 1, 1, 1, 1, 1, 1, 1, 1, 1, 1, 1, 1, 1, 1, 1, 1, 1, 1, 1, 1, 1, 1, 1, 1, 1, 1, 1, 1, 1, 1, 1, 1, 1, 1, 1, 1, 1, 1, 1, 1, 1, 1, 1, 1, 1, 1, 1, 1, 1, 1, 1, 1, 1, 1, 1, 1, 1, 1, 1, 1, 1, 1, 1, 1, 1, 1, 1, 1, 1, 1, 1, 1, 1, 1, 1, 1, 1, 1, 1, 1, 1, 1, 1, 1, 1, 1, 1, 1, 1, 1, 1, 1, 1, 1, 1, 1, 1, 1, 1, 1, 1, 1, 1, 1, 1, 1, 1, 1, 1, 1, 1, 1, 1, 1, 1, 1, 1, 1, 1, 1, 1, 1, 1, 1, 1, 1, 1, 1, 1, 1, 1, 1, 1, 1, 1, 1, 1, 1, 1, 1, 1, 1, 1, 1, 1, 1, 1, 1, 1, 1, 1, 1, 1, 1, 1, 1, 1, 1, 1, 1, 1, 1, 1, 1, 1, 1, 1, 1, 1, 1, 1, 1, 1, 1, 1, 1, 1, 1, 1, 1, 1, 1, 1, 1, 1, 1, 1, 1, 1, 1, 1, 1, 1, 1, 1, 1, 1, 1, 1, 1, 1, 1, 1, 1, 1, 1, 1, 1, 1, 1, 1, 1, 1, 1, 1, 1, 1, 1, 1, 1, 1, 1, 1, 1, 1, 1, 1, 1, 1, 1, 1, 1, 1, 1, 1, 1, 1, 1, 1, 1, 1, 1, 1, 1, 1, 1, 1, 1, 1, 1, 1, 1, 1, 1, 1, 1, 1, 1, 1, 1, 1, 1, 1, 1, 1, 1, 1, 1, 1, 1, 1, 1, 1, 1, 1, 1]\n",
            "3035\n",
            "[1, 1, 1, 1, 1, 1, 1, 1, 1, 1, 1, 1, 1, 1, 1, 1, 1, 1, 1, 1, 1, 1, 1, 1, 1, 1, 1, 1, 1, 1, 1, 1, 1, 1, 1, 1, 1, 1, 1, 1, 1, 1, 1, 1, 1, 1, 1, 1, 1, 1, 1, 1, 1, 1, 1, 1, 1, 1, 1, 1, 1, 1, 1, 1, 1, 1, 1, 1, 1, 1, 1, 1, 1, 1, 1, 1, 1, 1, 1, 1, 1, 1, 1, 1, 1, 1, 1, 1, 1, 1, 1, 1, 1, 1, 1, 1, 1, 1, 1, 1, 1, 1, 1, 1, 1, 1, 1, 1, 1, 1, 1, 1, 1, 1, 1, 1, 1, 1, 1, 1, 1, 1, 1, 1, 1, 1, 1, 1, 1, 1, 1, 1, 1, 1, 1, 1, 1, 1, 1, 1, 1, 1, 1, 1, 1, 1, 1, 1, 1, 1, 1, 1, 1, 1, 1, 1, 1, 1, 1, 1, 1, 1, 1, 1, 1, 1, 1, 1, 1, 1, 1, 1, 1, 1, 1, 1, 1, 1, 1, 1, 1, 1, 1, 1, 1, 1, 1, 1, 1, 1, 1, 1, 1, 1, 1, 1, 1, 1, 1, 1, 1, 1, 1, 1, 1, 1, 1, 1, 1, 1, 1, 1, 1, 1, 1, 1, 1, 1, 1, 1, 1, 1, 1, 1, 1, 1, 1, 1, 1, 1, 1, 1, 1, 1, 1, 1, 1, 1, 1, 1, 1, 1, 1, 1, 1, 1, 1, 1, 1, 1, 1, 1, 1, 1, 1, 1, 1, 1, 1, 1, 1, 1, 1, 1, 1, 1, 1, 1, 1, 1, 1, 1, 1, 1, 1, 1, 1, 1, 1, 1, 1, 1, 1, 1, 1, 1, 1, 1, 1, 1, 1, 1, 1, 1, 1, 1, 1, 1, 1, 1, 1, 1, 1, 1, 1, 1, 1, 1, 1, 1, 1, 1, 1, 1, 1, 1, 1, 1, 1, 1, 1, 1, 1, 1, 1, 1, 1, 1, 1, 1, 1, 1, 1, 1, 1, 1, 1, 1, 1, 1, 1, 1, 1, 1, 1, 1, 1, 1, 1, 1, 1, 1, 1, 1, 1, 1, 1, 1, 1, 1, 1, 1, 1, 1, 1, 1, 1, 1, 1, 1, 1, 1, 1, 1, 1, 1, 1, 1, 1, 1, 1, 1, 1, 1, 1, 1, 1, 1, 1, 1, 1, 1, 1, 1, 1, 1, 1, 1, 1, 1, 1, 1, 1, 1, 1, 1, 1, 1, 1, 1, 1, 1, 1, 1, 1, 1, 1, 1, 1, 1, 1, 1, 1, 1, 1, 1, 1, 1, 1, 1, 1, 1, 1, 1, 1, 1, 1, 1, 1, 1, 1, 1, 1, 1, 1, 1, 1, 1, 1, 1, 1, 1, 1, 1, 1, 1, 1, 1, 1, 1, 1, 1, 1, 1, 1, 1, 1, 1, 1, 1, 1, 1, 1, 1, 1, 1, 1, 1, 1, 1, 1, 1, 1, 1, 1, 1, 1, 1, 1, 1, 1, 1, 1, 1, 1, 1, 1, 1, 1, 1, 1, 1, 1, 1, 1, 1, 1, 1, 1, 1, 1, 1, 1, 1, 1, 1, 1, 1, 1, 1, 1, 1, 1, 1, 1, 1, 1, 1, 1, 1, 1, 1, 1, 1, 1, 1, 1, 1, 1, 1, 1, 1, 1, 1, 1, 1, 1, 1, 1, 1, 1, 1, 1, 1, 1, 1, 1, 1, 1, 1, 1, 1, 1, 1, 1, 1, 1, 1, 1, 1, 1, 1, 1, 1, 1, 1, 1, 1, 1, 1, 1, 1, 1, 1, 1, 1, 1, 1, 1, 1, 1, 1, 1, 1, 1, 1, 1, 1, 1, 1, 1, 1, 1, 1, 1, 1, 1, 1, 1, 1, 1, 1, 1, 1, 1, 1, 1, 1, 1, 1, 1, 1, 1, 1, 1, 1, 1, 1, 1, 1, 1, 1, 1, 1, 1, 1, 1, 1, 1, 1, 1, 1, 1, 1, 1, 1, 1, 1, 1, 1, 1, 1, 1, 1, 1, 1, 1, 1, 1, 1, 1, 1, 1, 1, 1, 1, 1, 1, 1, 1, 1, 1, 1, 1, 1, 1, 1, 1, 1, 1, 1, 1, 1, 1, 1, 1, 1, 1, 1, 1, 1, 1, 1, 1, 1, 1, 1, 1, 1, 1, 1, 1, 1, 1, 1, 1, 1, 1, 1, 1, 1, 1, 1, 1, 1, 1, 1, 1, 1, 1, 1, 1, 1, 1, 1, 1, 1, 1, 1, 1, 1, 1, 1, 1, 1, 1, 1, 1, 1, 1, 1, 1, 1, 1, 1, 1, 1, 1, 1, 1, 1, 1, 1, 1, 1, 1, 1, 1, 1, 1, 1, 1, 1, 1, 1, 1, 1, 1, 1, 1, 1, 1, 1, 1, 1, 1, 1, 1, 1, 1, 1, 1, 1, 1, 1, 1, 1, 1, 1, 1, 1, 1, 1, 1, 1, 1, 1, 1, 1, 1, 1, 1, 1, 1, 1, 1, 1, 1, 1, 1, 1, 1, 1, 1, 1, 1, 1, 1, 1, 1, 1, 1, 1, 1, 1, 1, 1, 1, 1, 1, 1, 1, 1, 1, 1, 1, 1, 1, 1, 1, 1, 1, 1, 1, 1, 1, 1, 1, 1, 1, 1, 1, 1, 1, 1, 1, 1, 1, 1, 1, 1, 1, 1, 1, 1, 1, 1, 1, 1, 1, 1, 1, 1, 1, 1, 1, 1, 1, 1, 1, 1, 1, 1, 1, 1, 1, 1, 1, 1, 1, 1, 1, 1, 1, 1, 1, 1, 1, 1, 1, 1, 1, 1, 1, 1, 1, 1, 1, 1, 1, 1, 1, 1, 1, 1, 1, 1, 1, 1, 1, 1, 1, 1, 1, 1, 1, 1, 1, 1, 1, 1, 1, 1, 1, 1, 1, 1, 1, 1, 1, 1, 1, 1, 1, 1, 1, 1, 1, 1, 1, 1, 1, 1, 1, 1, 1, 1, 1, 1, 1, 1, 1, 1, 1, 1, 1, 1, 1, 1, 1, 1, 1, 1, 1, 1, 1, 1, 1, 1, 1, 1, 1, 1, 1, 1, 1, 1, 1, 1, 1, 1, 1, 1, 1, 1, 1, 1, 1, 1, 1, 1, 1, 1, 1, 1, 1, 1, 1, 1, 1, 1, 1, 1, 1, 1, 1, 1, 1, 1, 1, 1, 1, 1, 1, 1, 1, 1, 1, 1, 1, 1, 1, 1, 1, 1, 1, 1, 1, 1, 1, 1, 1, 1, 1, 1, 1, 1, 1, 1, 1, 1, 1, 1, 1, 1, 1, 1, 1, 1, 1, 1, 1, 1, 1, 1, 1, 1, 1, 1, 1, 1, 1, 1, 1, 1, 1, 1, 1, 1, 1, 1, 1, 1, 1, 1, 1, 1, 1, 1, 1, 1, 1, 1, 1, 1, 1, 1, 1, 1, 1, 1, 1, 1, 1, 1, 1, 1, 1, 1, 1, 1, 1, 1, 1, 1, 1, 1, 1, 1, 1, 1, 1, 1, 1, 1, 1, 1, 1, 1, 1, 1, 1, 1, 1, 1, 1, 1, 1, 1, 1, 1, 1, 1, 1, 1, 1, 1, 1, 1, 1, 1, 1, 1, 1, 1, 1, 1, 1, 1, 1, 1, 1, 1, 1, 1, 1, 1, 1, 1, 1, 1, 1, 1, 1, 1, 1, 1, 1, 1, 1, 1, 1, 1, 1, 1, 1, 1, 1, 1, 1, 1, 1, 1, 1, 1, 1, 1, 1, 1, 1, 1, 1, 1, 1, 1, 1, 1, 1, 1, 1, 1, 1, 1, 1, 1, 1, 1, 1, 1, 1, 1, 1, 1, 1, 1, 1, 1, 1, 1, 1, 1, 1, 1, 1, 1, 1, 1, 1, 1, 1, 1, 1, 1, 1, 1, 1, 1, 1, 1, 1, 1, 1, 1, 1, 1, 1, 1, 1, 1, 1, 1, 1, 1, 1, 1, 1, 1, 1, 1, 1, 1, 1, 1, 1, 1, 1, 1, 1, 1, 1, 1, 1, 1, 1, 1, 1, 1, 1, 1, 1, 1, 1, 1, 1, 1, 1, 1, 1, 1]\n",
            "1299\n"
          ],
          "name": "stdout"
        }
      ]
    },
    {
      "cell_type": "code",
      "metadata": {
        "id": "DFG6ZqKNC805",
        "colab_type": "code",
        "outputId": "95131898-eab7-43a7-b96a-138b1469a77a",
        "colab": {
          "base_uri": "https://localhost:8080/",
          "height": 122
        }
      },
      "source": [
        "!pip install sklearn"
      ],
      "execution_count": 0,
      "outputs": [
        {
          "output_type": "stream",
          "text": [
            "Requirement already satisfied: sklearn in /usr/local/lib/python3.6/dist-packages (0.0)\n",
            "Requirement already satisfied: scikit-learn in /usr/local/lib/python3.6/dist-packages (from sklearn) (0.21.2)\n",
            "Requirement already satisfied: joblib>=0.11 in /usr/local/lib/python3.6/dist-packages (from scikit-learn->sklearn) (0.13.2)\n",
            "Requirement already satisfied: numpy>=1.11.0 in /usr/local/lib/python3.6/dist-packages (from scikit-learn->sklearn) (1.16.4)\n",
            "Requirement already satisfied: scipy>=0.17.0 in /usr/local/lib/python3.6/dist-packages (from scikit-learn->sklearn) (1.3.0)\n"
          ],
          "name": "stdout"
        }
      ]
    },
    {
      "cell_type": "code",
      "metadata": {
        "id": "ojGlypu2Ez1P",
        "colab_type": "code",
        "colab": {}
      },
      "source": [
        "#!pip install sklearn import cross_validation"
      ],
      "execution_count": 0,
      "outputs": []
    },
    {
      "cell_type": "code",
      "metadata": {
        "id": "vhSFrCCHEBbt",
        "colab_type": "code",
        "colab": {}
      },
      "source": [
        "from sklearn.linear_model import LogisticRegression\n",
        "\n",
        "#from sklearn.cross_validation import train_test_split\n",
        "from sklearn.model_selection import cross_val_score\n",
        "\n",
        "from sklearn.model_selection import KFold   #For K-fold cross validation\n",
        "from sklearn.ensemble import RandomForestClassifier\n",
        "from sklearn.tree import DecisionTreeClassifier, export_graphviz\n",
        "from sklearn import metrics\n",
        "from sklearn.model_selection import train_test_split\n",
        "from sklearn.model_selection import cross_val_score\n"
      ],
      "execution_count": 0,
      "outputs": []
    },
    {
      "cell_type": "code",
      "metadata": {
        "id": "lHjonOGcWuar",
        "colab_type": "code",
        "colab": {}
      },
      "source": [
        "import numpy as np\n",
        "xtr1=np.asarray(xtr1)\n",
        "xts1=np.asarray(xts1)\n",
        "tnp1=np.asarray(tnp1)\n",
        "tsp1=np.asarray(tsp1)"
      ],
      "execution_count": 0,
      "outputs": []
    },
    {
      "cell_type": "code",
      "metadata": {
        "id": "hVMvteQW1sZs",
        "colab_type": "code",
        "colab": {
          "base_uri": "https://localhost:8080/",
          "height": 34
        },
        "outputId": "59b046ac-020b-4303-e0e8-a6055200815d"
      },
      "source": [
        "\n",
        "#confusion_matrix(y_test.argmax(axis=1), y_pred.argmax(axis=1))\n",
        "from sklearn.metrics import confusion_matrix\n",
        "from sklearn.metrics import accuracy_score\n",
        "tn, fp, fn, tp = confusion_matrix(xtr1,tnp1).ravel()\n",
        "\n",
        "print(tn,fp,fn,tp)\n",
        "#tn, fp, fn, tp = confusion_matrix(xtr1.argmax(axis=1),xts1.argmax(axis=1),classes=class_names,title='Confusion matrix, without normalization')\n",
        "\n",
        "#tn, fp, fn, tp)"
      ],
      "execution_count": 104,
      "outputs": [
        {
          "output_type": "stream",
          "text": [
            "0 211 0 2824\n"
          ],
          "name": "stdout"
        }
      ]
    },
    {
      "cell_type": "code",
      "metadata": {
        "id": "AmK5ccPQ1sOK",
        "colab_type": "code",
        "outputId": "2fe34777-e204-4d9d-9617-7b744b1a2499",
        "colab": {
          "base_uri": "https://localhost:8080/",
          "height": 34
        }
      },
      "source": [
        "print(tn,fp,fn,tp,end=\"\\n\")"
      ],
      "execution_count": 105,
      "outputs": [
        {
          "output_type": "stream",
          "text": [
            "0 211 0 2824\n"
          ],
          "name": "stdout"
        }
      ]
    },
    {
      "cell_type": "code",
      "metadata": {
        "id": "Vft28BHg1sCJ",
        "colab_type": "code",
        "outputId": "57bbaeb7-31bf-44ce-8c17-960dbc053f77",
        "colab": {
          "base_uri": "https://localhost:8080/",
          "height": 85
        }
      },
      "source": [
        "\n",
        "c1matrix = confusion_matrix(xtr1,tnp1).ravel()\n",
        "c2matrix = confusion_matrix(xts1,tsp1).ravel()\n",
        "\n",
        "\n",
        "accuracy1=accuracy_score(xtr1,tnp1) #acc=tp+tn/tp+tn+fp+fn \n",
        "accuracy2=accuracy_score(xts1,tsp1) \n",
        "print(c1matrix) \n",
        "print(c2matrix)\n",
        "print('Accuracy1:',accuracy1)   #acc=tp+tn/tp+tn+fp+fn\n",
        "print('Accuracy2:',accuracy2) \n"
      ],
      "execution_count": 110,
      "outputs": [
        {
          "output_type": "stream",
          "text": [
            "[   0  211    0 2824]\n",
            "[   0   47    0 1252]\n",
            "Accuracy1: 0.9304777594728171\n",
            "Accuracy2: 0.9638183217859893\n"
          ],
          "name": "stdout"
        }
      ]
    },
    {
      "cell_type": "code",
      "metadata": {
        "id": "vZxenPV-F7pD",
        "colab_type": "code",
        "colab": {}
      },
      "source": [
        "\n",
        "#lr = LogisticRegression()\n",
        "#lr.fit(trainX, trainPredict)\n"
      ],
      "execution_count": 0,
      "outputs": []
    },
    {
      "cell_type": "code",
      "metadata": {
        "id": "8OWYzWFwGQs2",
        "colab_type": "code",
        "colab": {}
      },
      "source": [
        ""
      ],
      "execution_count": 0,
      "outputs": []
    },
    {
      "cell_type": "code",
      "metadata": {
        "id": "10nv2oVPKmxh",
        "colab_type": "code",
        "colab": {}
      },
      "source": [
        "import pandas as pd\n",
        "import numpy as np\n",
        "#trainX=np.asarray(trainX)\n",
        "#testX=np.asarray(testX)\n",
        "\n",
        "#print(trainX.reshape(12140))\n",
        "#print(testX.reshape(5196))\n",
        "\n",
        "#trainX = np.array(trainX).reshape((1, -1))\n",
        "#trainPredict = np.array(trainPredict).reshape((1, -1))\n"
      ],
      "execution_count": 0,
      "outputs": []
    },
    {
      "cell_type": "code",
      "metadata": {
        "id": "EkmAIbnAJSjH",
        "colab_type": "code",
        "outputId": "f3d0eec0-35bb-4a36-90db-56d1008b7d2f",
        "colab": {
          "base_uri": "https://localhost:8080/",
          "height": 34
        }
      },
      "source": [
        "len(trainPredict)\n",
        "  \n",
        "    "
      ],
      "execution_count": 0,
      "outputs": [
        {
          "output_type": "execute_result",
          "data": {
            "text/plain": [
              "1"
            ]
          },
          "metadata": {
            "tags": []
          },
          "execution_count": 37
        }
      ]
    },
    {
      "cell_type": "code",
      "metadata": {
        "id": "RiAvBH6xBH6P",
        "colab_type": "code",
        "outputId": "3b58e88a-f1d0-46ac-f436-ffe9805ff606",
        "colab": {
          "base_uri": "https://localhost:8080/",
          "height": 428
        }
      },
      "source": [
        "from sklearn import svm\n",
        "import numpy as np\n",
        "from sklearn                        import metrics, svm\n",
        "from sklearn.linear_model           import LinearRegression\n",
        "from sklearn.linear_model           import LogisticRegression\n",
        "from sklearn.tree                   import DecisionTreeClassifier\n",
        "from sklearn.neighbors              import KNeighborsClassifier\n",
        "from sklearn.discriminant_analysis  import LinearDiscriminantAnalysis\n",
        "from sklearn.naive_bayes            import GaussianNB\n",
        "from sklearn.svm                    import SVC\n",
        "from sklearn import model_selection\n",
        "from sklearn.metrics import classification_report\n",
        "from sklearn.metrics import confusion_matrix\n",
        "from sklearn.metrics import accuracy_score\n",
        "from sklearn.linear_model import LogisticRegression\n",
        "from sklearn.tree import DecisionTreeClassifier\n",
        "from sklearn.neighbors import KNeighborsClassifier\n",
        "from sklearn.discriminant_analysis import LinearDiscriminantAnalysis\n",
        "from sklearn.naive_bayes import  BernoulliNB\n",
        "from sklearn.ensemble import RandomForestClassifier\n",
        "from sklearn.svm import SVC\n",
        "from sklearn.ensemble import AdaBoostClassifier\n",
        "from sklearn.neural_network import MLPClassifier\n",
        "\n",
        "#svc = svm.SVC(kernel='linear', C=1, gamma=1)\n",
        "model = svm.SVC(kernel='linear', C=1, gamma=1) \n",
        "model.fit(xtr1, tnp1)\n",
        "model.score(xtr1, tnp1)\n",
        "predicted= model.predict(xts1)\n"
      ],
      "execution_count": 111,
      "outputs": [
        {
          "output_type": "error",
          "ename": "ValueError",
          "evalue": "ignored",
          "traceback": [
            "\u001b[0;31m---------------------------------------------------------------------------\u001b[0m",
            "\u001b[0;31mValueError\u001b[0m                                Traceback (most recent call last)",
            "\u001b[0;32m<ipython-input-111-27d85610f5b6>\u001b[0m in \u001b[0;36m<module>\u001b[0;34m()\u001b[0m\n\u001b[1;32m     25\u001b[0m \u001b[0;31m#svc = svm.SVC(kernel='linear', C=1, gamma=1)\u001b[0m\u001b[0;34m\u001b[0m\u001b[0;34m\u001b[0m\u001b[0;34m\u001b[0m\u001b[0m\n\u001b[1;32m     26\u001b[0m \u001b[0mmodel\u001b[0m \u001b[0;34m=\u001b[0m \u001b[0msvm\u001b[0m\u001b[0;34m.\u001b[0m\u001b[0mSVC\u001b[0m\u001b[0;34m(\u001b[0m\u001b[0mkernel\u001b[0m\u001b[0;34m=\u001b[0m\u001b[0;34m'linear'\u001b[0m\u001b[0;34m,\u001b[0m \u001b[0mC\u001b[0m\u001b[0;34m=\u001b[0m\u001b[0;36m1\u001b[0m\u001b[0;34m,\u001b[0m \u001b[0mgamma\u001b[0m\u001b[0;34m=\u001b[0m\u001b[0;36m1\u001b[0m\u001b[0;34m)\u001b[0m\u001b[0;34m\u001b[0m\u001b[0;34m\u001b[0m\u001b[0m\n\u001b[0;32m---> 27\u001b[0;31m \u001b[0mmodel\u001b[0m\u001b[0;34m.\u001b[0m\u001b[0mfit\u001b[0m\u001b[0;34m(\u001b[0m\u001b[0mxtr1\u001b[0m\u001b[0;34m,\u001b[0m \u001b[0mtnp1\u001b[0m\u001b[0;34m)\u001b[0m\u001b[0;34m\u001b[0m\u001b[0;34m\u001b[0m\u001b[0m\n\u001b[0m\u001b[1;32m     28\u001b[0m \u001b[0mmodel\u001b[0m\u001b[0;34m.\u001b[0m\u001b[0mscore\u001b[0m\u001b[0;34m(\u001b[0m\u001b[0mxtr1\u001b[0m\u001b[0;34m,\u001b[0m \u001b[0mtnp1\u001b[0m\u001b[0;34m)\u001b[0m\u001b[0;34m\u001b[0m\u001b[0;34m\u001b[0m\u001b[0m\n\u001b[1;32m     29\u001b[0m \u001b[0mpredicted\u001b[0m\u001b[0;34m=\u001b[0m \u001b[0mmodel\u001b[0m\u001b[0;34m.\u001b[0m\u001b[0mpredict\u001b[0m\u001b[0;34m(\u001b[0m\u001b[0mxts1\u001b[0m\u001b[0;34m)\u001b[0m\u001b[0;34m\u001b[0m\u001b[0;34m\u001b[0m\u001b[0m\n",
            "\u001b[0;32m/usr/local/lib/python3.6/dist-packages/sklearn/svm/base.py\u001b[0m in \u001b[0;36mfit\u001b[0;34m(self, X, y, sample_weight)\u001b[0m\n\u001b[1;32m    144\u001b[0m         X, y = check_X_y(X, y, dtype=np.float64,\n\u001b[1;32m    145\u001b[0m                          \u001b[0morder\u001b[0m\u001b[0;34m=\u001b[0m\u001b[0;34m'C'\u001b[0m\u001b[0;34m,\u001b[0m \u001b[0maccept_sparse\u001b[0m\u001b[0;34m=\u001b[0m\u001b[0;34m'csr'\u001b[0m\u001b[0;34m,\u001b[0m\u001b[0;34m\u001b[0m\u001b[0;34m\u001b[0m\u001b[0m\n\u001b[0;32m--> 146\u001b[0;31m                          accept_large_sparse=False)\n\u001b[0m\u001b[1;32m    147\u001b[0m         \u001b[0my\u001b[0m \u001b[0;34m=\u001b[0m \u001b[0mself\u001b[0m\u001b[0;34m.\u001b[0m\u001b[0m_validate_targets\u001b[0m\u001b[0;34m(\u001b[0m\u001b[0my\u001b[0m\u001b[0;34m)\u001b[0m\u001b[0;34m\u001b[0m\u001b[0;34m\u001b[0m\u001b[0m\n\u001b[1;32m    148\u001b[0m \u001b[0;34m\u001b[0m\u001b[0m\n",
            "\u001b[0;32m/usr/local/lib/python3.6/dist-packages/sklearn/utils/validation.py\u001b[0m in \u001b[0;36mcheck_X_y\u001b[0;34m(X, y, accept_sparse, accept_large_sparse, dtype, order, copy, force_all_finite, ensure_2d, allow_nd, multi_output, ensure_min_samples, ensure_min_features, y_numeric, warn_on_dtype, estimator)\u001b[0m\n\u001b[1;32m    717\u001b[0m                     \u001b[0mensure_min_features\u001b[0m\u001b[0;34m=\u001b[0m\u001b[0mensure_min_features\u001b[0m\u001b[0;34m,\u001b[0m\u001b[0;34m\u001b[0m\u001b[0;34m\u001b[0m\u001b[0m\n\u001b[1;32m    718\u001b[0m                     \u001b[0mwarn_on_dtype\u001b[0m\u001b[0;34m=\u001b[0m\u001b[0mwarn_on_dtype\u001b[0m\u001b[0;34m,\u001b[0m\u001b[0;34m\u001b[0m\u001b[0;34m\u001b[0m\u001b[0m\n\u001b[0;32m--> 719\u001b[0;31m                     estimator=estimator)\n\u001b[0m\u001b[1;32m    720\u001b[0m     \u001b[0;32mif\u001b[0m \u001b[0mmulti_output\u001b[0m\u001b[0;34m:\u001b[0m\u001b[0;34m\u001b[0m\u001b[0;34m\u001b[0m\u001b[0m\n\u001b[1;32m    721\u001b[0m         y = check_array(y, 'csr', force_all_finite=True, ensure_2d=False,\n",
            "\u001b[0;32m/usr/local/lib/python3.6/dist-packages/sklearn/utils/validation.py\u001b[0m in \u001b[0;36mcheck_array\u001b[0;34m(array, accept_sparse, accept_large_sparse, dtype, order, copy, force_all_finite, ensure_2d, allow_nd, ensure_min_samples, ensure_min_features, warn_on_dtype, estimator)\u001b[0m\n\u001b[1;32m    519\u001b[0m                     \u001b[0;34m\"Reshape your data either using array.reshape(-1, 1) if \"\u001b[0m\u001b[0;34m\u001b[0m\u001b[0;34m\u001b[0m\u001b[0m\n\u001b[1;32m    520\u001b[0m                     \u001b[0;34m\"your data has a single feature or array.reshape(1, -1) \"\u001b[0m\u001b[0;34m\u001b[0m\u001b[0;34m\u001b[0m\u001b[0m\n\u001b[0;32m--> 521\u001b[0;31m                     \"if it contains a single sample.\".format(array))\n\u001b[0m\u001b[1;32m    522\u001b[0m \u001b[0;34m\u001b[0m\u001b[0m\n\u001b[1;32m    523\u001b[0m         \u001b[0;31m# in the future np.flexible dtypes will be handled like object dtypes\u001b[0m\u001b[0;34m\u001b[0m\u001b[0;34m\u001b[0m\u001b[0;34m\u001b[0m\u001b[0m\n",
            "\u001b[0;31mValueError\u001b[0m: Expected 2D array, got 1D array instead:\narray=[1. 1. 1. ... 1. 1. 1.].\nReshape your data either using array.reshape(-1, 1) if your data has a single feature or array.reshape(1, -1) if it contains a single sample."
          ]
        }
      ]
    },
    {
      "cell_type": "code",
      "metadata": {
        "id": "kJl4lsFRDa2y",
        "colab_type": "code",
        "outputId": "e9b8e908-8ed8-4c57-f2cb-cfb9a1e83395",
        "colab": {
          "base_uri": "https://localhost:8080/",
          "height": 183
        }
      },
      "source": [
        "sklearn.svm.SVC(C=1.0, kernel='rbf', degree=3, gamma=0.0, coef0=0.0, shrinking=True, probability=False,tol=0.001, cache_size=200, class_weight=None, verbose=False, max_iter=-1, random_state=None)"
      ],
      "execution_count": 0,
      "outputs": [
        {
          "output_type": "error",
          "ename": "NameError",
          "evalue": "ignored",
          "traceback": [
            "\u001b[0;31m---------------------------------------------------------------------------\u001b[0m",
            "\u001b[0;31mNameError\u001b[0m                                 Traceback (most recent call last)",
            "\u001b[0;32m<ipython-input-102-f185ca8d06ad>\u001b[0m in \u001b[0;36m<module>\u001b[0;34m()\u001b[0m\n\u001b[0;32m----> 1\u001b[0;31m \u001b[0msklearn\u001b[0m\u001b[0;34m.\u001b[0m\u001b[0msvm\u001b[0m\u001b[0;34m.\u001b[0m\u001b[0mSVC\u001b[0m\u001b[0;34m(\u001b[0m\u001b[0mC\u001b[0m\u001b[0;34m=\u001b[0m\u001b[0;36m1.0\u001b[0m\u001b[0;34m,\u001b[0m \u001b[0mkernel\u001b[0m\u001b[0;34m=\u001b[0m\u001b[0;34m'rbf'\u001b[0m\u001b[0;34m,\u001b[0m \u001b[0mdegree\u001b[0m\u001b[0;34m=\u001b[0m\u001b[0;36m3\u001b[0m\u001b[0;34m,\u001b[0m \u001b[0mgamma\u001b[0m\u001b[0;34m=\u001b[0m\u001b[0;36m0.0\u001b[0m\u001b[0;34m,\u001b[0m \u001b[0mcoef0\u001b[0m\u001b[0;34m=\u001b[0m\u001b[0;36m0.0\u001b[0m\u001b[0;34m,\u001b[0m \u001b[0mshrinking\u001b[0m\u001b[0;34m=\u001b[0m\u001b[0;32mTrue\u001b[0m\u001b[0;34m,\u001b[0m \u001b[0mprobability\u001b[0m\u001b[0;34m=\u001b[0m\u001b[0;32mFalse\u001b[0m\u001b[0;34m,\u001b[0m\u001b[0mtol\u001b[0m\u001b[0;34m=\u001b[0m\u001b[0;36m0.001\u001b[0m\u001b[0;34m,\u001b[0m \u001b[0mcache_size\u001b[0m\u001b[0;34m=\u001b[0m\u001b[0;36m200\u001b[0m\u001b[0;34m,\u001b[0m \u001b[0mclass_weight\u001b[0m\u001b[0;34m=\u001b[0m\u001b[0;32mNone\u001b[0m\u001b[0;34m,\u001b[0m \u001b[0mverbose\u001b[0m\u001b[0;34m=\u001b[0m\u001b[0;32mFalse\u001b[0m\u001b[0;34m,\u001b[0m \u001b[0mmax_iter\u001b[0m\u001b[0;34m=\u001b[0m\u001b[0;34m-\u001b[0m\u001b[0;36m1\u001b[0m\u001b[0;34m,\u001b[0m \u001b[0mrandom_state\u001b[0m\u001b[0;34m=\u001b[0m\u001b[0;32mNone\u001b[0m\u001b[0;34m)\u001b[0m\u001b[0;34m\u001b[0m\u001b[0;34m\u001b[0m\u001b[0m\n\u001b[0m",
            "\u001b[0;31mNameError\u001b[0m: name 'sklearn' is not defined"
          ]
        }
      ]
    },
    {
      "cell_type": "code",
      "metadata": {
        "id": "mi9u9U0eUDgh",
        "colab_type": "code",
        "outputId": "b7abfbc9-69db-49ad-ab06-e24d48665855",
        "colab": {
          "base_uri": "https://localhost:8080/",
          "height": 51
        }
      },
      "source": [
        "# calculate root mean squared error\n",
        "expected =[]\n",
        "predicted = []\n",
        "trainX2d=[]\n",
        "for i in range (len(trainX)):\n",
        "    #print(trainX[i][0][0])\n",
        "    expected.append(trainX[i][0][0])\n",
        "    predicted.append(trainPredict[i][0])\n",
        "    trainX2d.append(trainX[i][0])\n",
        "expectedTest =[]\n",
        "predictedTest = []\n",
        "testX2d=[]\n",
        "for i in range (len(testX)):\n",
        "    #print(testX[i][0[0]])\n",
        "    expectedTest.append(testX[i][0][0])\n",
        "    predictedTest.append(testPredict[i][0])\n",
        "    testX2d.append(testX[i][0])\n",
        "trainScore = math.sqrt(mean_squared_error(expected, predicted))\n",
        "print('Train Score: %.2f RMSE' % (trainScore))\n",
        "testScore = math.sqrt(mean_squared_error(expectedTest, predictedTest))\n",
        "print('Test Score: %.2f RMSE' % (testScore))"
      ],
      "execution_count": 0,
      "outputs": [
        {
          "output_type": "stream",
          "text": [
            "Train Score: 0.13 RMSE\n",
            "Test Score: 0.17 RMSE\n"
          ],
          "name": "stdout"
        }
      ]
    },
    {
      "cell_type": "code",
      "metadata": {
        "id": "7x9y1Y0ZUDgl",
        "colab_type": "code",
        "outputId": "83da56f7-22c9-452a-9646-1fe1ffa9d0de",
        "colab": {
          "base_uri": "https://localhost:8080/",
          "height": 136
        }
      },
      "source": [
        "# invert predictions\n",
        "trainPredictInverse = scaler.inverse_transform(trainPredict)\n",
        "trainXInverse = scaler.inverse_transform(trainX2d)\n",
        "testPredictInverse = scaler.inverse_transform(testPredict)\n",
        "testXInverse = scaler.inverse_transform(testX2d)\n",
        "print(trainPredictInverse)"
      ],
      "execution_count": 0,
      "outputs": [
        {
          "output_type": "stream",
          "text": [
            "[[476039.38 ]\n",
            " [500049.4  ]\n",
            " [ 54413.016]\n",
            " ...\n",
            " [680825.25 ]\n",
            " [631214.1  ]\n",
            " [591282.4  ]]\n"
          ],
          "name": "stdout"
        }
      ]
    },
    {
      "cell_type": "code",
      "metadata": {
        "id": "_DKhYBwTUDgr",
        "colab_type": "code",
        "outputId": "34f6c279-9b35-4024-f7df-1b6feb9cd45b",
        "colab": {
          "base_uri": "https://localhost:8080/",
          "height": 51
        }
      },
      "source": [
        "expectedInverse =[]\n",
        "predictedInverse = []\n",
        "for i in range (len(trainXInverse)):\n",
        "    expectedInverse.append(trainXInverse[i][0])\n",
        "    predictedInverse.append(trainPredictInverse[i][0])\n",
        "expectedTestInverse =[]\n",
        "predictedTestnverse = []\n",
        "for i in range (len(testXInverse)):\n",
        "    expectedTestInverse.append(testXInverse[i][0])\n",
        "    predictedTestnverse.append(testPredictInverse[i][0])\n",
        "#print(predictedInverse)\n",
        "# calculate root mean squared error\n",
        "trainScore = math.sqrt(mean_squared_error(expectedInverse, predictedInverse))\n",
        "print('Train Score: %.2f RMSE' % (trainScore))\n",
        "testScore = math.sqrt(mean_squared_error(expectedTestInverse, predictedTestnverse))\n",
        "print('Test Score: %.2f RMSE' % (testScore))"
      ],
      "execution_count": 0,
      "outputs": [
        {
          "output_type": "stream",
          "text": [
            "Train Score: 193298.88 RMSE\n",
            "Test Score: 254713.56 RMSE\n"
          ],
          "name": "stdout"
        }
      ]
    },
    {
      "cell_type": "code",
      "metadata": {
        "id": "zFoKzRD0UDg0",
        "colab_type": "code",
        "colab": {}
      },
      "source": [
        "# # shift train predictions for plotting\n",
        "# trainPredictPlot = numpy.empty_like(dataset)\n",
        "# trainPredictPlot[:, :] = numpy.nan\n",
        "# trainPredictPlot[look_back:len(trainPredict) + look_back, :] = trainPredict"
      ],
      "execution_count": 0,
      "outputs": []
    },
    {
      "cell_type": "code",
      "metadata": {
        "id": "Ze9fEqrKUDg4",
        "colab_type": "code",
        "colab": {}
      },
      "source": [
        "# # shift test predictions for plotting\n",
        "# testPredictPlot = numpy.empty_like(dataset)\n",
        "# testPredictPlot[:, :] = numpy.nan\n",
        "# testPredictPlot[len(trainPredict) + (look_back * 2) + 1:len(dataset) - 1, :] = testPredict"
      ],
      "execution_count": 0,
      "outputs": []
    },
    {
      "cell_type": "code",
      "metadata": {
        "id": "L-xV3ZxeUDg6",
        "colab_type": "code",
        "outputId": "1f3a3518-b9ad-4086-b7a0-52386e070419",
        "colab": {
          "base_uri": "https://localhost:8080/",
          "height": 34
        }
      },
      "source": [
        "import numpy as np\n",
        "print(len(train))\n",
        "x = []\n",
        "x2d =[]\n",
        "y =[]\n",
        "xTest = []\n",
        "yTest = []\n",
        "xPred = []\n",
        "xPredTest = []\n",
        "for i in range(len(train)):\n",
        "    x.append(i)\n",
        "    y.append(train[i][0])\n",
        "\n",
        "for i in range(len(dataset)):\n",
        "    x2d.append([i])\n",
        "for i in range(len(test)):\n",
        "    xTest.append(len(train)+i)\n",
        "    yTest.append(test[i][0])\n",
        "for i in range(len(predicted)):\n",
        "    xPred.append(look_back+1+i)\n",
        "for i in range(len(predictedTest)):\n",
        "    xPredTest.append(len(predicted)+i+((look_back+1)*2))"
      ],
      "execution_count": 0,
      "outputs": [
        {
          "output_type": "stream",
          "text": [
            "3040\n"
          ],
          "name": "stdout"
        }
      ]
    },
    {
      "cell_type": "code",
      "metadata": {
        "id": "VHNOldISqt4v",
        "colab_type": "code",
        "outputId": "a03587e6-b679-4501-ee63-cb56d94022fb",
        "colab": {
          "base_uri": "https://localhost:8080/",
          "height": 68
        }
      },
      "source": [
        "print(len(xPred))\n",
        "print(len(xPredTest))\n",
        "print(len(y))"
      ],
      "execution_count": 0,
      "outputs": [
        {
          "output_type": "stream",
          "text": [
            "3035\n",
            "1299\n",
            "3040\n"
          ],
          "name": "stdout"
        }
      ]
    },
    {
      "cell_type": "code",
      "metadata": {
        "id": "j79dTVDAqt72",
        "colab_type": "code",
        "colab": {}
      },
      "source": [
        ""
      ],
      "execution_count": 0,
      "outputs": []
    },
    {
      "cell_type": "code",
      "metadata": {
        "id": "pwydG7xFrtU2",
        "colab_type": "code",
        "colab": {}
      },
      "source": [
        ""
      ],
      "execution_count": 0,
      "outputs": []
    },
    {
      "cell_type": "code",
      "metadata": {
        "id": "c-fisYh-rtYr",
        "colab_type": "code",
        "colab": {}
      },
      "source": [
        ""
      ],
      "execution_count": 0,
      "outputs": []
    },
    {
      "cell_type": "code",
      "metadata": {
        "id": "JNYEW1Aqrtbt",
        "colab_type": "code",
        "colab": {}
      },
      "source": [
        ""
      ],
      "execution_count": 0,
      "outputs": []
    },
    {
      "cell_type": "code",
      "metadata": {
        "id": "MYDjvPfUrtTR",
        "colab_type": "code",
        "colab": {}
      },
      "source": [
        ""
      ],
      "execution_count": 0,
      "outputs": []
    },
    {
      "cell_type": "code",
      "metadata": {
        "id": "y5vz08IvUDhA",
        "colab_type": "code",
        "outputId": "dec39a7f-e1fa-474d-fecb-cb1e955a87e9",
        "colab": {
          "base_uri": "https://localhost:8080/",
          "height": 865
        }
      },
      "source": [
        "import matplotlib.pyplot as plt\n",
        "import numpy as np\n",
        "import matplotlib.cbook as cbook\n",
        "\n",
        "# create two subplots with the shared x and y axes\n",
        "fig, ax1 = plt.subplots(1, 1)\n",
        "\n",
        "\n",
        "ax1.plot(x2d, dataset,label='Complete Dataset')\n",
        "ax1.fill_between(x, 0, y, facecolor='red', alpha=0.9, label ='Training Data')\n",
        "ax1.fill_between(xTest, 0, yTest, facecolor='green', alpha=0.9, label ='Test Data')\n",
        "ax1.legend()\n",
        "\n",
        "ax1.set_ylabel('W')\n",
        "fig.suptitle('Total Dataset(Train and Test)')\n",
        "\n",
        "fig2, ax2 = plt.subplots(1,1)\n",
        "\n",
        "ax2.plot(x2d, dataset,label='Complete Dataset')\n",
        "ax2.fill_between(xPred, 0, predicted, facecolor='red', alpha=0.5, label ='Training Data Prediction')\n",
        "ax2.fill_between(xPredTest, 0, predictedTest, facecolor='green', alpha=0.5, label ='Test Data Prediction')\n",
        "ax2.legend()\n",
        "\n",
        "ax2.set_ylabel('W')\n",
        "fig2.suptitle('Total Dataset(Train and Test Predictions)')\n",
        "\n",
        "fig3, ax3 = plt.subplots(1, 1)\n",
        "\n",
        "ax3.plot(x2d, dataset,label='Expected Dataset')\n",
        "ax3.plot(xPred, predicted,color ='red', label='Predicted Train')\n",
        "ax3.plot(xPredTest, predictedTest,color='green', label ='Predicted Test')\n",
        "ax3.legend()\n",
        "\n",
        "ax3.set_ylabel('W')\n",
        "fig3.suptitle('Expected vs Predicted')\n"
      ],
      "execution_count": 0,
      "outputs": [
        {
          "output_type": "execute_result",
          "data": {
            "text/plain": [
              "Text(0.5, 0.98, 'Expected vs Predicted')"
            ]
          },
          "metadata": {
            "tags": []
          },
          "execution_count": 26
        },
        {
          "output_type": "display_data",
          "data": {
            "image/png": "[encoded data removed]",
            "text/plain": [
              "<Figure size 432x288 with 1 Axes>"
            ]
          },
          "metadata": {
            "tags": []
          }
        },
        {
          "output_type": "display_data",
          "data": {
            "image/png": "[encoded data removed]",
            "text/plain": [
              "<Figure size 432x288 with 1 Axes>"
            ]
          },
          "metadata": {
            "tags": []
          }
        },
        {
          "output_type": "display_data",
          "data": {
            "image/png": "[encoded data removed]",
            "text/plain": [
              "<Figure size 432x288 with 1 Axes>"
            ]
          },
          "metadata": {
            "tags": []
          }
        }
      ]
    },
    {
      "cell_type": "code",
      "metadata": {
        "id": "okNVb6i8UDhF",
        "colab_type": "code",
        "colab": {}
      },
      "source": [
        "#print(\"Expected=%f, Predicted=%f\", % (dataset[xPred:len(predicted)+xPred],dataset[xPredTest:len(predictedTest)+xPredTest]))"
      ],
      "execution_count": 0,
      "outputs": []
    },
    {
      "cell_type": "code",
      "metadata": {
        "id": "S2fj118eUDhJ",
        "colab_type": "code",
        "colab": {}
      },
      "source": [
        ""
      ],
      "execution_count": 0,
      "outputs": []
    }
  ]
}